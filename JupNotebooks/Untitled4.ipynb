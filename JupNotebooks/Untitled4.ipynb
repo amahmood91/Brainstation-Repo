{
 "cells": [
  {
   "cell_type": "code",
   "execution_count": 2,
   "metadata": {},
   "outputs": [
    {
     "ename": "KeyboardInterrupt",
     "evalue": "",
     "output_type": "error",
     "traceback": [
      "\u001b[1;31m---------------------------------------------------------------------------\u001b[0m",
      "\u001b[1;31mKeyboardInterrupt\u001b[0m                         Traceback (most recent call last)",
      "\u001b[1;32m<ipython-input-2-8927ba3147d8>\u001b[0m in \u001b[0;36m<module>\u001b[1;34m\u001b[0m\n\u001b[0;32m     27\u001b[0m         \u001b[0mmessage\u001b[0m \u001b[1;33m=\u001b[0m \u001b[1;34m\"Stock: \"\u001b[0m \u001b[1;33m+\u001b[0m \u001b[0mstock\u001b[0m \u001b[1;33m+\u001b[0m \u001b[1;34m\" update! \\n\\n PRICE ON THE RISE!!! \\n\\n Price is now: \"\u001b[0m \u001b[1;33m+\u001b[0m \u001b[0mstock_data_cleaned_price\u001b[0m \u001b[1;33m+\u001b[0m \u001b[1;34m\". \\nDetails: \"\u001b[0m \u001b[1;33m+\u001b[0m \u001b[0mstock_data_cleaned\u001b[0m\u001b[1;33m\u001b[0m\u001b[1;33m\u001b[0m\u001b[0m\n\u001b[0;32m     28\u001b[0m         \u001b[0mctypes\u001b[0m\u001b[1;33m.\u001b[0m\u001b[0mwindll\u001b[0m\u001b[1;33m.\u001b[0m\u001b[0muser32\u001b[0m\u001b[1;33m.\u001b[0m\u001b[0mMessageBoxW\u001b[0m\u001b[1;33m(\u001b[0m\u001b[1;36m0\u001b[0m\u001b[1;33m,\u001b[0m \u001b[0mmessage\u001b[0m\u001b[1;33m,\u001b[0m \u001b[1;34m\"Stock Alert\"\u001b[0m\u001b[1;33m,\u001b[0m \u001b[1;36m1\u001b[0m\u001b[1;33m)\u001b[0m\u001b[1;33m\u001b[0m\u001b[1;33m\u001b[0m\u001b[0m\n\u001b[1;32m---> 29\u001b[1;33m     \u001b[0mtime\u001b[0m\u001b[1;33m.\u001b[0m\u001b[0msleep\u001b[0m\u001b[1;33m(\u001b[0m\u001b[1;36m60.0\u001b[0m \u001b[1;33m-\u001b[0m \u001b[1;33m(\u001b[0m\u001b[1;33m(\u001b[0m\u001b[0mtime\u001b[0m\u001b[1;33m.\u001b[0m\u001b[0mtime\u001b[0m\u001b[1;33m(\u001b[0m\u001b[1;33m)\u001b[0m \u001b[1;33m-\u001b[0m \u001b[0mstarttime\u001b[0m\u001b[1;33m)\u001b[0m \u001b[1;33m%\u001b[0m \u001b[1;36m60.0\u001b[0m\u001b[1;33m)\u001b[0m\u001b[1;33m)\u001b[0m\u001b[1;33m\u001b[0m\u001b[1;33m\u001b[0m\u001b[0m\n\u001b[0m\u001b[0;32m     30\u001b[0m \u001b[1;33m\u001b[0m\u001b[0m\n",
      "\u001b[1;31mKeyboardInterrupt\u001b[0m: "
     ]
    }
   ],
   "source": [
    "from bs4 import BeautifulSoup\n",
    "import requests\n",
    "import ctypes  # An included library with Python install.\n",
    "import time\n",
    "stock = \"HBM\"\n",
    "starttime=time.time()\n",
    "def find_between(s, first, last):\n",
    "    try:\n",
    "        start = s.index(first) + len(first)\n",
    "        end = s.index(last,start)\n",
    "        return(s[start:end])\n",
    "    except ValueError:\n",
    "        return \"\"\n",
    "\n",
    "\n",
    "while True:\n",
    "    r = requests.get(\"https://web.tmxmoney.com/quote.php?locale=en&qm_symbol=\" + stock)\n",
    "    soup = BeautifulSoup(r.content, \"html.parser\")\n",
    "    stock_data = soup.find(\"div\", {\"id\": \"quote_data\"}).text\n",
    "    stock_data_cleaned = \" \".join(stock_data.split())\n",
    "    stock_data_cleaned_price = find_between(stock_data_cleaned, \"$\", \"Change\")\n",
    "    stock_data_cleaned_price_float = float(stock_data_cleaned_price)\n",
    "    if(stock_data_cleaned_price_float <= 7.90):\n",
    "        message = \"Stock: \" + stock + \" update! \\n\\n PRICE LOW!!! \\n\\n Price is now: \" + stock_data_cleaned_price + \". \\nDetails: \" + stock_data_cleaned\n",
    "        ctypes.windll.user32.MessageBoxW(0, message, \"Stock Alert\", 1)\n",
    "    elif(stock_data_cleaned_price_float >= 7.90):\n",
    "        message = \"Stock: \" + stock + \" update! \\n\\n PRICE ON THE RISE!!! \\n\\n Price is now: \" + stock_data_cleaned_price + \". \\nDetails: \" + stock_data_cleaned\n",
    "        ctypes.windll.user32.MessageBoxW(0, message, \"Stock Alert\", 1)\n",
    "    time.sleep(60.0 - ((time.time() - starttime) % 60.0))\n",
    "\n"
   ]
  },
  {
   "cell_type": "code",
   "execution_count": null,
   "metadata": {},
   "outputs": [],
   "source": []
  }
 ],
 "metadata": {
  "kernelspec": {
   "display_name": "Python 3",
   "language": "python",
   "name": "python3"
  },
  "language_info": {
   "codemirror_mode": {
    "name": "ipython",
    "version": 3
   },
   "file_extension": ".py",
   "mimetype": "text/x-python",
   "name": "python",
   "nbconvert_exporter": "python",
   "pygments_lexer": "ipython3",
   "version": "3.7.1"
  }
 },
 "nbformat": 4,
 "nbformat_minor": 2
}
