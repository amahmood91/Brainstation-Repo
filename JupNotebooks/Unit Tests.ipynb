{
 "cells": [
  {
   "cell_type": "code",
   "execution_count": null,
   "metadata": {},
   "outputs": [],
   "source": [
    "import numpy as np\n",
    "import unittest"
   ]
  },
  {
   "cell_type": "markdown",
   "metadata": {},
   "source": [
    "### Code Testing: Unit Tests\n",
    "\n",
    "As well as correctness, unit tests are documentation. We can see how the function is expected to work under various conditions. We can also use them if we want to rewrtie a function, we should still pass the same unit tests.\n",
    "\n",
    "Let's write a very simple function: "
   ]
  },
  {
   "cell_type": "code",
   "execution_count": null,
   "metadata": {},
   "outputs": [],
   "source": [
    "def add_decimal(x): \n",
    "    '''\n",
    "    Adds 0.1 to x\n",
    "    '''\n",
    "    out = x + 0.1\n",
    "    return(out)\n"
   ]
  },
  {
   "cell_type": "code",
   "execution_count": null,
   "metadata": {},
   "outputs": [],
   "source": [
    "# once we write the function, we usually like to test it to see \n",
    "# if we get what we expected and what will break it \n",
    "print(add_decimal(5))"
   ]
  },
  {
   "cell_type": "code",
   "execution_count": null,
   "metadata": {},
   "outputs": [],
   "source": [
    "# adding 2 to a numpy array\n",
    "print(add_decimal(np.array([1,2,3])))"
   ]
  },
  {
   "cell_type": "code",
   "execution_count": null,
   "metadata": {},
   "outputs": [],
   "source": [
    "# adding 2 to a string\n",
    "# add_decimal('abc')"
   ]
  },
  {
   "cell_type": "code",
   "execution_count": null,
   "metadata": {},
   "outputs": [],
   "source": [
    "# adding 2 to a list\n",
    "# add_decimal([1,2,3])"
   ]
  },
  {
   "cell_type": "markdown",
   "metadata": {},
   "source": [
    "#### Making some simple unit tests\n",
    "Now we build a unit test. To do this we need to set up our own class:"
   ]
  },
  {
   "cell_type": "code",
   "execution_count": null,
   "metadata": {},
   "outputs": [],
   "source": [
    "\n",
    "class MyTest(unittest.TestCase):\n",
    "    def test_expected(self):\n",
    "        self.assertEqual(add_decimal(5), 5.1)\n",
    "\n",
    "unittest.main(argv=['notebook'], exit=False) # this line actually runs the test\n",
    "# don't worry about what is happening in the previous line"
   ]
  },
  {
   "cell_type": "markdown",
   "metadata": {},
   "source": [
    "We ran one test to see if we get exctly what we expected and our test ran without problems. Remember, we set up which values we tested ( we gave it 5 and knew that we were supposed to recieve 5.1. \n",
    "\n",
    "Let's add more tests. What happens if we add 0.1 to a numpy array?"
   ]
  },
  {
   "cell_type": "code",
   "execution_count": null,
   "metadata": {},
   "outputs": [],
   "source": [
    "class MyTest(unittest.TestCase):\n",
    "    \n",
    "    def test_expected(self):\n",
    "        self.assertEqual(add_decimal(5), 5.1)\n",
    "    \n",
    "    def test_array(self):\n",
    "        self.assertTrue(sum(add_decimal(np.array([1,2,3]))==np.array([1.1, 2.1, 3.1])) == 3)\n",
    "\n",
    "unittest.main(argv=['notebook'], exit=False)"
   ]
  },
  {
   "cell_type": "markdown",
   "metadata": {},
   "source": [
    "Can we now pick up an error that we expect? "
   ]
  },
  {
   "cell_type": "code",
   "execution_count": null,
   "metadata": {},
   "outputs": [],
   "source": [
    "class MyTest(unittest.TestCase):\n",
    "    \n",
    "    def test_expected(self):\n",
    "        self.assertEqual(add_decimal(5), 5.1)\n",
    "    \n",
    "    def test_array(self):\n",
    "        self.assertTrue(sum(add_decimal(np.array([1,2,3]))==np.array([1.1, 2.1, 3.1])) == 3)\n",
    "    \n",
    "    def test_string(self):\n",
    "        with self.assertRaises(TypeError):\n",
    "            add_decimal('abc')\n",
    "\n",
    "unittest.main(argv=['notebook'], exit=False)"
   ]
  },
  {
   "cell_type": "markdown",
   "metadata": {},
   "source": [
    "What if we experience floating point errors?"
   ]
  },
  {
   "cell_type": "code",
   "execution_count": null,
   "metadata": {},
   "outputs": [],
   "source": [
    "class MyTest(unittest.TestCase):\n",
    "    \n",
    "    def test_expected1(self):\n",
    "        self.assertEqual(add_decimal(5), 5.1)\n",
    "        \n",
    "    def test_expected2(self):\n",
    "        self.assertEqual(add_decimal(0.2),0.3) # this will fail because of floating point arithmetic\n",
    "    \n",
    "    def test_array(self):\n",
    "        self.assertTrue(sum(add_decimal(np.array([1,2,3]))==np.array([1.1, 2.1, 3.1])) == 3)\n",
    "    \n",
    "    def test_string(self):\n",
    "        with self.assertRaises(TypeError):\n",
    "            add_decimal('abc')\n",
    "    \n",
    "unittest.main(argv=['notebook'], exit=False)"
   ]
  },
  {
   "cell_type": "code",
   "execution_count": null,
   "metadata": {},
   "outputs": [],
   "source": [
    "class MyTest(unittest.TestCase):\n",
    "    \n",
    "    def test_expected1(self):\n",
    "        self.assertEqual(add_decimal(5), 5.1)\n",
    "        \n",
    "    def test_expected2(self):\n",
    "        self.assertTrue(np.isclose(add_decimal(0.2),0.3)) # np.isclose will compare values to a certain decimal point\n",
    "    \n",
    "    def test_array(self):\n",
    "        self.assertTrue(sum(add_decimal(np.array([1,2,3]))==np.array([1.1, 2.1, 3.1])) == 3)\n",
    "    \n",
    "    def test_string(self):\n",
    "        with self.assertRaises(TypeError):\n",
    "            add_decimal('abc')\n",
    "\n",
    "unittest.main(argv=['notebook'], exit=False)  "
   ]
  }
 ],
 "metadata": {
  "kernelspec": {
   "display_name": "Python 3",
   "language": "python",
   "name": "python3"
  },
  "language_info": {
   "codemirror_mode": {
    "name": "ipython",
    "version": 3
   },
   "file_extension": ".py",
   "mimetype": "text/x-python",
   "name": "python",
   "nbconvert_exporter": "python",
   "pygments_lexer": "ipython3",
   "version": "3.7.1"
  }
 },
 "nbformat": 4,
 "nbformat_minor": 2
}
