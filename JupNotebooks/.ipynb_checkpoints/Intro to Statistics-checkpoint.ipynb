{
 "cells": [
  {
   "cell_type": "markdown",
   "metadata": {},
   "source": [
    "## Introductory Statistics\n",
    "\n",
    "For this course, let's define statistics as a method of getting a better understanding of our data.\n",
    "\n",
    "In general, when analyzing data we want to get an understanding of either the population that our sample comes from, or the process which created the data.\n",
    "\n",
    "It's nice to know that our sales over time are increasing, but if we can infer a cause, we can ensure that it continues to happen.\n",
    "\n",
    "Let's think about rolling some dice, which we can do in numpy:"
   ]
  },
  {
   "cell_type": "code",
   "execution_count": 1,
   "metadata": {},
   "outputs": [
    {
     "name": "stdout",
     "output_type": "stream",
     "text": [
      "[1, 2, 3, 4, 5, 6]\n"
     ]
    }
   ],
   "source": [
    "import numpy as np\n",
    "np.random.seed(1234) #this makes sure we get the same numbers!\n",
    "possiblerolls = list(range(1,7))\n",
    "print(possiblerolls)"
   ]
  },
  {
   "cell_type": "code",
   "execution_count": 2,
   "metadata": {},
   "outputs": [
    {
     "data": {
      "text/plain": [
       "10"
      ]
     },
     "execution_count": 2,
     "metadata": {},
     "output_type": "execute_result"
    }
   ],
   "source": [
    "np.random.choice(possiblerolls) + np.random.choice(possiblerolls) "
   ]
  },
  {
   "cell_type": "markdown",
   "metadata": {},
   "source": [
    "If presented with only one or two rolls, it is nearly impossible to understand the way this data was generated. However, if we repeat the process many times, it quickly becomes easy to see how the outcomes are distributed:"
   ]
  },
  {
   "cell_type": "code",
   "execution_count": 3,
   "metadata": {},
   "outputs": [
    {
     "name": "stdout",
     "output_type": "stream",
     "text": [
      "[[5 5]\n",
      " [1 2]\n",
      " [2 2]\n",
      " ...\n",
      " [5 4]\n",
      " [2 4]\n",
      " [1 6]]\n"
     ]
    }
   ],
   "source": [
    "rolls = np.random.choice(possiblerolls, replace = True, size = (50000,2))\n",
    "print(rolls)"
   ]
  },
  {
   "cell_type": "code",
   "execution_count": 4,
   "metadata": {},
   "outputs": [
    {
     "data": {
      "image/png": "[encoded data removed]",
      "text/plain": [
       "<matplotlib.figure.Figure at 0x11052d8d0>"
      ]
     },
     "metadata": {},
     "output_type": "display_data"
    }
   ],
   "source": [
    "from matplotlib import pyplot as plt\n",
    "%matplotlib inline\n",
    "plt.hist(rolls.sum(axis = 1), bins = 11);"
   ]
  },
  {
   "cell_type": "markdown",
   "metadata": {},
   "source": [
    "As we increase the number of dice, the distribution becomes a familiar shape:"
   ]
  },
  {
   "cell_type": "code",
   "execution_count": 5,
   "metadata": {},
   "outputs": [
    {
     "name": "stdout",
     "output_type": "stream",
     "text": [
      "[[3 6 6 ... 2 3 3]\n",
      " [3 4 5 ... 6 4 2]\n",
      " [1 3 4 ... 4 3 4]\n",
      " ...\n",
      " [2 5 6 ... 5 4 3]\n",
      " [1 5 1 ... 5 6 5]\n",
      " [1 6 4 ... 5 3 3]]\n"
     ]
    }
   ],
   "source": [
    "rolls = np.random.choice(possiblerolls, replace = True, size = (50000,2000))\n",
    "print(rolls)"
   ]
  },
  {
   "cell_type": "code",
   "execution_count": 6,
   "metadata": {},
   "outputs": [
    {
     "data": {
      "image/png": "[encoded data removed]",
      "text/plain": [
       "<matplotlib.figure.Figure at 0x117152518>"
      ]
     },
     "metadata": {},
     "output_type": "display_data"
    }
   ],
   "source": [
    "plt.hist(rolls.sum(axis = 1), bins = 599, range = (6700, 7300));"
   ]
  },
  {
   "cell_type": "markdown",
   "metadata": {},
   "source": [
    "\n",
    "Hopefully the above plot is somewhat familiar to you. We have generated something that approximates the 'Normal Distribution'.\n",
    "\n",
    "Let's take a look:"
   ]
  },
  {
   "cell_type": "code",
   "execution_count": 7,
   "metadata": {},
   "outputs": [
    {
     "name": "stdout",
     "output_type": "stream",
     "text": [
      "7000.098\n",
      "76.00129022589024\n"
     ]
    },
    {
     "data": {
      "image/png": "[encoded data removed]",
      "text/plain": [
       "<matplotlib.figure.Figure at 0x1177a5a90>"
      ]
     },
     "metadata": {},
     "output_type": "display_data"
    }
   ],
   "source": [
    "mean = rolls.sum(axis = 1).mean()\n",
    "std = rolls.sum(axis = 1).std()\n",
    "print(mean)\n",
    "print(std)\n",
    "from scipy.stats import norm\n",
    "x = np.arange(6700, 7300, 20)\n",
    "\n",
    "plt.plot(x, norm.pdf(x, mean, std));"
   ]
  },
  {
   "cell_type": "markdown",
   "metadata": {},
   "source": [
    "Not bad! Not exactly the same, but we would expect the approximation to improve as we increase the number of dice.\n",
    "\n",
    "### Central Limit Theorem\n",
    "\n",
    "The central limit theorem states that as we increase the number of samples from a population, the mean of the samples approaches the mean of the population, with normally distributed error.\n",
    "\n",
    "Let's be a little more strict about our approach to the central limit theorem.\n",
    "\n",
    "We expect for each dice roll, to have a mean value of (1 + 2 + 3 + 4 + 5 + 6)/6 = 3.5:\n",
    "\n",
    "$$ \\mu = \\frac{1}{n}\\sum_{i=1}^na_i $$\n",
    "\n",
    "Our expected variance is therefore the sum of ((3.5-1)^2 + (3.5 - 2)^2.....)/6:\n",
    "\n",
    "\n",
    "$$ \\sigma^2 = \\frac{1}{n}\\sum_{i=1}^n (x_i-\\mu)^2 $$\n",
    "\n",
    "Which gives us a total variance of:"
   ]
  },
  {
   "cell_type": "code",
   "execution_count": 8,
   "metadata": {},
   "outputs": [
    {
     "data": {
      "text/plain": [
       "2.9166666666666665"
      ]
     },
     "execution_count": 8,
     "metadata": {},
     "output_type": "execute_result"
    }
   ],
   "source": [
    "sum((np.arange(1,7) - 3.5)**2)/6"
   ]
  },
  {
   "cell_type": "markdown",
   "metadata": {},
   "source": [
    "For our larger sample rolls, we would expect the CLT to be pretty true - as we rolled 2000 dice 50000 times, to get our expected value, µ, we multiply our mean by 2000: 7000. We have an expected variance in this value of 2000 * 2.916: 5833.3 "
   ]
  },
  {
   "cell_type": "code",
   "execution_count": 9,
   "metadata": {},
   "outputs": [
    {
     "data": {
      "text/plain": [
       "7000.098"
      ]
     },
     "execution_count": 9,
     "metadata": {},
     "output_type": "execute_result"
    }
   ],
   "source": [
    "rolls.sum(axis = 1).mean()"
   ]
  },
  {
   "cell_type": "code",
   "execution_count": 10,
   "metadata": {},
   "outputs": [
    {
     "data": {
      "text/plain": [
       "5776.196116000001"
      ]
     },
     "execution_count": 10,
     "metadata": {},
     "output_type": "execute_result"
    }
   ],
   "source": [
    "rolls.sum(axis = 1).var()"
   ]
  },
  {
   "cell_type": "markdown",
   "metadata": {},
   "source": [
    "Not bad! Let's take a look at some smaller repeats and see how they fare:"
   ]
  },
  {
   "cell_type": "code",
   "execution_count": 11,
   "metadata": {
    "scrolled": true
   },
   "outputs": [
    {
     "name": "stdout",
     "output_type": "stream",
     "text": [
      "mean of 1 rolls: 7154.0\n",
      "var of 1 rolls: 0.0\n",
      "mean of 5 rolls: 6971.4\n",
      "var of 5 rolls: 2214.6400000000003\n",
      "mean of 10 rolls: 6967.1\n",
      "var of 10 rolls: 7324.089999999999\n",
      "mean of 100 rolls: 6997.24\n",
      "var of 100 rolls: 5026.7824\n",
      "mean of 1000 rolls: 6997.267\n",
      "var of 1000 rolls: 5727.5937109999995\n"
     ]
    }
   ],
   "source": [
    "for i in [1, 5 , 10, 100, 1000]:\n",
    "    rolls = np.random.choice(possiblerolls, replace = True, size = (i,2000))\n",
    "    print(f\"mean of {i} rolls: {rolls.sum(axis = 1).mean()}\")\n",
    "    print(f\"var of {i} rolls: {rolls.sum(axis = 1).var()}\")"
   ]
  },
  {
   "cell_type": "markdown",
   "metadata": {},
   "source": [
    "What if we have less rolls per repeat:"
   ]
  },
  {
   "cell_type": "code",
   "execution_count": 12,
   "metadata": {},
   "outputs": [
    {
     "name": "stdout",
     "output_type": "stream",
     "text": [
      "mean of 1 rolls: 64.0\n",
      "var of 1 rolls: 0.0\n",
      "mean of 5 rolls: 71.4\n",
      "var of 5 rolls: 15.439999999999998\n",
      "mean of 10 rolls: 67.7\n",
      "var of 10 rolls: 33.61\n",
      "mean of 100 rolls: 69.7\n",
      "var of 100 rolls: 56.47\n",
      "mean of 1000 rolls: 69.922\n",
      "var of 1000 rolls: 62.377916000000006\n"
     ]
    }
   ],
   "source": [
    "for i in [1, 5 , 10, 100, 1000]:\n",
    "    rolls = np.random.choice(possiblerolls, replace = True, size = (i,20))\n",
    "    print(f\"mean of {i} rolls: {rolls.sum(axis = 1).mean()}\")\n",
    "    print(f\"var of {i} rolls: {rolls.sum(axis = 1).var()}\")"
   ]
  },
  {
   "cell_type": "markdown",
   "metadata": {},
   "source": [
    "Let's try and figure out the underlying mean by just sampling. This is similar to how we work in statistics, we either don't know the underlying mechanism of how the data is generated, or we can't ask everyone who they want to vote for. Instead, we take as large a sample as possible, and use it to approximate the population.\n",
    "\n",
    "So, we can have five dice this time. Let's try with varying numbers of repeats, and plot the results:"
   ]
  },
  {
   "cell_type": "code",
   "execution_count": 13,
   "metadata": {},
   "outputs": [
    {
     "data": {
      "image/png": "[encoded data removed]",
      "text/plain": [
       "<matplotlib.figure.Figure at 0x11af8cbe0>"
      ]
     },
     "metadata": {},
     "output_type": "display_data"
    }
   ],
   "source": [
    "mydata = []\n",
    "for i in [1, 5, 10, 100, 1000]:\n",
    "    meanrolls = np.random.choice(possiblerolls, replace = True, size = (i,5)).sum(axis =1)\n",
    "    mydata.append(meanrolls)\n",
    "\n",
    "fig = plt.figure(figsize=(15.0, 3.0))\n",
    "\n",
    "for i,j in enumerate([1, 5, 10, 100, 1000]):\n",
    "    axes = fig.add_subplot(1, 5, i+1)\n",
    "    axes.hist(mydata[i], range = (5,30))\n",
    "    axes.set_title(f'{j} repeats')"
   ]
  },
  {
   "cell_type": "markdown",
   "metadata": {},
   "source": [
    "### The Normal Distribution\n",
    "\n",
    "We have previously seen that as we increase the number of samples, we approach the normal, or gaussian distribution (aka the bell curve).\n",
    "\n",
    "The shape of the distribution is based on the mean and variance:\n",
    "\n",
    "$$ f(x) = \\frac{1}{\\sqrt{2\\pi\\sigma^2}}e^{-(x-\\mu)^2/2\\sigma^2} $$\n",
    "\n",
    "Let's take a look:"
   ]
  },
  {
   "cell_type": "code",
   "execution_count": 14,
   "metadata": {},
   "outputs": [],
   "source": [
    "def normal(value, mean, var):\n",
    "    firstpart = 1/(np.sqrt(2 * np.pi * var))\n",
    "    secondpart = np.exp((-(value - mean)**2)/2 * var)\n",
    "    return firstpart * secondpart"
   ]
  },
  {
   "cell_type": "code",
   "execution_count": 15,
   "metadata": {},
   "outputs": [
    {
     "data": {
      "image/png": "[encoded data removed]",
      "text/plain": [
       "<matplotlib.figure.Figure at 0x11be8acc0>"
      ]
     },
     "metadata": {},
     "output_type": "display_data"
    }
   ],
   "source": [
    "mean = 0\n",
    "var = 1\n",
    "xvals = np.arange(-3, 3, 0.01)\n",
    "yvals = normal(xvals,mean, var)\n",
    "plt.plot(xvals,yvals);"
   ]
  },
  {
   "cell_type": "markdown",
   "metadata": {},
   "source": [
    "One of the best things about working in python, numpy and scipy is that a lot of it is baked in."
   ]
  },
  {
   "cell_type": "code",
   "execution_count": 16,
   "metadata": {},
   "outputs": [
    {
     "data": {
      "image/png": "[encoded data removed]",
      "text/plain": [
       "<matplotlib.figure.Figure at 0x117791710>"
      ]
     },
     "metadata": {},
     "output_type": "display_data"
    }
   ],
   "source": [
    "plt.plot(xvals, norm.pdf(xvals, mean, var));"
   ]
  },
  {
   "cell_type": "markdown",
   "metadata": {},
   "source": [
    "We have some nice properties of the Normal distribution. If we know (or can assume) that a population is normally distributed, we can figure out how 'likely' a value is to have come from the distribution.\n",
    "\n",
    "We can call this a Standard Score, or Z-Score.\n",
    "\n",
    "<img src=\"https://upload.wikimedia.org/wikipedia/commons/a/a9/Empirical_Rule.PNG\" height = \"600\" width = \"600\">\n",
    "\n",
    "A Z-Score is Calculated using the formula:\n",
    "\n",
    "$$ z =  \\frac{x - \\mu}{\\sigma} $$"
   ]
  },
  {
   "cell_type": "markdown",
   "metadata": {},
   "source": [
    "Given that we got a roll of 29 from a roll of 6 dice, if we assume that the totals are normally distributed, what is our Z-Score? The $$\\sigma$$ here refers to our standard deviation."
   ]
  },
  {
   "cell_type": "code",
   "execution_count": 17,
   "metadata": {},
   "outputs": [],
   "source": [
    "mean = 3.5 * 6\n",
    "var = np.sum(((3.5 - np.arange(1,7))**2)/6*6)\n",
    "sd = np.sqrt(var)"
   ]
  },
  {
   "cell_type": "code",
   "execution_count": 18,
   "metadata": {},
   "outputs": [
    {
     "data": {
      "text/plain": [
       "1.9123657749350298"
      ]
     },
     "execution_count": 18,
     "metadata": {},
     "output_type": "execute_result"
    }
   ],
   "source": [
    "(29 - mean)/sd"
   ]
  },
  {
   "cell_type": "markdown",
   "metadata": {},
   "source": [
    "So, how likely was this to happen? We can look up the cumulative distribution function for the normal distribution:"
   ]
  },
  {
   "cell_type": "code",
   "execution_count": 19,
   "metadata": {},
   "outputs": [
    {
     "data": {
      "text/plain": [
       "0.97208535268038"
      ]
     },
     "execution_count": 19,
     "metadata": {},
     "output_type": "execute_result"
    }
   ],
   "source": [
    "norm.cdf((29 - mean)/sd)"
   ]
  },
  {
   "cell_type": "markdown",
   "metadata": {},
   "source": [
    "We would expect a lower value about 97.2% of the time. Obviously, we know that the outcome of 6 dice is not completely normally distributed. We would want to repeat our rolls to be able to make inference about it.\n",
    "\n",
    "Right now we only have one sample. We know that as we increase the number of repeats in our samples, we approach the mean of the population, we can use this to alter our sd in the formula:\n",
    "\n",
    "$$ z =  \\frac{x - \\mu}{SEM} $$\n",
    "\n",
    "Where SEM is the standard deviation of our population, divide by the number of samples in our test set.\n",
    "\n",
    "Imagine we now have 3 samples: `[29, 28, 27]`:"
   ]
  },
  {
   "cell_type": "code",
   "execution_count": 20,
   "metadata": {},
   "outputs": [
    {
     "data": {
      "text/plain": [
       "0.9981238949495631"
      ]
     },
     "execution_count": 20,
     "metadata": {},
     "output_type": "execute_result"
    }
   ],
   "source": [
    "SEM = sd/np.sqrt(3)\n",
    "\n",
    "zscore = (np.mean([27,28,29]) - mean)/SEM\n",
    "norm.cdf(zscore)"
   ]
  },
  {
   "attachments": {},
   "cell_type": "markdown",
   "metadata": {},
   "source": [
    "### Exercise\n",
    "\n",
    "We have some bike crash data on one street from the city of Toronto: we want to know if the year 2016 was an outlier, or normal year.\n",
    "\n",
    "The data for 1985-2015 are as below:\n",
    "\n",
    "[12, 30, 14, 66, 76, 65, 47, 78, 25, 96, 17, 42, 29, 20, 34, 39, 65,\n",
    "       13, 91, 62, 22,  8, 57, 28, 71, 75,  8, 48, 21, 15, 80]"
   ]
  },
  {
   "cell_type": "markdown",
   "metadata": {},
   "source": [
    "1. Calculate the mean and standard deviation of this data\n",
    "2. 2016 had 115 crashes - calculate the z-score\n",
    "3. Write a function to calculat ethe zscore, without using numpy or scipys mean, std or z functions.\n",
    "4. Use google to figure out how to go from a zscore to a 'p-value'. Can you interpret this?"
   ]
  }
 ],
 "metadata": {
  "kernelspec": {
   "display_name": "Python 3",
   "language": "python",
   "name": "python3"
  },
  "language_info": {
   "codemirror_mode": {
    "name": "ipython",
    "version": 3
   },
   "file_extension": ".py",
   "mimetype": "text/x-python",
   "name": "python",
   "nbconvert_exporter": "python",
   "pygments_lexer": "ipython3",
   "version": "3.6.4"
  }
 },
 "nbformat": 4,
 "nbformat_minor": 2
}
