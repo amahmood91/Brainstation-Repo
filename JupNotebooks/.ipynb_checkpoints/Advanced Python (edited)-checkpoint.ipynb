{
 "cells": [
  {
   "cell_type": "markdown",
   "metadata": {},
   "source": [
    "### Advanced Python\n",
    "\n",
    "### Classes\n",
    "\n",
    "We have seen the basic built in data types of Python, and you have probably noticed a few other types, such as the linear regression object from statsmodels and the NumPy array.\n",
    "\n",
    "Python is an object orientated language. We have objects, which are instances of types, these interact with each other, and can contain data or attributes. We can compare this to something like R or Scala which are more functional, we have objects or data, and we modify them by functions.\n",
    "\n",
    "This gets a bit theoretical so we can use Pac-Man as an example. In Pac-Man, we can say we have the class of ghosts, and each ghost: Inky, Blinky, Pinky and Clyde are instances of the type. They share general attributes such as wanting to chase pacman and having similar appearances and general behaviour. However, they are different when it comes to other attributes such as colour, speed and behaviour. \n",
    "\n",
    "If we treat these ghosts as objects it is easier to talk about them and how they work, rather than if they are arrays which are updated by functions in every frame. However, if we want to treat their behaviour stricly mathematically, it is easier to treat them functionally.\n",
    "\n",
    "Recall, we have methods which are specific to certain types of objects we have seen:"
   ]
  },
  {
   "cell_type": "code",
   "execution_count": null,
   "metadata": {},
   "outputs": [],
   "source": [
    "x = [1,2,3,4]\n",
    "print(x.pop())\n",
    "x = 'this is a string!'\n",
    "print(x.pop())"
   ]
  },
  {
   "cell_type": "markdown",
   "metadata": {},
   "source": [
    "How is this implemented? We have an Class, list, of which x is an instance. The list object has a method, pop, which is implemented, and can work on objects of this class. The string class does not have this method.\n",
    "\n",
    "So, let's make our own class in order to understand how it works:"
   ]
  },
  {
   "cell_type": "code",
   "execution_count": 38,
   "metadata": {},
   "outputs": [],
   "source": [
    "#create a robot class as type 'object'\n",
    "class Robot(object):\n",
    "    \n",
    "    def __init__(self, myName, myColor, myHeight = 6):\n",
    "        self.name = myName\n",
    "        self.color = myColor\n",
    "        self.height = myHeight\n",
    "        \n",
    "    \n",
    "    def welcome_msg(self):\n",
    "        print(f\"Hi! My name is {self.name} \\n and I'm a {self.color} robot!\")\n",
    "        print(f\"I am {self.height} feet tall!\")\n",
    "        \n",
    "\n",
    "\n",
    "\n",
    "\n",
    "# class Basket(object): #convention is to use capitals\n",
    "#     pass\n",
    "\n",
    "# x = Basket()\n",
    "# print(x)\n",
    "# print(type(x))"
   ]
  },
  {
   "cell_type": "code",
   "execution_count": 41,
   "metadata": {},
   "outputs": [],
   "source": [
    "robot1 = Robot('Ali','red', 7)"
   ]
  },
  {
   "cell_type": "code",
   "execution_count": 42,
   "metadata": {},
   "outputs": [
    {
     "name": "stdout",
     "output_type": "stream",
     "text": [
      "Hi! My name is Ali \n",
      " and I'm a red robot!\n",
      "I am 7 feet tall!\n"
     ]
    }
   ],
   "source": [
    "robot1.welcome_msg()\n"
   ]
  },
  {
   "cell_type": "markdown",
   "metadata": {},
   "source": [
    "We just made a new object, Basket, with a single instance, x.\n",
    "\n",
    "Right now it doesn't do much... let's add some attributes. We can think of attributes as slots in an object that we want to describe. Think back to our linear model object, it had attributes like p-value, residuals and so on.\n"
   ]
  },
  {
   "cell_type": "code",
   "execution_count": 43,
   "metadata": {},
   "outputs": [
    {
     "name": "stdout",
     "output_type": "stream",
     "text": [
      "100\n"
     ]
    }
   ],
   "source": [
    "class Basket(object): #convention is to use capitals\n",
    "    '''\n",
    "    We can use docstrings in objects, just like functions\n",
    "    '''\n",
    "    max_size = 100\n",
    "\n",
    "my_basket = Basket()\n",
    "print(my_basket.max_size)\n",
    "#help(Basket) # we have help implemented using our docstring and defined attributes"
   ]
  },
  {
   "cell_type": "markdown",
   "metadata": {},
   "source": [
    "It is not super useful to have a hardcoded attribute. We probably want to have different values for different objects.\n",
    "\n",
    "The usual way to instantiate an instance of a class is the `__init__` method. In python, two underscores designates a special attribute or method, and are pronounced as 'dunder' item. We often also use a single underscore to designate a protected or internal item.\n",
    "\n",
    "The init method looks just like a function, the first argument is `self` which refers back to particular instance."
   ]
  },
  {
   "cell_type": "code",
   "execution_count": 89,
   "metadata": {},
   "outputs": [],
   "source": [
    "# Define the class Basket\n",
    "\n",
    "class Basket(object): \n",
    "    '''\n",
    "    A Class to represent a single transactions total basket\n",
    "    '''\n",
    "    #notice ther that max_size is defined outside the __init__\n",
    "    #max_size = 100\n",
    "    def __init__(self, items, amounts, costs, max_size = 10):\n",
    "        '''\n",
    "        __init__ is a method, that we call when we make an instance of a class\n",
    "        '''\n",
    "        #assert that items is a list\n",
    "        assert isinstance(items, list), 'Items must be a list'\n",
    "        #assert that each item is a str\n",
    "        assert all(isinstance(item, str) for item in items), 'Items must be a list of strings'\n",
    "        \n",
    "        assert isinstance(amounts, list), 'Amounts must be a list'\n",
    "        assert all(isinstance(i, int) for i in amounts), 'Amounts must be a list of integers'\n",
    "        assert all(i>0 for i in amounts), 'One or more list elements in Amounts is negative'\n",
    "        \n",
    "        assert isinstance(costs, list), 'Costs must be a list'\n",
    "        assert all(isinstance(i, float) for i in costs), 'Costs must be a list of floats'\n",
    "        assert all(i>0 for i in costs), 'One or more list elements in Costs is negative'\n",
    "        \n",
    "        self.items = items\n",
    "        self.amounts = amounts\n",
    "        self.costs = costs\n",
    "        self.max_size = max_size\n",
    "        \n",
    "        assert isinstance(self.max_size, int), 'max_size must be an integer'\n",
    "        if self.max_size < 1: raise Exception('max_size must be at least 1!')\n",
    "        if sum(self.amounts) >self.max_size: raise Exception(f'Cannot have an amount greater than {self.max_size}!')\n",
    "        "
   ]
  },
  {
   "cell_type": "code",
   "execution_count": 93,
   "metadata": {},
   "outputs": [
    {
     "name": "stdout",
     "output_type": "stream",
     "text": [
      "Items: ['Razor', 'Milk', 'Bread']\n"
     ]
    }
   ],
   "source": [
    "        \n",
    "# Create an instance of the Basket class, then print out the items it contains\n",
    "my_basket = Basket(['Razor', 'Milk', 'Bread'], [1, 6, 3], [12.99, 4.99, 2.99])\n",
    "print(f\"Items: {my_basket.items}\")\n"
   ]
  },
  {
   "cell_type": "code",
   "execution_count": 94,
   "metadata": {},
   "outputs": [
    {
     "name": "stdout",
     "output_type": "stream",
     "text": [
      "Items: ['apples']\n"
     ]
    }
   ],
   "source": [
    "# Create another instance of a Basket\n",
    "other_basket = Basket(['apples'], [3], [0.70])\n",
    "print(f\"Items: {other_basket.items}\")"
   ]
  },
  {
   "cell_type": "markdown",
   "metadata": {},
   "source": [
    "We now have a mildly useful Class. We can hold customer transactions as baskets, and make sure to enforce the types and data structures we expect.\n",
    "\n",
    "### Exercise\n",
    "\n",
    "1. We can use assertions inside classes and methods, just like in functions. Add assertions inside the `__init__` to ensure that items is a list with all strings, amounts is a list with all integers, and costs is a list with all floats.\n",
    "\n",
    "2. Write an assertion, inside the `__init__`, which enforces the max_size attribute (hint, access it using self.max_size).\n",
    "\n",
    "**SEE ABOVE**\n",
    "\n",
    "As well as the init, we can implement arbitrarily useful methods: "
   ]
  },
  {
   "cell_type": "code",
   "execution_count": 103,
   "metadata": {},
   "outputs": [
    {
     "name": "stdout",
     "output_type": "stream",
     "text": [
      "31.94\n",
      "2.1\n"
     ]
    }
   ],
   "source": [
    "class Basket(object): \n",
    "    '''\n",
    "    A Class to represent a single transactions total basket\n",
    "    '''\n",
    "    max_size = 100\n",
    "    def __init__(self, items, amounts, costs):\n",
    "        '''\n",
    "        __init__ is a method, that we call when we make an instance of a class\n",
    "        '''\n",
    "        self.items = items\n",
    "        self.amounts = amounts\n",
    "        self.costs = costs\n",
    "    \n",
    "    def cost(self):\n",
    "        '''\n",
    "        gives the total cost of a basket\n",
    "        '''\n",
    "        import numpy as np\n",
    "        return round(np.sum(np.array(self.amounts) * np.array(self.costs)),2)\n",
    "\n",
    "    \n",
    "# Create an instance of the Basket class and calculate the cost of its items    \n",
    "my_basket = Basket(['Razor', 'Milk', 'Bread'], [1, 2, 3], [12.99, 4.99, 2.99])\n",
    "print(my_basket.cost())\n",
    "\n",
    "# Do the same, but for a new instance of a Basket\n",
    "other_basket = Basket(['apples'], [3], [0.70])\n",
    "print(other_basket.cost())"
   ]
  },
  {
   "cell_type": "markdown",
   "metadata": {},
   "source": [
    "### Exercise\n",
    "\n",
    "Complete the below class, a Customer, which holds multiple baskets, taken as arguments to the init call, or the addtrans method, and calculates totals using the total_spent method."
   ]
  },
  {
   "cell_type": "code",
   "execution_count": 137,
   "metadata": {},
   "outputs": [
    {
     "name": "stdout",
     "output_type": "stream",
     "text": [
      "Total cost for all 1 basket(s): 31.94\n",
      "Total cost for all 2 basket(s): 34.04\n"
     ]
    }
   ],
   "source": [
    "\n",
    "class Customer(object):\n",
    "    \n",
    "    def __init__(self, custId, baskets = None):\n",
    "        self.id = custId\n",
    "        self.baskets = []\n",
    "        if self.baskets is not None:\n",
    "            self.addBaskets(baskets)\n",
    "    \n",
    "    def addBaskets(self, baskets):\n",
    "        for b in baskets:\n",
    "            self.baskets.append(b)\n",
    "            \n",
    "    def total_spent(self):\n",
    "        '''\n",
    "        fill this in!\n",
    "        '''\n",
    "        total_costs = 0\n",
    "        for i in self.baskets:\n",
    "            #import numpy as np\n",
    "            #print(i.amounts)\n",
    "            #print(i.costs)\n",
    "            \n",
    "            # WE COULD CALCUALTE AGAIN BUT REMEMBR THE BASKET CLASS HAS A COST FUNCTION WHICH WE CAN CALL - see below\n",
    "#             basket_cost = round(np.sum(np.array(i.amounts) * np.array(i.costs)),1)\n",
    "            \n",
    "#             #print(f\"Basket cost: {basket_cost}\")\n",
    "#             total_costs += basket_cost\n",
    "        \n",
    "            total_costs += i.cost()\n",
    "        return total_costs\n",
    "    \n",
    "    def total_baskets(self):\n",
    "        return len(self.baskets)\n",
    "\n",
    "    \n",
    "# Create an instance of a Basket    \n",
    "my_basket = Basket(['Razor', 'Milk', 'Bread'], [1, 2, 3], [12.99, 4.99, 2.99])\n",
    "# Create an instance of a Customer\n",
    "my_cust = Customer(1, [my_basket])\n",
    "\n",
    "print( f\"Total cost for all {my_cust.total_baskets()} basket(s): {my_cust.total_spent()}\" ) # Should return 31.94\n",
    "\n",
    "\n",
    "# Create another instance of a Basket and add it to our Customer's list of Baskets \n",
    "other_basket = Basket(['apples'], [3], [0.70])\n",
    "my_cust.addBaskets([other_basket])\n",
    "\n",
    "print( f\"Total cost for all {my_cust.total_baskets()} basket(s): {my_cust.total_spent()}\" )  # Should return 34.04\n"
   ]
  },
  {
   "cell_type": "code",
   "execution_count": null,
   "metadata": {},
   "outputs": [],
   "source": []
  },
  {
   "cell_type": "code",
   "execution_count": null,
   "metadata": {},
   "outputs": [],
   "source": []
  },
  {
   "cell_type": "markdown",
   "metadata": {},
   "source": [
    "### Special Methods\n",
    "\n",
    "As well as `__init__` we have many other special methods, [you can see the docs here](https://docs.python.org/3/reference/datamodel.html#basic-customization). A useful method is `__str__` which determines how we print our object, as well as the `__eq__` etc ones, which you could imagine we could implement to compare basket costs."
   ]
  },
  {
   "cell_type": "code",
   "execution_count": 141,
   "metadata": {},
   "outputs": [
    {
     "name": "stdout",
     "output_type": "stream",
     "text": [
      "[1, 5]\n",
      "<__main__.Customer object at 0x000000F0BE808828>\n"
     ]
    }
   ],
   "source": [
    "a = [5,1]\n",
    "print(a[::-1])\n",
    "\n",
    "print(my_cust)"
   ]
  },
  {
   "cell_type": "code",
   "execution_count": 145,
   "metadata": {},
   "outputs": [],
   "source": [
    "class FunList(list):\n",
    "    \n",
    "    #Without the below function, the print function will just print out '[1,2,3,4,5]'\n",
    "    #With it, it changes how the print function works\n",
    "    def __str__(self):\n",
    "        return 'Hey Im a fun list, look at my values: ' + super.__str__(self)\n",
    "    \n",
    "    def __eq__(self, other):\n",
    "        return self[0] == other[-1]"
   ]
  },
  {
   "cell_type": "code",
   "execution_count": 147,
   "metadata": {},
   "outputs": [
    {
     "name": "stdout",
     "output_type": "stream",
     "text": [
      "Hey Im a fun list, look at my values: [1, 2, 3, 4, 5]\n"
     ]
    }
   ],
   "source": [
    "x = FunList([1,2,3,4,5])\n",
    "print(x)"
   ]
  },
  {
   "cell_type": "code",
   "execution_count": 148,
   "metadata": {},
   "outputs": [
    {
     "name": "stdout",
     "output_type": "stream",
     "text": [
      "True\n",
      "True\n",
      "False\n"
     ]
    }
   ],
   "source": [
    "x = FunList([1,2,3,4,5])\n",
    "y = FunList([5,1])\n",
    "print(x == y)\n",
    "\n",
    "x = FunList([1,2,3,4,5])\n",
    "y = FunList([5,4,3,2,1])\n",
    "print(x == y)\n",
    "\n",
    "x = list([1,2,3,4,5])\n",
    "y = list([5,4,3,2,1])\n",
    "print(x == y)"
   ]
  },
  {
   "cell_type": "markdown",
   "metadata": {},
   "source": [
    "### Inheritance\n",
    "\n",
    "Inheritance refers to objects which are 'subtypes' of other objects. When we defined our classes, we had `object` in brackets, as we were inheriting from the generic object type.\n",
    "\n",
    "If we used another object there, we could inherit from it. We keep all of the attributes and methods from our parent class, but add or overwrite any we include in our new class:"
   ]
  },
  {
   "cell_type": "code",
   "execution_count": null,
   "metadata": {},
   "outputs": [],
   "source": [
    "class FunList(list):\n",
    "    def __str__(self):\n",
    "        return 'Hey Im a fun list, look at my values: ' + super.__str__(self)\n",
    "            \n",
    "x = FunList([1,2,3,4,5])\n",
    "\n",
    "#Just like an old list:\n",
    "x.append(100)\n",
    "print(x.pop())\n",
    "\n",
    "#But with the cool print:\n",
    "print(x)"
   ]
  },
  {
   "cell_type": "markdown",
   "metadata": {},
   "source": [
    "## Advanced Functions"
   ]
  },
  {
   "cell_type": "markdown",
   "metadata": {},
   "source": [
    "### Functions-from-Functions\n",
    "As well as values, we can actually return functions from functions. This is useful for caching and for when we want to use another function with different defaults."
   ]
  },
  {
   "cell_type": "code",
   "execution_count": 149,
   "metadata": {},
   "outputs": [],
   "source": [
    "def make_power(n):\n",
    "    def local_func(x):\n",
    "        return x ** n\n",
    "    return local_func"
   ]
  },
  {
   "cell_type": "code",
   "execution_count": 150,
   "metadata": {},
   "outputs": [
    {
     "data": {
      "text/plain": [
       "9"
      ]
     },
     "execution_count": 150,
     "metadata": {},
     "output_type": "execute_result"
    }
   ],
   "source": [
    "my_squarer = make_power(2)\n",
    "my_squarer(3)"
   ]
  },
  {
   "cell_type": "markdown",
   "metadata": {},
   "source": [
    "### Lambda functions\n",
    "A *lambda function* is a fancy name for a very simple function that we want to use once and then likely never use again. Lambda functions work the same way as the type of functions we've seen before-- taking some arguments as input, doing something to them, and returning an output -- but the syntax is quicker and easier."
   ]
  },
  {
   "cell_type": "code",
   "execution_count": 151,
   "metadata": {
    "scrolled": true
   },
   "outputs": [
    {
     "data": {
      "text/plain": [
       "8"
      ]
     },
     "execution_count": 151,
     "metadata": {},
     "output_type": "execute_result"
    }
   ],
   "source": [
    "my_func = lambda x,y: x**y\n",
    "my_func(2,3)"
   ]
  },
  {
   "cell_type": "markdown",
   "metadata": {},
   "source": [
    "The case above is a good example to show the syntax of lambda functions, but in practice, we would almost never give a lambda function a name to store it. They're intended to be disposable and single-use. We more often use lambda functions when working with *iterators*, some of which take in functions as arguments. Let's start exploring iterators and then we'll revisit lambda functions in the context that they're intended to be used."
   ]
  },
  {
   "cell_type": "markdown",
   "metadata": {},
   "source": [
    "### Iterators\n",
    "\n",
    "Throughout this course we have repeatedly encountered the `range` function, it is now time to explpore it in more depth. In Python 2.x the `range` function works in a considerably different way than it does in Python 3. This is becuase it was reimplemented so it now gives a strange print out:"
   ]
  },
  {
   "cell_type": "code",
   "execution_count": 152,
   "metadata": {},
   "outputs": [
    {
     "data": {
      "text/plain": [
       "range(0, 10)"
      ]
     },
     "execution_count": 152,
     "metadata": {},
     "output_type": "execute_result"
    }
   ],
   "source": [
    "range(10)"
   ]
  },
  {
   "cell_type": "markdown",
   "metadata": {},
   "source": [
    "What exactly are we doing? Let's take a look at a more interesting example:"
   ]
  },
  {
   "cell_type": "code",
   "execution_count": 153,
   "metadata": {},
   "outputs": [
    {
     "data": {
      "text/plain": [
       "range(0, 10000000000000000000000000000000000000000000000000000000000000000000000000000000000000000000000000000)"
      ]
     },
     "execution_count": 153,
     "metadata": {},
     "output_type": "execute_result"
    }
   ],
   "source": [
    "range(10**100)"
   ]
  },
  {
   "cell_type": "markdown",
   "metadata": {},
   "source": [
    "Given that there are about $10^{80}$ atoms in the universe, it is likely that we have not constructed a list which contains them all.\n",
    "\n",
    "Here are a couple of other built in functions that work in a similar manner:"
   ]
  },
  {
   "cell_type": "code",
   "execution_count": 154,
   "metadata": {},
   "outputs": [
    {
     "name": "stdout",
     "output_type": "stream",
     "text": [
      "<map object at 0x000000F0BE81CEF0>\n",
      "<zip object at 0x000000F0BE7FF748>\n"
     ]
    }
   ],
   "source": [
    "print(map(lambda x: x*2, [1,2,3,4,5]))\n",
    "print(zip([1,2,3,4,5], [1,2,3,4,5]))"
   ]
  },
  {
   "cell_type": "markdown",
   "metadata": {},
   "source": [
    "These are all iterators (NB., this is distinct from iterables, which are any sequence we can loop over).\n",
    "\n",
    "Internally, python has a method of generating the next object in these iterator, and lazily evaluates the next item only when we need it. This is extremely useful for conserving memory when working with large data. When we hit the last object, we raise an error, which signifies the end of the iterable to most python objects."
   ]
  },
  {
   "cell_type": "code",
   "execution_count": 155,
   "metadata": {},
   "outputs": [
    {
     "name": "stdout",
     "output_type": "stream",
     "text": [
      "2\n",
      "4\n"
     ]
    },
    {
     "data": {
      "text/plain": [
       "[6, 8, 10]"
      ]
     },
     "execution_count": 155,
     "metadata": {},
     "output_type": "execute_result"
    }
   ],
   "source": [
    "my_square = (map(lambda x: x*2, [1,2,3,4,5]))\n",
    "print(next(my_square))\n",
    "print(next(my_square))\n",
    "list(my_square) #huh!"
   ]
  },
  {
   "cell_type": "code",
   "execution_count": 156,
   "metadata": {},
   "outputs": [
    {
     "ename": "StopIteration",
     "evalue": "",
     "output_type": "error",
     "traceback": [
      "\u001b[1;31m---------------------------------------------------------------------------\u001b[0m",
      "\u001b[1;31mStopIteration\u001b[0m                             Traceback (most recent call last)",
      "\u001b[1;32m<ipython-input-156-3c8e133a0cc1>\u001b[0m in \u001b[0;36m<module>\u001b[1;34m\u001b[0m\n\u001b[0;32m      1\u001b[0m \u001b[0mmy_square_2\u001b[0m \u001b[1;33m=\u001b[0m \u001b[1;33m(\u001b[0m\u001b[0mmap\u001b[0m\u001b[1;33m(\u001b[0m\u001b[1;32mlambda\u001b[0m \u001b[0mx\u001b[0m\u001b[1;33m:\u001b[0m \u001b[0mx\u001b[0m\u001b[1;33m*\u001b[0m\u001b[1;36m2\u001b[0m\u001b[1;33m,\u001b[0m \u001b[1;33m[\u001b[0m\u001b[1;36m1\u001b[0m\u001b[1;33m]\u001b[0m\u001b[1;33m)\u001b[0m\u001b[1;33m)\u001b[0m\u001b[1;33m\u001b[0m\u001b[1;33m\u001b[0m\u001b[0m\n\u001b[0;32m      2\u001b[0m \u001b[0mnext\u001b[0m\u001b[1;33m(\u001b[0m\u001b[0mmy_square_2\u001b[0m\u001b[1;33m)\u001b[0m\u001b[1;33m\u001b[0m\u001b[1;33m\u001b[0m\u001b[0m\n\u001b[1;32m----> 3\u001b[1;33m \u001b[0mnext\u001b[0m\u001b[1;33m(\u001b[0m\u001b[0mmy_square_2\u001b[0m\u001b[1;33m)\u001b[0m\u001b[1;33m\u001b[0m\u001b[1;33m\u001b[0m\u001b[0m\n\u001b[0m",
      "\u001b[1;31mStopIteration\u001b[0m: "
     ]
    }
   ],
   "source": [
    "my_square_2 = (map(lambda x: x*2, [1]))\n",
    "next(my_square_2)\n",
    "next(my_square_2)"
   ]
  },
  {
   "cell_type": "markdown",
   "metadata": {},
   "source": [
    "Once an iterator has hit the Stop Iteration error, it is empty, and we have to reinitialize it.\n",
    "\n",
    "Map here is mapping the given function onto each item in the iterable.\n",
    "\n",
    "Zip `zips` together items - useful if we want to iterate over more than item at once"
   ]
  },
  {
   "cell_type": "code",
   "execution_count": 157,
   "metadata": {},
   "outputs": [
    {
     "data": {
      "text/plain": [
       "[(1, 'a'), (2, 'b'), (3, 'c'), (4, 'd'), (5, 'e')]"
      ]
     },
     "execution_count": 157,
     "metadata": {},
     "output_type": "execute_result"
    }
   ],
   "source": [
    "list(zip([1,2,3,4,5], ['a','b','c','d','e']))"
   ]
  },
  {
   "cell_type": "markdown",
   "metadata": {},
   "source": [
    "Range is not 100% the same, we cannot call next on it, and it has some extra attributes:"
   ]
  },
  {
   "cell_type": "code",
   "execution_count": 158,
   "metadata": {},
   "outputs": [
    {
     "name": "stdout",
     "output_type": "stream",
     "text": [
      "0\n",
      "1\n"
     ]
    },
    {
     "ename": "TypeError",
     "evalue": "'range' object is not an iterator",
     "output_type": "error",
     "traceback": [
      "\u001b[1;31m---------------------------------------------------------------------------\u001b[0m",
      "\u001b[1;31mTypeError\u001b[0m                                 Traceback (most recent call last)",
      "\u001b[1;32m<ipython-input-158-1316fdc43d13>\u001b[0m in \u001b[0;36m<module>\u001b[1;34m\u001b[0m\n\u001b[0;32m      6\u001b[0m \u001b[1;33m\u001b[0m\u001b[0m\n\u001b[0;32m      7\u001b[0m \u001b[1;31m#But it's not an iterator...\u001b[0m\u001b[1;33m\u001b[0m\u001b[1;33m\u001b[0m\u001b[1;33m\u001b[0m\u001b[0m\n\u001b[1;32m----> 8\u001b[1;33m \u001b[0mnext\u001b[0m\u001b[1;33m(\u001b[0m\u001b[0mx\u001b[0m\u001b[1;33m)\u001b[0m\u001b[1;33m\u001b[0m\u001b[1;33m\u001b[0m\u001b[0m\n\u001b[0m",
      "\u001b[1;31mTypeError\u001b[0m: 'range' object is not an iterator"
     ]
    }
   ],
   "source": [
    "x = range(10)\n",
    "\n",
    "#Get some elements from range\n",
    "print(x.start)\n",
    "print(x.step)\n",
    "\n",
    "#But it's not an iterator...\n",
    "next(x)"
   ]
  },
  {
   "cell_type": "markdown",
   "metadata": {},
   "source": [
    "We can make iterators in one of two ways. The first is by wrapping an iterable in the `iter` function:"
   ]
  },
  {
   "cell_type": "code",
   "execution_count": 159,
   "metadata": {},
   "outputs": [
    {
     "name": "stdout",
     "output_type": "stream",
     "text": [
      "0\n",
      "1\n"
     ]
    }
   ],
   "source": [
    "x = range(10)\n",
    "range_iterator = iter(x)\n",
    "\n",
    "print(next(range_iterator))\n",
    "print(next(range_iterator))"
   ]
  },
  {
   "cell_type": "markdown",
   "metadata": {},
   "source": [
    "The second is by making our own, by replacing the `return` keyword in a function, with the `yield` keyword:"
   ]
  },
  {
   "cell_type": "code",
   "execution_count": 160,
   "metadata": {},
   "outputs": [
    {
     "name": "stdout",
     "output_type": "stream",
     "text": [
      "5\n",
      "10\n"
     ]
    }
   ],
   "source": [
    "def my_func(x):\n",
    "    vals = [1,2,3,4,5]\n",
    "    for i in vals:\n",
    "        yield x * i\n",
    "\n",
    "range_iterator = my_func(5)\n",
    "print(next(range_iterator))\n",
    "print(next(range_iterator))"
   ]
  },
  {
   "cell_type": "markdown",
   "metadata": {},
   "source": [
    "Iterators are just special functions which return when they encounter a `yield` operation. Every time we call `next` (or an equivalent operation like a for-loop) we continue running the function until we hit `yield` again. Once we run out of `yield` operations we throw the error. \n",
    "\n",
    "Iterators do not need to be finite, the following iterator will run forever, it just keeps yielding the same value over and over and over..."
   ]
  },
  {
   "cell_type": "code",
   "execution_count": 161,
   "metadata": {},
   "outputs": [],
   "source": [
    "def forever() :\n",
    "    while True :\n",
    "        yield 1\n",
    "        \n",
    "forever_iterator = forever()\n",
    "\n",
    "for i in range(500) :\n",
    "    next(forever_iterator)"
   ]
  },
  {
   "cell_type": "markdown",
   "metadata": {},
   "source": [
    "### Exercises\n",
    "\n",
    "In data science we will often have to create combinations of variables, columns or data points. Iterators give us a fast and efficient way of doing this.\n",
    "\n",
    "The `itertools` package is part of the standard library, and contains many useful combinatorial functions, which mostly produce iterators. Take a look at the [documentation here](https://docs.python.org/3/library/itertools.html).\n",
    "\n",
    "1. Create a nested for loop to generate all pairwise combinations of range(10) and range(10)\n",
    "2. Create the same using an itertools function\n",
    "3. Crate all combinations of 3 items from range(10)\n",
    "4. Use itertools for the sample problem."
   ]
  },
  {
   "cell_type": "code",
   "execution_count": 166,
   "metadata": {},
   "outputs": [
    {
     "name": "stdout",
     "output_type": "stream",
     "text": [
      "[(0, 0), (0, 1), (0, 2), (0, 3), (0, 4), (0, 5), (0, 6), (0, 7), (0, 8), (0, 9), (1, 0), (1, 1), (1, 2), (1, 3), (1, 4), (1, 5), (1, 6), (1, 7), (1, 8), (1, 9), (2, 0), (2, 1), (2, 2), (2, 3), (2, 4), (2, 5), (2, 6), (2, 7), (2, 8), (2, 9), (3, 0), (3, 1), (3, 2), (3, 3), (3, 4), (3, 5), (3, 6), (3, 7), (3, 8), (3, 9), (4, 0), (4, 1), (4, 2), (4, 3), (4, 4), (4, 5), (4, 6), (4, 7), (4, 8), (4, 9), (5, 0), (5, 1), (5, 2), (5, 3), (5, 4), (5, 5), (5, 6), (5, 7), (5, 8), (5, 9), (6, 0), (6, 1), (6, 2), (6, 3), (6, 4), (6, 5), (6, 6), (6, 7), (6, 8), (6, 9), (7, 0), (7, 1), (7, 2), (7, 3), (7, 4), (7, 5), (7, 6), (7, 7), (7, 8), (7, 9), (8, 0), (8, 1), (8, 2), (8, 3), (8, 4), (8, 5), (8, 6), (8, 7), (8, 8), (8, 9), (9, 0), (9, 1), (9, 2), (9, 3), (9, 4), (9, 5), (9, 6), (9, 7), (9, 8), (9, 9)]\n",
      "[(0, 0), (0, 1), (0, 2), (0, 3), (0, 4), (0, 5), (0, 6), (0, 7), (0, 8), (0, 9), (1, 0), (1, 1), (1, 2), (1, 3), (1, 4), (1, 5), (1, 6), (1, 7), (1, 8), (1, 9), (2, 0), (2, 1), (2, 2), (2, 3), (2, 4), (2, 5), (2, 6), (2, 7), (2, 8), (2, 9), (3, 0), (3, 1), (3, 2), (3, 3), (3, 4), (3, 5), (3, 6), (3, 7), (3, 8), (3, 9), (4, 0), (4, 1), (4, 2), (4, 3), (4, 4), (4, 5), (4, 6), (4, 7), (4, 8), (4, 9), (5, 0), (5, 1), (5, 2), (5, 3), (5, 4), (5, 5), (5, 6), (5, 7), (5, 8), (5, 9), (6, 0), (6, 1), (6, 2), (6, 3), (6, 4), (6, 5), (6, 6), (6, 7), (6, 8), (6, 9), (7, 0), (7, 1), (7, 2), (7, 3), (7, 4), (7, 5), (7, 6), (7, 7), (7, 8), (7, 9), (8, 0), (8, 1), (8, 2), (8, 3), (8, 4), (8, 5), (8, 6), (8, 7), (8, 8), (8, 9), (9, 0), (9, 1), (9, 2), (9, 3), (9, 4), (9, 5), (9, 6), (9, 7), (9, 8), (9, 9)]\n"
     ]
    }
   ],
   "source": [
    "#1\n",
    "#METHOD ONE\n",
    "combos = []\n",
    "for i in range(10):\n",
    "    for j in range(10):\n",
    "        combos.append((i,j))\n",
    "        \n",
    "print(combos)\n",
    "\n",
    "#Method two\n",
    "import itertools\n",
    "\n",
    "combos = list(itertools.product(range(10), repeat=2))\n",
    "        \n",
    "print(combos)\n",
    "\n"
   ]
  },
  {
   "cell_type": "code",
   "execution_count": 171,
   "metadata": {},
   "outputs": [
    {
     "name": "stdout",
     "output_type": "stream",
     "text": [
      "[(0, 1, 2), (0, 1, 3), (0, 1, 4), (0, 1, 5), (0, 1, 6), (0, 1, 7), (0, 1, 8), (0, 1, 9), (0, 2, 3), (0, 2, 4), (0, 2, 5), (0, 2, 6), (0, 2, 7), (0, 2, 8), (0, 2, 9), (0, 3, 4), (0, 3, 5), (0, 3, 6), (0, 3, 7), (0, 3, 8), (0, 3, 9), (0, 4, 5), (0, 4, 6), (0, 4, 7), (0, 4, 8), (0, 4, 9), (0, 5, 6), (0, 5, 7), (0, 5, 8), (0, 5, 9), (0, 6, 7), (0, 6, 8), (0, 6, 9), (0, 7, 8), (0, 7, 9), (0, 8, 9), (1, 2, 3), (1, 2, 4), (1, 2, 5), (1, 2, 6), (1, 2, 7), (1, 2, 8), (1, 2, 9), (1, 3, 4), (1, 3, 5), (1, 3, 6), (1, 3, 7), (1, 3, 8), (1, 3, 9), (1, 4, 5), (1, 4, 6), (1, 4, 7), (1, 4, 8), (1, 4, 9), (1, 5, 6), (1, 5, 7), (1, 5, 8), (1, 5, 9), (1, 6, 7), (1, 6, 8), (1, 6, 9), (1, 7, 8), (1, 7, 9), (1, 8, 9), (2, 3, 4), (2, 3, 5), (2, 3, 6), (2, 3, 7), (2, 3, 8), (2, 3, 9), (2, 4, 5), (2, 4, 6), (2, 4, 7), (2, 4, 8), (2, 4, 9), (2, 5, 6), (2, 5, 7), (2, 5, 8), (2, 5, 9), (2, 6, 7), (2, 6, 8), (2, 6, 9), (2, 7, 8), (2, 7, 9), (2, 8, 9), (3, 4, 5), (3, 4, 6), (3, 4, 7), (3, 4, 8), (3, 4, 9), (3, 5, 6), (3, 5, 7), (3, 5, 8), (3, 5, 9), (3, 6, 7), (3, 6, 8), (3, 6, 9), (3, 7, 8), (3, 7, 9), (3, 8, 9), (4, 5, 6), (4, 5, 7), (4, 5, 8), (4, 5, 9), (4, 6, 7), (4, 6, 8), (4, 6, 9), (4, 7, 8), (4, 7, 9), (4, 8, 9), (5, 6, 7), (5, 6, 8), (5, 6, 9), (5, 7, 8), (5, 7, 9), (5, 8, 9), (6, 7, 8), (6, 7, 9), (6, 8, 9), (7, 8, 9)]\n"
     ]
    }
   ],
   "source": [
    "#3\n",
    "combos_3 = list(itertools.combinations(range(10), 3))\n",
    "print(combos_3)"
   ]
  },
  {
   "cell_type": "code",
   "execution_count": 172,
   "metadata": {},
   "outputs": [
    {
     "data": {
      "text/plain": [
       "[('height', 'weight'), ('height', 'shoesize'), ('weight', 'shoesize')]"
      ]
     },
     "execution_count": 172,
     "metadata": {},
     "output_type": "execute_result"
    }
   ],
   "source": [
    "list_of_atts = ['height','weight','shoesize']\n",
    "list(itertools.combinations(list_of_atts,2 ))"
   ]
  },
  {
   "cell_type": "markdown",
   "metadata": {},
   "source": [
    "### Recursion\n",
    "\n",
    "A common interview question is to create the nth number in the fibonacci sequence:\n",
    "\n",
    "$$ F_n = F_{n-1} + F_{n-2} $$\n",
    "\n",
    "There are many, many ways of implementing this.\n",
    "\n",
    "One of the main things they are looking for is clean, efficient code (as well as working, depending on who you ask, 50% of people interviewing for programming jobs cannot implement FizzBuzz).\n",
    "\n",
    "One way to measure, is run time.\n",
    "\n",
    "We have seen the magic functions, that begin with `%` in a few places.\n",
    "\n",
    "In jupyter notebooks, we can use `%timeit` to see how long a line takes to run, or `%%timeit` to see the whole cell."
   ]
  },
  {
   "cell_type": "code",
   "execution_count": 173,
   "metadata": {},
   "outputs": [],
   "source": [
    "def fib1(x):\n",
    "    n = 2\n",
    "    a, b = 1,1\n",
    "    if x < 2:\n",
    "        return a\n",
    "    else:\n",
    "        while n <= x:\n",
    "            a, b = b, a + b\n",
    "            n += 1\n",
    "    return b"
   ]
  },
  {
   "cell_type": "code",
   "execution_count": 174,
   "metadata": {},
   "outputs": [
    {
     "name": "stdout",
     "output_type": "stream",
     "text": [
      "6.84 µs ± 697 ns per loop (mean ± std. dev. of 7 runs, 100000 loops each)\n"
     ]
    }
   ],
   "source": [
    "%%timeit\n",
    "[fib1(i) for i in range(10)]"
   ]
  },
  {
   "cell_type": "markdown",
   "metadata": {},
   "source": [
    "This is nice code, but we can think a little harder, and make a recursive solution.\n",
    "\n",
    "Recursion allows us to loop back, and use the same function inside itself. Fibonacci is the classic example of recursion:"
   ]
  },
  {
   "cell_type": "code",
   "execution_count": 175,
   "metadata": {},
   "outputs": [],
   "source": [
    "def fib2(x):\n",
    "    if x < 3:\n",
    "        return 1\n",
    "    else:\n",
    "        return fib2(x - 1) + fib2(x - 2)"
   ]
  },
  {
   "cell_type": "code",
   "execution_count": 176,
   "metadata": {},
   "outputs": [
    {
     "name": "stdout",
     "output_type": "stream",
     "text": [
      "28.7 µs ± 1.69 µs per loop (mean ± std. dev. of 7 runs, 10000 loops each)\n"
     ]
    }
   ],
   "source": [
    "%%timeit\n",
    "[fib2(i) for i in range(10)] "
   ]
  },
  {
   "cell_type": "markdown",
   "metadata": {},
   "source": [
    "Cool, but what if we want a few more numbers:"
   ]
  },
  {
   "cell_type": "code",
   "execution_count": null,
   "metadata": {},
   "outputs": [],
   "source": [
    "%timeit [fib1(i) for i in range(30)]"
   ]
  },
  {
   "cell_type": "code",
   "execution_count": null,
   "metadata": {},
   "outputs": [],
   "source": [
    "%timeit [fib2(i) for i in range(30)]"
   ]
  },
  {
   "cell_type": "markdown",
   "metadata": {},
   "source": [
    "Our performace is terrible! With a bit of thinking, we can see that if we call fib2(5), we have to calculate fib2(4) and fib2(3), but fib2(4) calls fib2(3) again, and it multiplies out.\n",
    "\n",
    "One of the key parts of recursive programming is to make sure we do not run the same function on the same value more than once.\n",
    "\n",
    "We can cache the results!"
   ]
  },
  {
   "cell_type": "code",
   "execution_count": 177,
   "metadata": {},
   "outputs": [
    {
     "name": "stdout",
     "output_type": "stream",
     "text": [
      "55\n",
      "{2: 1, 1: 1, 3: 2, 4: 3, 5: 5, 6: 8, 7: 13, 8: 21, 9: 34, 10: 55}\n"
     ]
    }
   ],
   "source": [
    "fib_cache = {}\n",
    "def fib3(x):\n",
    "    if x in fib_cache:\n",
    "        return fib_cache[x]\n",
    "    else:\n",
    "        if x < 3:\n",
    "            fib_cache[x] = 1\n",
    "        else:\n",
    "            fib_cache[x] = fib3(x - 1) + fib3(x - 2)\n",
    "    return fib_cache[x]\n",
    "\n",
    "print(fib3(10))\n",
    "print(fib_cache)       "
   ]
  },
  {
   "cell_type": "markdown",
   "metadata": {},
   "source": [
    "What have we done here? We have a function, which checks if the value already exists in a dictionary. If it is found, we return the value from the dict, otherwise we run the fucntion, and put the results in the dict.\n",
    "\n",
    "Let's time it:"
   ]
  },
  {
   "cell_type": "code",
   "execution_count": 180,
   "metadata": {},
   "outputs": [
    {
     "name": "stdout",
     "output_type": "stream",
     "text": [
      "7.53 µs ± 296 ns per loop (mean ± std. dev. of 7 runs, 100000 loops each)\n"
     ]
    }
   ],
   "source": [
    "%%timeit\n",
    "\n",
    "[fib3(i) for i in range(30)]"
   ]
  },
  {
   "cell_type": "markdown",
   "metadata": {},
   "source": [
    "So, we can see this is super fast but it was a bit of work!\n",
    "\n",
    "Can we generalize this?\n",
    "\n",
    "The answer is yes, we have a way of adding this functionality to arbitrary functions:"
   ]
  },
  {
   "cell_type": "code",
   "execution_count": null,
   "metadata": {},
   "outputs": [],
   "source": [
    "from functools import lru_cache\n",
    "\n",
    "@lru_cache()\n",
    "def fib4(x):\n",
    "    if x < 3:\n",
    "        return 1\n",
    "    else:\n",
    "        return fib4(x - 1) + fib4(x - 2)"
   ]
  },
  {
   "cell_type": "code",
   "execution_count": null,
   "metadata": {},
   "outputs": [],
   "source": [
    "%%timeit \n",
    "[fib4(i) for i in range(100)]"
   ]
  },
  {
   "cell_type": "markdown",
   "metadata": {},
   "source": [
    "What exactly have we done here? And what is that `@` symbol?\n",
    "\n",
    "If a function returns a function, we can use it to modify our own functions. For example:"
   ]
  },
  {
   "cell_type": "code",
   "execution_count": null,
   "metadata": {},
   "outputs": [],
   "source": [
    "def my_decorator(function):\n",
    "    \n",
    "    def my_func(x):\n",
    "        print('running your function now')\n",
    "        output_of_function = function(x)\n",
    "        print('done running')\n",
    "        return output_of_function * output_of_function\n",
    "    \n",
    "    return my_func\n",
    "\n",
    "def my_adder(x):\n",
    "    return x + 1\n",
    "\n",
    "wrapped_function = my_decorator(my_adder)\n",
    "wrapped_function(5)"
   ]
  },
  {
   "cell_type": "markdown",
   "metadata": {},
   "source": [
    "A shortcut for this is to use the decorator notation:"
   ]
  },
  {
   "cell_type": "code",
   "execution_count": null,
   "metadata": {},
   "outputs": [],
   "source": [
    "@my_decorator\n",
    "def my_adder(x):\n",
    "    return x + 1"
   ]
  },
  {
   "cell_type": "code",
   "execution_count": null,
   "metadata": {},
   "outputs": [],
   "source": [
    "my_adder(5)"
   ]
  },
  {
   "cell_type": "markdown",
   "metadata": {},
   "source": [
    "`lru_cache` stands for least recently used. We keep the n most recently used calls (by default 128) in our cache, and return them if found, rather than running the function. This used the same dict implementation as our naive cache.\n",
    "\n",
    "Today we have had a whirlwind tour of some of the more pythonic features of the language. Don't worry too much if you didn't follow everything. Python skills come with pratice, some good resources are: \n",
    "* [Stack Overflow](https://stackoverflow.com/questions/tagged/python), where you can see the most common, or most recent python questions from users around the world. \n",
    "* [Project Euler](https://projecteuler.net/) which is a series of math and programming problems with a focus on smart implementations.\n",
    "* [Rosalind](http://rosalind.info/about/) which is a series of questions based on biology.\n",
    "* [HackerRank](https://www.hackerrank.com/), which is a site used to screen applicants, but has practice question banks.\n",
    "\n",
    "The best resource however is just practice. Work on your project, google around, and always be thinking of whether  there is a better way."
   ]
  },
  {
   "cell_type": "markdown",
   "metadata": {},
   "source": [
    "### Exercises\n",
    "\n",
    "1. Make a new implementation of fibonacci. Can you beat the timing of the examples given above?\n",
    "2. Make an implementation of FizzBuzz (for a given list of numbers, if a number is divisible by 5, print buzz, if divisible by 3 print fizz, if by 3 and 5 print fizzbuzz, otherwise print the number). Make sure you return the correct value. Walk through your version, and a partners version, did you get any good ideas? Can your partner break your function with weird values?\n",
    "3. Work in pairs to create a function to find the prime factors of a given integer (the prime factors of a number are the unique set of prime numbers that multiply to give the number for example, 9 is [3,3], 12 is [2,2,3]). Feel free to use google. Check with neighbors, whose function is faster? How about with larger numbers?\n",
    "4. (Advanced!) Write a function to find the smallest number that is the multiple of a given list of integers. For example, [2,3,4,5,6] is 60. Check against known implementations. Your answer to step 3 might help. Talk to your neighbors, use google and work together."
   ]
  }
 ],
 "metadata": {
  "kernelspec": {
   "display_name": "Python 3",
   "language": "python",
   "name": "python3"
  },
  "language_info": {
   "codemirror_mode": {
    "name": "ipython",
    "version": 3
   },
   "file_extension": ".py",
   "mimetype": "text/x-python",
   "name": "python",
   "nbconvert_exporter": "python",
   "pygments_lexer": "ipython3",
   "version": "3.7.1"
  }
 },
 "nbformat": 4,
 "nbformat_minor": 2
}
