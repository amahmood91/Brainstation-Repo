{
 "cells": [
  {
   "cell_type": "markdown",
   "metadata": {},
   "source": [
    "# Introduction to Bayesian Statistics\n",
    "\n",
    "If you dive deeply into the way people talk about statistics, sooner or later you will find people discussing\n",
    "'Frequentists vs Bayesians'. So far, we have only talked about frequentist statistics - how to carry out hypothesis testing, and calculate P-values. \n",
    "\n",
    "In frequentist statistics, we are saying that there is some ground truth in the thing we are measuring - the mean, sd or different between treatments. As we increase our sample sizes, we gain better estimates into the 'truth' using our techniques that we have covered.\n",
    "\n",
    "Bayesians have a different intepretation of probability - we update our expectations based on the data, and try and form the most reasonable expectation.\n",
    "\n",
    "The following cartoon is an example of frequentist statistics [taken to its extreme](https://xkcd.com/1132/).\n",
    "\n",
    "In general, most people are probably Bayesian by default - if we flip a coin ten times, and get 8 heads, we dont conclude that the coin is biased (though a frequentist would), we have a strong 'prior' that a random coin is not biased, and thus we were just lucky (or unlucky).\n",
    "\n",
    "A major difference is the presence of priors in Bayesian reasoning - in the cartoon, we have an incredibly strong prior that the sun has not exploded, so reject the resoning of the frequentist. In the event that the neutrino detecor was not hooked up to the die roll, and it reported the sun had exploded, we would probably just conclude that the detector is broken, rather than the sun exploding.\n",
    "\n",
    "### Bayes Theorem\n",
    "\n",
    "Let's take an example - We have a test for drug screening police officers on duty for a specific drug. We know that if an officer has been using the drug, 99% of the time, the test will be positive. Similarly, if the officer has not been using the drug, 99% of the time the test will be negative. We know that 0.5% of the police force are using the drug.\n",
    "\n",
    "If we score an officer as positive on the test, what is the chance that the officer has been taking the drug?"
   ]
  },
  {
   "cell_type": "code",
   "execution_count": null,
   "metadata": {},
   "outputs": [],
   "source": [
    "# Show of hands for 99%, 50-99%, 10-50%, less than 10%"
   ]
  },
  {
   "cell_type": "markdown",
   "metadata": {},
   "source": [
    "Bayes rule is notoriously counter-intuitive when posed with problems like this.\n",
    "\n",
    "Let's work through the formula:\n",
    "\n",
    "$$ P(A|B) = \\frac{P(B|A)P(A)}{P(B)} $$\n",
    "\n",
    "In this case, $P(A|B)$ denotes the probability of being a user (A), given a positive test (B).\n",
    "\n",
    "$P(B|A)$ is the probability of a positive test, given a that the subject is a user, $P(A)$ is the probability of being a user.\n",
    "\n",
    "$P(B)$ is the probability of a positive test - In our case, it is the probability of a user scoring a positive, multiplied by the probability of being a user, plus the probability of a positive test for a non-user, multiplied by the probability of not being a user.\n",
    "\n",
    "Let's do the math:"
   ]
  },
  {
   "cell_type": "code",
   "execution_count": 3,
   "metadata": {},
   "outputs": [
    {
     "name": "stdout",
     "output_type": "stream",
     "text": [
      "0.33221476510067094\n"
     ]
    }
   ],
   "source": [
    "p_user = 0.005\n",
    "p_nonuser = 1 - p_user\n",
    "p_user_pos = 0.99\n",
    "p_nonuser_pos = 1 - 0.99\n",
    "\n",
    "prob = (p_user_pos * p_user)/(p_user_pos * p_user + p_nonuser_pos * p_nonuser)\n",
    "\n",
    "print(prob)"
   ]
  },
  {
   "cell_type": "markdown",
   "metadata": {},
   "source": [
    "So, this is a problem! If we had simply done the test and told people that they were 99% liklely to have taken the drug, we would be completely wrong.\n",
    "\n",
    "What we have done, is used a prior (in this case the p(user)) to make sure that we are sensible about interpreting our test. We know that drug use in rare in our population, so the majority of positive tests come from false positives.\n",
    "\n",
    "Sensitivity and Specificity are the terms commonly used in medical diagnosis - in the above example our sensitivity is the probability that we detect a true drug user (0.99), and the specificity is the probability of correctly identifying a non-user (also 0.99 in our example, but not necessarily even). The  rarity of a disease will often cause false positives - you can imagine even if we have a test for a disease which is 99% for both specificity and sensitivity if the disease is rare, the majority of positives will be errors.\n",
    "\n",
    "\n",
    "### Exercise\n",
    "\n",
    "When the details of the NSAs surveillance programs were leaked a few years back, the criticisms mainly came from civil  liberties - the government shouldn't be spying on citizens.\n",
    "\n",
    "Let's take a different approach, and see if it would even work, if we accepted the premise that the surveillance is necessary.\n",
    "\n",
    "Let's set the proportion of terrorists at 1/1,000,000 of the population - this is our prior. Whether or not this is reasonable, it seems at around the correct kind of size. This is often the strongest reasoning we will have to give for a prior!\n",
    "\n",
    "We have a team of NSA data scientists create a model on the data, which has a 95% chance of detecting a terrorist (sensitivity), and 0.2% chance of a false positive: saying someone is a terrorist, when they are not. \n",
    "\n",
    "1. What is the probability that someone identified as a terrorist by the NSA is a real terrorist?\n",
    "2. Is this a useful model? How many false positives do we expect?\n",
    "3. What recommendations do you have for the modeller - should they focus on false positives, faslse negatives, or give up?"
   ]
  },
  {
   "cell_type": "code",
   "execution_count": 5,
   "metadata": {},
   "outputs": [
    {
     "name": "stdout",
     "output_type": "stream",
     "text": [
      "0.00047477495667053816\n"
     ]
    }
   ],
   "source": [
    "p_terrorist = 1/1000000\n",
    "p_identified_terrorist = 0.95\n",
    "p_identified = 0.002*(999999/1000000) + 0.95*(1/1000000)\n",
    "\n",
    "p_terrorist_identified = p_identified_terrorist*p_terrorist / p_identified\n",
    "\n",
    "print(p_terrorist_identified)"
   ]
  },
  {
   "cell_type": "markdown",
   "metadata": {},
   "source": [
    "### Naive Bayes Classification\n",
    "\n",
    "Naive Bayes is a set of algorithms for classifying data based on *features*. In the simplest case, given a set of data, we can decide which class it belongs to based on its attributes. you can imagine the model looking at mammals vs birds, and finding that the $P(bird|wings)$ is high, with some $(mammal|wings)$ from bats. It will carry out the probability for each independant variable we give, and then find the most likely class.\n",
    "\n",
    "The Naive Bayes classifier determines what *class* a given set of data belongs to, given previous data it has trained the model on.  Suppose we have many classes $C_1,C_2,\\ldots,C_n$, and we represent the set of data to be classified as $\\textbf{x} =  [x_1, x_2, \\cdots , x_k]$.  The probability that the given data $\\textbf{x}$ belongs to class $C_i$ is given by\n",
    "\n",
    "$$ P(C_i\\,|\\,\\textbf{x}) = \\frac{P(C_i)P(\\textbf{x}\\,|\\,C_i)}{P(\\textbf{x})}$$\n",
    "\n",
    "We will carry out a few simple examples - Naive Bayes is often classified as a machine learning method, which we will be talking about in a couple weeks time.\n",
    "\n",
    "You can read the documentation here:\n",
    "http://scikit-learn.org/stable/modules/naive_bayes.html\n",
    "\n",
    "Let's use an example dataset, to cluster fruits versus vegetables:\n",
    "\n",
    "\n",
    "\n"
   ]
  },
  {
   "cell_type": "code",
   "execution_count": 1,
   "metadata": {},
   "outputs": [
    {
     "data": {
      "text/html": [
       "<div>\n",
       "<style scoped>\n",
       "    .dataframe tbody tr th:only-of-type {\n",
       "        vertical-align: middle;\n",
       "    }\n",
       "\n",
       "    .dataframe tbody tr th {\n",
       "        vertical-align: top;\n",
       "    }\n",
       "\n",
       "    .dataframe thead th {\n",
       "        text-align: right;\n",
       "    }\n",
       "</style>\n",
       "<table border=\"1\" class=\"dataframe\">\n",
       "  <thead>\n",
       "    <tr style=\"text-align: right;\">\n",
       "      <th></th>\n",
       "      <th>Used in salads</th>\n",
       "      <th>Grows Underground</th>\n",
       "      <th>Served cooked</th>\n",
       "      <th>Needs Peeling</th>\n",
       "      <th>Fruit</th>\n",
       "    </tr>\n",
       "  </thead>\n",
       "  <tbody>\n",
       "    <tr>\n",
       "      <th>0</th>\n",
       "      <td>0</td>\n",
       "      <td>0</td>\n",
       "      <td>0</td>\n",
       "      <td>0</td>\n",
       "      <td>1</td>\n",
       "    </tr>\n",
       "    <tr>\n",
       "      <th>1</th>\n",
       "      <td>1</td>\n",
       "      <td>0</td>\n",
       "      <td>1</td>\n",
       "      <td>0</td>\n",
       "      <td>1</td>\n",
       "    </tr>\n",
       "    <tr>\n",
       "      <th>2</th>\n",
       "      <td>0</td>\n",
       "      <td>1</td>\n",
       "      <td>1</td>\n",
       "      <td>1</td>\n",
       "      <td>0</td>\n",
       "    </tr>\n",
       "    <tr>\n",
       "      <th>3</th>\n",
       "      <td>1</td>\n",
       "      <td>1</td>\n",
       "      <td>0</td>\n",
       "      <td>1</td>\n",
       "      <td>0</td>\n",
       "    </tr>\n",
       "    <tr>\n",
       "      <th>4</th>\n",
       "      <td>0</td>\n",
       "      <td>0</td>\n",
       "      <td>0</td>\n",
       "      <td>1</td>\n",
       "      <td>1</td>\n",
       "    </tr>\n",
       "    <tr>\n",
       "      <th>5</th>\n",
       "      <td>0</td>\n",
       "      <td>1</td>\n",
       "      <td>1</td>\n",
       "      <td>1</td>\n",
       "      <td>0</td>\n",
       "    </tr>\n",
       "  </tbody>\n",
       "</table>\n",
       "</div>"
      ],
      "text/plain": [
       "   Used in salads  Grows Underground  Served cooked  Needs Peeling  Fruit\n",
       "0               0                  0              0              0      1\n",
       "1               1                  0              1              0      1\n",
       "2               0                  1              1              1      0\n",
       "3               1                  1              0              1      0\n",
       "4               0                  0              0              1      1\n",
       "5               0                  1              1              1      0"
      ]
     },
     "execution_count": 1,
     "metadata": {},
     "output_type": "execute_result"
    }
   ],
   "source": [
    "import pandas as pd\n",
    "import numpy as np\n",
    "# data:\n",
    "columns = ['Used in salads', 'Grows Underground', 'Served cooked', 'Needs Peeling', 'Fruit']\n",
    "\n",
    "apple = [0,0,0,0,1]\n",
    "tomato = [1,0,1,0,1]\n",
    "potato = [0,1,1,1,0]\n",
    "carrot = [1,1,0,1,0]\n",
    "banana = [0,0,0,1,1]\n",
    "turnip = [0,1,1,1,0]\n",
    "\n",
    "data = pd.DataFrame([apple, tomato, potato, carrot, banana, turnip], columns = columns)\n",
    "\n",
    "data"
   ]
  },
  {
   "cell_type": "markdown",
   "metadata": {},
   "source": [
    "from here, we will use the classifier to figure out the probabilities - under the hood, here is effectively what is happening:"
   ]
  },
  {
   "cell_type": "code",
   "execution_count": 2,
   "metadata": {},
   "outputs": [
    {
     "name": "stdout",
     "output_type": "stream",
     "text": [
      "{0: array([1, 3, 2, 3]), 1: array([1, 0, 1, 1])}\n"
     ]
    }
   ],
   "source": [
    "x = data.iloc[:,:-1].values\n",
    "y = data.iloc[:,-1].values\n",
    "\n",
    "counts = {}\n",
    "for label in np.unique(y):\n",
    "    counts[label] = x[y == label].sum(axis = 0)\n",
    "print(counts)"
   ]
  },
  {
   "cell_type": "markdown",
   "metadata": {},
   "source": [
    "The classifier then compares the frequency of each feature of x to each label in y, and calculates a probability that a new item with that attribute belongs to the class.\n",
    "\n",
    "We use BernoulliNB here, as we have all 1/0 data - GaussianNB stores mean and sd of each value for a continuous var, and Mulitnomial allows multiple categorical values. When we see new data, we use the rule to classify it into the new bin:"
   ]
  },
  {
   "cell_type": "code",
   "execution_count": 3,
   "metadata": {},
   "outputs": [
    {
     "name": "stdout",
     "output_type": "stream",
     "text": [
      "[[0.25 0.75]]\n",
      "[1]\n"
     ]
    },
    {
     "data": {
      "text/plain": [
       "array([[1., 3., 2., 3.],\n",
       "       [1., 0., 1., 1.]])"
      ]
     },
     "execution_count": 3,
     "metadata": {},
     "output_type": "execute_result"
    }
   ],
   "source": [
    "from sklearn.naive_bayes import GaussianNB, MultinomialNB, BernoulliNB\n",
    "\n",
    "nbmodel = BernoulliNB()\n",
    "nbmodel.fit(x,y)\n",
    "\n",
    "print(nbmodel.predict_proba(np.array([1,0,0,1]).reshape(1, -1))) #a pineapple, probability\n",
    "print(nbmodel.predict(np.array([1,0,0,1]).reshape(1, -1))) #just predict\n",
    "\n",
    "nbmodel.feature_count_"
   ]
  },
  {
   "cell_type": "markdown",
   "metadata": {},
   "source": [
    "### Exercise\n",
    "\n",
    "Create and fit a Gaussian Naive Bayes for the following data. Leave the animal names out of the model matrix.\n",
    "\n",
    "| bird        | Animal  Name         | size(cm)  |  wings  | eggs | aquatic |\n",
    "| ------------- |:-------------:| -----| --- | --- | --- |\n",
    "| 0      | bat | 10 |1  | 0 | 0 |\n",
    "| 0      | rat | 10 |0  | 0 | 0 |\n",
    "| 0 | flying lizard |5  | 1 | 1 | 0|\n",
    "| 1 | penguin |20  | 1 | 1 | 1|\n",
    "| 1 | robin | 10 | 1| 1| 0|\n",
    "| 1 | pigeon | 15 | 1| 1| 0|\n",
    "| 1 | emu | 150 | 1| 1| 0|\n",
    "| 0 | fish | 20 | 0 | 1 | 1 |\n",
    "| 0 | wasp | 1 | 1 | 1 |  0 |\n",
    "| 0 | frog | 5 | 0 | 0 | 1|\n",
    "| 1 | duck | 20 | 1 | 1 | 1|\n",
    "| 1 | heron |50 | 1 | 1 | 1|\n",
    "| 0 | pterodactyl  | 200 | 1 | 1| 0|\n",
    "\n",
    "Predict some more animals:\n",
    "\n",
    "\n",
    "* Otter\n",
    "* Flying squirrel\n",
    "* Dog\n",
    "* Swan\n",
    "* Ostrich\n",
    "* Crocodile\n",
    "\n"
   ]
  },
  {
   "cell_type": "code",
   "execution_count": 24,
   "metadata": {
    "scrolled": true
   },
   "outputs": [
    {
     "data": {
      "text/html": [
       "<div>\n",
       "<style scoped>\n",
       "    .dataframe tbody tr th:only-of-type {\n",
       "        vertical-align: middle;\n",
       "    }\n",
       "\n",
       "    .dataframe tbody tr th {\n",
       "        vertical-align: top;\n",
       "    }\n",
       "\n",
       "    .dataframe thead th {\n",
       "        text-align: right;\n",
       "    }\n",
       "</style>\n",
       "<table border=\"1\" class=\"dataframe\">\n",
       "  <thead>\n",
       "    <tr style=\"text-align: right;\">\n",
       "      <th></th>\n",
       "      <th>size</th>\n",
       "      <th>flies</th>\n",
       "      <th>eggs</th>\n",
       "      <th>aquatic</th>\n",
       "      <th>is_bird</th>\n",
       "    </tr>\n",
       "  </thead>\n",
       "  <tbody>\n",
       "    <tr>\n",
       "      <th>0</th>\n",
       "      <td>10</td>\n",
       "      <td>1</td>\n",
       "      <td>0</td>\n",
       "      <td>0</td>\n",
       "      <td>0</td>\n",
       "    </tr>\n",
       "    <tr>\n",
       "      <th>1</th>\n",
       "      <td>10</td>\n",
       "      <td>0</td>\n",
       "      <td>0</td>\n",
       "      <td>0</td>\n",
       "      <td>0</td>\n",
       "    </tr>\n",
       "    <tr>\n",
       "      <th>2</th>\n",
       "      <td>5</td>\n",
       "      <td>1</td>\n",
       "      <td>1</td>\n",
       "      <td>0</td>\n",
       "      <td>1</td>\n",
       "    </tr>\n",
       "    <tr>\n",
       "      <th>3</th>\n",
       "      <td>20</td>\n",
       "      <td>0</td>\n",
       "      <td>1</td>\n",
       "      <td>1</td>\n",
       "      <td>1</td>\n",
       "    </tr>\n",
       "    <tr>\n",
       "      <th>4</th>\n",
       "      <td>10</td>\n",
       "      <td>1</td>\n",
       "      <td>1</td>\n",
       "      <td>0</td>\n",
       "      <td>1</td>\n",
       "    </tr>\n",
       "    <tr>\n",
       "      <th>5</th>\n",
       "      <td>15</td>\n",
       "      <td>1</td>\n",
       "      <td>1</td>\n",
       "      <td>0</td>\n",
       "      <td>1</td>\n",
       "    </tr>\n",
       "    <tr>\n",
       "      <th>6</th>\n",
       "      <td>150</td>\n",
       "      <td>0</td>\n",
       "      <td>1</td>\n",
       "      <td>0</td>\n",
       "      <td>1</td>\n",
       "    </tr>\n",
       "    <tr>\n",
       "      <th>7</th>\n",
       "      <td>20</td>\n",
       "      <td>0</td>\n",
       "      <td>1</td>\n",
       "      <td>1</td>\n",
       "      <td>0</td>\n",
       "    </tr>\n",
       "    <tr>\n",
       "      <th>8</th>\n",
       "      <td>1</td>\n",
       "      <td>1</td>\n",
       "      <td>1</td>\n",
       "      <td>0</td>\n",
       "      <td>0</td>\n",
       "    </tr>\n",
       "    <tr>\n",
       "      <th>9</th>\n",
       "      <td>5</td>\n",
       "      <td>0</td>\n",
       "      <td>0</td>\n",
       "      <td>1</td>\n",
       "      <td>0</td>\n",
       "    </tr>\n",
       "    <tr>\n",
       "      <th>10</th>\n",
       "      <td>20</td>\n",
       "      <td>1</td>\n",
       "      <td>1</td>\n",
       "      <td>1</td>\n",
       "      <td>1</td>\n",
       "    </tr>\n",
       "    <tr>\n",
       "      <th>11</th>\n",
       "      <td>50</td>\n",
       "      <td>1</td>\n",
       "      <td>1</td>\n",
       "      <td>1</td>\n",
       "      <td>1</td>\n",
       "    </tr>\n",
       "    <tr>\n",
       "      <th>12</th>\n",
       "      <td>200</td>\n",
       "      <td>1</td>\n",
       "      <td>1</td>\n",
       "      <td>0</td>\n",
       "      <td>0</td>\n",
       "    </tr>\n",
       "  </tbody>\n",
       "</table>\n",
       "</div>"
      ],
      "text/plain": [
       "    size  flies  eggs  aquatic  is_bird\n",
       "0     10      1     0        0        0\n",
       "1     10      0     0        0        0\n",
       "2      5      1     1        0        1\n",
       "3     20      0     1        1        1\n",
       "4     10      1     1        0        1\n",
       "5     15      1     1        0        1\n",
       "6    150      0     1        0        1\n",
       "7     20      0     1        1        0\n",
       "8      1      1     1        0        0\n",
       "9      5      0     0        1        0\n",
       "10    20      1     1        1        1\n",
       "11    50      1     1        1        1\n",
       "12   200      1     1        0        0"
      ]
     },
     "execution_count": 24,
     "metadata": {},
     "output_type": "execute_result"
    }
   ],
   "source": [
    "columns = ['size','flies','eggs','aquatic','is_bird']\n",
    "\n",
    "bat = [10,1,0,0,0]\n",
    "rat = [10,0,0,0,0]\n",
    "flying_lizard = [5,1,1,0,1]\n",
    "penguin = [20,0,1,1,1]\n",
    "robin = [10,1,1,0,1]\n",
    "pigeon = [15,1,1,0,1]\n",
    "emu = [150,0,1,0,1]\n",
    "fish = [20,0,1,1,0]\n",
    "wasp = [1,1,1,0,0]\n",
    "frog = [5,0,0,1,0]\n",
    "duck = [20,1,1,1,1]\n",
    "heron = [50,1,1,1,1]\n",
    "pterodactyl = [200,1,1,0,0]\n",
    "\n",
    "df = pd.DataFrame([bat,rat,flying_lizard,penguin,robin,pigeon,emu,fish,wasp,frog,duck,heron,pterodactyl], columns = columns)\n",
    "\n",
    "df"
   ]
  },
  {
   "cell_type": "code",
   "execution_count": 25,
   "metadata": {},
   "outputs": [
    {
     "data": {
      "text/plain": [
       "array([[41.        ,  0.5       ,  0.5       ,  0.33333333],\n",
       "       [38.57142857,  0.71428571,  1.        ,  0.42857143]])"
      ]
     },
     "execution_count": 25,
     "metadata": {},
     "output_type": "execute_result"
    }
   ],
   "source": [
    "# define x & y\n",
    "x = df.iloc[:,:-1].values\n",
    "y = df.iloc[:,-1].values\n",
    "\n",
    "# fit model\n",
    "nbmodel = GaussianNB()\n",
    "nbmodel.fit(x,y)\n",
    "\n",
    "nbmodel.theta_"
   ]
  },
  {
   "cell_type": "code",
   "execution_count": 26,
   "metadata": {},
   "outputs": [
    {
     "name": "stdout",
     "output_type": "stream",
     "text": [
      "[[1.    0.   ]\n",
      " [1.    0.   ]\n",
      " [1.    0.   ]\n",
      " [0.001 0.999]\n",
      " [0.014 0.986]\n",
      " [0.009 0.991]]\n"
     ]
    }
   ],
   "source": [
    "# size, flies, eggs, aquatic\n",
    "\n",
    "otter = [30, 0, 0, 1]\n",
    "flying_squirrel = [10, 1, 0, 0]\n",
    "dog = [50, 0, 0, 0]\n",
    "swan = [40, 1, 1, 1]\n",
    "ostrich = [150, 0, 1, 0]\n",
    "crocodile = [150, 0, 1, 1]\n",
    "\n",
    "animal_list = [otter, flying_squirrel, dog, swan, ostrich, crocodile]\n",
    "\n",
    "print( np.round(nbmodel.predict_proba(animal_list),3) )\n"
   ]
  },
  {
   "cell_type": "markdown",
   "metadata": {},
   "source": [
    "### More Advanced Bayesian Statistics\n",
    "\n",
    "Once we get more complicated, we have a range of options in Bayesian statistics - most of the models we have used so far can occur in Bayesian versions.\n",
    "\n",
    "Let's take a look at how we might determine if a coin was biased, using a Bayesian framework.\n",
    "\n",
    "We know that a coin is expected to be 50:50 heads to tails: we have previously treated it as a random sample of a 1 or 0. Now we have seen the Bernoulli distribution, we can treat it as a Bernoulli sample:"
   ]
  },
  {
   "cell_type": "code",
   "execution_count": 46,
   "metadata": {},
   "outputs": [
    {
     "data": {
      "text/plain": [
       "array([1, 1, 0, 1, 0, 0, 0, 1, 0, 1])"
      ]
     },
     "execution_count": 46,
     "metadata": {},
     "output_type": "execute_result"
    }
   ],
   "source": [
    "from scipy import stats\n",
    "\n",
    "stats.bernoulli.rvs(0.5, size=10)"
   ]
  },
  {
   "cell_type": "markdown",
   "metadata": {},
   "source": [
    "Let's imagine I have a coin, and you have no prior about how it will behave. In this case, you have an uniform prior along the axis 0 to 1 for the proportion of coin tosses that will be heads.\n",
    "\n",
    "We have a way of figuring out what type of distribution our prior can be based on some math, that is a bit advanced for this bootcamp (and a lot of statisticians). For now, let's just say, in the simple case that our sample is generated by a known distribution, we can find a distribution that we expect it the results of our sampling to look like. When we get more complicated is when we need to use software package to handle the math. PyMC3 is what we would normally use for Bayesian inference when needed in Python. Stan is a nice R package with similar functionality.\n",
    "\n",
    "In the case of the Bernoulli Distribution, our 'conjugate' prior is the beta distribution, with it's two parameters as 1."
   ]
  },
  {
   "cell_type": "code",
   "execution_count": 48,
   "metadata": {},
   "outputs": [
    {
     "data": {
      "image/png": "[encoded data removed]",
      "text/plain": [
       "<Figure size 432x288 with 1 Axes>"
      ]
     },
     "metadata": {
      "needs_background": "light"
     },
     "output_type": "display_data"
    }
   ],
   "source": [
    "import matplotlib.pyplot as graph\n",
    "\n",
    "prior = stats.beta  # prior distribution\n",
    "rangetoplot = np.linspace(0, 1, 100)  # 0 to 1\n",
    "\n",
    "graph.plot(rangetoplot, prior.pdf(rangetoplot, 1, 1))\n",
    "graph.show()"
   ]
  },
  {
   "cell_type": "markdown",
   "metadata": {},
   "source": [
    "Now we can update our prior, based on observed data. Again, let's not worry about the math so much as the idea that we can update our prior probability into a posterior, by seeing the oberved values:"
   ]
  },
  {
   "cell_type": "code",
   "execution_count": 73,
   "metadata": {},
   "outputs": [
    {
     "name": "stdout",
     "output_type": "stream",
     "text": [
      "4\n",
      "[1 0 1 0 0 0 1 0 0 1]\n"
     ]
    },
    {
     "data": {
      "image/png": "[encoded data removed]",
      "text/plain": [
       "<Figure size 432x288 with 1 Axes>"
      ]
     },
     "metadata": {
      "needs_background": "light"
     },
     "output_type": "display_data"
    },
    {
     "name": "stdout",
     "output_type": "stream",
     "text": [
      "1\n"
     ]
    }
   ],
   "source": [
    "n = 10 # number of samples\n",
    "\n",
    "# data = stats.bernoulli.rvs(0.5, size=n) # samples\n",
    "# heads = data.sum()\n",
    "# y = prior(1 + heads, 1 + n - heads).pdf(rangetoplot)\n",
    "# print(data)\n",
    "\n",
    "data2 = stats.bernoulli.rvs(0.5, size=n)\n",
    "successes = data2.sum()\n",
    "print(successes)\n",
    "z = prior(2 + successes, 9 + n - successes).pdf(rangetoplot)\n",
    "print(data2)\n",
    "\n",
    "graph.plot(rangetoplot, z, label=f'observed {n} tosses,\\n {heads} heads')\n",
    "graph.show()\n",
    "print(heads)"
   ]
  },
  {
   "cell_type": "markdown",
   "metadata": {},
   "source": [
    "this is now our posterior distribution - this is how likely we think we are to get heads coming forwards. Note it is technically not an estimate of the value, but of our belief in the value.\n",
    "\n",
    "### Exercise\n",
    "\n",
    "1. What happens as we increase N? run N for `[1,5,10,15,50,200]`\n"
   ]
  },
  {
   "cell_type": "markdown",
   "metadata": {},
   "source": [
    "### Extension, Optional - Bayesian inference with PyMC3\n",
    "\n",
    "PyMC3 is the current state of art in Bayesian inference in python. Once we have more complicated models (you can imagine if we had something similar to the linear regressions we have run in the last week), the math becomes even more intractable.\n",
    "\n",
    "PyMC3 relies on us to tell it the expected priors and distributions of individual parameters, and then uses advanced math and sampling to calculate our priors by simulation. You can imagine it as simulating the data via our distributions, and then inferring the posterior from them. The key here is creating the model - priors and parameters rely on how they are specified. The great part of PyMC3 is that as long as you have an idea of your model, you don't need the math to calculate anything!\n",
    "\n",
    "A great resource on PyMC3 is the textbook ['Probabilistic Programming and Bayesian Methods for Hackers'](http://nbviewer.jupyter.org/github/CamDavidsonPilon/Probabilistic-Programming-and-Bayesian-Methods-for-Hackers/tree/master/), which this example is modified from.\n",
    "\n",
    "Let's write our coin example in PyMC3:"
   ]
  },
  {
   "cell_type": "code",
   "execution_count": null,
   "metadata": {},
   "outputs": [],
   "source": [
    "import pymc3 as pm\n",
    "import scipy.stats as stats\n",
    "\n",
    "n = 100\n",
    "\n",
    "data = stats.bernoulli.rvs(0.5, size=n) # samples\n",
    "heads = data.sum()\n",
    "\n",
    "# priors of the distribution\n",
    "alpha = 1 # prior of alpha\n",
    "beta = 1 # prior of beta\n",
    "\n",
    "n_samples = 1000  # number of times to simulate our data\n",
    "\n",
    "with pm.Model() as model:  # context management\n",
    "    # Priors\n",
    "    prior = pm.Beta('p', alpha=alpha, beta=beta)\n",
    "\n",
    "    # Likelihood\n",
    "    y = pm.Binomial('y', n=n, p=prior, observed=heads)\n",
    "\n",
    "    # Sample posterior\n",
    "    trace = pm.sample(n_samples)\n",
    "    \n",
    "    pm.traceplot(trace)\n",
    "    graph.show()"
   ]
  },
  {
   "cell_type": "markdown",
   "metadata": {},
   "source": [
    "In the backend, this is comping the core math to C and running it, so it may take a while to run!\n",
    "\n",
    "We can plot our outcome:"
   ]
  },
  {
   "cell_type": "code",
   "execution_count": null,
   "metadata": {},
   "outputs": [],
   "source": [
    "x = np.linspace(0, 1, 100)\n",
    "\n",
    "graph.hist(trace['p'], 15, histtype='step', normed=True, label='post')\n",
    "graph.plot(x, stats.beta.pdf(x, alpha, beta), label='prior')\n",
    "graph.legend(loc='best')\n",
    "graph.show()\n",
    "\n",
    "# Or far more conveniently\n",
    "pm.plot_posterior(trace)\n",
    "graph.show()"
   ]
  },
  {
   "cell_type": "markdown",
   "metadata": {},
   "source": [
    "### Exercises\n",
    "\n",
    "1. Try changing the parameters of the prior - how does this change the posterior?\n",
    "2. Try changing N (not too large!) - how does this change the posterior?\n",
    "3. Try chaning the coin to be biased - do we get a better or worse posterior in the same number of samples?"
   ]
  }
 ],
 "metadata": {
  "kernelspec": {
   "display_name": "Python 3",
   "language": "python",
   "name": "python3"
  },
  "language_info": {
   "codemirror_mode": {
    "name": "ipython",
    "version": 3
   },
   "file_extension": ".py",
   "mimetype": "text/x-python",
   "name": "python",
   "nbconvert_exporter": "python",
   "pygments_lexer": "ipython3",
   "version": "3.7.1"
  }
 },
 "nbformat": 4,
 "nbformat_minor": 2
}
