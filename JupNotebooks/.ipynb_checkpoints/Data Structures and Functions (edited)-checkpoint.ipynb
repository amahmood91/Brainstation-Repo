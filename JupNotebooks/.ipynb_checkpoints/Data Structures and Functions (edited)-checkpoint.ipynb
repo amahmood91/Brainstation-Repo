{
 "cells": [
  {
   "cell_type": "markdown",
   "metadata": {},
   "source": [
    "### Python Data Structures, Functions and Flow\n",
    "\n",
    "In the Introduction to Python lecture we covered a wide range of Python, at certain places we skipped over the specific details of what was going on. Today we will reinforce the topics from the last lecture and continue to gain a deeper understanding of Python programming.\n",
    "\n",
    "### Data Types\n",
    "\n",
    "'Base' Python has a variety of 'atomic' data types, and as we saw, it treats them differently.\n",
    "\n",
    "If you have ever used Python 2, you have probably learned the difference between a float and an int the hard way ( Python the hard way is a good, albeit controversial python resource https://learnpythonthehardway.org/):"
   ]
  },
  {
   "cell_type": "code",
   "execution_count": 1,
   "metadata": {},
   "outputs": [
    {
     "data": {
      "text/plain": [
       "0"
      ]
     },
     "execution_count": 1,
     "metadata": {},
     "output_type": "execute_result"
    }
   ],
   "source": [
    "#integer division\n",
    "#in python 2, this is the behaviour of the standard /\n",
    "2//3"
   ]
  },
  {
   "cell_type": "markdown",
   "metadata": {},
   "source": [
    "We have three major types of numbers. \n",
    "\n",
    "1) Complex, which contains `i`, the square root of -1. We call it j in Python for various reasons. We probably won't touch complex numbers again:"
   ]
  },
  {
   "cell_type": "code",
   "execution_count": 2,
   "metadata": {},
   "outputs": [
    {
     "data": {
      "text/plain": [
       "(1+2j)"
      ]
     },
     "execution_count": 2,
     "metadata": {},
     "output_type": "execute_result"
    }
   ],
   "source": [
    "complex(1, 2)"
   ]
  },
  {
   "cell_type": "markdown",
   "metadata": {},
   "source": [
    "2) Integers, which have abritrary precision in python 3:"
   ]
  },
  {
   "cell_type": "code",
   "execution_count": 3,
   "metadata": {},
   "outputs": [
    {
     "data": {
      "text/plain": [
       "12345678999935345235345345344534234353958712981249879235829352335987"
      ]
     },
     "execution_count": 3,
     "metadata": {},
     "output_type": "execute_result"
    }
   ],
   "source": [
    "12345678999935345235345345344534234353958712981249879235829352335987"
   ]
  },
  {
   "cell_type": "markdown",
   "metadata": {},
   "source": [
    "3) Floats, which work the same as the floats in SQL:"
   ]
  },
  {
   "cell_type": "code",
   "execution_count": 4,
   "metadata": {},
   "outputs": [
    {
     "data": {
      "text/plain": [
       "123.456"
      ]
     },
     "execution_count": 4,
     "metadata": {},
     "output_type": "execute_result"
    }
   ],
   "source": [
    "123.456"
   ]
  },
  {
   "cell_type": "markdown",
   "metadata": {},
   "source": [
    "Between these types, we can carry out basic math, which will mostly follow what we expect:"
   ]
  },
  {
   "cell_type": "code",
   "execution_count": 5,
   "metadata": {},
   "outputs": [
    {
     "data": {
      "text/plain": [
       "11.25"
      ]
     },
     "execution_count": 5,
     "metadata": {},
     "output_type": "execute_result"
    }
   ],
   "source": [
    "9 * 1.25"
   ]
  },
  {
   "cell_type": "code",
   "execution_count": 6,
   "metadata": {},
   "outputs": [
    {
     "name": "stdout",
     "output_type": "stream",
     "text": [
      "3\n",
      "4\n",
      "5.5\n",
      "6.5\n"
     ]
    }
   ],
   "source": [
    "for i in [1,2,3.5,4.5]:\n",
    "    print(i + 2)"
   ]
  },
  {
   "cell_type": "markdown",
   "metadata": {},
   "source": [
    "We do have floating point issues in some cases:\n"
   ]
  },
  {
   "cell_type": "code",
   "execution_count": 7,
   "metadata": {},
   "outputs": [
    {
     "data": {
      "text/plain": [
       "-0.19999999999999998"
      ]
     },
     "execution_count": 7,
     "metadata": {},
     "output_type": "execute_result"
    }
   ],
   "source": [
    "-0.1 + 0.2 -0.3"
   ]
  },
  {
   "cell_type": "markdown",
   "metadata": {},
   "source": [
    "### Booleans\n",
    "\n",
    "Booleans, True and False, are represented, as we have seen. They are treated as numeric 1/0 values during math:"
   ]
  },
  {
   "cell_type": "code",
   "execution_count": 8,
   "metadata": {},
   "outputs": [
    {
     "data": {
      "text/plain": [
       "6"
      ]
     },
     "execution_count": 8,
     "metadata": {},
     "output_type": "execute_result"
    }
   ],
   "source": [
    "True + 5"
   ]
  },
  {
   "cell_type": "code",
   "execution_count": 9,
   "metadata": {},
   "outputs": [
    {
     "data": {
      "text/plain": [
       "5"
      ]
     },
     "execution_count": 9,
     "metadata": {},
     "output_type": "execute_result"
    }
   ],
   "source": [
    "False + 5"
   ]
  },
  {
   "cell_type": "markdown",
   "metadata": {},
   "source": [
    "We can chain them using `and` `or` and `not`:"
   ]
  },
  {
   "cell_type": "code",
   "execution_count": 10,
   "metadata": {},
   "outputs": [
    {
     "data": {
      "text/plain": [
       "False"
      ]
     },
     "execution_count": 10,
     "metadata": {},
     "output_type": "execute_result"
    }
   ],
   "source": [
    "True and True\n",
    "True or False\n",
    "not True"
   ]
  },
  {
   "cell_type": "markdown",
   "metadata": {},
   "source": [
    "We have the standard &, |, and ^ which work fine on booleans:"
   ]
  },
  {
   "cell_type": "code",
   "execution_count": 11,
   "metadata": {},
   "outputs": [
    {
     "name": "stdout",
     "output_type": "stream",
     "text": [
      "True\n",
      "True\n",
      "True\n"
     ]
    }
   ],
   "source": [
    "print(True & True)\n",
    "print(True | False)\n",
    "print(True^False)"
   ]
  },
  {
   "cell_type": "markdown",
   "metadata": {},
   "source": [
    "However, these are bitwise operators, which do not work as expected on some things:"
   ]
  },
  {
   "cell_type": "code",
   "execution_count": 12,
   "metadata": {},
   "outputs": [
    {
     "data": {
      "text/plain": [
       "5"
      ]
     },
     "execution_count": 12,
     "metadata": {},
     "output_type": "execute_result"
    }
   ],
   "source": [
    "12 ^ 9 # exponentiation is **"
   ]
  },
  {
   "cell_type": "markdown",
   "metadata": {},
   "source": [
    "We also have the value `None` which denotes a missing piece of data:"
   ]
  },
  {
   "cell_type": "code",
   "execution_count": 13,
   "metadata": {},
   "outputs": [],
   "source": [
    "None"
   ]
  },
  {
   "cell_type": "markdown",
   "metadata": {},
   "source": [
    "### Strings\n",
    "\n",
    "We have seen some strings and string operations already:"
   ]
  },
  {
   "cell_type": "code",
   "execution_count": 14,
   "metadata": {},
   "outputs": [
    {
     "name": "stdout",
     "output_type": "stream",
     "text": [
      "abcdefghijabcdefghij\n",
      "abcdefghijabcdefghijabcdefghij\n",
      "ab\n"
     ]
    },
    {
     "ename": "TypeError",
     "evalue": "unsupported operand type(s) for /: 'str' and 'int'",
     "output_type": "error",
     "traceback": [
      "\u001b[0;31m---------------------------------------------------------------------------\u001b[0m",
      "\u001b[0;31mTypeError\u001b[0m                                 Traceback (most recent call last)",
      "\u001b[0;32m<ipython-input-14-c9c9a9a3879d>\u001b[0m in \u001b[0;36m<module>\u001b[0;34m\u001b[0m\n\u001b[1;32m      4\u001b[0m \u001b[0mprint\u001b[0m\u001b[0;34m(\u001b[0m\u001b[0mmystr\u001b[0m\u001b[0;34m*\u001b[0m\u001b[0;36m3\u001b[0m\u001b[0;34m)\u001b[0m\u001b[0;34m\u001b[0m\u001b[0;34m\u001b[0m\u001b[0m\n\u001b[1;32m      5\u001b[0m \u001b[0mprint\u001b[0m\u001b[0;34m(\u001b[0m\u001b[0mmystr\u001b[0m\u001b[0;34m[\u001b[0m\u001b[0;36m0\u001b[0m\u001b[0;34m:\u001b[0m\u001b[0;36m2\u001b[0m\u001b[0;34m]\u001b[0m\u001b[0;34m)\u001b[0m\u001b[0;34m\u001b[0m\u001b[0;34m\u001b[0m\u001b[0m\n\u001b[0;32m----> 6\u001b[0;31m \u001b[0mprint\u001b[0m\u001b[0;34m(\u001b[0m\u001b[0mmystr\u001b[0m\u001b[0;34m/\u001b[0m\u001b[0;36m3\u001b[0m\u001b[0;34m)\u001b[0m\u001b[0;34m\u001b[0m\u001b[0;34m\u001b[0m\u001b[0m\n\u001b[0m",
      "\u001b[0;31mTypeError\u001b[0m: unsupported operand type(s) for /: 'str' and 'int'"
     ]
    }
   ],
   "source": [
    "mystr = 'abcdefghij'\n",
    "\n",
    "print(mystr + mystr)\n",
    "print(mystr*3)\n",
    "print(mystr[0:2])\n",
    "print(mystr/3)"
   ]
  },
  {
   "cell_type": "markdown",
   "metadata": {},
   "source": [
    "In addition to basic operations, there are a wide variety of string methods:"
   ]
  },
  {
   "cell_type": "code",
   "execution_count": 15,
   "metadata": {},
   "outputs": [
    {
     "name": "stdout",
     "output_type": "stream",
     "text": [
      "ABCDEFGHIJ\n",
      "Abcdefghij\n",
      "0\n",
      "7\n",
      "jihgfedcba\n"
     ]
    }
   ],
   "source": [
    "print(mystr.upper())\n",
    "print(mystr.capitalize())\n",
    "print(mystr.find('a'))\n",
    "print(mystr.index('h'))\n",
    "print(mystr[::-1])"
   ]
  },
  {
   "cell_type": "markdown",
   "metadata": {},
   "source": [
    "Strings can contain special characters, denoted by `\\n`. The most common we would use are `'\\n'` for newline, and `'\\t'` for a tab. We can use a \\ to escape,and triple quotes to quote multiple lines (like we did in our docstrings)."
   ]
  },
  {
   "cell_type": "code",
   "execution_count": 16,
   "metadata": {},
   "outputs": [
    {
     "name": "stdout",
     "output_type": "stream",
     "text": [
      "abc\n",
      "def abc\tdef\n",
      "\n",
      "my long \n",
      "string\n",
      "with lines and stuff\n"
     ]
    }
   ],
   "source": [
    "x = 'abc\\ndef'\n",
    "y = 'abc\\tdef'\n",
    "print(x,y)\n",
    "x = '''\n",
    "my long \n",
    "string\n",
    "with lines and stuff'''\n",
    "print(x)"
   ]
  },
  {
   "cell_type": "markdown",
   "metadata": {},
   "source": [
    "There are a few other basic data types we will not touch, so for now just know that we can represent binary and hex numbers if we really need to."
   ]
  },
  {
   "cell_type": "markdown",
   "metadata": {},
   "source": [
    "### Containers \n",
    "\n",
    "We have seen lists, and tuples previously.\n",
    "\n",
    "Lists are mutable ways to contain data:"
   ]
  },
  {
   "cell_type": "code",
   "execution_count": 17,
   "metadata": {},
   "outputs": [
    {
     "name": "stdout",
     "output_type": "stream",
     "text": [
      "[1, True, 3, '4', 5]\n",
      "5\n",
      "[1, True, 3, 8]\n"
     ]
    }
   ],
   "source": [
    "mylist = [1,True,3,'4']\n",
    "mylist.append(5)\n",
    "print(mylist)\n",
    "out = mylist.pop()\n",
    "mylist[3] = 8\n",
    "print(out)\n",
    "print(mylist)\n",
    "#see the tab completion for the plethora of methods"
   ]
  },
  {
   "cell_type": "markdown",
   "metadata": {},
   "source": [
    "We can iterate over lists and other iterables:"
   ]
  },
  {
   "cell_type": "code",
   "execution_count": 18,
   "metadata": {},
   "outputs": [
    {
     "name": "stdout",
     "output_type": "stream",
     "text": [
      "1\n",
      "True\n",
      "3\n",
      "8\n"
     ]
    }
   ],
   "source": [
    "for i in mylist:\n",
    "    print(i)"
   ]
  },
  {
   "cell_type": "markdown",
   "metadata": {},
   "source": [
    "Tuples are the immutable version of a list. We can hold any combination of types of data, but we cannot modify it once it is made. This severly reduces the amount of methods available:"
   ]
  },
  {
   "cell_type": "code",
   "execution_count": 19,
   "metadata": {},
   "outputs": [
    {
     "data": {
      "text/plain": [
       "1"
      ]
     },
     "execution_count": 19,
     "metadata": {},
     "output_type": "execute_result"
    }
   ],
   "source": [
    "mytuple = (1,True,3,'4')\n",
    "mytuple.count(3)"
   ]
  },
  {
   "cell_type": "markdown",
   "metadata": {},
   "source": [
    "We also have sets and dicts, which serve different purposes.\n",
    "\n",
    "While we can search for values in lists, we don't have a better alternative to searching each element individually:"
   ]
  },
  {
   "cell_type": "code",
   "execution_count": 20,
   "metadata": {},
   "outputs": [],
   "source": [
    "x = list(range(10000))\n",
    "y = set(range(10000))"
   ]
  },
  {
   "cell_type": "code",
   "execution_count": 21,
   "metadata": {},
   "outputs": [
    {
     "name": "stdout",
     "output_type": "stream",
     "text": [
      "321 µs ± 2.05 µs per loop (mean ± std. dev. of 7 runs, 1000 loops each)\n"
     ]
    }
   ],
   "source": [
    "%%timeit\n",
    "for i in [10000, 99999, 10001, 5000, 100]:\n",
    "    i in x"
   ]
  },
  {
   "cell_type": "markdown",
   "metadata": {},
   "source": [
    "Sets don't allow duplicates, or ordering (though watch this space!). But we hash the values, so that we can look up much faster than a list:"
   ]
  },
  {
   "cell_type": "code",
   "execution_count": 22,
   "metadata": {},
   "outputs": [
    {
     "name": "stdout",
     "output_type": "stream",
     "text": [
      "230 ns ± 6.75 ns per loop (mean ± std. dev. of 7 runs, 1000000 loops each)\n"
     ]
    }
   ],
   "source": [
    "%%timeit\n",
    "for i in [10000, 99999, 10001, 5000, 100]:\n",
    "    i in y"
   ]
  },
  {
   "cell_type": "markdown",
   "metadata": {},
   "source": [
    "Sets are like the mathematical notion of sets, we can take the union, overlap, or intersection. They are mutable, which means that we can add or remove objects from them. As they are unordered, subsetting doesn't work:"
   ]
  },
  {
   "cell_type": "code",
   "execution_count": 23,
   "metadata": {},
   "outputs": [
    {
     "name": "stdout",
     "output_type": "stream",
     "text": [
      "{1, 2, 3, 4, 5}\n",
      "<class 'set'>\n"
     ]
    },
    {
     "ename": "TypeError",
     "evalue": "'set' object does not support indexing",
     "output_type": "error",
     "traceback": [
      "\u001b[0;31m---------------------------------------------------------------------------\u001b[0m",
      "\u001b[0;31mTypeError\u001b[0m                                 Traceback (most recent call last)",
      "\u001b[0;32m<ipython-input-23-f6df899eaef5>\u001b[0m in \u001b[0;36m<module>\u001b[0;34m\u001b[0m\n\u001b[1;32m      2\u001b[0m \u001b[0mprint\u001b[0m\u001b[0;34m(\u001b[0m\u001b[0mmyset\u001b[0m\u001b[0;34m)\u001b[0m\u001b[0;34m\u001b[0m\u001b[0;34m\u001b[0m\u001b[0m\n\u001b[1;32m      3\u001b[0m \u001b[0mprint\u001b[0m\u001b[0;34m(\u001b[0m\u001b[0mtype\u001b[0m\u001b[0;34m(\u001b[0m\u001b[0mmyset\u001b[0m\u001b[0;34m)\u001b[0m\u001b[0;34m)\u001b[0m\u001b[0;34m\u001b[0m\u001b[0;34m\u001b[0m\u001b[0m\n\u001b[0;32m----> 4\u001b[0;31m \u001b[0mmyset\u001b[0m\u001b[0;34m[\u001b[0m\u001b[0;36m0\u001b[0m\u001b[0;34m]\u001b[0m\u001b[0;34m\u001b[0m\u001b[0;34m\u001b[0m\u001b[0m\n\u001b[0m",
      "\u001b[0;31mTypeError\u001b[0m: 'set' object does not support indexing"
     ]
    }
   ],
   "source": [
    "myset = {1,2,3,4,5,1,2}\n",
    "print(myset)\n",
    "print(type(myset))\n",
    "myset[0]"
   ]
  },
  {
   "cell_type": "code",
   "execution_count": 24,
   "metadata": {},
   "outputs": [
    {
     "name": "stdout",
     "output_type": "stream",
     "text": [
      "{1, 2}\n",
      "{1, 2, 3, 4, 5, 6, 7, 8}\n",
      "None\n",
      "{1, 2, 3, 4, 5, 10}\n"
     ]
    }
   ],
   "source": [
    "print(myset.intersection({1,2,6,7,8}))\n",
    "print(myset.union({1,2,6,7,8}))\n",
    "print(myset.add(10))\n",
    "print(myset)"
   ]
  },
  {
   "cell_type": "markdown",
   "metadata": {},
   "source": [
    "As we hash the contents of sets, we cannot contain mutable objects! So, we can't contain lists, only tuples:"
   ]
  },
  {
   "cell_type": "code",
   "execution_count": 25,
   "metadata": {},
   "outputs": [
    {
     "ename": "TypeError",
     "evalue": "unhashable type: 'list'",
     "output_type": "error",
     "traceback": [
      "\u001b[0;31m---------------------------------------------------------------------------\u001b[0m",
      "\u001b[0;31mTypeError\u001b[0m                                 Traceback (most recent call last)",
      "\u001b[0;32m<ipython-input-25-1e753c689a4d>\u001b[0m in \u001b[0;36m<module>\u001b[0;34m\u001b[0m\n\u001b[1;32m      1\u001b[0m \u001b[0mx\u001b[0m \u001b[0;34m=\u001b[0m \u001b[0;34m{\u001b[0m\u001b[0;34m(\u001b[0m\u001b[0;36m1\u001b[0m\u001b[0;34m,\u001b[0m\u001b[0;36m2\u001b[0m\u001b[0;34m,\u001b[0m\u001b[0;36m3\u001b[0m\u001b[0;34m)\u001b[0m\u001b[0;34m,\u001b[0m\u001b[0;34m(\u001b[0m\u001b[0;36m4\u001b[0m\u001b[0;34m,\u001b[0m\u001b[0;36m5\u001b[0m\u001b[0;34m,\u001b[0m\u001b[0;36m6\u001b[0m\u001b[0;34m)\u001b[0m\u001b[0;34m}\u001b[0m\u001b[0;34m\u001b[0m\u001b[0;34m\u001b[0m\u001b[0m\n\u001b[0;32m----> 2\u001b[0;31m \u001b[0my\u001b[0m \u001b[0;34m=\u001b[0m \u001b[0;34m{\u001b[0m\u001b[0;34m[\u001b[0m\u001b[0;36m1\u001b[0m\u001b[0;34m,\u001b[0m\u001b[0;36m2\u001b[0m\u001b[0;34m,\u001b[0m\u001b[0;36m3\u001b[0m\u001b[0;34m]\u001b[0m\u001b[0;34m,\u001b[0m \u001b[0;34m[\u001b[0m\u001b[0;36m4\u001b[0m\u001b[0;34m,\u001b[0m\u001b[0;36m5\u001b[0m\u001b[0;34m,\u001b[0m\u001b[0;36m6\u001b[0m\u001b[0;34m]\u001b[0m\u001b[0;34m}\u001b[0m\u001b[0;34m\u001b[0m\u001b[0;34m\u001b[0m\u001b[0m\n\u001b[0m",
      "\u001b[0;31mTypeError\u001b[0m: unhashable type: 'list'"
     ]
    }
   ],
   "source": [
    "x = {(1,2,3),(4,5,6)}\n",
    "y = {[1,2,3], [4,5,6]}"
   ]
  },
  {
   "cell_type": "markdown",
   "metadata": {},
   "source": [
    "### Dictionaries\n",
    "\n",
    "Python Dictionaries are effectively a mapping from a hashed key to another object. We can think of them as 'hash maps', lookup tables, or just a dict. \n",
    "\n",
    "As of python 3.6 they are ordered, and do not contain duplicates."
   ]
  },
  {
   "cell_type": "code",
   "execution_count": 26,
   "metadata": {},
   "outputs": [
    {
     "name": "stdout",
     "output_type": "stream",
     "text": [
      "[1, 2, 3, 4]\n"
     ]
    }
   ],
   "source": [
    "my_dict = {'a':[1,2,3,4], 'b':[5,6,7,8]}\n",
    "print(my_dict['a'])"
   ]
  },
  {
   "cell_type": "code",
   "execution_count": 27,
   "metadata": {},
   "outputs": [
    {
     "name": "stdout",
     "output_type": "stream",
     "text": [
      "{'a': [1, 2, 3, 4], 'b': [5, 6, 7, 8], 'c': [9, 10, 11, 12], 'd': [13, 14, 15, 16]}\n"
     ]
    }
   ],
   "source": [
    "my_dict.update({'c':[9,10,11,12]})\n",
    "my_dict['d'] = [13,14,15,16]\n",
    "print(my_dict)"
   ]
  },
  {
   "cell_type": "code",
   "execution_count": 28,
   "metadata": {},
   "outputs": [
    {
     "name": "stdout",
     "output_type": "stream",
     "text": [
      "a\n",
      "[1, 2, 3, 4]\n",
      "b\n",
      "[5, 6, 7, 8]\n",
      "c\n",
      "[9, 10, 11, 12]\n",
      "d\n",
      "[13, 14, 15, 16]\n"
     ]
    }
   ],
   "source": [
    "for i,j in my_dict.items():\n",
    "    print(i)\n",
    "    print(j)"
   ]
  },
  {
   "cell_type": "markdown",
   "metadata": {},
   "source": [
    "### Basic Data Types:\n",
    "\n",
    "| Type       | Example     | Mutable | Ordered | Duplicates | Subsetting |\n",
    "|------------|-------------|---------|---------|------------|------------|\n",
    "| int        | 2           | NA      | NA      | NA         | NA         |\n",
    "| float      | 2.5         | NA      | NA      | NA         | NA         |\n",
    "| complex    | 2.5 + 0.6J  | NA      | NA      | NA         | NA         |\n",
    "| boolean    | True        | NA      | NA      | NA         | NA         |\n",
    "| string     | 'abcd'      | No      | Yes     | Yes        | x[1]       |\n",
    "| list       | [1,2,3,'a'] | Yes     | Yes     | Yes        | x[1]       |\n",
    "| tuple      | (1,2,3,'a') | No      | Yes     | Yes        | x[1]       |\n",
    "| set        | {1,2,3,4}   | Yes     | No      | No         | No         |\n",
    "| dictionary | {1:1,2:2}   | Yes     | No      | No         | x['key']   |\n"
   ]
  },
  {
   "cell_type": "markdown",
   "metadata": {},
   "source": [
    "### Exercises\n",
    "\n",
    "* The order of operations in python is the standard BODMAS that you learned in math class.\n",
    "\n",
    "    Without evaluating, what would you expect the follwing to give us?\n",
    "\n",
    "    ```\n",
    "    9 + 5 * 2\n",
    "    9 + 5 ** 2\n",
    "    (9 + 5) ** 2\n",
    "    ```\n",
    "\n",
    "* Print a string that looks like:\n",
    "    ```\n",
    "    \\n \\n \\n \" ' \" '\n",
    "    ```\n",
    "    To the console, using escapes, triple quotes, or any other method.\n",
    "    \n",
    "\n",
    "* Using methods, turn the string 'mississippi' to the list `['MI', 'I', 'IPPI']`\n",
    "\n",
    "* I have the dict:\n",
    "\n",
    "    ```\n",
    "    my_dict = {('a','b','c'):[1,2,3,{'b':[[1],[2],[3],[[4],['xyz']]]}]}\n",
    "    ```\n",
    "\n",
    "    Subset out the letter 'z' using dict, list and string subsetting.\n",
    "\n",
    "* We can cast between various data types, using the `int`, `str`, `float` and `bool` functions.\n",
    "\n",
    "    What do you expect from the following conversions? Does it match what you get?\n",
    "    ```\n",
    "    int(True)\n",
    "    int(3.5)\n",
    "    int('a string')\n",
    "    str(8)\n",
    "    str(None)\n",
    "    str(True)\n",
    "    bool(10)\n",
    "    bool(-1)\n",
    "    bool(1.5)\n",
    "    ```\n",
    "\n",
    "* How does the `del` command work? Can you delete the third item from this list? Does it happen in place?\n",
    "\n",
    "    ```\n",
    "    mylist = [1,2,[],[34]]\n",
    "    ```\n",
    "\n"
   ]
  },
  {
   "cell_type": "markdown",
   "metadata": {},
   "source": [
    "### Statements \n",
    "\n",
    "We covered for loops:"
   ]
  },
  {
   "cell_type": "code",
   "execution_count": 29,
   "metadata": {},
   "outputs": [
    {
     "name": "stdout",
     "output_type": "stream",
     "text": [
      "1\n",
      "2\n",
      "3\n"
     ]
    }
   ],
   "source": [
    "for i in [1,2,3]:\n",
    "    print(i)\n"
   ]
  },
  {
   "cell_type": "markdown",
   "metadata": {},
   "source": [
    "In this loop, `i` is the loop variable. We could have set it to any other name, as long as we properly referenced it  inside the loop. Outside of a loop, the variable `i` remains, and overwrites any i that we were using locally: "
   ]
  },
  {
   "cell_type": "code",
   "execution_count": 30,
   "metadata": {},
   "outputs": [
    {
     "name": "stdout",
     "output_type": "stream",
     "text": [
      "1\n",
      "2\n",
      "2\n"
     ]
    }
   ],
   "source": [
    "i = 5\n",
    "for i in [1,2]:\n",
    "    print(i)\n",
    "    \n",
    "print(i)"
   ]
  },
  {
   "cell_type": "markdown",
   "metadata": {},
   "source": [
    "For this reason, it is typical to use something like i,j,k,x etc, and to use descriptive variable names. \n",
    "\n",
    "We can also use a `comprehension` which is a syntactic sugar, and a very 'pythonic' way of writing simple loops:"
   ]
  },
  {
   "cell_type": "code",
   "execution_count": 31,
   "metadata": {},
   "outputs": [
    {
     "data": {
      "text/plain": [
       "[0, 5, 10, 15, 20]"
      ]
     },
     "execution_count": 31,
     "metadata": {},
     "output_type": "execute_result"
    }
   ],
   "source": [
    "[x * 5 for x in range(5)]"
   ]
  },
  {
   "cell_type": "markdown",
   "metadata": {},
   "source": [
    "In a list comprehension we surround the outside of the statement in `[`, and give the iterable at the end.\n",
    "\n",
    "We carry out the statement for each item in the iterable, setting is as the variable we gave, and get a list back out."
   ]
  },
  {
   "cell_type": "code",
   "execution_count": 32,
   "metadata": {},
   "outputs": [
    {
     "data": {
      "text/plain": [
       "['ab', 'cd']"
      ]
     },
     "execution_count": 32,
     "metadata": {},
     "output_type": "execute_result"
    }
   ],
   "source": [
    "[str(i + j) for i,j in {\"a\":'b', 'c':'d'}.items()]"
   ]
  },
  {
   "cell_type": "markdown",
   "metadata": {},
   "source": [
    "Dictionary comprehensions create a dictionary:"
   ]
  },
  {
   "cell_type": "code",
   "execution_count": 33,
   "metadata": {},
   "outputs": [
    {
     "data": {
      "text/plain": [
       "{1: 2, 3: 4}"
      ]
     },
     "execution_count": 33,
     "metadata": {},
     "output_type": "execute_result"
    }
   ],
   "source": [
    "{i: j for i,j in ((1,2),(3,4))}"
   ]
  },
  {
   "cell_type": "markdown",
   "metadata": {},
   "source": [
    "Ternary expressions are a shortcut for if/else:"
   ]
  },
  {
   "cell_type": "code",
   "execution_count": 34,
   "metadata": {},
   "outputs": [
    {
     "data": {
      "text/plain": [
       "7"
      ]
     },
     "execution_count": 34,
     "metadata": {},
     "output_type": "execute_result"
    }
   ],
   "source": [
    "a = 6\n",
    "b = 7\n",
    "\n",
    "a if a > b else b"
   ]
  },
  {
   "cell_type": "markdown",
   "metadata": {},
   "source": [
    "And we can use ternary expressions in list comprehensions to filter or alter our iterables: "
   ]
  },
  {
   "cell_type": "code",
   "execution_count": 35,
   "metadata": {},
   "outputs": [
    {
     "name": "stdout",
     "output_type": "stream",
     "text": [
      "[0, 2, 4, 6, 8]\n",
      "[0, 5, 2, 5, 4, 5, 6, 5, 8, 5]\n"
     ]
    }
   ],
   "source": [
    "print([x for x in range(10) if x%2 == 0])\n",
    "print([x if x%2 == 0 else 5 for x in range(10)])"
   ]
  },
  {
   "cell_type": "markdown",
   "metadata": {},
   "source": [
    "We don't overwrite or alter any variables outside list comprehensions. Other than this they behave exactly as if statements, and should be seen as a `syntactic sugar`. Don't worry if you don't feel comfortable writing them for now - it takes practice.\n",
    "\n",
    "### Exercise\n",
    "\n",
    "Rewrite the two list comprehensions above to be for loops with if/else clauses. Which do you find easier?\n",
    "\n",
    "### Conditionals\n",
    "\n",
    "We have seen if/else conditionals several times, there is another similar statement called while:"
   ]
  },
  {
   "cell_type": "code",
   "execution_count": 36,
   "metadata": {},
   "outputs": [
    {
     "name": "stdout",
     "output_type": "stream",
     "text": [
      "0\n",
      "1\n",
      "2\n",
      "3\n",
      "4\n"
     ]
    }
   ],
   "source": [
    "x = 0\n",
    "while x < 5:\n",
    "    print(x)\n",
    "    x+=1"
   ]
  },
  {
   "cell_type": "markdown",
   "metadata": {},
   "source": [
    "While works in a similar way as if and else. It evaluates the statement to its right and if it is true, carries out it's clause, and loops until it is no longer True.\n",
    "\n",
    "Loops are a little dangerous, it is very easy to send your program into an infinite loop with a poorly crafted conditional.\n",
    "\n",
    "We can modify the control flow of our loops and clauses using the statements `break`, `pass` and `continue`:"
   ]
  },
  {
   "cell_type": "code",
   "execution_count": 37,
   "metadata": {},
   "outputs": [
    {
     "name": "stdout",
     "output_type": "stream",
     "text": [
      "break\n",
      "1\n",
      "pass\n",
      "1\n",
      "hi\n",
      "3\n",
      "4\n",
      "continue\n",
      "1\n",
      "3\n",
      "4\n"
     ]
    }
   ],
   "source": [
    "mylist = [1,'num',3,4]\n",
    "\n",
    "print('break')\n",
    "for i in mylist:\n",
    "    if type(i) == int:\n",
    "        print(i)\n",
    "    else:\n",
    "        break\n",
    "        print('hi')\n",
    "\n",
    "print('pass')\n",
    "for i in mylist:\n",
    "    if type(i) == int:\n",
    "        print(i)\n",
    "    else:\n",
    "        pass\n",
    "        print('hi')\n",
    "\n",
    "print('continue')\n",
    "for i in mylist:\n",
    "    if type(i) == int:\n",
    "        print(i)\n",
    "    else:\n",
    "        continue\n",
    "        print('hi')"
   ]
  },
  {
   "cell_type": "markdown",
   "metadata": {},
   "source": [
    "`break` stops the for loop, `pass` does nothing, and `continue` terminates the current iteration of the loop"
   ]
  },
  {
   "cell_type": "markdown",
   "metadata": {},
   "source": [
    "### Functions\n",
    "\n",
    "Python functions to allow us to make reusable commands to carry out our analysis. We can define our own functions and use them in the same way as built in or imported functions.\n",
    "\n",
    "Let's look again at a simple function:"
   ]
  },
  {
   "cell_type": "code",
   "execution_count": 38,
   "metadata": {},
   "outputs": [
    {
     "name": "stdout",
     "output_type": "stream",
     "text": [
      "3\n",
      "ab\n"
     ]
    }
   ],
   "source": [
    "def my_adder(x,y):\n",
    "    '''\n",
    "    adds two numbers together and returns the output\n",
    "    '''\n",
    "    return x + y\n",
    "\n",
    "print(my_adder(1,2))\n",
    "print(my_adder('a','b'))"
   ]
  },
  {
   "cell_type": "markdown",
   "metadata": {},
   "source": [
    "That's probably not what we meant to happen! Recall that python looks at how an operation is implemented for a particular type of object, and applies it.\n",
    "\n",
    "We might want our function to be a little more restrictive. There are a variety of ways we can do this:"
   ]
  },
  {
   "cell_type": "code",
   "execution_count": 39,
   "metadata": {},
   "outputs": [
    {
     "name": "stdout",
     "output_type": "stream",
     "text": [
      "ab\n"
     ]
    },
    {
     "ename": "AssertionError",
     "evalue": "x must be numeric",
     "output_type": "error",
     "traceback": [
      "\u001b[0;31m---------------------------------------------------------------------------\u001b[0m",
      "\u001b[0;31mAssertionError\u001b[0m                            Traceback (most recent call last)",
      "\u001b[0;32m<ipython-input-39-d2668bb5268c>\u001b[0m in \u001b[0;36m<module>\u001b[0;34m\u001b[0m\n\u001b[1;32m     18\u001b[0m     \u001b[0;32mreturn\u001b[0m \u001b[0mx\u001b[0m \u001b[0;34m+\u001b[0m \u001b[0my\u001b[0m\u001b[0;34m\u001b[0m\u001b[0;34m\u001b[0m\u001b[0m\n\u001b[1;32m     19\u001b[0m \u001b[0;34m\u001b[0m\u001b[0m\n\u001b[0;32m---> 20\u001b[0;31m \u001b[0mmy_adder2\u001b[0m\u001b[0;34m(\u001b[0m\u001b[0;34m'a'\u001b[0m\u001b[0;34m,\u001b[0m\u001b[0;34m'b'\u001b[0m\u001b[0;34m)\u001b[0m\u001b[0;34m\u001b[0m\u001b[0;34m\u001b[0m\u001b[0m\n\u001b[0m",
      "\u001b[0;32m<ipython-input-39-d2668bb5268c>\u001b[0m in \u001b[0;36mmy_adder2\u001b[0;34m(x, y)\u001b[0m\n\u001b[1;32m     13\u001b[0m     \u001b[0madds\u001b[0m \u001b[0mtwo\u001b[0m \u001b[0mnumbers\u001b[0m \u001b[0mtogether\u001b[0m \u001b[0;32mand\u001b[0m \u001b[0mreturns\u001b[0m \u001b[0mthe\u001b[0m \u001b[0moutput\u001b[0m\u001b[0;34m\u001b[0m\u001b[0;34m\u001b[0m\u001b[0m\n\u001b[1;32m     14\u001b[0m     '''\n\u001b[0;32m---> 15\u001b[0;31m     \u001b[0;32massert\u001b[0m \u001b[0misinstance\u001b[0m\u001b[0;34m(\u001b[0m\u001b[0mx\u001b[0m\u001b[0;34m,\u001b[0m \u001b[0;34m(\u001b[0m\u001b[0mfloat\u001b[0m\u001b[0;34m,\u001b[0m \u001b[0mint\u001b[0m\u001b[0;34m)\u001b[0m\u001b[0;34m)\u001b[0m\u001b[0;34m,\u001b[0m \u001b[0;34m'x must be numeric'\u001b[0m\u001b[0;34m\u001b[0m\u001b[0;34m\u001b[0m\u001b[0m\n\u001b[0m\u001b[1;32m     16\u001b[0m     \u001b[0;32massert\u001b[0m \u001b[0misinstance\u001b[0m\u001b[0;34m(\u001b[0m\u001b[0my\u001b[0m\u001b[0;34m,\u001b[0m \u001b[0;34m(\u001b[0m\u001b[0mfloat\u001b[0m\u001b[0;34m,\u001b[0m \u001b[0mint\u001b[0m\u001b[0;34m)\u001b[0m\u001b[0;34m)\u001b[0m\u001b[0;34m,\u001b[0m \u001b[0;34m'y must be numeric'\u001b[0m\u001b[0;34m\u001b[0m\u001b[0;34m\u001b[0m\u001b[0m\n\u001b[1;32m     17\u001b[0m \u001b[0;34m\u001b[0m\u001b[0m\n",
      "\u001b[0;31mAssertionError\u001b[0m: x must be numeric"
     ]
    }
   ],
   "source": [
    "### type hinting:\n",
    "def my_adder1(x:int,y:int) -> int:\n",
    "    '''\n",
    "    adds two numbers together and returns the output\n",
    "    '''\n",
    "    return x + y\n",
    "\n",
    "print(my_adder1('a','b'))\n",
    "\n",
    "###assertions\n",
    "def my_adder2(x,y):\n",
    "    '''\n",
    "    adds two numbers together and returns the output\n",
    "    '''\n",
    "    assert isinstance(x, (float, int)), 'x must be numeric'\n",
    "    assert isinstance(y, (float, int)), 'y must be numeric'\n",
    "\n",
    "    return x + y\n",
    "\n",
    "my_adder2('a','b')"
   ]
  },
  {
   "cell_type": "markdown",
   "metadata": {},
   "source": [
    "Type hinting does not force the inputs to be of the correct type - it just 'hints' to anyone reading the code that the inputs and output are of a certian type. They are relatively new, so are rarely seen.\n",
    "\n",
    "Assertion is best practice - we can tell python to throw an error if we get an unexpected input, which is better than returning us unexpected output, like 'ab'.\n",
    "\n",
    "This kind of programming is often referred to as 'defensive programming': In a lot of cases it is easier to prevent a misuse of a function than catch the bug later.\n",
    "\n",
    "We will cover some more defensive programming techniques as we continue through the course.\n",
    "\n",
    "Recall that our docstring is printed when we use the help function - how can we make it more useful?\n",
    "\n",
    "One great way is to follow the style [used in numpy and pandas](https://github.com/pandas-dev/pandas/blob/v0.22.0/pandas/core/tools/numeric.py#L15-L177). In this example, the function is 162 lines of code, of which 79 lines are the docstring, and several more are inline comments. The docstring includes parameters, input types and descriptions, output descriptions, examples and changes made from previous versions.\n",
    "\n",
    "This helps a lot when reading back through code some time later, (though it is a little bit of overkill for our adder):"
   ]
  },
  {
   "cell_type": "code",
   "execution_count": 42,
   "metadata": {},
   "outputs": [],
   "source": [
    "def my_adder(x,y):\n",
    "    '''\n",
    "    Adds two numerics and returns the output\n",
    "    \n",
    "    Parameters\n",
    "    ----------\n",
    "    x: A numeric input\n",
    "    y: A numeric input\n",
    "    \n",
    "    Returns\n",
    "    -------\n",
    "    ret: A numeric output, the sum of x and y\n",
    "    \n",
    "    Examples\n",
    "    --------\n",
    "    >>>> x, y = 4, 5\n",
    "    >>>> my_adder(4, 5)\n",
    "    9\n",
    "    '''\n",
    "    assert isinstance(x, (float, int)), 'x must be numeric'\n",
    "    assert isinstance(y, (float, int)), 'y must be numeric'\n",
    "    #inline comments can help if we have a tricky piece of logic\n",
    "    #and are denoted by a # in front of the line\n",
    "    ret = x + y\n",
    "    #maybe we could add an assertion here?\n",
    "    return ret"
   ]
  },
  {
   "cell_type": "code",
   "execution_count": 43,
   "metadata": {},
   "outputs": [
    {
     "name": "stdout",
     "output_type": "stream",
     "text": [
      "Help on function my_adder in module __main__:\n",
      "\n",
      "my_adder(x, y)\n",
      "    Adds two numerics and returns the output\n",
      "    \n",
      "    Parameters\n",
      "    ----------\n",
      "    x: A numeric input\n",
      "    y: A numeric input\n",
      "    \n",
      "    Returns\n",
      "    -------\n",
      "    ret: A numeric output, the sum of x and y\n",
      "    \n",
      "    Examples\n",
      "    --------\n",
      "    >>>> x, y = 4, 5\n",
      "    >>>> my_adder(4, 5)\n",
      "    9\n",
      "\n"
     ]
    }
   ],
   "source": [
    "help(my_adder)"
   ]
  },
  {
   "cell_type": "markdown",
   "metadata": {},
   "source": [
    "This seems like a lot to add, but when we are writing a function, we will almost always have an idea of what the inputs and outputs are, and run several small examples to test it. Putting it in at function definition will almost always help.\n",
    "\n",
    "However, most functions are probably not documented like this...\n",
    "\n",
    "### Function Arguments\n",
    "\n",
    "An extremely useful python feature is the ability to use named and unnamed arguments, and to include defaults.\n",
    "\n",
    "Here, the value y is given a default of 10, and we have added the `*restofarguments` to allow us to take any number of additional values:"
   ]
  },
  {
   "cell_type": "code",
   "execution_count": 44,
   "metadata": {},
   "outputs": [],
   "source": [
    "def my_adder(x, y = 10, *restofarguments):\n",
    "    for i in x,y:\n",
    "        assert isinstance(i, (float, int)), f'{i} must be numeric'\n",
    "    print('Rest of arguments: ', list(restofarguments))\n",
    "    ret = x + y\n",
    "    return ret"
   ]
  },
  {
   "cell_type": "code",
   "execution_count": 45,
   "metadata": {},
   "outputs": [
    {
     "name": "stdout",
     "output_type": "stream",
     "text": [
      "Rest of arguments:  []\n",
      "21\n",
      "Rest of arguments:  [3, 4, 5, 6]\n",
      "3\n"
     ]
    }
   ],
   "source": [
    "print(my_adder(11))\n",
    "print(my_adder(1, 2, 3,4,5,6))"
   ]
  },
  {
   "cell_type": "markdown",
   "metadata": {},
   "source": [
    "Matching is based on name, then by position:"
   ]
  },
  {
   "cell_type": "code",
   "execution_count": 73,
   "metadata": {},
   "outputs": [
    {
     "name": "stdout",
     "output_type": "stream",
     "text": [
      "x\n",
      "y\n",
      "z\n",
      "0\n",
      "1\n",
      "x\n"
     ]
    }
   ],
   "source": [
    "def my_func(x = 0, y = 1, z = 2):\n",
    "    print(x)\n",
    "    print(y)\n",
    "    print(z)\n",
    "    \n",
    "my_func(z = 'z',y = 'y',x = 'x')\n",
    "my_func(z = 'x')"
   ]
  },
  {
   "cell_type": "markdown",
   "metadata": {},
   "source": [
    "We can take in arbitrary positional and keyword arguments using the \\* and \\*\\* to unpack them. Notice we receive them as a tuple and a dict:"
   ]
  },
  {
   "cell_type": "code",
   "execution_count": 51,
   "metadata": {},
   "outputs": [
    {
     "name": "stdout",
     "output_type": "stream",
     "text": [
      "positional args:  (1, 2, 3, 4)\n",
      "keyword args:  {'x': 'a', 'z': 'b'}\n"
     ]
    }
   ],
   "source": [
    "def myfunc(*args, **kwargs):\n",
    "    print('positional args: ', args)\n",
    "    print('keyword args: ', kwargs)\n",
    "\n",
    "myfunc(1,2,3,4, x = 'a', z = 'b')"
   ]
  },
  {
   "cell_type": "markdown",
   "metadata": {},
   "source": [
    "### Exercises\n",
    "\n",
    "1. Create a function to convert miles to kilometers.\n",
    "2. Add documentation to the function; the parameters, return, and examples.\n",
    "3. Add assertions about the input(s), to make sure they are numeric.\n",
    "4. Modify your function to work to convert miles to km as default, but km to mile if given `units = 'km'` as an argument.\n",
    "5. Update the documentation.\n",
    "6. Import numpy, and pass in -np.inf and np.inf as the value to convert. What did we expect to happen?\n",
    "7. Pass in np.nan. What would we expect here?"
   ]
  },
  {
   "cell_type": "code",
   "execution_count": 28,
   "metadata": {},
   "outputs": [
    {
     "ename": "AssertionError",
     "evalue": "Unit must be in Km or miles",
     "output_type": "error",
     "traceback": [
      "\u001b[1;31m---------------------------------------------------------------------------\u001b[0m",
      "\u001b[1;31mAssertionError\u001b[0m                            Traceback (most recent call last)",
      "\u001b[1;32m<ipython-input-28-733bc62b21fa>\u001b[0m in \u001b[0;36m<module>\u001b[1;34m\u001b[0m\n\u001b[0;32m     29\u001b[0m \u001b[1;31m#miles_to_km(100, units = 'miles')\u001b[0m\u001b[1;33m\u001b[0m\u001b[1;33m\u001b[0m\u001b[1;33m\u001b[0m\u001b[0m\n\u001b[0;32m     30\u001b[0m \u001b[1;31m#miles_to_km(100, units = 'km')\u001b[0m\u001b[1;33m\u001b[0m\u001b[1;33m\u001b[0m\u001b[1;33m\u001b[0m\u001b[0m\n\u001b[1;32m---> 31\u001b[1;33m \u001b[0mmiles_to_km\u001b[0m\u001b[1;33m(\u001b[0m\u001b[1;36m100\u001b[0m\u001b[1;33m)\u001b[0m\u001b[1;33m\u001b[0m\u001b[1;33m\u001b[0m\u001b[0m\n\u001b[0m\u001b[0;32m     32\u001b[0m \u001b[1;31m#miles_to_km(100, units = 'somethin')\u001b[0m\u001b[1;33m\u001b[0m\u001b[1;33m\u001b[0m\u001b[1;33m\u001b[0m\u001b[0m\n",
      "\u001b[1;32m<ipython-input-28-733bc62b21fa>\u001b[0m in \u001b[0;36mmiles_to_km\u001b[1;34m(miles, units)\u001b[0m\n\u001b[0;32m      9\u001b[0m     '''\n\u001b[0;32m     10\u001b[0m     \u001b[1;32massert\u001b[0m \u001b[0misinstance\u001b[0m\u001b[1;33m(\u001b[0m\u001b[0mmiles\u001b[0m\u001b[1;33m,\u001b[0m \u001b[1;33m(\u001b[0m\u001b[0mfloat\u001b[0m\u001b[1;33m,\u001b[0m\u001b[0mint\u001b[0m\u001b[1;33m)\u001b[0m\u001b[1;33m)\u001b[0m\u001b[1;33m,\u001b[0m \u001b[1;34m'miles must be numeric'\u001b[0m\u001b[1;33m\u001b[0m\u001b[1;33m\u001b[0m\u001b[0m\n\u001b[1;32m---> 11\u001b[1;33m     \u001b[1;32massert\u001b[0m \u001b[0munits\u001b[0m\u001b[1;33m.\u001b[0m\u001b[0mlower\u001b[0m\u001b[1;33m(\u001b[0m\u001b[1;33m)\u001b[0m\u001b[1;33m==\u001b[0m\u001b[1;34m'miles'\u001b[0m \u001b[1;32mor\u001b[0m \u001b[0munits\u001b[0m\u001b[1;33m.\u001b[0m\u001b[0mlower\u001b[0m\u001b[1;33m==\u001b[0m\u001b[1;34m'km'\u001b[0m\u001b[1;33m,\u001b[0m \u001b[1;34m'Unit must be in Km or miles'\u001b[0m\u001b[1;33m\u001b[0m\u001b[1;33m\u001b[0m\u001b[0m\n\u001b[0m\u001b[0;32m     12\u001b[0m     \u001b[1;32massert\u001b[0m \u001b[0mmiles\u001b[0m \u001b[1;33m>=\u001b[0m \u001b[1;36m0\u001b[0m\u001b[1;33m,\u001b[0m \u001b[1;34m'miles must be greater than 0'\u001b[0m\u001b[1;33m\u001b[0m\u001b[1;33m\u001b[0m\u001b[0m\n\u001b[0;32m     13\u001b[0m \u001b[1;33m\u001b[0m\u001b[0m\n",
      "\u001b[1;31mAssertionError\u001b[0m: Unit must be in Km or miles"
     ]
    }
   ],
   "source": [
    "\n",
    "#Write a function to convert miles to km\n",
    "def miles_to_km(miles, units = 'km'):\n",
    "    import numpy as np\n",
    "    '''\n",
    "    Input parameters:\n",
    "    miles -> numeric value \n",
    "    units -> units of numeric output. Default is 'km'\n",
    "    '''\n",
    "    assert isinstance(miles, (float,int)), 'miles must be numeric'\n",
    "    assert units.lower()=='miles' or units.lower=='km', 'Unit must be in Km or miles'\n",
    "    assert miles >= 0, 'miles must be greater than 0'\n",
    "    \n",
    "    \n",
    "   # if units == \"km\":\n",
    "   #     value = miles*1.60934\n",
    "   # elif units == \"miles\":\n",
    "   #     value = miles*0.621371\n",
    "   # \n",
    "   # return value\n",
    "    \n",
    "    if units == \"km\":\n",
    "        return f'{miles*1.60934} {units}'\n",
    "    elif units == \"miles\":\n",
    "        return miles*0.621371, units\n",
    "    else:\n",
    "        return \"Units not recognized. Only 'km' and 'miles' are accepted\"\n",
    "\n",
    "#miles_to_km(100, units = 'miles')\n",
    "#miles_to_km(100, units = 'km')\n",
    "miles_to_km(100)\n",
    "#miles_to_km(100, units = 'somethin')\n"
   ]
  },
  {
   "cell_type": "code",
   "execution_count": 27,
   "metadata": {},
   "outputs": [
    {
     "data": {
      "text/plain": [
       "(62.137100000000004, 'miles')"
      ]
     },
     "execution_count": 27,
     "metadata": {},
     "output_type": "execute_result"
    }
   ],
   "source": [
    "miles_to_km(100, units = 'miles')\n"
   ]
  },
  {
   "cell_type": "code",
   "execution_count": 29,
   "metadata": {},
   "outputs": [
    {
     "data": {
      "text/plain": [
       "(inf, 'miles')"
      ]
     },
     "execution_count": 29,
     "metadata": {},
     "output_type": "execute_result"
    }
   ],
   "source": [
    "miles_to_km(np.inf, units='miles')\n"
   ]
  },
  {
   "cell_type": "code",
   "execution_count": 30,
   "metadata": {},
   "outputs": [
    {
     "ename": "AssertionError",
     "evalue": "Unit must be in Km or miles",
     "output_type": "error",
     "traceback": [
      "\u001b[1;31m---------------------------------------------------------------------------\u001b[0m",
      "\u001b[1;31mAssertionError\u001b[0m                            Traceback (most recent call last)",
      "\u001b[1;32m<ipython-input-30-e950f60e29db>\u001b[0m in \u001b[0;36m<module>\u001b[1;34m\u001b[0m\n\u001b[1;32m----> 1\u001b[1;33m \u001b[0mmiles_to_km\u001b[0m\u001b[1;33m(\u001b[0m\u001b[1;36m100\u001b[0m\u001b[1;33m)\u001b[0m\u001b[1;33m\u001b[0m\u001b[1;33m\u001b[0m\u001b[0m\n\u001b[0m",
      "\u001b[1;32m<ipython-input-28-733bc62b21fa>\u001b[0m in \u001b[0;36mmiles_to_km\u001b[1;34m(miles, units)\u001b[0m\n\u001b[0;32m      9\u001b[0m     '''\n\u001b[0;32m     10\u001b[0m     \u001b[1;32massert\u001b[0m \u001b[0misinstance\u001b[0m\u001b[1;33m(\u001b[0m\u001b[0mmiles\u001b[0m\u001b[1;33m,\u001b[0m \u001b[1;33m(\u001b[0m\u001b[0mfloat\u001b[0m\u001b[1;33m,\u001b[0m\u001b[0mint\u001b[0m\u001b[1;33m)\u001b[0m\u001b[1;33m)\u001b[0m\u001b[1;33m,\u001b[0m \u001b[1;34m'miles must be numeric'\u001b[0m\u001b[1;33m\u001b[0m\u001b[1;33m\u001b[0m\u001b[0m\n\u001b[1;32m---> 11\u001b[1;33m     \u001b[1;32massert\u001b[0m \u001b[0munits\u001b[0m\u001b[1;33m.\u001b[0m\u001b[0mlower\u001b[0m\u001b[1;33m(\u001b[0m\u001b[1;33m)\u001b[0m\u001b[1;33m==\u001b[0m\u001b[1;34m'miles'\u001b[0m \u001b[1;32mor\u001b[0m \u001b[0munits\u001b[0m\u001b[1;33m.\u001b[0m\u001b[0mlower\u001b[0m\u001b[1;33m==\u001b[0m\u001b[1;34m'km'\u001b[0m\u001b[1;33m,\u001b[0m \u001b[1;34m'Unit must be in Km or miles'\u001b[0m\u001b[1;33m\u001b[0m\u001b[1;33m\u001b[0m\u001b[0m\n\u001b[0m\u001b[0;32m     12\u001b[0m     \u001b[1;32massert\u001b[0m \u001b[0mmiles\u001b[0m \u001b[1;33m>=\u001b[0m \u001b[1;36m0\u001b[0m\u001b[1;33m,\u001b[0m \u001b[1;34m'miles must be greater than 0'\u001b[0m\u001b[1;33m\u001b[0m\u001b[1;33m\u001b[0m\u001b[0m\n\u001b[0;32m     13\u001b[0m \u001b[1;33m\u001b[0m\u001b[0m\n",
      "\u001b[1;31mAssertionError\u001b[0m: Unit must be in Km or miles"
     ]
    }
   ],
   "source": [
    "\n"
   ]
  }
 ],
 "metadata": {
  "kernelspec": {
   "display_name": "Python 3",
   "language": "python",
   "name": "python3"
  },
  "language_info": {
   "codemirror_mode": {
    "name": "ipython",
    "version": 3
   },
   "file_extension": ".py",
   "mimetype": "text/x-python",
   "name": "python",
   "nbconvert_exporter": "python",
   "pygments_lexer": "ipython3",
   "version": "3.7.1"
  }
 },
 "nbformat": 4,
 "nbformat_minor": 2
}
