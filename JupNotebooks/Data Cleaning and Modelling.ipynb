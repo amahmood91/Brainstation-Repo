{
 "cells": [
  {
   "cell_type": "markdown",
   "metadata": {},
   "source": [
    "# Data Cleaning and Modelling"
   ]
  },
  {
   "cell_type": "markdown",
   "metadata": {},
   "source": [
    "#### Lets say we are given a dataset and an interviewer says \"Tell me what you can find out!\". Before we can build any model, we must make sure the data is clean first.\n",
    "\n",
    "We shall try to build a model to predict whether or not an appointment will be requested"
   ]
  },
  {
   "cell_type": "code",
   "execution_count": 40,
   "metadata": {},
   "outputs": [],
   "source": [
    "# Data Modelling and Cleaning excersieze\n",
    "\n",
    "import numpy as np\n",
    "import pandas as pd\n",
    "import matplotlib.pyplot as plt\n",
    "%matplotlib inline\n",
    "\n",
    "\n"
   ]
  },
  {
   "cell_type": "code",
   "execution_count": 57,
   "metadata": {},
   "outputs": [
    {
     "data": {
      "text/html": [
       "<div>\n",
       "<style scoped>\n",
       "    .dataframe tbody tr th:only-of-type {\n",
       "        vertical-align: middle;\n",
       "    }\n",
       "\n",
       "    .dataframe tbody tr th {\n",
       "        vertical-align: top;\n",
       "    }\n",
       "\n",
       "    .dataframe thead th {\n",
       "        text-align: right;\n",
       "    }\n",
       "</style>\n",
       "<table border=\"1\" class=\"dataframe\">\n",
       "  <thead>\n",
       "    <tr style=\"text-align: right;\">\n",
       "      <th></th>\n",
       "      <th>source</th>\n",
       "      <th>campaign</th>\n",
       "      <th>region</th>\n",
       "      <th>locality</th>\n",
       "      <th>preferred_doctor_gender</th>\n",
       "      <th>reason_for_visit</th>\n",
       "      <th>patient_insured</th>\n",
       "      <th>number_of_match_results</th>\n",
       "      <th>out_network_results_shown</th>\n",
       "      <th>in_network_results_shown</th>\n",
       "      <th>avg_distance_overall</th>\n",
       "      <th>appointment_requested</th>\n",
       "    </tr>\n",
       "  </thead>\n",
       "  <tbody>\n",
       "    <tr>\n",
       "      <th>0</th>\n",
       "      <td>facebook</td>\n",
       "      <td>san_diego_doctor_patient_acquisition</td>\n",
       "      <td>San Jose</td>\n",
       "      <td>San Jose</td>\n",
       "      <td>No Pref</td>\n",
       "      <td>Specific Treatment</td>\n",
       "      <td>f</td>\n",
       "      <td>9</td>\n",
       "      <td>0</td>\n",
       "      <td>0</td>\n",
       "      <td>10547.219510</td>\n",
       "      <td>f</td>\n",
       "    </tr>\n",
       "    <tr>\n",
       "      <th>1</th>\n",
       "      <td>facebook</td>\n",
       "      <td>san_diego_doctor_patient_acquisition</td>\n",
       "      <td>San Diego</td>\n",
       "      <td>Chula Vista</td>\n",
       "      <td>F</td>\n",
       "      <td>Checkup</td>\n",
       "      <td>f</td>\n",
       "      <td>2</td>\n",
       "      <td>0</td>\n",
       "      <td>0</td>\n",
       "      <td>20784.617720</td>\n",
       "      <td>f</td>\n",
       "    </tr>\n",
       "    <tr>\n",
       "      <th>2</th>\n",
       "      <td>try.healthcare.com</td>\n",
       "      <td>Unknown</td>\n",
       "      <td>Austin</td>\n",
       "      <td>Austin</td>\n",
       "      <td>No Pref</td>\n",
       "      <td>Checkup</td>\n",
       "      <td>t</td>\n",
       "      <td>9</td>\n",
       "      <td>8</td>\n",
       "      <td>1</td>\n",
       "      <td>8014.945931</td>\n",
       "      <td>t</td>\n",
       "    </tr>\n",
       "    <tr>\n",
       "      <th>3</th>\n",
       "      <td>facebook</td>\n",
       "      <td>denver_doctor_patient_acquisition</td>\n",
       "      <td>Denver</td>\n",
       "      <td>Golden</td>\n",
       "      <td>No Pref</td>\n",
       "      <td>Specific Treatment</td>\n",
       "      <td>t</td>\n",
       "      <td>8</td>\n",
       "      <td>2</td>\n",
       "      <td>6</td>\n",
       "      <td>16651.158750</td>\n",
       "      <td>f</td>\n",
       "    </tr>\n",
       "    <tr>\n",
       "      <th>4</th>\n",
       "      <td>facebook</td>\n",
       "      <td>chicago_doctor_patient_acquisition</td>\n",
       "      <td>Chicago</td>\n",
       "      <td>Chicago</td>\n",
       "      <td>F</td>\n",
       "      <td>Checkup</td>\n",
       "      <td>f</td>\n",
       "      <td>9</td>\n",
       "      <td>0</td>\n",
       "      <td>0</td>\n",
       "      <td>5216.934559</td>\n",
       "      <td>f</td>\n",
       "    </tr>\n",
       "  </tbody>\n",
       "</table>\n",
       "</div>"
      ],
      "text/plain": [
       "               source                              campaign     region  \\\n",
       "0            facebook  san_diego_doctor_patient_acquisition   San Jose   \n",
       "1            facebook  san_diego_doctor_patient_acquisition  San Diego   \n",
       "2  try.healthcare.com                               Unknown     Austin   \n",
       "3            facebook     denver_doctor_patient_acquisition     Denver   \n",
       "4            facebook    chicago_doctor_patient_acquisition    Chicago   \n",
       "\n",
       "      locality preferred_doctor_gender    reason_for_visit patient_insured  \\\n",
       "0     San Jose                 No Pref  Specific Treatment               f   \n",
       "1  Chula Vista                       F             Checkup               f   \n",
       "2       Austin                 No Pref             Checkup               t   \n",
       "3       Golden                 No Pref  Specific Treatment               t   \n",
       "4      Chicago                       F             Checkup               f   \n",
       "\n",
       "   number_of_match_results  out_network_results_shown  \\\n",
       "0                        9                          0   \n",
       "1                        2                          0   \n",
       "2                        9                          8   \n",
       "3                        8                          2   \n",
       "4                        9                          0   \n",
       "\n",
       "   in_network_results_shown  avg_distance_overall appointment_requested  \n",
       "0                         0          10547.219510                     f  \n",
       "1                         0          20784.617720                     f  \n",
       "2                         1           8014.945931                     t  \n",
       "3                         6          16651.158750                     f  \n",
       "4                         0           5216.934559                     f  "
      ]
     },
     "execution_count": 57,
     "metadata": {},
     "output_type": "execute_result"
    }
   ],
   "source": [
    "df = pd.read_csv('data/Patient-Acquisition-Data4.csv')\n",
    "df.head()"
   ]
  },
  {
   "cell_type": "code",
   "execution_count": 58,
   "metadata": {},
   "outputs": [
    {
     "data": {
      "text/plain": [
       "(17503, 12)"
      ]
     },
     "execution_count": 58,
     "metadata": {},
     "output_type": "execute_result"
    }
   ],
   "source": [
    "#Lets look at the data\n",
    "df.shape #dont use parentheses"
   ]
  },
  {
   "cell_type": "code",
   "execution_count": 59,
   "metadata": {},
   "outputs": [
    {
     "name": "stdout",
     "output_type": "stream",
     "text": [
      "<class 'pandas.core.frame.DataFrame'>\n",
      "RangeIndex: 17503 entries, 0 to 17502\n",
      "Data columns (total 12 columns):\n",
      "source                       17477 non-null object\n",
      "campaign                     17491 non-null object\n",
      "region                       17503 non-null object\n",
      "locality                     17503 non-null object\n",
      "preferred_doctor_gender      17503 non-null object\n",
      "reason_for_visit             17493 non-null object\n",
      "patient_insured              17503 non-null object\n",
      "number_of_match_results      17503 non-null int64\n",
      "out_network_results_shown    17503 non-null int64\n",
      "in_network_results_shown     17503 non-null int64\n",
      "avg_distance_overall         16933 non-null float64\n",
      "appointment_requested        17503 non-null object\n",
      "dtypes: float64(1), int64(3), object(8)\n",
      "memory usage: 1.6+ MB\n"
     ]
    }
   ],
   "source": [
    "df.info()"
   ]
  },
  {
   "cell_type": "code",
   "execution_count": 60,
   "metadata": {},
   "outputs": [
    {
     "data": {
      "text/plain": [
       "source                       False\n",
       "campaign                     False\n",
       "region                       False\n",
       "locality                     False\n",
       "preferred_doctor_gender      False\n",
       "reason_for_visit             False\n",
       "patient_insured              False\n",
       "number_of_match_results      False\n",
       "out_network_results_shown    False\n",
       "in_network_results_shown     False\n",
       "avg_distance_overall         False\n",
       "appointment_requested        False\n",
       "dtype: bool"
      ]
     },
     "execution_count": 60,
     "metadata": {},
     "output_type": "execute_result"
    }
   ],
   "source": [
    "#%%timeit #if we want to time the function\n",
    "\n",
    "#check for duplicate columns\n",
    "df.T.duplicated()"
   ]
  },
  {
   "cell_type": "code",
   "execution_count": 61,
   "metadata": {},
   "outputs": [
    {
     "data": {
      "text/plain": [
       "source                       False\n",
       "campaign                     False\n",
       "region                       False\n",
       "locality                     False\n",
       "preferred_doctor_gender      False\n",
       "reason_for_visit             False\n",
       "patient_insured              False\n",
       "number_of_match_results      False\n",
       "out_network_results_shown    False\n",
       "in_network_results_shown     False\n",
       "avg_distance_overall         False\n",
       "appointment_requested        False\n",
       "source2                       True\n",
       "dtype: bool"
      ]
     },
     "execution_count": 61,
     "metadata": {},
     "output_type": "execute_result"
    }
   ],
   "source": [
    "#test to see how duplicated function works on columns\n",
    "df['source2'] = df['source']\n",
    "df.T.duplicated()\n",
    "\n",
    "#we see that the duplicated column shows up as TRUE while the orignal does not!"
   ]
  },
  {
   "cell_type": "code",
   "execution_count": 62,
   "metadata": {},
   "outputs": [
    {
     "data": {
      "text/html": [
       "<div>\n",
       "<style scoped>\n",
       "    .dataframe tbody tr th:only-of-type {\n",
       "        vertical-align: middle;\n",
       "    }\n",
       "\n",
       "    .dataframe tbody tr th {\n",
       "        vertical-align: top;\n",
       "    }\n",
       "\n",
       "    .dataframe thead th {\n",
       "        text-align: right;\n",
       "    }\n",
       "</style>\n",
       "<table border=\"1\" class=\"dataframe\">\n",
       "  <thead>\n",
       "    <tr style=\"text-align: right;\">\n",
       "      <th></th>\n",
       "      <th>source</th>\n",
       "      <th>campaign</th>\n",
       "      <th>region</th>\n",
       "      <th>locality</th>\n",
       "      <th>preferred_doctor_gender</th>\n",
       "      <th>reason_for_visit</th>\n",
       "      <th>patient_insured</th>\n",
       "      <th>number_of_match_results</th>\n",
       "      <th>out_network_results_shown</th>\n",
       "      <th>in_network_results_shown</th>\n",
       "      <th>avg_distance_overall</th>\n",
       "      <th>appointment_requested</th>\n",
       "    </tr>\n",
       "  </thead>\n",
       "  <tbody>\n",
       "    <tr>\n",
       "      <th>0</th>\n",
       "      <td>facebook</td>\n",
       "      <td>san_diego_doctor_patient_acquisition</td>\n",
       "      <td>San Jose</td>\n",
       "      <td>San Jose</td>\n",
       "      <td>No Pref</td>\n",
       "      <td>Specific Treatment</td>\n",
       "      <td>f</td>\n",
       "      <td>9</td>\n",
       "      <td>0</td>\n",
       "      <td>0</td>\n",
       "      <td>10547.219510</td>\n",
       "      <td>f</td>\n",
       "    </tr>\n",
       "    <tr>\n",
       "      <th>1</th>\n",
       "      <td>facebook</td>\n",
       "      <td>san_diego_doctor_patient_acquisition</td>\n",
       "      <td>San Diego</td>\n",
       "      <td>Chula Vista</td>\n",
       "      <td>F</td>\n",
       "      <td>Checkup</td>\n",
       "      <td>f</td>\n",
       "      <td>2</td>\n",
       "      <td>0</td>\n",
       "      <td>0</td>\n",
       "      <td>20784.617720</td>\n",
       "      <td>f</td>\n",
       "    </tr>\n",
       "    <tr>\n",
       "      <th>2</th>\n",
       "      <td>try.healthcare.com</td>\n",
       "      <td>Unknown</td>\n",
       "      <td>Austin</td>\n",
       "      <td>Austin</td>\n",
       "      <td>No Pref</td>\n",
       "      <td>Checkup</td>\n",
       "      <td>t</td>\n",
       "      <td>9</td>\n",
       "      <td>8</td>\n",
       "      <td>1</td>\n",
       "      <td>8014.945931</td>\n",
       "      <td>t</td>\n",
       "    </tr>\n",
       "    <tr>\n",
       "      <th>3</th>\n",
       "      <td>facebook</td>\n",
       "      <td>denver_doctor_patient_acquisition</td>\n",
       "      <td>Denver</td>\n",
       "      <td>Golden</td>\n",
       "      <td>No Pref</td>\n",
       "      <td>Specific Treatment</td>\n",
       "      <td>t</td>\n",
       "      <td>8</td>\n",
       "      <td>2</td>\n",
       "      <td>6</td>\n",
       "      <td>16651.158750</td>\n",
       "      <td>f</td>\n",
       "    </tr>\n",
       "    <tr>\n",
       "      <th>4</th>\n",
       "      <td>facebook</td>\n",
       "      <td>chicago_doctor_patient_acquisition</td>\n",
       "      <td>Chicago</td>\n",
       "      <td>Chicago</td>\n",
       "      <td>F</td>\n",
       "      <td>Checkup</td>\n",
       "      <td>f</td>\n",
       "      <td>9</td>\n",
       "      <td>0</td>\n",
       "      <td>0</td>\n",
       "      <td>5216.934559</td>\n",
       "      <td>f</td>\n",
       "    </tr>\n",
       "  </tbody>\n",
       "</table>\n",
       "</div>"
      ],
      "text/plain": [
       "               source                              campaign     region  \\\n",
       "0            facebook  san_diego_doctor_patient_acquisition   San Jose   \n",
       "1            facebook  san_diego_doctor_patient_acquisition  San Diego   \n",
       "2  try.healthcare.com                               Unknown     Austin   \n",
       "3            facebook     denver_doctor_patient_acquisition     Denver   \n",
       "4            facebook    chicago_doctor_patient_acquisition    Chicago   \n",
       "\n",
       "      locality preferred_doctor_gender    reason_for_visit patient_insured  \\\n",
       "0     San Jose                 No Pref  Specific Treatment               f   \n",
       "1  Chula Vista                       F             Checkup               f   \n",
       "2       Austin                 No Pref             Checkup               t   \n",
       "3       Golden                 No Pref  Specific Treatment               t   \n",
       "4      Chicago                       F             Checkup               f   \n",
       "\n",
       "   number_of_match_results  out_network_results_shown  \\\n",
       "0                        9                          0   \n",
       "1                        2                          0   \n",
       "2                        9                          8   \n",
       "3                        8                          2   \n",
       "4                        9                          0   \n",
       "\n",
       "   in_network_results_shown  avg_distance_overall appointment_requested  \n",
       "0                         0          10547.219510                     f  \n",
       "1                         0          20784.617720                     f  \n",
       "2                         1           8014.945931                     t  \n",
       "3                         6          16651.158750                     f  \n",
       "4                         0           5216.934559                     f  "
      ]
     },
     "execution_count": 62,
     "metadata": {},
     "output_type": "execute_result"
    }
   ],
   "source": [
    "#Remove columns from above test\n",
    "df.drop('source2', inplace=True, axis=1)\n",
    "df.head()"
   ]
  },
  {
   "cell_type": "markdown",
   "metadata": {},
   "source": [
    "Now check for duplicated rows - we have 696 duplicated rows"
   ]
  },
  {
   "cell_type": "code",
   "execution_count": 63,
   "metadata": {},
   "outputs": [
    {
     "name": "stdout",
     "output_type": "stream",
     "text": [
      "696\n",
      "(17503, 12)\n"
     ]
    }
   ],
   "source": [
    "# Now check for duplicated rows - we have 696 entirely duplicated rows\n",
    "print(df.duplicated().sum())\n",
    "print(df.shape)"
   ]
  },
  {
   "cell_type": "markdown",
   "metadata": {},
   "source": [
    "We drop this data (these 696 rows) since they are entirely duplicative in the dataset."
   ]
  },
  {
   "cell_type": "code",
   "execution_count": 64,
   "metadata": {},
   "outputs": [
    {
     "data": {
      "text/plain": [
       "(16807, 12)"
      ]
     },
     "execution_count": 64,
     "metadata": {},
     "output_type": "execute_result"
    }
   ],
   "source": [
    "df.drop_duplicates(inplace=True)\n",
    "df.shape"
   ]
  },
  {
   "cell_type": "markdown",
   "metadata": {},
   "source": [
    "Now lets look at NaNs"
   ]
  },
  {
   "cell_type": "code",
   "execution_count": 65,
   "metadata": {},
   "outputs": [
    {
     "data": {
      "text/plain": [
       "source                        26\n",
       "campaign                      12\n",
       "region                         0\n",
       "locality                       0\n",
       "preferred_doctor_gender        0\n",
       "reason_for_visit              10\n",
       "patient_insured                0\n",
       "number_of_match_results        0\n",
       "out_network_results_shown      0\n",
       "in_network_results_shown       0\n",
       "avg_distance_overall         504\n",
       "appointment_requested          0\n",
       "dtype: int64"
      ]
     },
     "execution_count": 65,
     "metadata": {},
     "output_type": "execute_result"
    }
   ],
   "source": [
    "df.isna().sum()"
   ]
  },
  {
   "cell_type": "markdown",
   "metadata": {},
   "source": [
    "Lets explore the data column-by-coumn, assess its quality and make decisions along the way"
   ]
  },
  {
   "cell_type": "code",
   "execution_count": 66,
   "metadata": {},
   "outputs": [
    {
     "data": {
      "image/png": "[encoded data removed]",
      "text/plain": [
       "<Figure size 432x288 with 1 Axes>"
      ]
     },
     "metadata": {
      "needs_background": "light"
     },
     "output_type": "display_data"
    },
    {
     "data": {
      "text/plain": [
       "facebook                         10160\n",
       "adwords                           1674\n",
       "Patients                           961\n",
       "www.healthcare.com                 861\n",
       "try.healthcare.com                 600\n",
       "Branded - SEO                      424\n",
       "Direct                             340\n",
       "growsumo                           247\n",
       "SEO - C/S Page                     243\n",
       "drip_gift_card_4                   183\n",
       "Branded - Adwords                  173\n",
       "patient_leads_jun_2018             158\n",
       "jan_2018_high_offer                140\n",
       "www.facebook.com                   134\n",
       "m.facebook.com                     110\n",
       "lm.facebook.com                     74\n",
       "l.facebook.com                      51\n",
       "patient_leads_may_2018              36\n",
       "may_long_weekend                    32\n",
       "cancellation                        25\n",
       "instagram.com                       18\n",
       "www.healthcare.com:443              10\n",
       "www.google.com                       9\n",
       "noshow                               8\n",
       "drip_no_card_4                       8\n",
       "gmail                                7\n",
       "direct_mail                          6\n",
       "duckduckgo.com                       6\n",
       "SEO - Profile                        5\n",
       "drip_gift_card_1                     5\n",
       "                                 ...  \n",
       "www.collaborativefund.com            2\n",
       "www.stephengordondds.com             1\n",
       "www.webcrawler.com                   1\n",
       "doctorfrisco-tx.com                  1\n",
       "www.avaorthodontics.com              1\n",
       "www.thedowntowndoctorcs.com          1\n",
       "www.totalhealthmedicalpc.com         1\n",
       "alluremedicalsf.com                  1\n",
       "www.ecosia.org                       1\n",
       "www.ltsmiles.com                     1\n",
       "www.8to8medicalcare.com              1\n",
       "try.healthcare.com:80                1\n",
       "www.premiermedicalboerne.com         1\n",
       "www.colbertmedicalcenter.com         1\n",
       "mckinneysmiles.com                   1\n",
       "www.ecklandfamilydoctorry.com        1\n",
       "www.health247.com                    1\n",
       "www.drmerey.com                      1\n",
       "www.mycedarparkdoctor.com            1\n",
       "www.manosdecristo.org:80             1\n",
       "search.myway.com:80                  1\n",
       "l.facebook.com:443                   1\n",
       "www.tedfordmedical.com               1\n",
       "results.searchlock.com               1\n",
       "www.drloewinger.com                  1\n",
       "start.att.net                        1\n",
       "egglestonoms.clickforward.com        1\n",
       "r.search.aol.com:443                 1\n",
       "l.facebook.com:80                    1\n",
       "search.pch.com                       1\n",
       "Name: source, Length: 73, dtype: int64"
      ]
     },
     "metadata": {},
     "output_type": "display_data"
    }
   ],
   "source": [
    "#first the Source column. Since its a series, we can use the value_counts() func\n",
    "plt.figure()\n",
    "plt.bar(df['source'].value_counts().index, df['source'].value_counts().values)\n",
    "plt.show()\n",
    "\n",
    "\n",
    "display(df['source'].value_counts())"
   ]
  },
  {
   "cell_type": "markdown",
   "metadata": {},
   "source": [
    "We see that there are many different entries in the 'source' column t be useful. We will label NaNs, and all entries not labelled as 'Facebook', 'adwords', 'Patients', or 'Direct' as 'Other'. All entries of 'Facebook' or variants will be labelled collectively as 'Facebook' for consistency.\n",
    "\n",
    "If there was additional time, I would consult with the Marketing Department to discuss if this strategy is the best approach and get any additonal information on what other sources may be valuable to keep. \n"
   ]
  },
  {
   "cell_type": "code",
   "execution_count": 67,
   "metadata": {},
   "outputs": [],
   "source": [
    "#Facebook fix\n",
    "\n",
    "#first get rid of NaNs OR classify them as 'Facebook' since most entries are facebook, OR lavel them as 'Other' since we dont know\n",
    "df['source'].fillna('Other', inplace=True)\n",
    "\n",
    "#as a note, this is case-sensitive. This will look at any row in the df where the source column contains 'facebook', and replace that cell\n",
    "#MAKE SURE THERE ARE NO NANs\n",
    "df.loc[df['source'].str.contains('facebook'), 'source'] = 'Facebook'\n",
    "\n",
    "#now re-label anything thats not 'Facebook', 'adwords', 'Patients', or 'Direct' as 'Other'\n",
    "other_cols = ['Facebook', 'adwords','Patients', 'Direct','Other']\n",
    "df.loc[~df['source'].isin(other_cols), 'source'] = 'Other'\n"
   ]
  },
  {
   "cell_type": "code",
   "execution_count": 68,
   "metadata": {},
   "outputs": [
    {
     "data": {
      "image/png": "[encoded data removed]",
      "text/plain": [
       "<Figure size 432x288 with 1 Axes>"
      ]
     },
     "metadata": {
      "needs_background": "light"
     },
     "output_type": "display_data"
    }
   ],
   "source": [
    "#now lets plot again and see\n",
    "plt.figure()\n",
    "plt.bar(df['source'].value_counts().index, df['source'].value_counts().values)\n",
    "plt.show()"
   ]
  },
  {
   "cell_type": "markdown",
   "metadata": {},
   "source": [
    "Now this plot looks much better!"
   ]
  },
  {
   "cell_type": "markdown",
   "metadata": {},
   "source": [
    "Now lets look at another column - Campaign"
   ]
  },
  {
   "cell_type": "code",
   "execution_count": 69,
   "metadata": {},
   "outputs": [
    {
     "data": {
      "image/png": "[encoded data removed]",
      "text/plain": [
       "<Figure size 432x288 with 1 Axes>"
      ]
     },
     "metadata": {
      "needs_background": "light"
     },
     "output_type": "display_data"
    },
    {
     "data": {
      "text/plain": [
       "Unknown                                          3624\n",
       "chicago_doctor_patient_acquisition               1910\n",
       "seattle_doctor_patient_acquisition               1875\n",
       "austin_doctor_patient_acquisition                1840\n",
       "san_francisco_doctor_patient_acquisition         1397\n",
       "denver_doctor_patient_acquisition                1102\n",
       "san_jose_doctor_patient_acquisition               808\n",
       "san_diego_doctor_patient_acquisition              684\n",
       "search_chicago_local                              450\n",
       "doctor_patient_acquisition                        409\n",
       "patient_leads_jun_2018                            390\n",
       "search_seattle_metro                              294\n",
       "search_austin_local                               241\n",
       "search_sanfrancisco_metro                         202\n",
       "branded_keywords                                  202\n",
       "search_seattle_local                              181\n",
       "jan_2018_high_offer                               177\n",
       "search_sanfrancisco_local                         176\n",
       "search_chicago_metro                              158\n",
       "patient_leads_may_2018                            123\n",
       "us_doctor_patient_remarketing                     103\n",
       "healthcare_facebook_page                           68\n",
       "new                                                62\n",
       "sanfrancisco_doctor_patient_acquisition            57\n",
       "us_doctor_patient_ad_testing                       55\n",
       "search_austin_metro                                51\n",
       "patient_leads_mar_2018                             47\n",
       "toronto_doctor_patient_acquisition                 31\n",
       "patient_leads_feb_2018                             25\n",
       "us_patients                                        15\n",
       "april_2018_email_blast                              6\n",
       "us_doctor_patient_acquisition                       5\n",
       "site_link                                           5\n",
       "patients                                            3\n",
       "same                                                3\n",
       "seattle_doctor_patient_acquisition_targeted         2\n",
       "main_chicago                                        2\n",
       "feb_2018_email_blast                                1\n",
       "chicago_doctor_patient_acquisition_healthcare       1\n",
       "chicato_doctor_patient_acquisition                  1\n",
       "main_seattle                                        1\n",
       "patient_leads                                       1\n",
       "april_2018_referral_drip_leads                      1\n",
       "Free Credits                                        1\n",
       "denver_patients                                     1\n",
       "seattle_doctor_patient_acquisition_healthcare       1\n",
       "seattle_doctor_patient_remarketing                  1\n",
       "uber                                                1\n",
       "chicago_doctor_patient_remarketing                  1\n",
       "Name: campaign, dtype: int64"
      ]
     },
     "metadata": {},
     "output_type": "display_data"
    }
   ],
   "source": [
    "plt.figure()\n",
    "plt.bar(df['campaign'].value_counts().index, df['campaign'].value_counts().values)\n",
    "plt.show()\n",
    "\n",
    "\n",
    "display(df['campaign'].value_counts())"
   ]
  },
  {
   "cell_type": "code",
   "execution_count": 70,
   "metadata": {},
   "outputs": [],
   "source": [
    "# We'll bucket any NaN as Unknown\n",
    "df['campaign'].fillna('Unknown', inplace=True)\n",
    "\n",
    "\n",
    "# We'll bucket all entries containing 'doctor_patient_aquisition' together\n",
    "df.loc[df['campaign'].str.contains('doctor_patient_acquisition'), 'campaign'] = 'doctor_patient_acquisition'\n",
    "\n",
    "\n",
    "# We'll bucket all entries containing 'search' together \n",
    "df.loc[df['campaign'].str.contains('search'), 'campaign'] = 'search'\n",
    "\n",
    "\n",
    "# We'll bucket all entries containing 'patient_leads' toegther\n",
    "df.loc[df['campaign'].str.contains('patient_leads'), 'campaign'] = 'patient_leads'\n",
    "\n",
    "\n",
    "# We'll bucket all remaining entries as 'Other'\n",
    "labels_to_keep = ['Unknown', 'doctor_patient_acquisition', 'search', 'patient_leads']\n",
    "df.loc[~df['campaign'].isin(labels_to_keep), 'campaign'] = 'Other'\n"
   ]
  },
  {
   "cell_type": "markdown",
   "metadata": {},
   "source": [
    "View this column as a bar plot"
   ]
  },
  {
   "cell_type": "code",
   "execution_count": 71,
   "metadata": {},
   "outputs": [
    {
     "data": {
      "image/png": "[encoded data removed]",
      "text/plain": [
       "<Figure size 432x288 with 1 Axes>"
      ]
     },
     "metadata": {
      "needs_background": "light"
     },
     "output_type": "display_data"
    }
   ],
   "source": [
    "plt.figure()\n",
    "plt.bar(df['campaign'].value_counts().index, df['campaign'].value_counts().values)\n",
    "plt.show()"
   ]
  },
  {
   "cell_type": "markdown",
   "metadata": {},
   "source": [
    "Lets look at Region"
   ]
  },
  {
   "cell_type": "code",
   "execution_count": 73,
   "metadata": {},
   "outputs": [
    {
     "data": {
      "image/png": "[encoded data removed]",
      "text/plain": [
       "<Figure size 432x288 with 1 Axes>"
      ]
     },
     "metadata": {
      "needs_background": "light"
     },
     "output_type": "display_data"
    },
    {
     "data": {
      "text/plain": [
       "Chicago          3694\n",
       "Seattle          3424\n",
       "Austin           3074\n",
       "San Francisco    2821\n",
       "Denver           1753\n",
       "San Jose         1151\n",
       "San Diego         876\n",
       "Washington DC      14\n",
       "Name: region, dtype: int64"
      ]
     },
     "metadata": {},
     "output_type": "display_data"
    }
   ],
   "source": [
    "plt.figure()\n",
    "plt.bar(df['region'].value_counts().index, df['region'].value_counts().values)\n",
    "plt.show()\n",
    "\n",
    "display(df['region'].value_counts())"
   ]
  },
  {
   "cell_type": "markdown",
   "metadata": {},
   "source": [
    "The region column look okay, lets look at the next one 'locality'"
   ]
  },
  {
   "cell_type": "code",
   "execution_count": 74,
   "metadata": {},
   "outputs": [
    {
     "data": {
      "image/png": "[encoded data removed]",
      "text/plain": [
       "<Figure size 432x288 with 1 Axes>"
      ]
     },
     "metadata": {
      "needs_background": "light"
     },
     "output_type": "display_data"
    },
    {
     "data": {
      "text/plain": [
       "Chicago              2576\n",
       "Austin               2310\n",
       "San Francisco        1927\n",
       "Seattle              1675\n",
       "Denver               1127\n",
       "San Jose              756\n",
       "San Diego             645\n",
       "Oakland               243\n",
       "Bellevue              224\n",
       "Renton                214\n",
       "Aurora                209\n",
       "Round Rock            138\n",
       "Kent                  134\n",
       "Redmond               125\n",
       "Sunnyvale             114\n",
       "Bothell                94\n",
       "Lynnwood               92\n",
       "Everett                91\n",
       "Pflugerville           91\n",
       "Naperville             90\n",
       "Fremont                88\n",
       "Tacoma                 86\n",
       "Santa Clara            77\n",
       "Englewood              77\n",
       "Cedar Park             76\n",
       "Daly City              70\n",
       "Kirkland               68\n",
       "Littleton              67\n",
       "Federal Way            65\n",
       "Milpitas               57\n",
       "                     ... \n",
       "Big Spring              1\n",
       "Urbana                  1\n",
       "Driftwood               1\n",
       "Edgewood                1\n",
       "Henderson               1\n",
       "Lake Bluff              1\n",
       "Mount Vernon            1\n",
       "Montrose                1\n",
       "Winter Park             1\n",
       "Lamesa                  1\n",
       "Abilene                 1\n",
       "Solana Beach            1\n",
       "Missouri City           1\n",
       "Greenbank               1\n",
       "Breckenridge            1\n",
       "Edinburg                1\n",
       "Conroe                  1\n",
       "Winfield                1\n",
       "Geneva                  1\n",
       "Greenville              1\n",
       "Lakeway                 1\n",
       "Morris                  1\n",
       "Kennewick               1\n",
       "Dillon                  1\n",
       "Olympia Fields          1\n",
       "Dale                    1\n",
       "Snyder                  1\n",
       "Pasadena                1\n",
       "Lago Vista              1\n",
       "Steamboat Springs       1\n",
       "Name: locality, Length: 512, dtype: int64"
      ]
     },
     "metadata": {},
     "output_type": "display_data"
    }
   ],
   "source": [
    "plt.figure()\n",
    "plt.bar(df['locality'].value_counts().index, df['locality'].value_counts().values)\n",
    "plt.show()\n",
    "\n",
    "display(df['locality'].value_counts())"
   ]
  },
  {
   "cell_type": "code",
   "execution_count": null,
   "metadata": {},
   "outputs": [],
   "source": [
    "This column is very granular geographical data comapred to the region column which already gives us quality geographic data - so drop the locality column"
   ]
  },
  {
   "cell_type": "code",
   "execution_count": 75,
   "metadata": {},
   "outputs": [],
   "source": [
    "df.drop(['locality'], inplace=True, axis=1)"
   ]
  },
  {
   "cell_type": "code",
   "execution_count": 81,
   "metadata": {},
   "outputs": [
    {
     "data": {
      "text/plain": [
       "source                         0\n",
       "campaign                       0\n",
       "region                         0\n",
       "preferred_doctor_gender        0\n",
       "reason_for_visit              10\n",
       "patient_insured                0\n",
       "number_of_match_results        0\n",
       "out_network_results_shown      0\n",
       "in_network_results_shown       0\n",
       "avg_distance_overall         504\n",
       "appointment_requested          0\n",
       "dtype: int64"
      ]
     },
     "execution_count": 81,
     "metadata": {},
     "output_type": "execute_result"
    }
   ],
   "source": [
    "df.isna().sum()"
   ]
  },
  {
   "cell_type": "code",
   "execution_count": 111,
   "metadata": {},
   "outputs": [
    {
     "data": {
      "image/png": "[encoded data removed]",
      "text/plain": [
       "<Figure size 432x288 with 1 Axes>"
      ]
     },
     "metadata": {
      "needs_background": "light"
     },
     "output_type": "display_data"
    },
    {
     "data": {
      "text/plain": [
       "No Pref    12924\n",
       "F           2582\n",
       "M           1301\n",
       "Name: preferred_doctor_gender, dtype: int64"
      ]
     },
     "metadata": {},
     "output_type": "display_data"
    },
    {
     "data": {
      "image/png": "[encoded data removed]",
      "text/plain": [
       "<Figure size 432x288 with 1 Axes>"
      ]
     },
     "metadata": {
      "needs_background": "light"
     },
     "output_type": "display_data"
    },
    {
     "data": {
      "text/plain": [
       "Checkup               13158\n",
       "Specific Treatment     1950\n",
       "Urgent Issue           1699\n",
       "Name: reason_for_visit, dtype: int64"
      ]
     },
     "metadata": {},
     "output_type": "display_data"
    },
    {
     "data": {
      "image/png": "[encoded data removed]",
      "text/plain": [
       "<Figure size 432x288 with 1 Axes>"
      ]
     },
     "metadata": {
      "needs_background": "light"
     },
     "output_type": "display_data"
    },
    {
     "data": {
      "text/plain": [
       "1    12958\n",
       "0     3849\n",
       "Name: patient_insured, dtype: int64"
      ]
     },
     "metadata": {},
     "output_type": "display_data"
    },
    {
     "data": {
      "image/png": "[encoded data removed]",
      "text/plain": [
       "<Figure size 432x288 with 1 Axes>"
      ]
     },
     "metadata": {
      "needs_background": "light"
     },
     "output_type": "display_data"
    },
    {
     "data": {
      "text/plain": [
       "f    8525\n",
       "t    8282\n",
       "Name: appointment_requested, dtype: int64"
      ]
     },
     "metadata": {},
     "output_type": "display_data"
    }
   ],
   "source": [
    "#lets loop through the remaining columns\n",
    "categorical_columns = ['preferred_doctor_gender', \"reason_for_visit\", 'patient_insured', 'appointment_requested' ]\n",
    "\n",
    "for column in categorical_columns:\n",
    "    plt.figure()\n",
    "    plt.bar(df[column].value_counts().index, df[column].value_counts().values)\n",
    "    plt.title(column)\n",
    "    plt.show()\n",
    "\n",
    "    display(df[column].value_counts())\n",
    "    "
   ]
  },
  {
   "cell_type": "code",
   "execution_count": 86,
   "metadata": {},
   "outputs": [
    {
     "data": {
      "text/plain": [
       "'Checkup'"
      ]
     },
     "execution_count": 86,
     "metadata": {},
     "output_type": "execute_result"
    }
   ],
   "source": [
    "#for reason_for_visit column, we have 10 NaNs. We will treat them as the most common reason - i.e the mode\n",
    "df['reason_for_visit'].mode()[0]"
   ]
  },
  {
   "cell_type": "code",
   "execution_count": 87,
   "metadata": {},
   "outputs": [],
   "source": [
    "most_common_reason = df['reason_for_visit'].mode()[0]\n",
    "df['reason_for_visit'].fillna(most_common_reason, inplace=True)"
   ]
  },
  {
   "cell_type": "code",
   "execution_count": 89,
   "metadata": {},
   "outputs": [
    {
     "data": {
      "image/png": "[encoded data removed]",
      "text/plain": [
       "<Figure size 432x288 with 1 Axes>"
      ]
     },
     "metadata": {
      "needs_background": "light"
     },
     "output_type": "display_data"
    },
    {
     "data": {
      "text/plain": [
       "Checkup               13158\n",
       "Specific Treatment     1950\n",
       "Urgent Issue           1699\n",
       "Name: reason_for_visit, dtype: int64"
      ]
     },
     "metadata": {},
     "output_type": "display_data"
    }
   ],
   "source": [
    "plt.figure()\n",
    "plt.bar(df['reason_for_visit'].value_counts().index, df['reason_for_visit'].value_counts().values)\n",
    "plt.title('reason_for_visit')\n",
    "plt.show()\n",
    "\n",
    "display(df['reason_for_visit'].value_counts())"
   ]
  },
  {
   "cell_type": "code",
   "execution_count": 91,
   "metadata": {},
   "outputs": [
    {
     "data": {
      "image/png": "[encoded data removed]",
      "text/plain": [
       "<Figure size 432x288 with 1 Axes>"
      ]
     },
     "metadata": {
      "needs_background": "light"
     },
     "output_type": "display_data"
    },
    {
     "data": {
      "text/plain": [
       "9    10158\n",
       "8     1577\n",
       "5     1162\n",
       "6      824\n",
       "7      669\n",
       "3      551\n",
       "4      547\n",
       "0      504\n",
       "2      458\n",
       "1      357\n",
       "Name: number_of_match_results, dtype: int64"
      ]
     },
     "metadata": {},
     "output_type": "display_data"
    },
    {
     "data": {
      "image/png": "[encoded data removed]",
      "text/plain": [
       "<Figure size 432x288 with 1 Axes>"
      ]
     },
     "metadata": {
      "needs_background": "light"
     },
     "output_type": "display_data"
    },
    {
     "data": {
      "text/plain": [
       "0    6901\n",
       "1    1770\n",
       "2    1624\n",
       "3    1454\n",
       "4    1209\n",
       "5    1029\n",
       "6     885\n",
       "7     728\n",
       "8     678\n",
       "9     529\n",
       "Name: out_network_results_shown, dtype: int64"
      ]
     },
     "metadata": {},
     "output_type": "display_data"
    },
    {
     "data": {
      "image/png": "[encoded data removed]",
      "text/plain": [
       "<Figure size 432x288 with 1 Axes>"
      ]
     },
     "metadata": {
      "needs_background": "light"
     },
     "output_type": "display_data"
    },
    {
     "data": {
      "text/plain": [
       "0    5522\n",
       "9    2202\n",
       "1    1545\n",
       "3    1247\n",
       "4    1226\n",
       "2    1193\n",
       "6    1148\n",
       "7    1134\n",
       "5    1008\n",
       "8     582\n",
       "Name: in_network_results_shown, dtype: int64"
      ]
     },
     "metadata": {},
     "output_type": "display_data"
    },
    {
     "name": "stderr",
     "output_type": "stream",
     "text": [
      "C:\\Users\\Ali\\Anaconda3\\lib\\site-packages\\numpy\\lib\\histograms.py:754: RuntimeWarning: invalid value encountered in greater_equal\n",
      "  keep = (tmp_a >= first_edge)\n",
      "C:\\Users\\Ali\\Anaconda3\\lib\\site-packages\\numpy\\lib\\histograms.py:755: RuntimeWarning: invalid value encountered in less_equal\n",
      "  keep &= (tmp_a <= last_edge)\n"
     ]
    },
    {
     "data": {
      "image/png": "[encoded data removed]",
      "text/plain": [
       "<Figure size 432x288 with 1 Axes>"
      ]
     },
     "metadata": {
      "needs_background": "light"
     },
     "output_type": "display_data"
    },
    {
     "data": {
      "text/plain": [
       "2510.435723     36\n",
       "1752.618634     31\n",
       "6744.017210     28\n",
       "2725.723626     28\n",
       "6095.111931     27\n",
       "2079.625122     25\n",
       "4064.110233     25\n",
       "3495.725083     24\n",
       "16204.068480    22\n",
       "2720.823072     22\n",
       "5908.863460     20\n",
       "8788.974546     20\n",
       "2799.635272     20\n",
       "7263.521566     18\n",
       "7248.364073     18\n",
       "13972.718600    17\n",
       "4585.580071     17\n",
       "8897.692293     16\n",
       "8208.122792     16\n",
       "1421.658583     15\n",
       "7359.719802     15\n",
       "8926.377460     15\n",
       "9143.706180     15\n",
       "14992.756410    15\n",
       "11477.098290    15\n",
       "8199.904715     14\n",
       "13475.115510    14\n",
       "11089.144860    14\n",
       "7995.341738     14\n",
       "14828.882330    14\n",
       "                ..\n",
       "2065.057960      1\n",
       "8683.489931      1\n",
       "11664.938170     1\n",
       "14217.277230     1\n",
       "4645.035182      1\n",
       "14442.620640     1\n",
       "15674.660760     1\n",
       "10541.373120     1\n",
       "12272.885845     1\n",
       "14607.108090     1\n",
       "12184.673160     1\n",
       "19392.688700     1\n",
       "8692.372538      1\n",
       "11988.425680     1\n",
       "11091.750701     1\n",
       "8747.930874      1\n",
       "15242.478850     1\n",
       "12569.518460     1\n",
       "3744.405881      1\n",
       "6648.561541      1\n",
       "2746.430644      1\n",
       "11920.599780     1\n",
       "16706.269760     1\n",
       "20199.304556     1\n",
       "6687.321980      1\n",
       "10177.870270     1\n",
       "10257.198573     1\n",
       "10659.493555     1\n",
       "8790.516139      1\n",
       "9562.026969      1\n",
       "Name: avg_distance_overall, Length: 11827, dtype: int64"
      ]
     },
     "metadata": {},
     "output_type": "display_data"
    }
   ],
   "source": [
    "numerical_cols = ['number_of_match_results', 'out_network_results_shown', 'in_network_results_shown', 'avg_distance_overall']\n",
    "\n",
    "for column in numerical_cols:\n",
    "    plt.figure()\n",
    "    plt.hist(df[column])\n",
    "    plt.title(f\"Histogram of {column}\")\n",
    "    plt.show()\n",
    "\n",
    "    display(df[column].value_counts())"
   ]
  },
  {
   "cell_type": "code",
   "execution_count": 92,
   "metadata": {},
   "outputs": [
    {
     "name": "stdout",
     "output_type": "stream",
     "text": [
      "10793.829379743276\n",
      "10607.31675\n"
     ]
    }
   ],
   "source": [
    "print(df['avg_distance_overall'].mean())\n",
    "print(df['avg_distance_overall'].median())"
   ]
  },
  {
   "cell_type": "code",
   "execution_count": 97,
   "metadata": {},
   "outputs": [
    {
     "data": {
      "text/plain": [
       "region\n",
       "Austin           13453.469889\n",
       "Chicago           9590.677845\n",
       "Denver           11361.070215\n",
       "San Diego        13344.366220\n",
       "San Francisco     7840.323109\n",
       "San Jose         11518.665641\n",
       "Seattle          11106.886081\n",
       "Washington DC     2851.145865\n",
       "Name: avg_distance_overall, dtype: float64"
      ]
     },
     "metadata": {},
     "output_type": "display_data"
    },
    {
     "data": {
      "text/plain": [
       "pandas.core.series.Series"
      ]
     },
     "execution_count": 97,
     "metadata": {},
     "output_type": "execute_result"
    }
   ],
   "source": [
    "#We know we have 500+ NaNs. We will replace these NaNs with the mean avg_distance_overall in the region\n",
    "\n",
    "region_mean_dist = df.groupby(['region'])['avg_distance_overall'].mean()\n",
    "display(region_mean_dist)\n",
    "type(region_mean_dist) #it is a Series"
   ]
  },
  {
   "cell_type": "code",
   "execution_count": 101,
   "metadata": {},
   "outputs": [],
   "source": [
    "#Lets temporarily set the index in the df to region\n",
    "df.set_index(['region'], inplace=True)\n"
   ]
  },
  {
   "cell_type": "code",
   "execution_count": 102,
   "metadata": {},
   "outputs": [
    {
     "data": {
      "text/html": [
       "<div>\n",
       "<style scoped>\n",
       "    .dataframe tbody tr th:only-of-type {\n",
       "        vertical-align: middle;\n",
       "    }\n",
       "\n",
       "    .dataframe tbody tr th {\n",
       "        vertical-align: top;\n",
       "    }\n",
       "\n",
       "    .dataframe thead th {\n",
       "        text-align: right;\n",
       "    }\n",
       "</style>\n",
       "<table border=\"1\" class=\"dataframe\">\n",
       "  <thead>\n",
       "    <tr style=\"text-align: right;\">\n",
       "      <th></th>\n",
       "      <th>source</th>\n",
       "      <th>campaign</th>\n",
       "      <th>preferred_doctor_gender</th>\n",
       "      <th>reason_for_visit</th>\n",
       "      <th>patient_insured</th>\n",
       "      <th>number_of_match_results</th>\n",
       "      <th>out_network_results_shown</th>\n",
       "      <th>in_network_results_shown</th>\n",
       "      <th>avg_distance_overall</th>\n",
       "      <th>appointment_requested</th>\n",
       "    </tr>\n",
       "    <tr>\n",
       "      <th>region</th>\n",
       "      <th></th>\n",
       "      <th></th>\n",
       "      <th></th>\n",
       "      <th></th>\n",
       "      <th></th>\n",
       "      <th></th>\n",
       "      <th></th>\n",
       "      <th></th>\n",
       "      <th></th>\n",
       "      <th></th>\n",
       "    </tr>\n",
       "  </thead>\n",
       "  <tbody>\n",
       "    <tr>\n",
       "      <th>San Jose</th>\n",
       "      <td>Facebook</td>\n",
       "      <td>doctor_patient_acquisition</td>\n",
       "      <td>No Pref</td>\n",
       "      <td>Specific Treatment</td>\n",
       "      <td>f</td>\n",
       "      <td>9</td>\n",
       "      <td>0</td>\n",
       "      <td>0</td>\n",
       "      <td>10547.219510</td>\n",
       "      <td>f</td>\n",
       "    </tr>\n",
       "    <tr>\n",
       "      <th>San Diego</th>\n",
       "      <td>Facebook</td>\n",
       "      <td>doctor_patient_acquisition</td>\n",
       "      <td>F</td>\n",
       "      <td>Checkup</td>\n",
       "      <td>f</td>\n",
       "      <td>2</td>\n",
       "      <td>0</td>\n",
       "      <td>0</td>\n",
       "      <td>20784.617720</td>\n",
       "      <td>f</td>\n",
       "    </tr>\n",
       "    <tr>\n",
       "      <th>Austin</th>\n",
       "      <td>Other</td>\n",
       "      <td>Unknown</td>\n",
       "      <td>No Pref</td>\n",
       "      <td>Checkup</td>\n",
       "      <td>t</td>\n",
       "      <td>9</td>\n",
       "      <td>8</td>\n",
       "      <td>1</td>\n",
       "      <td>8014.945931</td>\n",
       "      <td>t</td>\n",
       "    </tr>\n",
       "    <tr>\n",
       "      <th>Denver</th>\n",
       "      <td>Facebook</td>\n",
       "      <td>doctor_patient_acquisition</td>\n",
       "      <td>No Pref</td>\n",
       "      <td>Specific Treatment</td>\n",
       "      <td>t</td>\n",
       "      <td>8</td>\n",
       "      <td>2</td>\n",
       "      <td>6</td>\n",
       "      <td>16651.158750</td>\n",
       "      <td>f</td>\n",
       "    </tr>\n",
       "    <tr>\n",
       "      <th>Chicago</th>\n",
       "      <td>Facebook</td>\n",
       "      <td>doctor_patient_acquisition</td>\n",
       "      <td>F</td>\n",
       "      <td>Checkup</td>\n",
       "      <td>f</td>\n",
       "      <td>9</td>\n",
       "      <td>0</td>\n",
       "      <td>0</td>\n",
       "      <td>5216.934559</td>\n",
       "      <td>f</td>\n",
       "    </tr>\n",
       "  </tbody>\n",
       "</table>\n",
       "</div>"
      ],
      "text/plain": [
       "             source                    campaign preferred_doctor_gender  \\\n",
       "region                                                                    \n",
       "San Jose   Facebook  doctor_patient_acquisition                 No Pref   \n",
       "San Diego  Facebook  doctor_patient_acquisition                       F   \n",
       "Austin        Other                     Unknown                 No Pref   \n",
       "Denver     Facebook  doctor_patient_acquisition                 No Pref   \n",
       "Chicago    Facebook  doctor_patient_acquisition                       F   \n",
       "\n",
       "             reason_for_visit patient_insured  number_of_match_results  \\\n",
       "region                                                                   \n",
       "San Jose   Specific Treatment               f                        9   \n",
       "San Diego             Checkup               f                        2   \n",
       "Austin                Checkup               t                        9   \n",
       "Denver     Specific Treatment               t                        8   \n",
       "Chicago               Checkup               f                        9   \n",
       "\n",
       "           out_network_results_shown  in_network_results_shown  \\\n",
       "region                                                           \n",
       "San Jose                           0                         0   \n",
       "San Diego                          0                         0   \n",
       "Austin                             8                         1   \n",
       "Denver                             2                         6   \n",
       "Chicago                            0                         0   \n",
       "\n",
       "           avg_distance_overall appointment_requested  \n",
       "region                                                 \n",
       "San Jose           10547.219510                     f  \n",
       "San Diego          20784.617720                     f  \n",
       "Austin              8014.945931                     t  \n",
       "Denver             16651.158750                     f  \n",
       "Chicago             5216.934559                     f  "
      ]
     },
     "execution_count": 102,
     "metadata": {},
     "output_type": "execute_result"
    }
   ],
   "source": [
    "df.head()"
   ]
  },
  {
   "cell_type": "code",
   "execution_count": 103,
   "metadata": {},
   "outputs": [
    {
     "data": {
      "text/plain": [
       "source                       0\n",
       "campaign                     0\n",
       "preferred_doctor_gender      0\n",
       "reason_for_visit             0\n",
       "patient_insured              0\n",
       "number_of_match_results      0\n",
       "out_network_results_shown    0\n",
       "in_network_results_shown     0\n",
       "avg_distance_overall         0\n",
       "appointment_requested        0\n",
       "dtype: int64"
      ]
     },
     "execution_count": 103,
     "metadata": {},
     "output_type": "execute_result"
    }
   ],
   "source": [
    "#now set NaNs to mean\n",
    "df['avg_distance_overall'].fillna(region_mean_dist, inplace=True)\n",
    "df.isna().sum()"
   ]
  },
  {
   "cell_type": "code",
   "execution_count": 104,
   "metadata": {},
   "outputs": [],
   "source": [
    "df.reset_index(inplace=True)"
   ]
  },
  {
   "cell_type": "code",
   "execution_count": 105,
   "metadata": {},
   "outputs": [
    {
     "data": {
      "text/plain": [
       "region                       0\n",
       "source                       0\n",
       "campaign                     0\n",
       "preferred_doctor_gender      0\n",
       "reason_for_visit             0\n",
       "patient_insured              0\n",
       "number_of_match_results      0\n",
       "out_network_results_shown    0\n",
       "in_network_results_shown     0\n",
       "avg_distance_overall         0\n",
       "appointment_requested        0\n",
       "dtype: int64"
      ]
     },
     "execution_count": 105,
     "metadata": {},
     "output_type": "execute_result"
    }
   ],
   "source": [
    "df.isna().sum()"
   ]
  },
  {
   "cell_type": "markdown",
   "metadata": {},
   "source": [
    "Now that our data is pretty clean, lets proceed to building our model. \n",
    "\n",
    "From previous excersizes, we built our model using continuous independent variables (to predict continuous vars - Linear reg, or categorical var - Logistic Reg). What about when using categorical independent values? Convert them to numeric!"
   ]
  },
  {
   "cell_type": "markdown",
   "metadata": {},
   "source": [
    "No more NaN values!"
   ]
  },
  {
   "cell_type": "markdown",
   "metadata": {},
   "source": [
    "# Building our Model"
   ]
  },
  {
   "cell_type": "markdown",
   "metadata": {},
   "source": [
    "## Model steps:\n",
    "\n",
    "#1) Define X and Y\n",
    "#2) Instantiate model\n",
    "#3) Fit your model\n",
    "#4) Evaluate\n"
   ]
  },
  {
   "cell_type": "code",
   "execution_count": null,
   "metadata": {},
   "outputs": [],
   "source": [
    "df['patient_insured'] = df['patient_insured'].replace(to_replace={'f':0, 't':1}) #using the dictionary allows you to do this all at once\n",
    "df['appointment_requested'] = df['appointment_requested'].replace(to_replace={'f':0, 't':1})"
   ]
  },
  {
   "cell_type": "code",
   "execution_count": 113,
   "metadata": {},
   "outputs": [
    {
     "data": {
      "text/html": [
       "<div>\n",
       "<style scoped>\n",
       "    .dataframe tbody tr th:only-of-type {\n",
       "        vertical-align: middle;\n",
       "    }\n",
       "\n",
       "    .dataframe tbody tr th {\n",
       "        vertical-align: top;\n",
       "    }\n",
       "\n",
       "    .dataframe thead th {\n",
       "        text-align: right;\n",
       "    }\n",
       "</style>\n",
       "<table border=\"1\" class=\"dataframe\">\n",
       "  <thead>\n",
       "    <tr style=\"text-align: right;\">\n",
       "      <th></th>\n",
       "      <th>region</th>\n",
       "      <th>source</th>\n",
       "      <th>campaign</th>\n",
       "      <th>preferred_doctor_gender</th>\n",
       "      <th>reason_for_visit</th>\n",
       "      <th>patient_insured</th>\n",
       "      <th>number_of_match_results</th>\n",
       "      <th>out_network_results_shown</th>\n",
       "      <th>in_network_results_shown</th>\n",
       "      <th>avg_distance_overall</th>\n",
       "      <th>appointment_requested</th>\n",
       "    </tr>\n",
       "  </thead>\n",
       "  <tbody>\n",
       "    <tr>\n",
       "      <th>0</th>\n",
       "      <td>San Jose</td>\n",
       "      <td>Facebook</td>\n",
       "      <td>doctor_patient_acquisition</td>\n",
       "      <td>No Pref</td>\n",
       "      <td>Specific Treatment</td>\n",
       "      <td>0</td>\n",
       "      <td>9</td>\n",
       "      <td>0</td>\n",
       "      <td>0</td>\n",
       "      <td>10547.219510</td>\n",
       "      <td>0</td>\n",
       "    </tr>\n",
       "    <tr>\n",
       "      <th>1</th>\n",
       "      <td>San Diego</td>\n",
       "      <td>Facebook</td>\n",
       "      <td>doctor_patient_acquisition</td>\n",
       "      <td>F</td>\n",
       "      <td>Checkup</td>\n",
       "      <td>0</td>\n",
       "      <td>2</td>\n",
       "      <td>0</td>\n",
       "      <td>0</td>\n",
       "      <td>20784.617720</td>\n",
       "      <td>0</td>\n",
       "    </tr>\n",
       "    <tr>\n",
       "      <th>2</th>\n",
       "      <td>Austin</td>\n",
       "      <td>Other</td>\n",
       "      <td>Unknown</td>\n",
       "      <td>No Pref</td>\n",
       "      <td>Checkup</td>\n",
       "      <td>1</td>\n",
       "      <td>9</td>\n",
       "      <td>8</td>\n",
       "      <td>1</td>\n",
       "      <td>8014.945931</td>\n",
       "      <td>1</td>\n",
       "    </tr>\n",
       "    <tr>\n",
       "      <th>3</th>\n",
       "      <td>Denver</td>\n",
       "      <td>Facebook</td>\n",
       "      <td>doctor_patient_acquisition</td>\n",
       "      <td>No Pref</td>\n",
       "      <td>Specific Treatment</td>\n",
       "      <td>1</td>\n",
       "      <td>8</td>\n",
       "      <td>2</td>\n",
       "      <td>6</td>\n",
       "      <td>16651.158750</td>\n",
       "      <td>0</td>\n",
       "    </tr>\n",
       "    <tr>\n",
       "      <th>4</th>\n",
       "      <td>Chicago</td>\n",
       "      <td>Facebook</td>\n",
       "      <td>doctor_patient_acquisition</td>\n",
       "      <td>F</td>\n",
       "      <td>Checkup</td>\n",
       "      <td>0</td>\n",
       "      <td>9</td>\n",
       "      <td>0</td>\n",
       "      <td>0</td>\n",
       "      <td>5216.934559</td>\n",
       "      <td>0</td>\n",
       "    </tr>\n",
       "  </tbody>\n",
       "</table>\n",
       "</div>"
      ],
      "text/plain": [
       "      region    source                    campaign preferred_doctor_gender  \\\n",
       "0   San Jose  Facebook  doctor_patient_acquisition                 No Pref   \n",
       "1  San Diego  Facebook  doctor_patient_acquisition                       F   \n",
       "2     Austin     Other                     Unknown                 No Pref   \n",
       "3     Denver  Facebook  doctor_patient_acquisition                 No Pref   \n",
       "4    Chicago  Facebook  doctor_patient_acquisition                       F   \n",
       "\n",
       "     reason_for_visit  patient_insured  number_of_match_results  \\\n",
       "0  Specific Treatment                0                        9   \n",
       "1             Checkup                0                        2   \n",
       "2             Checkup                1                        9   \n",
       "3  Specific Treatment                1                        8   \n",
       "4             Checkup                0                        9   \n",
       "\n",
       "   out_network_results_shown  in_network_results_shown  avg_distance_overall  \\\n",
       "0                          0                         0          10547.219510   \n",
       "1                          0                         0          20784.617720   \n",
       "2                          8                         1           8014.945931   \n",
       "3                          2                         6          16651.158750   \n",
       "4                          0                         0           5216.934559   \n",
       "\n",
       "   appointment_requested  \n",
       "0                      0  \n",
       "1                      0  \n",
       "2                      1  \n",
       "3                      0  \n",
       "4                      0  "
      ]
     },
     "execution_count": 113,
     "metadata": {},
     "output_type": "execute_result"
    }
   ],
   "source": [
    "df.head()"
   ]
  },
  {
   "cell_type": "markdown",
   "metadata": {},
   "source": [
    "We have converted all the categorical columns with binary outcomes to numerical ones uisng 0 and 1. But what about categorical columns with multiple outcomes like region?\n",
    "\n",
    "In R, we would convert these to 'factors', which in Python is equivalent to a dictionary where the key is the category (factor in R) and the value is the numerical conversion (levels in R).\n",
    "\n",
    "For example, regions: San Jose, San Diego, Austin, San Jose -- would have factors of: San Jose, San Diego and Austin, with Levels of 0, 1 and 2."
   ]
  },
  {
   "cell_type": "code",
   "execution_count": 127,
   "metadata": {},
   "outputs": [
    {
     "name": "stdout",
     "output_type": "stream",
     "text": [
      "Index(['region', 'source', 'campaign', 'preferred_doctor_gender',\n",
      "       'reason_for_visit', 'patient_insured', 'number_of_match_results',\n",
      "       'out_network_results_shown', 'in_network_results_shown',\n",
      "       'avg_distance_overall'],\n",
      "      dtype='object')\n"
     ]
    }
   ],
   "source": [
    "#Define X and Y\n",
    "X = df.iloc[:, :-1] #every row, all columns except last one\n",
    "y = df['appointment_requested']\n",
    "print(X.columns)\n",
    "\n",
    "#Create dummy variables for categorical data\n",
    "X = pd.get_dummies(X) #could set drop_first to true to get rid of the redundant dummy vars, but we will keep it false for now sicne regularization takes care of this\n",
    "\n",
    "#EXCERSIZE - compare above with a version where drop_first=True"
   ]
  },
  {
   "cell_type": "code",
   "execution_count": 122,
   "metadata": {},
   "outputs": [
    {
     "data": {
      "text/html": [
       "<div>\n",
       "<style scoped>\n",
       "    .dataframe tbody tr th:only-of-type {\n",
       "        vertical-align: middle;\n",
       "    }\n",
       "\n",
       "    .dataframe tbody tr th {\n",
       "        vertical-align: top;\n",
       "    }\n",
       "\n",
       "    .dataframe thead th {\n",
       "        text-align: right;\n",
       "    }\n",
       "</style>\n",
       "<table border=\"1\" class=\"dataframe\">\n",
       "  <thead>\n",
       "    <tr style=\"text-align: right;\">\n",
       "      <th></th>\n",
       "      <th>patient_insured</th>\n",
       "      <th>number_of_match_results</th>\n",
       "      <th>out_network_results_shown</th>\n",
       "      <th>in_network_results_shown</th>\n",
       "      <th>avg_distance_overall</th>\n",
       "      <th>region_Austin</th>\n",
       "      <th>region_Chicago</th>\n",
       "      <th>region_Denver</th>\n",
       "      <th>region_San Diego</th>\n",
       "      <th>region_San Francisco</th>\n",
       "      <th>...</th>\n",
       "      <th>campaign_Unknown</th>\n",
       "      <th>campaign_doctor_patient_acquisition</th>\n",
       "      <th>campaign_patient_leads</th>\n",
       "      <th>campaign_search</th>\n",
       "      <th>preferred_doctor_gender_F</th>\n",
       "      <th>preferred_doctor_gender_M</th>\n",
       "      <th>preferred_doctor_gender_No Pref</th>\n",
       "      <th>reason_for_visit_Checkup</th>\n",
       "      <th>reason_for_visit_Specific Treatment</th>\n",
       "      <th>reason_for_visit_Urgent Issue</th>\n",
       "    </tr>\n",
       "  </thead>\n",
       "  <tbody>\n",
       "    <tr>\n",
       "      <th>0</th>\n",
       "      <td>0</td>\n",
       "      <td>9</td>\n",
       "      <td>0</td>\n",
       "      <td>0</td>\n",
       "      <td>10547.219510</td>\n",
       "      <td>0</td>\n",
       "      <td>0</td>\n",
       "      <td>0</td>\n",
       "      <td>0</td>\n",
       "      <td>0</td>\n",
       "      <td>...</td>\n",
       "      <td>0</td>\n",
       "      <td>1</td>\n",
       "      <td>0</td>\n",
       "      <td>0</td>\n",
       "      <td>0</td>\n",
       "      <td>0</td>\n",
       "      <td>1</td>\n",
       "      <td>0</td>\n",
       "      <td>1</td>\n",
       "      <td>0</td>\n",
       "    </tr>\n",
       "    <tr>\n",
       "      <th>1</th>\n",
       "      <td>0</td>\n",
       "      <td>2</td>\n",
       "      <td>0</td>\n",
       "      <td>0</td>\n",
       "      <td>20784.617720</td>\n",
       "      <td>0</td>\n",
       "      <td>0</td>\n",
       "      <td>0</td>\n",
       "      <td>1</td>\n",
       "      <td>0</td>\n",
       "      <td>...</td>\n",
       "      <td>0</td>\n",
       "      <td>1</td>\n",
       "      <td>0</td>\n",
       "      <td>0</td>\n",
       "      <td>1</td>\n",
       "      <td>0</td>\n",
       "      <td>0</td>\n",
       "      <td>1</td>\n",
       "      <td>0</td>\n",
       "      <td>0</td>\n",
       "    </tr>\n",
       "    <tr>\n",
       "      <th>2</th>\n",
       "      <td>1</td>\n",
       "      <td>9</td>\n",
       "      <td>8</td>\n",
       "      <td>1</td>\n",
       "      <td>8014.945931</td>\n",
       "      <td>1</td>\n",
       "      <td>0</td>\n",
       "      <td>0</td>\n",
       "      <td>0</td>\n",
       "      <td>0</td>\n",
       "      <td>...</td>\n",
       "      <td>1</td>\n",
       "      <td>0</td>\n",
       "      <td>0</td>\n",
       "      <td>0</td>\n",
       "      <td>0</td>\n",
       "      <td>0</td>\n",
       "      <td>1</td>\n",
       "      <td>1</td>\n",
       "      <td>0</td>\n",
       "      <td>0</td>\n",
       "    </tr>\n",
       "    <tr>\n",
       "      <th>3</th>\n",
       "      <td>1</td>\n",
       "      <td>8</td>\n",
       "      <td>2</td>\n",
       "      <td>6</td>\n",
       "      <td>16651.158750</td>\n",
       "      <td>0</td>\n",
       "      <td>0</td>\n",
       "      <td>1</td>\n",
       "      <td>0</td>\n",
       "      <td>0</td>\n",
       "      <td>...</td>\n",
       "      <td>0</td>\n",
       "      <td>1</td>\n",
       "      <td>0</td>\n",
       "      <td>0</td>\n",
       "      <td>0</td>\n",
       "      <td>0</td>\n",
       "      <td>1</td>\n",
       "      <td>0</td>\n",
       "      <td>1</td>\n",
       "      <td>0</td>\n",
       "    </tr>\n",
       "    <tr>\n",
       "      <th>4</th>\n",
       "      <td>0</td>\n",
       "      <td>9</td>\n",
       "      <td>0</td>\n",
       "      <td>0</td>\n",
       "      <td>5216.934559</td>\n",
       "      <td>0</td>\n",
       "      <td>1</td>\n",
       "      <td>0</td>\n",
       "      <td>0</td>\n",
       "      <td>0</td>\n",
       "      <td>...</td>\n",
       "      <td>0</td>\n",
       "      <td>1</td>\n",
       "      <td>0</td>\n",
       "      <td>0</td>\n",
       "      <td>1</td>\n",
       "      <td>0</td>\n",
       "      <td>0</td>\n",
       "      <td>1</td>\n",
       "      <td>0</td>\n",
       "      <td>0</td>\n",
       "    </tr>\n",
       "  </tbody>\n",
       "</table>\n",
       "<p>5 rows × 29 columns</p>\n",
       "</div>"
      ],
      "text/plain": [
       "   patient_insured  number_of_match_results  out_network_results_shown  \\\n",
       "0                0                        9                          0   \n",
       "1                0                        2                          0   \n",
       "2                1                        9                          8   \n",
       "3                1                        8                          2   \n",
       "4                0                        9                          0   \n",
       "\n",
       "   in_network_results_shown  avg_distance_overall  region_Austin  \\\n",
       "0                         0          10547.219510              0   \n",
       "1                         0          20784.617720              0   \n",
       "2                         1           8014.945931              1   \n",
       "3                         6          16651.158750              0   \n",
       "4                         0           5216.934559              0   \n",
       "\n",
       "   region_Chicago  region_Denver  region_San Diego  region_San Francisco  \\\n",
       "0               0              0                 0                     0   \n",
       "1               0              0                 1                     0   \n",
       "2               0              0                 0                     0   \n",
       "3               0              1                 0                     0   \n",
       "4               1              0                 0                     0   \n",
       "\n",
       "               ...                campaign_Unknown  \\\n",
       "0              ...                               0   \n",
       "1              ...                               0   \n",
       "2              ...                               1   \n",
       "3              ...                               0   \n",
       "4              ...                               0   \n",
       "\n",
       "   campaign_doctor_patient_acquisition  campaign_patient_leads  \\\n",
       "0                                    1                       0   \n",
       "1                                    1                       0   \n",
       "2                                    0                       0   \n",
       "3                                    1                       0   \n",
       "4                                    1                       0   \n",
       "\n",
       "   campaign_search  preferred_doctor_gender_F  preferred_doctor_gender_M  \\\n",
       "0                0                          0                          0   \n",
       "1                0                          1                          0   \n",
       "2                0                          0                          0   \n",
       "3                0                          0                          0   \n",
       "4                0                          1                          0   \n",
       "\n",
       "   preferred_doctor_gender_No Pref  reason_for_visit_Checkup  \\\n",
       "0                                1                         0   \n",
       "1                                0                         1   \n",
       "2                                1                         1   \n",
       "3                                1                         0   \n",
       "4                                0                         1   \n",
       "\n",
       "   reason_for_visit_Specific Treatment  reason_for_visit_Urgent Issue  \n",
       "0                                    1                              0  \n",
       "1                                    0                              0  \n",
       "2                                    0                              0  \n",
       "3                                    1                              0  \n",
       "4                                    0                              0  \n",
       "\n",
       "[5 rows x 29 columns]"
      ]
     },
     "execution_count": 122,
     "metadata": {},
     "output_type": "execute_result"
    }
   ],
   "source": [
    "X.head()"
   ]
  },
  {
   "cell_type": "code",
   "execution_count": 128,
   "metadata": {},
   "outputs": [],
   "source": [
    "from sklearn.linear_model import LogisticRegression\n",
    "from sklearn.metrics import confusion_matrix \n",
    "\n",
    "#2 Instantiate the model\n",
    "logreg = LogisticRegression()"
   ]
  },
  {
   "cell_type": "code",
   "execution_count": 129,
   "metadata": {},
   "outputs": [
    {
     "name": "stderr",
     "output_type": "stream",
     "text": [
      "C:\\Users\\Ali\\Anaconda3\\lib\\site-packages\\sklearn\\linear_model\\logistic.py:433: FutureWarning: Default solver will be changed to 'lbfgs' in 0.22. Specify a solver to silence this warning.\n",
      "  FutureWarning)\n"
     ]
    },
    {
     "data": {
      "text/plain": [
       "LogisticRegression(C=1.0, class_weight=None, dual=False, fit_intercept=True,\n",
       "          intercept_scaling=1, max_iter=100, multi_class='warn',\n",
       "          n_jobs=None, penalty='l2', random_state=None, solver='warn',\n",
       "          tol=0.0001, verbose=0, warm_start=False)"
      ]
     },
     "execution_count": 129,
     "metadata": {},
     "output_type": "execute_result"
    }
   ],
   "source": [
    "#3 Fit our model\n",
    "logreg.fit(X,y)"
   ]
  },
  {
   "cell_type": "code",
   "execution_count": 130,
   "metadata": {},
   "outputs": [
    {
     "name": "stdout",
     "output_type": "stream",
     "text": [
      "Accuracy score:  {0.6028440530731243}\n"
     ]
    }
   ],
   "source": [
    "#4 Evaluate our model\n",
    "print(f\"Accuracy score: \", {logreg.score(X,y)})"
   ]
  },
  {
   "cell_type": "code",
   "execution_count": 134,
   "metadata": {},
   "outputs": [
    {
     "data": {
      "text/plain": [
       "array([0, 0, 0, ..., 1, 0, 1], dtype=int64)"
      ]
     },
     "execution_count": 134,
     "metadata": {},
     "output_type": "execute_result"
    }
   ],
   "source": [
    "#lets see our predictions\n",
    "y_pred = logreg.predict(X)\n",
    "y_pred"
   ]
  },
  {
   "cell_type": "markdown",
   "metadata": {},
   "source": [
    "Lets look at our confusion matrix - which essentially shows our Type1 and Type2 errors\n",
    "Output:\n",
    "\n",
    "Actual (Vertical) vs Predicted (Horizontal). Type1 (False Pos- rejected null when shouldnt), Type2 (False Neg)\n",
    "\n",
    "          0                   1\n",
    "    0 True Negative      False Positive\n",
    "    1 False Negative      True Positive"
   ]
  },
  {
   "cell_type": "code",
   "execution_count": 147,
   "metadata": {},
   "outputs": [
    {
     "name": "stdout",
     "output_type": "stream",
     "text": [
      "Confusion matrix: \n",
      " [[5271 3254]\n",
      " [3421 4861]]\n"
     ]
    }
   ],
   "source": [
    "print('Confusion matrix: \\n', confusion_matrix(y, y_pred))\n"
   ]
  },
  {
   "cell_type": "code",
   "execution_count": 142,
   "metadata": {},
   "outputs": [
    {
     "data": {
      "text/html": [
       "<div>\n",
       "<style scoped>\n",
       "    .dataframe tbody tr th:only-of-type {\n",
       "        vertical-align: middle;\n",
       "    }\n",
       "\n",
       "    .dataframe tbody tr th {\n",
       "        vertical-align: top;\n",
       "    }\n",
       "\n",
       "    .dataframe thead th {\n",
       "        text-align: right;\n",
       "    }\n",
       "</style>\n",
       "<table border=\"1\" class=\"dataframe\">\n",
       "  <thead>\n",
       "    <tr style=\"text-align: right;\">\n",
       "      <th></th>\n",
       "      <th>feature</th>\n",
       "      <th>coefficient</th>\n",
       "    </tr>\n",
       "  </thead>\n",
       "  <tbody>\n",
       "    <tr>\n",
       "      <th>22</th>\n",
       "      <td>campaign_search</td>\n",
       "      <td>-0.473401</td>\n",
       "    </tr>\n",
       "    <tr>\n",
       "      <th>17</th>\n",
       "      <td>source_adwords</td>\n",
       "      <td>-0.375525</td>\n",
       "    </tr>\n",
       "    <tr>\n",
       "      <th>14</th>\n",
       "      <td>source_Facebook</td>\n",
       "      <td>-0.333356</td>\n",
       "    </tr>\n",
       "    <tr>\n",
       "      <th>15</th>\n",
       "      <td>source_Other</td>\n",
       "      <td>-0.320295</td>\n",
       "    </tr>\n",
       "    <tr>\n",
       "      <th>27</th>\n",
       "      <td>reason_for_visit_Specific Treatment</td>\n",
       "      <td>-0.254429</td>\n",
       "    </tr>\n",
       "    <tr>\n",
       "      <th>13</th>\n",
       "      <td>source_Direct</td>\n",
       "      <td>-0.238211</td>\n",
       "    </tr>\n",
       "    <tr>\n",
       "      <th>19</th>\n",
       "      <td>campaign_Unknown</td>\n",
       "      <td>-0.237269</td>\n",
       "    </tr>\n",
       "    <tr>\n",
       "      <th>10</th>\n",
       "      <td>region_San Jose</td>\n",
       "      <td>-0.218078</td>\n",
       "    </tr>\n",
       "    <tr>\n",
       "      <th>6</th>\n",
       "      <td>region_Chicago</td>\n",
       "      <td>-0.117512</td>\n",
       "    </tr>\n",
       "    <tr>\n",
       "      <th>24</th>\n",
       "      <td>preferred_doctor_gender_M</td>\n",
       "      <td>-0.111466</td>\n",
       "    </tr>\n",
       "    <tr>\n",
       "      <th>25</th>\n",
       "      <td>preferred_doctor_gender_No Pref</td>\n",
       "      <td>-0.099735</td>\n",
       "    </tr>\n",
       "    <tr>\n",
       "      <th>11</th>\n",
       "      <td>region_Seattle</td>\n",
       "      <td>-0.072500</td>\n",
       "    </tr>\n",
       "    <tr>\n",
       "      <th>12</th>\n",
       "      <td>region_Washington DC</td>\n",
       "      <td>-0.067225</td>\n",
       "    </tr>\n",
       "    <tr>\n",
       "      <th>23</th>\n",
       "      <td>preferred_doctor_gender_F</td>\n",
       "      <td>-0.043142</td>\n",
       "    </tr>\n",
       "    <tr>\n",
       "      <th>18</th>\n",
       "      <td>campaign_Other</td>\n",
       "      <td>-0.020958</td>\n",
       "    </tr>\n",
       "    <tr>\n",
       "      <th>26</th>\n",
       "      <td>reason_for_visit_Checkup</td>\n",
       "      <td>-0.018444</td>\n",
       "    </tr>\n",
       "    <tr>\n",
       "      <th>20</th>\n",
       "      <td>campaign_doctor_patient_acquisition</td>\n",
       "      <td>-0.012041</td>\n",
       "    </tr>\n",
       "    <tr>\n",
       "      <th>9</th>\n",
       "      <td>region_San Francisco</td>\n",
       "      <td>-0.009841</td>\n",
       "    </tr>\n",
       "    <tr>\n",
       "      <th>2</th>\n",
       "      <td>out_network_results_shown</td>\n",
       "      <td>-0.007856</td>\n",
       "    </tr>\n",
       "    <tr>\n",
       "      <th>5</th>\n",
       "      <td>region_Austin</td>\n",
       "      <td>-0.001329</td>\n",
       "    </tr>\n",
       "    <tr>\n",
       "      <th>4</th>\n",
       "      <td>avg_distance_overall</td>\n",
       "      <td>-0.000023</td>\n",
       "    </tr>\n",
       "    <tr>\n",
       "      <th>28</th>\n",
       "      <td>reason_for_visit_Urgent Issue</td>\n",
       "      <td>0.018530</td>\n",
       "    </tr>\n",
       "    <tr>\n",
       "      <th>3</th>\n",
       "      <td>in_network_results_shown</td>\n",
       "      <td>0.055385</td>\n",
       "    </tr>\n",
       "    <tr>\n",
       "      <th>8</th>\n",
       "      <td>region_San Diego</td>\n",
       "      <td>0.087449</td>\n",
       "    </tr>\n",
       "    <tr>\n",
       "      <th>0</th>\n",
       "      <td>patient_insured</td>\n",
       "      <td>0.092546</td>\n",
       "    </tr>\n",
       "    <tr>\n",
       "      <th>1</th>\n",
       "      <td>number_of_match_results</td>\n",
       "      <td>0.101669</td>\n",
       "    </tr>\n",
       "    <tr>\n",
       "      <th>7</th>\n",
       "      <td>region_Denver</td>\n",
       "      <td>0.144693</td>\n",
       "    </tr>\n",
       "    <tr>\n",
       "      <th>21</th>\n",
       "      <td>campaign_patient_leads</td>\n",
       "      <td>0.489327</td>\n",
       "    </tr>\n",
       "    <tr>\n",
       "      <th>16</th>\n",
       "      <td>source_Patients</td>\n",
       "      <td>1.013044</td>\n",
       "    </tr>\n",
       "  </tbody>\n",
       "</table>\n",
       "</div>"
      ],
      "text/plain": [
       "                                feature  coefficient\n",
       "22                      campaign_search    -0.473401\n",
       "17                       source_adwords    -0.375525\n",
       "14                      source_Facebook    -0.333356\n",
       "15                         source_Other    -0.320295\n",
       "27  reason_for_visit_Specific Treatment    -0.254429\n",
       "13                        source_Direct    -0.238211\n",
       "19                     campaign_Unknown    -0.237269\n",
       "10                      region_San Jose    -0.218078\n",
       "6                        region_Chicago    -0.117512\n",
       "24            preferred_doctor_gender_M    -0.111466\n",
       "25      preferred_doctor_gender_No Pref    -0.099735\n",
       "11                       region_Seattle    -0.072500\n",
       "12                 region_Washington DC    -0.067225\n",
       "23            preferred_doctor_gender_F    -0.043142\n",
       "18                       campaign_Other    -0.020958\n",
       "26             reason_for_visit_Checkup    -0.018444\n",
       "20  campaign_doctor_patient_acquisition    -0.012041\n",
       "9                  region_San Francisco    -0.009841\n",
       "2             out_network_results_shown    -0.007856\n",
       "5                         region_Austin    -0.001329\n",
       "4                  avg_distance_overall    -0.000023\n",
       "28        reason_for_visit_Urgent Issue     0.018530\n",
       "3              in_network_results_shown     0.055385\n",
       "8                      region_San Diego     0.087449\n",
       "0                       patient_insured     0.092546\n",
       "1               number_of_match_results     0.101669\n",
       "7                         region_Denver     0.144693\n",
       "21               campaign_patient_leads     0.489327\n",
       "16                      source_Patients     1.013044"
      ]
     },
     "execution_count": 142,
     "metadata": {},
     "output_type": "execute_result"
    }
   ],
   "source": [
    "#lets see coefficients\n",
    "results_df = pd.DataFrame({'feature': X.columns, 'coefficient':logreg.coef_[0]})\n",
    "results_df.sort_values(by = 'coefficient', inplace = True)\n",
    "results_df"
   ]
  },
  {
   "cell_type": "markdown",
   "metadata": {},
   "source": [
    "Now lets try to regularize at different weight. We will adjust the C value from the dafult of 1.0. C value is a measure of how much we penalize our coefficients (lower the value, harder we penalize)\n",
    "\n",
    "USING L2"
   ]
  },
  {
   "cell_type": "code",
   "execution_count": 152,
   "metadata": {},
   "outputs": [
    {
     "name": "stdout",
     "output_type": "stream",
     "text": [
      "\n",
      "For C value:  {1e-05}\n",
      "Accuracy score:  {0.5744630213601476}\n",
      "Confusion matrix: \n",
      " [[5209 3316]\n",
      " [3836 4446]]\n",
      "\n",
      "For C value:  {0.0001}\n",
      "Accuracy score:  {0.5866603201047182}\n",
      "Confusion matrix: \n",
      " [[4815 3710]\n",
      " [3237 5045]]\n",
      "\n",
      "For C value:  {0.001}\n",
      "Accuracy score:  {0.600345094305944}\n",
      "Confusion matrix: \n",
      " [[4971 3554]\n",
      " [3163 5119]]\n",
      "\n",
      "For C value:  {0.01}\n",
      "Accuracy score:  {0.6018920687808651}\n",
      "Confusion matrix: \n",
      " [[5065 3460]\n",
      " [3231 5051]]\n",
      "\n",
      "For C value:  {0.1}\n",
      "Accuracy score:  {0.6032605462009877}\n",
      "Confusion matrix: \n",
      " [[5282 3243]\n",
      " [3425 4857]]\n",
      "\n",
      "For C value:  {1}\n",
      "Accuracy score:  {0.6028440530731243}\n",
      "Confusion matrix: \n",
      " [[5271 3254]\n",
      " [3421 4861]]\n",
      "\n",
      "For C value:  {10}\n",
      "Accuracy score:  {0.6022490628904623}\n",
      "Confusion matrix: \n",
      " [[5285 3240]\n",
      " [3445 4837]]\n",
      "\n",
      "For C value:  {100}\n",
      "Accuracy score:  {0.6040340334384483}\n",
      "Confusion matrix: \n",
      " [[5246 3279]\n",
      " [3376 4906]]\n",
      "\n",
      "For C value:  {1000}\n",
      "Accuracy score:  {0.6030820491461891}\n",
      "Confusion matrix: \n",
      " [[5196 3329]\n",
      " [3342 4940]]\n",
      "\n",
      "For C value:  {10000}\n",
      "Accuracy score:  {0.6025465579817934}\n",
      "Confusion matrix: \n",
      " [[5290 3235]\n",
      " [3445 4837]]\n"
     ]
    },
    {
     "data": {
      "image/png": "[encoded data removed]",
      "text/plain": [
       "<Figure size 432x288 with 1 Axes>"
      ]
     },
     "metadata": {
      "needs_background": "light"
     },
     "output_type": "display_data"
    }
   ],
   "source": [
    "import warnings\n",
    "warnings.filterwarnings('ignore')  #this is to ignore the warnings about the solver from repeatedly being printed\n",
    "\n",
    "\n",
    "\n",
    "#Lets penalize across the following C values\n",
    "c_values = [0.00001, 0.0001, 0.001, 0.01, 0.1, 1, 10, 100, 1000, 10000]\n",
    "\n",
    "#placeholder for accuracy score\n",
    "acc_scores = []\n",
    "\n",
    "for val in c_values:\n",
    "    logreg = LogisticRegression(C=val)\n",
    "    logreg.fit(X, y)\n",
    "    y_pred = logreg.predict(X)\n",
    "    \n",
    "    a = logreg.score(X, y)\n",
    "    acc_scores.append(a)\n",
    "    \n",
    "    print(f\"\\nFor C value: \", {val})\n",
    "    print(f\"Accuracy score: \", {a})\n",
    "    print('Confusion matrix: \\n', confusion_matrix(y, y_pred))\n",
    "    \n",
    "plt.figure()\n",
    "plt.plot(acc_scores)\n",
    "plt.xticks(range(len(c_values)), labels=c_values)\n",
    "plt.xlabel('C values')\n",
    "plt.show() "
   ]
  },
  {
   "cell_type": "code",
   "execution_count": 153,
   "metadata": {},
   "outputs": [
    {
     "name": "stdout",
     "output_type": "stream",
     "text": [
      "\n",
      "For C value:  {1e-05}\n",
      "Accuracy score:  {0.5072291307193432}\n",
      "Confusion matrix: \n",
      " [[8525    0]\n",
      " [8282    0]]\n",
      "\n",
      "For C value:  {0.0001}\n",
      "Accuracy score:  {0.5072291307193432}\n",
      "Confusion matrix: \n",
      " [[8525    0]\n",
      " [8282    0]]\n",
      "\n",
      "For C value:  {0.001}\n",
      "Accuracy score:  {0.5787469506753139}\n",
      "Confusion matrix: \n",
      " [[4944 3581]\n",
      " [3499 4783]]\n",
      "\n",
      "For C value:  {0.01}\n",
      "Accuracy score:  {0.6004640923424763}\n",
      "Confusion matrix: \n",
      " [[5114 3411]\n",
      " [3304 4978]]\n",
      "\n",
      "For C value:  {0.1}\n",
      "Accuracy score:  {0.6009995835068721}\n",
      "Confusion matrix: \n",
      " [[5267 3258]\n",
      " [3448 4834]]\n",
      "\n",
      "For C value:  {1}\n",
      "Accuracy score:  {0.6040340334384483}\n",
      "Confusion matrix: \n",
      " [[5310 3215]\n",
      " [3440 4842]]\n",
      "\n",
      "For C value:  {10}\n",
      "Accuracy score:  {0.6039150354019158}\n",
      "Confusion matrix: \n",
      " [[5238 3287]\n",
      " [3370 4912]]\n",
      "\n",
      "For C value:  {100}\n",
      "Accuracy score:  {0.6040935324567145}\n",
      "Confusion matrix: \n",
      " [[5241 3284]\n",
      " [3370 4912]]\n",
      "\n",
      "For C value:  {1000}\n",
      "Accuracy score:  {0.6040340334384483}\n",
      "Confusion matrix: \n",
      " [[5240 3285]\n",
      " [3370 4912]]\n",
      "\n",
      "For C value:  {10000}\n",
      "Accuracy score:  {0.6039745344201821}\n",
      "Confusion matrix: \n",
      " [[5239 3286]\n",
      " [3370 4912]]\n"
     ]
    },
    {
     "data": {
      "image/png": "[encoded data removed]",
      "text/plain": [
       "<Figure size 432x288 with 1 Axes>"
      ]
     },
     "metadata": {
      "needs_background": "light"
     },
     "output_type": "display_data"
    }
   ],
   "source": [
    "import warnings\n",
    "warnings.filterwarnings('ignore')  #this is to ignore the warnings about the solver from repeatedly being printed\n",
    "\n",
    "\n",
    "\n",
    "#Lets penalize across the following C values\n",
    "c_values = [0.00001, 0.0001, 0.001, 0.01, 0.1, 1, 10, 100, 1000, 10000]\n",
    "\n",
    "#placeholder for accuracy score\n",
    "acc_scores = []\n",
    "\n",
    "for val in c_values:\n",
    "    logreg = LogisticRegression(C=val, penalty='l1', solver='liblinear')\n",
    "    logreg.fit(X, y)\n",
    "    y_pred = logreg.predict(X)\n",
    "    \n",
    "    a = logreg.score(X, y)\n",
    "    acc_scores.append(a)\n",
    "    \n",
    "    print(f\"\\nFor C value: \", {val})\n",
    "    print(f\"Accuracy score: \", {a})\n",
    "    print('Confusion matrix: \\n', confusion_matrix(y, y_pred))\n",
    "    \n",
    "plt.figure()\n",
    "plt.plot(acc_scores)\n",
    "plt.xticks(range(len(c_values)), labels=c_values)\n",
    "plt.xlabel('C values')\n",
    "plt.show() "
   ]
  },
  {
   "cell_type": "code",
   "execution_count": 158,
   "metadata": {},
   "outputs": [
    {
     "data": {
      "text/html": [
       "<div>\n",
       "<style scoped>\n",
       "    .dataframe tbody tr th:only-of-type {\n",
       "        vertical-align: middle;\n",
       "    }\n",
       "\n",
       "    .dataframe tbody tr th {\n",
       "        vertical-align: top;\n",
       "    }\n",
       "\n",
       "    .dataframe thead th {\n",
       "        text-align: right;\n",
       "    }\n",
       "</style>\n",
       "<table border=\"1\" class=\"dataframe\">\n",
       "  <thead>\n",
       "    <tr style=\"text-align: right;\">\n",
       "      <th></th>\n",
       "      <th>feature</th>\n",
       "      <th>coefficient</th>\n",
       "    </tr>\n",
       "  </thead>\n",
       "  <tbody>\n",
       "    <tr>\n",
       "      <th>12</th>\n",
       "      <td>region_Washington DC</td>\n",
       "      <td>-7.570761</td>\n",
       "    </tr>\n",
       "    <tr>\n",
       "      <th>22</th>\n",
       "      <td>campaign_search</td>\n",
       "      <td>-0.841795</td>\n",
       "    </tr>\n",
       "    <tr>\n",
       "      <th>27</th>\n",
       "      <td>reason_for_visit_Specific Treatment</td>\n",
       "      <td>-0.447074</td>\n",
       "    </tr>\n",
       "    <tr>\n",
       "      <th>10</th>\n",
       "      <td>region_San Jose</td>\n",
       "      <td>-0.375087</td>\n",
       "    </tr>\n",
       "    <tr>\n",
       "      <th>19</th>\n",
       "      <td>campaign_Unknown</td>\n",
       "      <td>-0.334334</td>\n",
       "    </tr>\n",
       "    <tr>\n",
       "      <th>6</th>\n",
       "      <td>region_Chicago</td>\n",
       "      <td>-0.320974</td>\n",
       "    </tr>\n",
       "    <tr>\n",
       "      <th>9</th>\n",
       "      <td>region_San Francisco</td>\n",
       "      <td>-0.258822</td>\n",
       "    </tr>\n",
       "    <tr>\n",
       "      <th>11</th>\n",
       "      <td>region_Seattle</td>\n",
       "      <td>-0.226796</td>\n",
       "    </tr>\n",
       "    <tr>\n",
       "      <th>26</th>\n",
       "      <td>reason_for_visit_Checkup</td>\n",
       "      <td>-0.213192</td>\n",
       "    </tr>\n",
       "    <tr>\n",
       "      <th>28</th>\n",
       "      <td>reason_for_visit_Urgent Issue</td>\n",
       "      <td>-0.193659</td>\n",
       "    </tr>\n",
       "    <tr>\n",
       "      <th>14</th>\n",
       "      <td>source_Facebook</td>\n",
       "      <td>-0.191610</td>\n",
       "    </tr>\n",
       "    <tr>\n",
       "      <th>13</th>\n",
       "      <td>source_Direct</td>\n",
       "      <td>-0.149022</td>\n",
       "    </tr>\n",
       "    <tr>\n",
       "      <th>5</th>\n",
       "      <td>region_Austin</td>\n",
       "      <td>-0.148088</td>\n",
       "    </tr>\n",
       "    <tr>\n",
       "      <th>24</th>\n",
       "      <td>preferred_doctor_gender_M</td>\n",
       "      <td>-0.132333</td>\n",
       "    </tr>\n",
       "    <tr>\n",
       "      <th>25</th>\n",
       "      <td>preferred_doctor_gender_No Pref</td>\n",
       "      <td>-0.121556</td>\n",
       "    </tr>\n",
       "    <tr>\n",
       "      <th>18</th>\n",
       "      <td>campaign_Other</td>\n",
       "      <td>-0.097331</td>\n",
       "    </tr>\n",
       "    <tr>\n",
       "      <th>15</th>\n",
       "      <td>source_Other</td>\n",
       "      <td>-0.090383</td>\n",
       "    </tr>\n",
       "    <tr>\n",
       "      <th>23</th>\n",
       "      <td>preferred_doctor_gender_F</td>\n",
       "      <td>-0.072564</td>\n",
       "    </tr>\n",
       "    <tr>\n",
       "      <th>8</th>\n",
       "      <td>region_San Diego</td>\n",
       "      <td>-0.067130</td>\n",
       "    </tr>\n",
       "    <tr>\n",
       "      <th>2</th>\n",
       "      <td>out_network_results_shown</td>\n",
       "      <td>-0.044322</td>\n",
       "    </tr>\n",
       "    <tr>\n",
       "      <th>7</th>\n",
       "      <td>region_Denver</td>\n",
       "      <td>-0.026861</td>\n",
       "    </tr>\n",
       "    <tr>\n",
       "      <th>20</th>\n",
       "      <td>campaign_doctor_patient_acquisition</td>\n",
       "      <td>-0.000444</td>\n",
       "    </tr>\n",
       "    <tr>\n",
       "      <th>4</th>\n",
       "      <td>avg_distance_overall</td>\n",
       "      <td>-0.000024</td>\n",
       "    </tr>\n",
       "    <tr>\n",
       "      <th>3</th>\n",
       "      <td>in_network_results_shown</td>\n",
       "      <td>0.020156</td>\n",
       "    </tr>\n",
       "    <tr>\n",
       "      <th>17</th>\n",
       "      <td>source_adwords</td>\n",
       "      <td>0.042224</td>\n",
       "    </tr>\n",
       "    <tr>\n",
       "      <th>1</th>\n",
       "      <td>number_of_match_results</td>\n",
       "      <td>0.132171</td>\n",
       "    </tr>\n",
       "    <tr>\n",
       "      <th>0</th>\n",
       "      <td>patient_insured</td>\n",
       "      <td>0.381336</td>\n",
       "    </tr>\n",
       "    <tr>\n",
       "      <th>21</th>\n",
       "      <td>campaign_patient_leads</td>\n",
       "      <td>0.501604</td>\n",
       "    </tr>\n",
       "    <tr>\n",
       "      <th>16</th>\n",
       "      <td>source_Patients</td>\n",
       "      <td>1.392354</td>\n",
       "    </tr>\n",
       "  </tbody>\n",
       "</table>\n",
       "</div>"
      ],
      "text/plain": [
       "                                feature  coefficient\n",
       "12                 region_Washington DC    -7.570761\n",
       "22                      campaign_search    -0.841795\n",
       "27  reason_for_visit_Specific Treatment    -0.447074\n",
       "10                      region_San Jose    -0.375087\n",
       "19                     campaign_Unknown    -0.334334\n",
       "6                        region_Chicago    -0.320974\n",
       "9                  region_San Francisco    -0.258822\n",
       "11                       region_Seattle    -0.226796\n",
       "26             reason_for_visit_Checkup    -0.213192\n",
       "28        reason_for_visit_Urgent Issue    -0.193659\n",
       "14                      source_Facebook    -0.191610\n",
       "13                        source_Direct    -0.149022\n",
       "5                         region_Austin    -0.148088\n",
       "24            preferred_doctor_gender_M    -0.132333\n",
       "25      preferred_doctor_gender_No Pref    -0.121556\n",
       "18                       campaign_Other    -0.097331\n",
       "15                         source_Other    -0.090383\n",
       "23            preferred_doctor_gender_F    -0.072564\n",
       "8                      region_San Diego    -0.067130\n",
       "2             out_network_results_shown    -0.044322\n",
       "7                         region_Denver    -0.026861\n",
       "20  campaign_doctor_patient_acquisition    -0.000444\n",
       "4                  avg_distance_overall    -0.000024\n",
       "3              in_network_results_shown     0.020156\n",
       "17                       source_adwords     0.042224\n",
       "1               number_of_match_results     0.132171\n",
       "0                       patient_insured     0.381336\n",
       "21               campaign_patient_leads     0.501604\n",
       "16                      source_Patients     1.392354"
      ]
     },
     "execution_count": 158,
     "metadata": {},
     "output_type": "execute_result"
    }
   ],
   "source": [
    "#We see from aboe that these are best\n",
    "\n",
    "#Creat the model\n",
    "logreg2 = LogisticRegression(C=100, penalty='l1')\n",
    "logreg2.fit(X,y)\n",
    "\n",
    "#Create a ddataframe to exame coefficiens learned\n",
    "results_df2 = pd.DataFrame({'feature': X.columns,\n",
    "                           'coefficient': logreg2.coef_[0]})\n",
    "#results_df2['___-to-1 odds of being Class 1'] = np.exp(logreg2.coef_[0])\n",
    "\n",
    "results_df2.sort_values(by = 'coefficient', inplace=True)\n",
    "results_df2\n",
    "\n"
   ]
  },
  {
   "cell_type": "markdown",
   "metadata": {},
   "source": [
    "From this we can see that encouraging patient lead campaigns, users whose Source is patients and insured individuals increase the likelyhood of requesting appointments. \n",
    "\n",
    "Denver seems to be a successful market. If the current goal is revenue, focus on Denver. If focus is on nation-wide growth, reorient to other regions.\n",
    "\n",
    "Conversely, Users from search campaigns and facebook campaigns had a lower likelyhood of requesting appointments. Recommendation would be to adjust campaign budgets to focus on other campaigns.\n",
    "\n",
    "Number of match results also increases the likelyhood of users requesting appointments."
   ]
  }
 ],
 "metadata": {
  "kernelspec": {
   "display_name": "Python 3",
   "language": "python",
   "name": "python3"
  },
  "language_info": {
   "codemirror_mode": {
    "name": "ipython",
    "version": 3
   },
   "file_extension": ".py",
   "mimetype": "text/x-python",
   "name": "python",
   "nbconvert_exporter": "python",
   "pygments_lexer": "ipython3",
   "version": "3.7.1"
  }
 },
 "nbformat": 4,
 "nbformat_minor": 2
}
