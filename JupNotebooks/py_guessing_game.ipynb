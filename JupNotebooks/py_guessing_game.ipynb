{
 "cells": [
  {
   "cell_type": "markdown",
   "metadata": {},
   "source": [
    "**Python Guessing Game - from 'Python Practice**\n",
    "\n",
    "In this pod we will create a guessing game - where we try and match the a random number from python, in as few guesses as possible."
   ]
  },
  {
   "cell_type": "code",
   "execution_count": null,
   "metadata": {},
   "outputs": [],
   "source": [
    "from random import randint"
   ]
  },
  {
   "cell_type": "code",
   "execution_count": null,
   "metadata": {},
   "outputs": [],
   "source": [
    "py_num = randint(1,10)\n",
    "user_guess = 0\n",
    "#print(f'You guessed ... {user_guess}')\n",
    "guess_count = 1\n",
    "\n",
    "while user_guess != py_num:\n",
    "    #NOTE THE INPUT MUST BE CONVERTED TO INT DATA TO BE COMPARED\n",
    "    user_guess = int(input(prompt=\"Guess the python number from 1 to 10\"))\n",
    "    print(f'You guessed ... {user_guess}')\n",
    "    if(user_guess != py_num):\n",
    "        #print(f'Python number is ... {py_num}')\n",
    "        if(user_guess > py_num):\n",
    "            print('Too high! Try again!\\n')\n",
    "        else:\n",
    "            print('Too low! Try again!\\n')\n",
    "        guess_count += 1\n",
    "    else:\n",
    "        print(f'You got it! It took you {guess_count} attemp(s) to correctly guess {py_num}')\n",
    "print(\"END\")"
   ]
  }
 ],
 "metadata": {
  "kernelspec": {
   "display_name": "Python 3",
   "language": "python",
   "name": "python3"
  },
  "language_info": {
   "codemirror_mode": {
    "name": "ipython",
    "version": 3
   },
   "file_extension": ".py",
   "mimetype": "text/x-python",
   "name": "python",
   "nbconvert_exporter": "python",
   "pygments_lexer": "ipython3",
   "version": "3.7.1"
  }
 },
 "nbformat": 4,
 "nbformat_minor": 2
}
