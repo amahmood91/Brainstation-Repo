{
 "cells": [
  {
   "cell_type": "markdown",
   "metadata": {},
   "source": [
    "### Advanced Python\n",
    "\n",
    "### Classes\n",
    "\n",
    "We have seen the basic built in data types of Python, and you have probably noticed a few other types, such as the linear regression object from statsmodels and the NumPy array.\n",
    "\n",
    "Python is an object orientated language. We have objects, which are instances of types, these interact with each other, and can contain data or attributes. We can compare this to something like R or Scala which are more functional, we have objects or data, and we modify them by functions.\n",
    "\n",
    "This gets a bit theoretical so we can use Pac-Man as an example. In Pac-Man, we can say we have the class of ghosts, and each ghost: Inky, Blinky, Pinky and Clyde are instances of the type. They share general attributes such as wanting to chase pacman and having similar appearances and general behaviour. However, they are different when it comes to other attributes such as colour, speed and behaviour. \n",
    "\n",
    "If we treat these ghosts as objects it is easier to talk about them and how they work, rather than if they are arrays which are updated by functions in every frame. However, if we want to treat their behaviour stricly mathematically, it is easier to treat them functionally.\n",
    "\n",
    "Recall, we have methods which are specific to certain types of objects we have seen:"
   ]
  },
  {
   "cell_type": "code",
   "execution_count": null,
   "metadata": {},
   "outputs": [],
   "source": [
    "x = [1,2,3,4]\n",
    "print(x.pop())\n",
    "x = 'this is a string!'\n",
    "print(x.pop())"
   ]
  },
  {
   "cell_type": "markdown",
   "metadata": {},
   "source": [
    "How is this implemented? We have an Class, list, of which x is an instance. The list object has a method, pop, which is implemented, and can work on objects of this class. The string class does not have this method.\n",
    "\n",
    "So, let's make our own class in order to understand how it works:"
   ]
  },
  {
   "cell_type": "code",
   "execution_count": null,
   "metadata": {},
   "outputs": [],
   "source": [
    "class Basket(object): #convention is to use capitals\n",
    "    pass\n",
    "\n",
    "x = Basket()\n",
    "print(x)\n",
    "print(type(x))"
   ]
  },
  {
   "cell_type": "markdown",
   "metadata": {},
   "source": [
    "We just made a new object, Basket, with a single instance, x.\n",
    "\n",
    "Right now it doesn't do much... let's add some attributes. We can think of attributes as slots in an object that we want to describe. Think back to our linear model object, it had attributes like p-value, residuals and so on.\n"
   ]
  },
  {
   "cell_type": "code",
   "execution_count": null,
   "metadata": {},
   "outputs": [],
   "source": [
    "class Basket(object): #convention is to use capitals\n",
    "    '''\n",
    "    We can use docstrings in objects, just like functions\n",
    "    '''\n",
    "    max_size = 100\n",
    "\n",
    "x = Basket()\n",
    "print(x.max_size)\n",
    "#help(Basket) # we have help implemented using our docstring and defined attributes"
   ]
  },
  {
   "cell_type": "markdown",
   "metadata": {},
   "source": [
    "It is not super useful to have a hardcoded attribute. We probably want to have different values for different objects.\n",
    "\n",
    "The usual way to instantiate an instance of a class is the `__init__` method. In python, two underscores designates a special attribute or method, and are pronounced as 'dunder' item. We often also use a single underscore to designate a protected or internal item.\n",
    "\n",
    "The init method looks just like a function, the first argument is `self` which refers back to particular instance."
   ]
  },
  {
   "cell_type": "code",
   "execution_count": null,
   "metadata": {},
   "outputs": [],
   "source": [
    "class Basket(object): \n",
    "    '''\n",
    "    A Class to represent a single transactions total basket\n",
    "    '''\n",
    "    max_size = 100\n",
    "    def __init__(self, items, amounts, costs):\n",
    "        '''\n",
    "        __init__ is a method, that we call when we make an instance of a class\n",
    "        '''\n",
    "        self.items = items\n",
    "        self.amounts = amounts\n",
    "        self.costs = costs\n",
    "\n",
    "x = Basket(['Razor', 'Milk', 'Bread'], [1, 2, 3], [12.99, 4.99, 2.99])\n",
    "print(x.items)\n",
    "y = Basket(['apples'], [3], [0.70])\n",
    "print(y.items)"
   ]
  },
  {
   "cell_type": "markdown",
   "metadata": {},
   "source": [
    "We now have a mildly useful Class. We can hold customer transactions as baskets, and make sure to enforce the types and data structures we expect.\n",
    "\n",
    "### Exercise\n",
    "\n",
    "1. We can use assertions inside classes and methods, just like in functions. Add assertions inside the `__init__` to ensure that items is a list with all strings, amounts is a list with all integers, and costs is a list with all floats.\n",
    "\n",
    "2. Write an assertion, inside the `__init__`, which enforces the max_size attribute (hint, access it using self.max_size).\n",
    "\n",
    "\n",
    "As well as the init, we can implement arbitrarily useful methods: "
   ]
  },
  {
   "cell_type": "code",
   "execution_count": null,
   "metadata": {},
   "outputs": [],
   "source": [
    "import numpy as np\n",
    "\n",
    "class Basket(object): \n",
    "    '''\n",
    "    A Class to represent a single transactions total basket\n",
    "    '''\n",
    "    max_size = 100\n",
    "    def __init__(self, items, amounts, costs):\n",
    "        '''\n",
    "        __init__ is a method, that we call when we make an instance of a class\n",
    "        '''\n",
    "        self.items = items\n",
    "        self.amounts = amounts\n",
    "        self.costs = costs\n",
    "    \n",
    "    def cost(self):\n",
    "        '''\n",
    "        gives the total cost of a basket\n",
    "        '''\n",
    "        return np.sum(np.array(self.amounts) * np.array(self.costs))\n",
    "    \n",
    "x = Basket(['Razor', 'Milk', 'Bread'], [1, 2, 3], [12.99, 4.99, 2.99])\n",
    "print(x.cost())\n",
    "y = Basket(['apples'], [3], [0.70])\n",
    "print(y.cost())"
   ]
  },
  {
   "cell_type": "markdown",
   "metadata": {},
   "source": [
    "### Exercise\n",
    "\n",
    "Complete the below class, a Customer, which holds multiple baskets, taken as arguments to the init call, or the addtrans method, and calculates totals using the total_spent method."
   ]
  },
  {
   "cell_type": "code",
   "execution_count": null,
   "metadata": {},
   "outputs": [],
   "source": [
    "class Customer(object):\n",
    "    def __init__(self, custid, transactions = None):\n",
    "        self.id = custid\n",
    "        self.transactions = []\n",
    "        if self.transactions is not None:\n",
    "            self.addtrans(transactions)\n",
    "    \n",
    "    def addtrans(self, transactions):\n",
    "        for i in transactions:\n",
    "            self.transactions.append(i)\n",
    "            \n",
    "    def total_spent(self):\n",
    "        '''\n",
    "        fill this in!\n",
    "        '''\n",
    "        pass\n",
    "\n",
    "x = Basket(['Razor', 'Milk', 'Bread'], [1, 2, 3], [12.99, 4.99, 2.99])\n",
    "my_cust = Customer(1, [x])\n",
    "\n",
    "my_cust.total_spent()\n",
    "### 31.94\n",
    "y = Basket(['apples'], [3], [0.70])\n",
    "\n",
    "my_cust.addtrans([y])\n",
    "my_cust.total_spent()\n",
    "### 34.15    "
   ]
  },
  {
   "cell_type": "markdown",
   "metadata": {},
   "source": [
    "### Special Methods\n",
    "\n",
    "As well as `__init__` we have many other special methods, [you can see the docs here](https://docs.python.org/3/reference/datamodel.html#basic-customization). A useful method is `__str__` which determines how we print our object, as well as the `__eq__` etc ones, which you could imagine we could implement to compare basket costs."
   ]
  },
  {
   "cell_type": "code",
   "execution_count": null,
   "metadata": {},
   "outputs": [],
   "source": [
    "class mylist(list):\n",
    "    def __str__(self):\n",
    "        return 'mylist class ' + super.__str__(self)\n",
    "            \n",
    "    def __eq__(self,other):\n",
    "        return self[0] == other[-1]"
   ]
  },
  {
   "cell_type": "code",
   "execution_count": null,
   "metadata": {},
   "outputs": [],
   "source": [
    "x = mylist([1,2,3,4,5])\n",
    "print(x)"
   ]
  },
  {
   "cell_type": "code",
   "execution_count": null,
   "metadata": {},
   "outputs": [],
   "source": [
    "x = mylist([1,2,3,4,5])\n",
    "y = mylist([5,1])\n",
    "print(x == y)\n",
    "\n",
    "x = list([1,2,3,4,5])\n",
    "y = list([5,1])\n",
    "print(x == y)"
   ]
  },
  {
   "cell_type": "markdown",
   "metadata": {},
   "source": [
    "### Inheritance\n",
    "\n",
    "Inheritance refers to objects which are 'subtypes' of other objects. When we defined our classes, we had `object` in brackets, as we were inheriting from the generic object type.\n",
    "\n",
    "If we used another object there, we could inherit from it. We keep all of the attributes and methods from our parent class, but add or overwrite any we include in our new class:"
   ]
  },
  {
   "cell_type": "code",
   "execution_count": null,
   "metadata": {},
   "outputs": [],
   "source": [
    "class mylist(list):\n",
    "    def __str__(self):\n",
    "        return 'mylist class ' + super.__str__(self)\n",
    "            \n",
    "x = mylist([1,2,3,4,5])\n",
    "\n",
    "#Just like an old list:\n",
    "x.append(100)\n",
    "print(x.pop())\n",
    "\n",
    "#But with the cool print:\n",
    "print(x)"
   ]
  },
  {
   "cell_type": "markdown",
   "metadata": {},
   "source": [
    "### Advanced Functions\n",
    "\n",
    "Very simple functions are often defined as `lambda` functions:"
   ]
  },
  {
   "cell_type": "code",
   "execution_count": 75,
   "metadata": {
    "scrolled": true
   },
   "outputs": [
    {
     "data": {
      "text/plain": [
       "8"
      ]
     },
     "execution_count": 75,
     "metadata": {},
     "output_type": "execute_result"
    }
   ],
   "source": [
    "myfunc = lambda x,y: x**y\n",
    "myfunc(2,3)"
   ]
  },
  {
   "cell_type": "markdown",
   "metadata": {},
   "source": [
    "As well as values, we can return functions from functions. This is useful for caching and for when we want to use another function with different defaults."
   ]
  },
  {
   "cell_type": "code",
   "execution_count": 76,
   "metadata": {},
   "outputs": [
    {
     "data": {
      "text/plain": [
       "9"
      ]
     },
     "execution_count": 76,
     "metadata": {},
     "output_type": "execute_result"
    }
   ],
   "source": [
    "def makepow(n):\n",
    "    def localfunc(x):\n",
    "        return x ** n\n",
    "    return localfunc\n",
    "\n",
    "x = makepow(2)\n",
    "x(3)"
   ]
  },
  {
   "cell_type": "markdown",
   "metadata": {},
   "source": [
    "Where did that 2 come from when we called x(3)?\n",
    "\n",
    "### Scoping\n",
    "\n",
    "Scoping is the process of determining which value to use for a given variable.\n",
    "\n",
    "Recall the below behaviour:"
   ]
  },
  {
   "cell_type": "code",
   "execution_count": 77,
   "metadata": {},
   "outputs": [
    {
     "name": "stdout",
     "output_type": "stream",
     "text": [
      "5\n",
      "12\n"
     ]
    }
   ],
   "source": [
    "x = 12\n",
    "def myfunc(y):\n",
    "    x = y-5\n",
    "    return x\n",
    "\n",
    "print(myfunc(10))\n",
    "print(x)"
   ]
  },
  {
   "cell_type": "markdown",
   "metadata": {},
   "source": [
    "We can see that we used x in two contexts. We used it outside the function as 12 and then inside the function where we reassigned it, they did not interact with each other.\n",
    "\n",
    "This is because x is `scoped` locally inside the function.\n",
    "\n",
    "Python uses LEGB scoping. This means that if we try and find the value for a given variable, we first look locally (ie. inside the function), then in the enclosing environment, then globally, and then at built-ins:"
   ]
  },
  {
   "cell_type": "code",
   "execution_count": 78,
   "metadata": {},
   "outputs": [],
   "source": [
    "c = 3\n",
    "def my_func(a, b):\n",
    "    print(a, ' is local to the function')\n",
    "    def my_func2():\n",
    "        print(b, ' is in the enclosing environment')\n",
    "    my_func2()\n",
    "    print(c, ' is globally scoped')\n",
    "    print(abs, ' is a built in function')"
   ]
  },
  {
   "cell_type": "code",
   "execution_count": 79,
   "metadata": {
    "scrolled": true
   },
   "outputs": [
    {
     "name": "stdout",
     "output_type": "stream",
     "text": [
      "1  is local to the function\n",
      "2  is in the enclosing environment\n",
      "3  is globally scoped\n",
      "<built-in function abs>  is a built in function\n"
     ]
    }
   ],
   "source": [
    "my_func(1,2)"
   ]
  },
  {
   "cell_type": "markdown",
   "metadata": {},
   "source": [
    "Getting globally scoped objects is pretty risky! It is generally sensible to use them as arguments to your function. \n",
    "\n",
    "We can modify values from inside functions by using the `global` function, but again, this is not usually good practice:"
   ]
  },
  {
   "cell_type": "code",
   "execution_count": 80,
   "metadata": {},
   "outputs": [
    {
     "name": "stdout",
     "output_type": "stream",
     "text": [
      "5\n"
     ]
    }
   ],
   "source": [
    "x = 10\n",
    "\n",
    "def myfunc(y):\n",
    "    global x\n",
    "    x = y\n",
    "    return y\n",
    "\n",
    "myfunc(5)\n",
    "print(x)"
   ]
  },
  {
   "cell_type": "markdown",
   "metadata": {},
   "source": [
    "### Iterators\n",
    "\n",
    "Throughout this course we have repeatedly encountered the `range` function, it is now time to explpore it in more depth. In Python 2.x the `range` function works in a considerably different way than it does in Python 3. This is becuase it was reimplemented so it now gives a strange print out:"
   ]
  },
  {
   "cell_type": "code",
   "execution_count": null,
   "metadata": {},
   "outputs": [],
   "source": [
    "range(10)"
   ]
  },
  {
   "cell_type": "markdown",
   "metadata": {},
   "source": [
    "What exactly are we doing? Let's take a look at a more interesting example:"
   ]
  },
  {
   "cell_type": "code",
   "execution_count": null,
   "metadata": {},
   "outputs": [],
   "source": [
    "range(10**100)"
   ]
  },
  {
   "cell_type": "markdown",
   "metadata": {},
   "source": [
    "Given that there are about $10^{80}$ atoms in the universe, it is likely that we have not constructed a list which contains them all.\n",
    "\n",
    "Here are a couple of other built in functions that work in a similar manner:"
   ]
  },
  {
   "cell_type": "code",
   "execution_count": null,
   "metadata": {},
   "outputs": [],
   "source": [
    "print(map(lambda x: x*2, [1,2,3,4,5]))\n",
    "print(zip([1,2,3,4,5],[1,2,3,4,5]))"
   ]
  },
  {
   "cell_type": "markdown",
   "metadata": {},
   "source": [
    "These are all iterators (NB., this is distinct from iterables, which are any sequence we can loop over).\n",
    "\n",
    "Internally, python has a method of generating the next object in these iterator, and lazily evaluates the next item only when we need it. This is extremely useful for conserving memory when working with large data. When we hit the last object, we raise an error, which signifies the end of the iterable to most python objects."
   ]
  },
  {
   "cell_type": "code",
   "execution_count": null,
   "metadata": {},
   "outputs": [],
   "source": [
    "my_square = (map(lambda x: x*2, [1,2,3,4,5]))\n",
    "print(next(my_square))\n",
    "print(next(my_square))\n",
    "list(my_square) #huh!"
   ]
  },
  {
   "cell_type": "code",
   "execution_count": null,
   "metadata": {},
   "outputs": [],
   "source": [
    "my_square_2 = (map(lambda x: x*2, [1]))\n",
    "next(my_square_2)\n",
    "next(my_square_2)"
   ]
  },
  {
   "cell_type": "markdown",
   "metadata": {},
   "source": [
    "Once an iterator has hit the Sto pIteration error, it is empty, and we have to reinitialize it.\n",
    "\n",
    "Map here is mapping the given function onto each item in the iterable.\n",
    "\n",
    "Zip `zips` together items - useful if we want to iterate over more than item at once"
   ]
  },
  {
   "cell_type": "code",
   "execution_count": null,
   "metadata": {},
   "outputs": [],
   "source": [
    "list(zip([1,2,3,4,5],[1,2,3,4,5]))"
   ]
  },
  {
   "cell_type": "markdown",
   "metadata": {},
   "source": [
    "Range is not 100% the same, we cannot call next on it, and it has some extra attributes:"
   ]
  },
  {
   "cell_type": "code",
   "execution_count": null,
   "metadata": {},
   "outputs": [],
   "source": [
    "x = range(10)\n",
    "\n",
    "#Get some elements from range\n",
    "print(x.start)\n",
    "print(x.step)\n",
    "\n",
    "#But it's not an iterator...\n",
    "next(x)"
   ]
  },
  {
   "cell_type": "markdown",
   "metadata": {},
   "source": [
    "We can make iterators in one of two ways. The first is by wrapping an iterable in the `iter` function:"
   ]
  },
  {
   "cell_type": "code",
   "execution_count": null,
   "metadata": {},
   "outputs": [],
   "source": [
    "x = range(10)\n",
    "range_iter = iter(x)\n",
    "\n",
    "print(next(range_iter))\n",
    "print(next(range_iter))"
   ]
  },
  {
   "cell_type": "markdown",
   "metadata": {},
   "source": [
    "The second is by making our own, by replacing the `return` keyword in a function, with the `yield` keyword:"
   ]
  },
  {
   "cell_type": "code",
   "execution_count": null,
   "metadata": {},
   "outputs": [],
   "source": [
    "def myfunc(x):\n",
    "    vals = [1,2,3,4,5]\n",
    "    for i in vals:\n",
    "        yield x * i\n",
    "\n",
    "range_iter = myfunc(5)\n",
    "print(next(range_iter))\n",
    "print(next(range_iter))"
   ]
  },
  {
   "cell_type": "markdown",
   "metadata": {},
   "source": [
    "Iterators are just special functions which return when the encounter a `yield` operation. Every time we call `next` (or an equivalent operation like a for loop) we continue running the function until we hit `yield` again. Once we run out of `yield` operations we throw the error. \n",
    "\n",
    "Iterators do not need to be finite, the following iterator will run forever, it just keeps yielding the same value over and over and over..."
   ]
  },
  {
   "cell_type": "code",
   "execution_count": null,
   "metadata": {},
   "outputs": [],
   "source": [
    "def forever() :\n",
    "    while True :\n",
    "        yield 1\n",
    "        \n",
    "forever_iterator = forever()\n",
    "\n",
    "for i in range(500) :\n",
    "    next(forever_iterator)"
   ]
  },
  {
   "cell_type": "markdown",
   "metadata": {},
   "source": [
    "### Exercises\n",
    "\n",
    "In data science we will often have to create combinations of variables, columns or data points. Iterators give us a fast and efficient way of doing this.\n",
    "\n",
    "The `itertools` package is part of the standard library, and contains many useful combinatorial functions, which mostly produce iterators. Take a look at the [documentation here](https://docs.python.org/3/library/itertools.html).\n",
    "\n",
    "1. Create a nested for loop to generate all pairwise combinations of range(10) and range(10)\n",
    "2. Create the same using an itertools function\n",
    "3. Crate all combinations of 3 items from range(10)\n",
    "4. Use itertools for the sample problem."
   ]
  },
  {
   "cell_type": "markdown",
   "metadata": {},
   "source": [
    "### Recursion\n",
    "\n",
    "A common interview question is to create the nth number in the fibonacci sequence:\n",
    "\n",
    "$$ F_n = F_{n-1} + F_{n-2} $$\n",
    "\n",
    "There are many, many ways of implementing this.\n",
    "\n",
    "One of the main things they are looking for is clean, efficient code (as well as working, depending on who you ask, 50% of people interviewing for programming jobs cannot implement FizzBuzz).\n",
    "\n",
    "One way to measure, is run time.\n",
    "\n",
    "We have seen the magic functions, that begin with `%` in a few places.\n",
    "\n",
    "In jupyter notebooks, we can use `%timeit` to see how long a line takes to run, or `%%timeit` to see the whole cell."
   ]
  },
  {
   "cell_type": "code",
   "execution_count": null,
   "metadata": {},
   "outputs": [],
   "source": [
    "def fib1(x):\n",
    "    n = 2\n",
    "    a, b = 1,1\n",
    "    if x < 2:\n",
    "        return a\n",
    "    else:\n",
    "        while n <= x:\n",
    "            a, b = b, a + b\n",
    "            n += 1\n",
    "    return b"
   ]
  },
  {
   "cell_type": "code",
   "execution_count": null,
   "metadata": {},
   "outputs": [],
   "source": [
    "%%timeit\n",
    "[fib1(i) for i in range(10)]"
   ]
  },
  {
   "cell_type": "markdown",
   "metadata": {},
   "source": [
    "This is nice code, but we can think a little harder, and make a recursive solution.\n",
    "\n",
    "Recursion allows us to loop back, and use the same function inside itself. Fibonacci is the classic example of recursion:"
   ]
  },
  {
   "cell_type": "code",
   "execution_count": null,
   "metadata": {},
   "outputs": [],
   "source": [
    "def fib2(x):\n",
    "    if x < 3:\n",
    "        return 1\n",
    "    else:\n",
    "        return fib2(x - 1) + fib2(x - 2)"
   ]
  },
  {
   "cell_type": "code",
   "execution_count": null,
   "metadata": {},
   "outputs": [],
   "source": [
    "%%timeit\n",
    "[fib2(i) for i in range(10)] "
   ]
  },
  {
   "cell_type": "markdown",
   "metadata": {},
   "source": [
    "Cool, but what if we want a few more numbers:"
   ]
  },
  {
   "cell_type": "code",
   "execution_count": null,
   "metadata": {},
   "outputs": [],
   "source": [
    "%timeit [fib1(i) for i in range(30)]"
   ]
  },
  {
   "cell_type": "code",
   "execution_count": null,
   "metadata": {},
   "outputs": [],
   "source": [
    "%timeit [fib2(i) for i in range(30)]"
   ]
  },
  {
   "cell_type": "markdown",
   "metadata": {},
   "source": [
    "Our performace is terrible! With a bit of thinking, we can see that if we call fib2(5), we have to calculate fib2(4) and fib2(3), but fib2(4) calls fib2(3) again, and it multiplies out.\n",
    "\n",
    "One of the key parts of recursive programming is to make sure we do not run the same function on the same value more than once.\n",
    "\n",
    "We can cache the results!"
   ]
  },
  {
   "cell_type": "code",
   "execution_count": null,
   "metadata": {},
   "outputs": [],
   "source": [
    "fib_cache = {}\n",
    "def fib3(x):\n",
    "    if x in fib_cache:\n",
    "        return fib_cache[x]\n",
    "    else:\n",
    "        if x < 3:\n",
    "            fib_cache[x] = 1\n",
    "        else:\n",
    "            fib_cache[x] = fib3(x - 1) + fib3(x - 2)\n",
    "    return fib_cache[x]\n",
    "\n",
    "print(fib3(10))\n",
    "print(fib_cache)       "
   ]
  },
  {
   "cell_type": "markdown",
   "metadata": {},
   "source": [
    "What have we done here? We have a function, which checks if the value already exists in a dictionary. If it is found, we return the value from the dict, otherwise we run the fucntion, and put the results in the dict.\n",
    "\n",
    "Let's time it:"
   ]
  },
  {
   "cell_type": "code",
   "execution_count": null,
   "metadata": {},
   "outputs": [],
   "source": [
    "%%timeit\n",
    "\n",
    "[fib3(i) for i in range(100)]"
   ]
  },
  {
   "cell_type": "markdown",
   "metadata": {},
   "source": [
    "So, we can see this is super fast but it was a bit of work!\n",
    "\n",
    "Can we generalize this?\n",
    "\n",
    "The answer is yes, we have a way of adding this functionality to arbitrary functions:"
   ]
  },
  {
   "cell_type": "code",
   "execution_count": null,
   "metadata": {},
   "outputs": [],
   "source": [
    "from functools import lru_cache\n",
    "\n",
    "@lru_cache()\n",
    "def fib4(x):\n",
    "    if x < 3:\n",
    "        return 1\n",
    "    else:\n",
    "        return fib4(x - 1) + fib4(x - 2)"
   ]
  },
  {
   "cell_type": "code",
   "execution_count": null,
   "metadata": {},
   "outputs": [],
   "source": [
    "%%timeit \n",
    "[fib4(i) for i in range(100)]"
   ]
  },
  {
   "cell_type": "markdown",
   "metadata": {},
   "source": [
    "What exactly have we done here? And what is that `@` symbol?\n",
    "\n",
    "If a function returns a function, we can use it to modify our own functions. For example:"
   ]
  },
  {
   "cell_type": "code",
   "execution_count": null,
   "metadata": {},
   "outputs": [],
   "source": [
    "def my_decorator(function):\n",
    "    \n",
    "    def my_func(x):\n",
    "        print('running your function now')\n",
    "        output_of_function = function(x)\n",
    "        print('done running')\n",
    "        return output_of_function * output_of_function\n",
    "    \n",
    "    return my_func\n",
    "\n",
    "def my_adder(x):\n",
    "    return x + 1\n",
    "\n",
    "wrapped_function = my_decorator(my_adder)\n",
    "wrapped_function(5)"
   ]
  },
  {
   "cell_type": "markdown",
   "metadata": {},
   "source": [
    "A shortcut for this is to use the decorator notation:"
   ]
  },
  {
   "cell_type": "code",
   "execution_count": null,
   "metadata": {},
   "outputs": [],
   "source": [
    "@my_decorator\n",
    "def my_adder(x):\n",
    "    return x + 1"
   ]
  },
  {
   "cell_type": "code",
   "execution_count": null,
   "metadata": {},
   "outputs": [],
   "source": [
    "my_adder(5)"
   ]
  },
  {
   "cell_type": "markdown",
   "metadata": {},
   "source": [
    "`lru_cache` stands for least recently used. We keep the n most recently used calls (by default 128) in our cache, and return them if found, rather than running the function. This used the same dict implementation as our naive cache.\n",
    "\n",
    "Today we have had a whirlwind tour of some of the more pythonic features of the language. Don't worry too much if you didn't follow everything. Python skills come with pratice, some good resources are: \n",
    "* [Stack Overflow](https://stackoverflow.com/questions/tagged/python), where you can see the most common, or most recent python questions from users around the world. \n",
    "* [Project Euler](https://projecteuler.net/) which is a series of math and programming problems with a focus on smart implementations.\n",
    "* [Rosalind](http://rosalind.info/about/) which is a series of questions based on biology.\n",
    "* [HackerRank](https://www.hackerrank.com/), which is a site used to screen applicants, but has practice question banks.\n",
    "\n",
    "The best resource however is just practice. Work on your project, google around, and always be thinking of whether  there is a better way."
   ]
  },
  {
   "cell_type": "markdown",
   "metadata": {},
   "source": [
    "### Exercises\n",
    "\n",
    "1. Make a new implementation of fibonacci. Can you beat the timing of the examples given above?\n",
    "2. Make an implementation of FizzBuzz (for a given list of numbers, if a number is divisible by 5, print buzz, if divisible by 3 print fizz, if by 3 and 5 print fizzbuzz, otherwise print the number). Make sure you return the correct value. Walk through your version, and a partners version, did you get any good ideas? Can your partner break your function with weird values?\n",
    "3. Work in pairs to create a function to find the prime factors of a given integer (the prime factors of a number are the unique set of prime numbers that multiply to give the number for example, 9 is [3,3], 12 is [2,2,3]). Feel free to use google. Check with neighbors, whose function is faster? How about with larger numbers?\n",
    "4. (Advanced!) Write a function to find the smallest number that is the multiple of a given list of integers. For example, [2,3,4,5,6] is 60. Check against known implementations. Your answer to step 3 might help. Talk to your neighbors, use google and work together."
   ]
  }
 ],
 "metadata": {
  "kernelspec": {
   "display_name": "Python 3",
   "language": "python",
   "name": "python3"
  },
  "language_info": {
   "codemirror_mode": {
    "name": "ipython",
    "version": 3
   },
   "file_extension": ".py",
   "mimetype": "text/x-python",
   "name": "python",
   "nbconvert_exporter": "python",
   "pygments_lexer": "ipython3",
   "version": "3.7.1"
  }
 },
 "nbformat": 4,
 "nbformat_minor": 2
}
