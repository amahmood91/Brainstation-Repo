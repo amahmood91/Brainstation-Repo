{
 "cells": [
  {
   "cell_type": "markdown",
   "metadata": {},
   "source": [
    "# List Comprehension - Part 2\n",
    "\n",
    "Syntax:\n",
    "```\n",
    "[expression for item in list if conditional]\n",
    "```\n",
    "\n",
    "Same as:\n",
    "```\n",
    "new_list = []\n",
    "for item in list:\n",
    "    if conditional:\n",
    "        new_list.append(expression)\n",
    "```\n",
    "\n",
    "Syntax list comprehension with if/ else:\n",
    "```\n",
    "[true_expression if conditional else false_expression for item in list]\n",
    "```\n",
    "\n",
    "Same as:\n",
    "\n",
    "```\n",
    "new_list = []\n",
    "for item in list:\n",
    "    if conditional:\n",
    "        new_list.append(true_expression)\n",
    "    else:\n",
    "        new_list.append(false_expression)\n",
    "```"
   ]
  },
  {
   "cell_type": "markdown",
   "metadata": {},
   "source": [
    "### Example 1\n",
    "\n",
    "Take the first letter of each word and make a list out of it.\n",
    "``` string_1 = 'this is a list of words' ```"
   ]
  },
  {
   "cell_type": "code",
   "execution_count": 2,
   "metadata": {},
   "outputs": [
    {
     "data": {
      "text/plain": [
       "['t', 'i', 'a', 'l', 'o', 'w']"
      ]
     },
     "execution_count": 2,
     "metadata": {},
     "output_type": "execute_result"
    }
   ],
   "source": [
    "string_1 = 'this is a list of words'\n",
    "list_1 = []\n",
    "for word in string_1.split():\n",
    "    list_1.append(word[0])\n",
    "list_1"
   ]
  },
  {
   "cell_type": "markdown",
   "metadata": {},
   "source": [
    "```[x*2 for x in list_of_iterators] ```"
   ]
  },
  {
   "cell_type": "code",
   "execution_count": 3,
   "metadata": {},
   "outputs": [
    {
     "data": {
      "text/plain": [
       "['t', 'i', 'a', 'l', 'o', 'w']"
      ]
     },
     "execution_count": 3,
     "metadata": {},
     "output_type": "execute_result"
    }
   ],
   "source": [
    "[word[0] for word in string_1.split()]"
   ]
  },
  {
   "cell_type": "markdown",
   "metadata": {},
   "source": [
    "### Example 2\n",
    "\n",
    "For the string below extract the numbers and out into list.\n",
    "``` string = \"Hello 12345 World\"```"
   ]
  },
  {
   "cell_type": "code",
   "execution_count": 4,
   "metadata": {},
   "outputs": [],
   "source": [
    "string = 'Hello 12345 World'"
   ]
  },
  {
   "cell_type": "code",
   "execution_count": 10,
   "metadata": {},
   "outputs": [
    {
     "data": {
      "text/plain": [
       "['12345']"
      ]
     },
     "execution_count": 10,
     "metadata": {},
     "output_type": "execute_result"
    }
   ],
   "source": [
    "list_2 = []\n",
    "for word in string.split():\n",
    "    if word.isnumeric():\n",
    "        list_2.append(word)\n",
    "list_2"
   ]
  },
  {
   "cell_type": "code",
   "execution_count": null,
   "metadata": {},
   "outputs": [],
   "source": [
    "list_3 = []\n",
    "for charcter in string:\n",
    "    if charcter.isnumeric():\n",
    "        list_3.append(charcter)\n",
    "list_3"
   ]
  },
  {
   "cell_type": "code",
   "execution_count": 16,
   "metadata": {},
   "outputs": [
    {
     "data": {
      "text/plain": [
       "['1', '2', '3', '4', '5']"
      ]
     },
     "execution_count": 16,
     "metadata": {},
     "output_type": "execute_result"
    }
   ],
   "source": [
    "[character for character in string if character.isdigit()]"
   ]
  },
  {
   "cell_type": "markdown",
   "metadata": {},
   "source": [
    "### Example 3\n",
    "\n",
    "Create a function that doubles a number. Then create a list of list for 0 to 9."
   ]
  },
  {
   "cell_type": "code",
   "execution_count": 18,
   "metadata": {},
   "outputs": [],
   "source": [
    "def doubled(x):\n",
    "    '''\n",
    "    This function doubles numbers\n",
    "    '''\n",
    "    return 2*x"
   ]
  },
  {
   "cell_type": "code",
   "execution_count": 20,
   "metadata": {},
   "outputs": [
    {
     "data": {
      "text/plain": [
       "[0, 2, 4, 6, 8, 10, 12, 14, 16, 18]"
      ]
     },
     "execution_count": 20,
     "metadata": {},
     "output_type": "execute_result"
    }
   ],
   "source": [
    "[doubled(x) for x in range(10)]"
   ]
  },
  {
   "cell_type": "markdown",
   "metadata": {},
   "source": [
    "#### What if you only doubled the numbers that are even?"
   ]
  },
  {
   "cell_type": "code",
   "execution_count": 22,
   "metadata": {},
   "outputs": [
    {
     "data": {
      "text/plain": [
       "[0, 1, 4, 3, 8, 5, 12, 7, 16, 9]"
      ]
     },
     "execution_count": 22,
     "metadata": {},
     "output_type": "execute_result"
    }
   ],
   "source": [
    "list_4 = []\n",
    "for number in range(10):\n",
    "    if number % 2 == 0:\n",
    "        list_4.append(doubled(number))\n",
    "    else:\n",
    "        list_4.append(number)\n",
    "list_4"
   ]
  },
  {
   "cell_type": "code",
   "execution_count": 23,
   "metadata": {},
   "outputs": [
    {
     "data": {
      "text/plain": [
       "[0, 1, 4, 3, 8, 5, 12, 7, 16, 9]"
      ]
     },
     "execution_count": 23,
     "metadata": {},
     "output_type": "execute_result"
    }
   ],
   "source": [
    "[doubled(number) if number %2 == 0 else number for number in range(10)]"
   ]
  }
 ],
 "metadata": {
  "kernelspec": {
   "display_name": "Python 3",
   "language": "python",
   "name": "python3"
  },
  "language_info": {
   "codemirror_mode": {
    "name": "ipython",
    "version": 3
   },
   "file_extension": ".py",
   "mimetype": "text/x-python",
   "name": "python",
   "nbconvert_exporter": "python",
   "pygments_lexer": "ipython3",
   "version": "3.6.5"
  }
 },
 "nbformat": 4,
 "nbformat_minor": 2
}
