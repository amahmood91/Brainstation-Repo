{
 "cells": [
  {
   "cell_type": "code",
   "execution_count": 1,
   "metadata": {},
   "outputs": [],
   "source": [
    "import numpy as np\n",
    "import pandas as pd"
   ]
  },
  {
   "cell_type": "markdown",
   "metadata": {},
   "source": [
    "### Hypothesis Testing\n",
    "\n",
    "Often, we likely don't care about the exact distribution of our data. The focus is more on whether it is greater or less than a specific value, or other set of data.\n",
    "\n",
    "Imagine I now get a set of dice which may be loaded - ie. uneven.\n",
    "\n",
    "\n",
    "We can set up a hypothesis about our data:\n",
    "\n",
    "* The dice are loaded.\n",
    "\n",
    "Our *Null hypothesis* is then:\n",
    "\n",
    "* The dice are fair.\n",
    "\n",
    "Now, we need to figure out how to test our hypothesis. In statistical terms, we have a *null hypothesis*, $H_0$, and an *alternate hypothesis*, $H_1$.\n",
    "\n",
    "We can't simply roll a lot of dice and see if the results differ. Even fair dice are different due to random chance. We want to determine a way of figuring out if the samples appear to come from a different mechanism.\n",
    "\n",
    "\n",
    "In traditional statistics, we can use a test to figure out how likely it is that the observed data happened by chance. This is called the *p-value* of our test.\n",
    "\n",
    "Once we have inferred a *p-value*, we can decide whether to accept or reject the null hypothesis. Traditional statistics have chosen p < 0.05 as a cutoff for 'statistical significance'. If our test shows that our values are less than 1/20 to have occured due to chance, then we reject our null hypothesis that the samples are the same.\n",
    "\n",
    "Note that *p-values* are currently considered a little controversal in several fields. The values of p=0.05 were arbitraily chosen by Ronald Fisher in the 1920s, and if statistics are misapplied, they can be inaccurate. There is also some debate in medical fields, where a p = 0.051 means we might deem a treatment worthless while a p = 0.049 means it might be best pratice. We will talk about alternative measures as we progress through the course.\n",
    "\n",
    "\n",
    "### Categorical vs Continuous\n",
    "\n",
    "In data, we often have two different types of variables, categorical and continuous.\n",
    "\n",
    "Continuous variables are those that can take any value - height, weight, income, sales.\n",
    "\n",
    "Categorical variables are those which fall into a category or class, hair color is often black, blonde, red or brown. Dice rolls are one of the values on the dice - we can't roll a 3.27, even if that is the expected outcome. Categorical outcomes can be ordered, like dice rolls, or unordered, like hair types. We can often pool or sum categorical outcomes to be continuous outcomes, like we did last time with the summing of the dice rolls.\n",
    "\n"
   ]
  },
  {
   "cell_type": "markdown",
   "metadata": {},
   "source": [
    "Different variables require different tests. While we approximated the normal distribution using dice rolls, it is not strictly correct, we could never have had a sum of 55.3. The CLT allowed us to use the approximation."
   ]
  },
  {
   "cell_type": "markdown",
   "metadata": {},
   "source": [
    "### Chi Squared Test\n",
    "\n",
    "We use a Chi Squared test aka $\\chi^2$ test, when we have a number of observations, each of which have a categorical outcome.\n",
    "\n",
    "A perfect example is our dice rolls - we roll dice, each of which falls into one of the outcomes of 1-6. If a dice is unbiased, we would expect each outcome to have 1/6 of the total rolls.\n",
    "\n",
    "Lets make some data:"
   ]
  },
  {
   "cell_type": "code",
   "execution_count": 4,
   "metadata": {},
   "outputs": [
    {
     "name": "stdout",
     "output_type": "stream",
     "text": [
      "[0.16393443 0.16393443 0.16393443 0.16393443 0.16393443 0.18032787]\n"
     ]
    }
   ],
   "source": [
    "np.random.seed(12345)\n",
    "\n",
    "#we are introduciing some bias by changing the probability of one roll to be 1.1 instead of 1 - higher probability of roll 6\n",
    "bias = np.array([1,1,1,1,1,1.1])\n",
    "bias = bias /sum(bias)\n",
    "print(bias)\n",
    "\n",
    "#p is probability (sums should add to 1) and should be the same length as the samples\n",
    "unknownrolls = np.random.choice(range(1,7), replace = True, size = (2000), p = bias)\n",
    "#notice that no p is specified, so default is all options are equally likely\n",
    "evenrolls = np.random.choice(range(1,7), replace = True, size = (2000))\n"
   ]
  },
  {
   "cell_type": "code",
   "execution_count": 9,
   "metadata": {},
   "outputs": [
    {
     "name": "stdout",
     "output_type": "stream",
     "text": [
      "Counter({6: 362, 2: 336, 5: 335, 3: 334, 4: 318, 1: 315})\n",
      "Counter({2: 354, 5: 350, 6: 334, 3: 331, 4: 325, 1: 306})\n"
     ]
    },
    {
     "data": {
      "text/plain": [
       "collections.Counter"
      ]
     },
     "execution_count": 9,
     "metadata": {},
     "output_type": "execute_result"
    }
   ],
   "source": [
    "from collections import Counter\n",
    "#collections is a module with a lot of useful stuff\n",
    "#if you google 'how do i count occurances of items in a list in python' this is what it'll tell you to do.\n",
    "\n",
    "tabbedbias = Counter(unknownrolls)\n",
    "tabbedunbias = Counter(evenrolls)\n",
    "print(tabbedbias)\n",
    "print(tabbedunbias)\n"
   ]
  },
  {
   "cell_type": "markdown",
   "metadata": {},
   "source": [
    "To carry out the test, we need to calculate the below formula:\n",
    "\n",
    "$$ \\chi^2 = \\sum_{k=1}^6\\frac{(obs_k - exp_k)^2}{exp_k} $$\n",
    "\n",
    "In English we take the observed number for each roll, minus the expected number, square it, and divide by the expected. We then sum the results of all numbers."
   ]
  },
  {
   "cell_type": "code",
   "execution_count": 11,
   "metadata": {},
   "outputs": [
    {
     "name": "stdout",
     "output_type": "stream",
     "text": [
      "4.21\n",
      "4.582\n"
     ]
    }
   ],
   "source": [
    "#We see that there are a lot more 6's in the unknown rolls - is this observation due to chance? i.e p > 0.05\n",
    "\n",
    "expected = 1/6*2000 # probability of each roll is expected to be 1/6, and with 2000 rolls we expect to 2000*1/6 rolls\n",
    "\n",
    "chisq = 0\n",
    "\n",
    "for i in range(1,7):\n",
    "    obs = tabbedbias[i]\n",
    "    chisq += ((obs - expected)**2)/expected\n",
    "    \n",
    "print(chisq)\n",
    "\n",
    "#unbiased\n",
    "chisq = 0\n",
    "\n",
    "for i in range(1,7):\n",
    "    obs = tabbedunbias[i]\n",
    "    chisq += ((obs - expected)**2)/expected\n",
    "    \n",
    "print(chisq)"
   ]
  },
  {
   "cell_type": "markdown",
   "metadata": {},
   "source": [
    "### Exercise\n",
    "\n",
    "1. Turn the above into a function, that takes the parameters `counts`, the counter dicts, `size` the size of the sample, and returns the chi square statistic\n",
    "2. Document your function! Add a docstring, with examples.\n",
    "3. Add assertions, to make sure you are taking in the expected data types."
   ]
  },
  {
   "cell_type": "code",
   "execution_count": 13,
   "metadata": {},
   "outputs": [
    {
     "data": {
      "text/plain": [
       "4.21"
      ]
     },
     "execution_count": 13,
     "metadata": {},
     "output_type": "execute_result"
    }
   ],
   "source": [
    "#1\n",
    "\n",
    "def get_chisq(counts, counter_dict, size, p_exp):\n",
    "    \n",
    "    chisq = 0\n",
    "    \n",
    "    for i in counts:\n",
    "        obs = counter_dict[i]\n",
    "        chisq += ((obs - size*p_exp)**2)/(size*p_exp)\n",
    "\n",
    "    return chisq\n",
    "\n",
    "get_chisq(range(1,7), tabbedbias, 2000, 1/6)"
   ]
  },
  {
   "cell_type": "markdown",
   "metadata": {},
   "source": [
    "The Chi Square Value is a measure of bias in your dice. The Chi Square distribution is based on some math, showing how expect the values to fall based on random chance. We need a parameter, the 'degrees of freedom'. \n",
    "\n",
    "<img src=\"https://upload.wikimedia.org/wikipedia/commons/8/8e/Chi-square_distributionCDF-English.png\" height = \"300\" width = \"400\">\n",
    "\n",
    "Degrees of freedom is the number of values in our test that are free to vary. In our die example, we have 5 degrees of freedom. We have 6 dice outcomes, but given that we know how many dice we rolled, and the count of the numbers 1-5, we can infer the number of times we got 6.\n",
    "\n",
    "To determine the p-value of Chi Squared test, we can either look up the values in a table, or use scipy:"
   ]
  },
  {
   "cell_type": "code",
   "execution_count": 25,
   "metadata": {},
   "outputs": [
    {
     "name": "stdout",
     "output_type": "stream",
     "text": [
      "[315, 336, 334, 318, 335, 362]\n",
      "Power_divergenceResult(statistic=4.21, pvalue=0.5195942907852373)\n",
      "Power_divergenceResult(statistic=4.582, pvalue=0.46898764252956293)\n"
     ]
    }
   ],
   "source": [
    "from scipy import stats\n",
    "\n",
    "#testing acorss uniform distibution (i.e equally likely so probability doesnt need to specified)\n",
    "\n",
    "biased_chisq = get_chisq(range(1,7), tabbedbias, 2000, 1/6)\n",
    "\n",
    "print([tabbedbias[i] for i in range(1,7)])\n",
    "#print(stats.chi.cdf(biased_chisq,5))\n",
    "\n",
    "print(stats.chisquare([tabbedbias[i] for i in range(1,7)]))\n",
    "#we have automatically carried out degrees of freedom, and expected values.\n",
    "print(stats.chisquare([tabbedunbias[i] for i in range(1,7)]))"
   ]
  },
  {
   "cell_type": "markdown",
   "metadata": {},
   "source": [
    "In our case, as our p-values are both greater than 0.05, we cannot reject the null hypothesis that the outcomes are not biased!\n",
    "\n",
    "However, we know that one of the rolls was biased! This leads to an idea of statistical power. In this case, we actually got a more likely result from the unbiased dice than the biased dice. Some times a statistical test cannot detect subtle biases - remember, we have chance involved. We can increase the sample size, or if we have reason to suspect a certain subcategory is overrepresented, we can pool all our samples to be non-6 and 6:"
   ]
  },
  {
   "cell_type": "code",
   "execution_count": 27,
   "metadata": {},
   "outputs": [
    {
     "name": "stdout",
     "output_type": "stream",
     "text": [
      "362\n",
      "1638\n"
     ]
    },
    {
     "data": {
      "text/plain": [
       "Power_divergenceResult(statistic=2.958400000000006, pvalue=0.08543244158265792)"
      ]
     },
     "execution_count": 27,
     "metadata": {},
     "output_type": "execute_result"
    }
   ],
   "source": [
    "#above we did chi-sq on all data, so the 4.21 we saw was for the whole set, not for the indiviual value.\n",
    "#We know 6 is supposed to be weird, so lets look at 6 specifically by organizing the data as 6-data and non-6 data\n",
    "\n",
    "nonsixes = 0\n",
    "sixes = 0\n",
    "\n",
    "for i in range(1,7):\n",
    "    if i == 6:\n",
    "        sixes += tabbedbias[i]\n",
    "    else:\n",
    "        nonsixes += tabbedbias[i]\n",
    "print(sixes)\n",
    "print(nonsixes)\n",
    "stats.chisquare([sixes, nonsixes], f_exp = [1/6*2000,5/6*2000])"
   ]
  },
  {
   "cell_type": "markdown",
   "metadata": {},
   "source": [
    "We still can't see a bias, although we are a little closer. We now have the risk that if someone has changed all the 1s to 2s, we will not be able to detect it."
   ]
  },
  {
   "cell_type": "code",
   "execution_count": 28,
   "metadata": {},
   "outputs": [],
   "source": [
    "np.random.seed(12345)\n",
    "\n",
    "bias = np.array([1,1,1,1,1,1.2])\n",
    "bias = bias /sum(bias)\n",
    "\n",
    "unknownrolls = np.random.choice(range(1,7), replace = True, size = (2000), p = bias)\n",
    "evenrolls = np.random.choice(range(1,7), replace = True, size = (2000))\n",
    "tabbedbias = Counter(unknownrolls)\n",
    "tabbedunbias = Counter(evenrolls)"
   ]
  },
  {
   "cell_type": "code",
   "execution_count": 29,
   "metadata": {},
   "outputs": [
    {
     "name": "stdout",
     "output_type": "stream",
     "text": [
      "Power_divergenceResult(statistic=13.882000000000001, pvalue=0.016376598931130203)\n",
      "Power_divergenceResult(statistic=4.582, pvalue=0.46898764252956293)\n"
     ]
    }
   ],
   "source": [
    "print(stats.chisquare([tabbedbias[i] for i in range(1,7)]))\n",
    "print(stats.chisquare([tabbedunbias[i] for i in range(1,7)]))"
   ]
  },
  {
   "cell_type": "markdown",
   "metadata": {},
   "source": [
    "Now we can reject the Null Hypothesis - the die is not fair."
   ]
  },
  {
   "cell_type": "markdown",
   "metadata": {},
   "source": [
    "### Exercise\n",
    "\n",
    "1. Play around with the bias and sample size of the biased die rolls. How do the two relate? How many samples do you need in order to reliably detect a bias of 1.05?\n",
    "\n",
    "2. Alter the setup to change a d6 to a d4 (4 sided dice). How does the number of categories effect the test?"
   ]
  },
  {
   "cell_type": "markdown",
   "metadata": {},
   "source": [
    "### Multiple Categories\n",
    "\n",
    "We can carry out Chi Squared tests in multiple dimensions.\n",
    "\n",
    "Let's investigate whether BrainStation has a difference in students across our courses at different campuses. The null hypothesis is that we have no difference in course preference in different places - while we might have more UX/UI than web design, or more Toronto than Vancouver students, we expect the courses to have simialr proportions across the different campuses.\n",
    "\n",
    "NB. This is not real enrollment data!\n",
    "\n",
    "|Course      | Vancouver| Toronto | Online|\n",
    "|------------| -------- | ------- | ------- |\n",
    "|Web Design  | 60       | 100     |  30 |\n",
    "|UI/UX       | 70       | 140     |  30 |\n",
    "|Data Science| 40       | 50      |  20 |"
   ]
  },
  {
   "cell_type": "code",
   "execution_count": 52,
   "metadata": {
    "scrolled": true
   },
   "outputs": [
    {
     "name": "stdout",
     "output_type": "stream",
     "text": [
      "              Vancouver  Toronto  Online\n",
      "Web Design           60      100      30\n",
      "UI/UX                70      140      30\n",
      "Data Science         40       50      20\n"
     ]
    },
    {
     "data": {
      "text/plain": [
       "(5.465891500140728,\n",
       " 0.24274395293941214,\n",
       " 4,\n",
       " array([[ 59.81481481, 102.03703704,  28.14814815],\n",
       "        [ 75.55555556, 128.88888889,  35.55555556],\n",
       "        [ 34.62962963,  59.07407407,  16.2962963 ]]))"
      ]
     },
     "execution_count": 52,
     "metadata": {},
     "output_type": "execute_result"
    }
   ],
   "source": [
    "brainstation_data = {'Vancouver': [60,70,40],\n",
    "                    'Toronto': [100,140,50],\n",
    "                    'Online': [30,30,20]}\n",
    "\n",
    "\n",
    "x = pd.DataFrame(brainstation_data, index=['Web Design','UI/UX','Data Science'])\n",
    "\n",
    "#x = pd.DataFrame(brainstation_data)\n",
    "#x.set_index('Course', inplace=True)\n",
    "#x.info()\n",
    "print(x)\n",
    "\n",
    "stats.chi2_contingency(x)\n",
    "#in the output, the array shows the expected values for each."
   ]
  },
  {
   "cell_type": "markdown",
   "metadata": {},
   "source": [
    "In this case, the function has returned a tuple of multiple values.\n",
    "\n",
    "### Exercise\n",
    "\n",
    "1. Use the help to figure out what these values are.\n",
    "2. How many more enrollments in Data Science in Toronto would we need to make p value less than 0.05?\n",
    "3. Make the table into Data Science vs Non-Data Science and rerun the test. What is the p-value now?\n"
   ]
  },
  {
   "cell_type": "markdown",
   "metadata": {},
   "source": [
    "### T-Tests\n",
    "\n",
    "What if we have a continuous outcome? For example, we have a store in Downtown Toronto, and one in the suburbs. We want to know if the average spend per customer is different. \n",
    "\n",
    "We could try and bin every dollar value, and run a Chi Squared test, but this will very quickly become infeasible.\n",
    "\n",
    "As we have previously learned, when we have a large number of samples, they should approximate the normal distribution (though they may not, which we will discuss next week).\n",
    "\n",
    "To do this, we can use a T-test, also known as 'Student's T-test'. T-tests were developed by William Gosset, a statistician working on how to determine the quality of Stout produced at the Guiness Brewery in Ireland. He developed his method, but was forbidden to publish it by his bosses at Guiness, so he used the pen name 'Student', which has stuck to the test.\n",
    "\n",
    "The motivation for this test isto determine whether the data could have come from the same normal distribution. We compare the mean of the two data sets, assume that the variances are equal, and determine whether a single process could have produced the data."
   ]
  },
  {
   "cell_type": "code",
   "execution_count": 70,
   "metadata": {},
   "outputs": [
    {
     "data": {
      "image/png": "[encoded data removed]",
      "text/plain": [
       "<Figure size 720x360 with 1 Axes>"
      ]
     },
     "metadata": {
      "needs_background": "light"
     },
     "output_type": "display_data"
    }
   ],
   "source": [
    "import matplotlib.pyplot as plt\n",
    "%matplotlib inline\n",
    "\n",
    "x = np.random.normal(loc = 5, scale = 1, size = 10000)\n",
    "y = np.random.normal(loc = 5.5, scale = 1, size = 10000)\n",
    "\n",
    "bins = np.linspace(1, 13, 100)\n",
    "plt.figure(figsize=(10,5))\n",
    "plt.hist(x, bins, alpha=0.5, label='x')\n",
    "plt.hist(y, bins, alpha=0.5, label='y')\n",
    "plt.legend(loc='upper right')\n",
    "plt.show()"
   ]
  },
  {
   "cell_type": "markdown",
   "metadata": {},
   "source": [
    "Compare the above normal curves - We know that they have come from different distributions, but the range overlaps.\n",
    "\n",
    "How can we indicate that they are in fact different?\n",
    "\n",
    "We have several different ways of testing difference using T-tests.\n",
    "\n",
    "The first is a one sample T-test, which takes data, and determines if the mean is different from a given value.\n",
    "\n",
    "In this case, we can test if the mean of the x sample is different than 5.5, the mean of the y set:\n",
    "\n",
    "$$ t = \\frac{\\overline{x} - \\mu}{\\left(s\\,\\big/ \\sqrt{n}\\right)}$$\n",
    "\n",
    "Where t is our t-statistic, µ is the value we are testing against, s is our standard deviation, and n is the size of the sample."
   ]
  },
  {
   "cell_type": "code",
   "execution_count": 68,
   "metadata": {},
   "outputs": [
    {
     "data": {
      "text/plain": [
       "-5.236039215910216"
      ]
     },
     "execution_count": 68,
     "metadata": {},
     "output_type": "execute_result"
    }
   ],
   "source": [
    "#loc = 5 is mean of 5, \n",
    "np.random.seed(555)\n",
    "x = np.random.normal(loc = 5, scale = 1, size = 100)\n",
    "t = (np.mean(x) - 5.5)/(np.std(x, ddof = 1)/np.sqrt(len(x)))\n",
    "#in stats, we have the sample std dev, and the population stdev. We want the sample std when we have a sample\n",
    "#like in this case\n",
    "t\n",
    "#the t-statistic we again look up in a table, to find the p-value"
   ]
  },
  {
   "cell_type": "code",
   "execution_count": 69,
   "metadata": {},
   "outputs": [
    {
     "data": {
      "text/plain": [
       "Ttest_1sampResult(statistic=-5.236039215910216, pvalue=9.231852200655178e-07)"
      ]
     },
     "execution_count": 69,
     "metadata": {},
     "output_type": "execute_result"
    }
   ],
   "source": [
    "stats.ttest_1samp(x, 5.5) # this is ttest_1samp --its a ONE not an i or l"
   ]
  },
  {
   "cell_type": "markdown",
   "metadata": {},
   "source": [
    "We can also carry out a test where we compare two samples:\n",
    "\n",
    "$$ t = \\frac{\\overline{X}_1 - \\overline{X}_2}{s_p\\sqrt{\\frac{2}{n}}}$$\n",
    "\n",
    "Where the $\\overline{X}_1$ and $\\overline{X}_2$ are the sample means, and $s_p$ is the pooled standard deviation of the samples:"
   ]
  },
  {
   "cell_type": "code",
   "execution_count": 73,
   "metadata": {},
   "outputs": [
    {
     "name": "stdout",
     "output_type": "stream",
     "text": [
      "-4.339524064351627\n"
     ]
    }
   ],
   "source": [
    "#100 consumer spends in downtown Toronto\n",
    "downtown = np.random.normal(loc = 5, scale = 1, size = 100)\n",
    "#100 spends in the suburbs\n",
    "suburbs = np.random.normal(loc = 5.5, scale = 1, size = 100)\n",
    "\n",
    "t = (np.mean(downtown) - np.mean(suburbs))/(np.sqrt((np.var(downtown, ddof = 1) + np.var(suburbs, ddof = 1))/2)*np.sqrt((2/len(downtown))))\n",
    "print(t)"
   ]
  },
  {
   "cell_type": "code",
   "execution_count": 76,
   "metadata": {},
   "outputs": [
    {
     "data": {
      "text/plain": [
       "Ttest_indResult(statistic=-4.339524064351627, pvalue=2.2750711288321723e-05)"
      ]
     },
     "execution_count": 76,
     "metadata": {},
     "output_type": "execute_result"
    }
   ],
   "source": [
    "#Null is mean1 = mean 2, alt hypoth is means1 != means2\n",
    "stats.ttest_ind(downtown,suburbs)"
   ]
  },
  {
   "cell_type": "markdown",
   "metadata": {},
   "source": [
    "How do we report this result? We know that we have a higher spend in the suburbs:"
   ]
  },
  {
   "cell_type": "code",
   "execution_count": 77,
   "metadata": {},
   "outputs": [
    {
     "data": {
      "text/plain": [
       "0.6300240126339833"
      ]
     },
     "execution_count": 77,
     "metadata": {},
     "output_type": "execute_result"
    }
   ],
   "source": [
    "np.mean(suburbs) - np.mean(downtown)"
   ]
  },
  {
   "cell_type": "markdown",
   "metadata": {},
   "source": [
    "We also know that the P Value is significant. Standard Practice is to report it as:"
   ]
  },
  {
   "cell_type": "code",
   "execution_count": 78,
   "metadata": {},
   "outputs": [
    {
     "name": "stdout",
     "output_type": "stream",
     "text": [
      "\n",
      "Suburban spends have an average of 5.5111, as compared to the average for downtown of 4.9905.\n",
      "Carrying out a two sample T-test, we can reject the Null Hypothesis with a P-Value of 0.0000.\n",
      "Concluding that there is a difference in spending between the Suburban and Downtown Stores\n"
     ]
    }
   ],
   "source": [
    "print(f'''\n",
    "Suburban spends have an average of {np.mean(y):.4f}, as compared to the average for downtown of {np.mean(x):.4f}.\n",
    "Carrying out a two sample T-test, we can reject the Null Hypothesis with a P-Value of {stats.ttest_ind(x, y)[1]:.4f}.\n",
    "Concluding that there is a difference in spending between the Suburban and Downtown Stores''')"
   ]
  },
  {
   "cell_type": "markdown",
   "metadata": {},
   "source": [
    "The third kind of T-test is a 'paired T-test', or a 'repeated measures' T-test. In this case we can add a level of 'structure' to our test.\n",
    "\n",
    "We use a paired T-test when we have measured each 'subject' in both conditions of our T-test. For example, while we have shown that customers have a different spending in Downtown versus Suburban stores, it might be due to different customers visiting the stores, rather than a difference between spending once they are in the door.\n",
    "\n",
    "To fix this, let's imagine we have spending data for the same 100 customers at both stores. In this case, we have 'repeated measures' of each customer at both stores. Now we can cancel out any difference in customers, as each customer has visited each store. Customers can be modeled as having some bias - each customer spends more or less than the average at each store.\n",
    "\n",
    "This time, we derive our T-statistic from the differences between paired samples:\n",
    "\n",
    "$$ t = \\frac{\\overline{X}_D - µ_0}{\\frac{s_D}{\\sqrt{n}}} $$\n",
    "\n",
    "Where $X_D$ is the difference between paired samples, $µ_0$ is our mean difference that we want to compare to (0 in this case), $s_D$ is sample standard deviation, and n is the number of samples.\n",
    "\n",
    "Let's try to simulate some data, and carry out a non-paired test:"
   ]
  },
  {
   "cell_type": "code",
   "execution_count": 79,
   "metadata": {},
   "outputs": [
    {
     "data": {
      "text/plain": [
       "Ttest_indResult(statistic=-1.2601313195430197, pvalue=0.2091051342275966)"
      ]
     },
     "execution_count": 79,
     "metadata": {},
     "output_type": "execute_result"
    }
   ],
   "source": [
    "np.random.seed(9876)\n",
    "#x, downtown. Mean = 5, sd = 1\n",
    "downtown = np.random.normal(loc = 5, scale = 1, size = 100)\n",
    "#y, suburban, Mean = 5.3, sd = 1\n",
    "suburbs = np.random.normal(loc = 5.3, scale = 1, size = 100)\n",
    "\n",
    "#Now, each customer has some of their own 'bias', where they are spending\n",
    "#less or more than average by a random number\n",
    "\n",
    "bias = np.random.normal(loc = 1, scale = 1, size = 100)\n",
    "downtown = downtown + bias\n",
    "suburbs = suburbs + bias\n",
    "\n",
    "#2-sample test\n",
    "stats.ttest_ind(downtown, suburbs)"
   ]
  },
  {
   "cell_type": "markdown",
   "metadata": {},
   "source": [
    "Without knowing that the bias is the same for each customer, we can no longer tell if the stores have a different effect, as the added variability of customers swamps the difference between the stores.\n",
    "\n",
    "However, a repeated measures T-test clears it up:"
   ]
  },
  {
   "cell_type": "code",
   "execution_count": 80,
   "metadata": {},
   "outputs": [
    {
     "data": {
      "text/plain": [
       "-2.0657002037227885"
      ]
     },
     "execution_count": 80,
     "metadata": {},
     "output_type": "execute_result"
    }
   ],
   "source": [
    "#notice that we are taking the mean of the difference (element-wise) between spending in downtown and suburbs\n",
    "t = (np.mean(downtown - suburbs) - 0)/(np.std(downtown - suburbs, ddof = 1)/np.sqrt(len(downtown)))\n",
    "t"
   ]
  },
  {
   "cell_type": "code",
   "execution_count": 81,
   "metadata": {},
   "outputs": [
    {
     "data": {
      "text/plain": [
       "Ttest_relResult(statistic=-2.0657002037227885, pvalue=0.04146903988892927)"
      ]
     },
     "execution_count": 81,
     "metadata": {},
     "output_type": "execute_result"
    }
   ],
   "source": [
    "#paired t test\n",
    "stats.ttest_rel(downtown,suburbs)"
   ]
  },
  {
   "cell_type": "code",
   "execution_count": 91,
   "metadata": {},
   "outputs": [],
   "source": [
    "#2-sample t-test: comparing the difference of the means\n",
    "#paird t-test: you're comparing the mean of the difference"
   ]
  },
  {
   "cell_type": "markdown",
   "metadata": {},
   "source": [
    "Using the paired T-test, we have sucessfully been able to reject the null hypothesis, and can conclude that there is some difference between the two samples."
   ]
  },
  {
   "cell_type": "markdown",
   "metadata": {},
   "source": [
    "### One Tailed Tests Versus Two Tailed Tests\n",
    "\n",
    "So far, we have only carred out two tailed tests. When we have been carrying out the tests, we have been testing whether there was a diffence between the means, rather than whether one was higher than the other."
   ]
  },
  {
   "cell_type": "code",
   "execution_count": 82,
   "metadata": {},
   "outputs": [
    {
     "data": {
      "image/png": "[encoded data removed]",
      "text/plain": [
       "<Figure size 360x360 with 1 Axes>"
      ]
     },
     "metadata": {
      "needs_background": "light"
     },
     "output_type": "display_data"
    }
   ],
   "source": [
    "#if we wanted to know if mean 1 was larger than mean 2, then use a one-tailed test\n",
    "\n",
    "fig = plt.figure(figsize=(5.0, 5.0))\n",
    "\n",
    "xvals = np.arange(-3, 3, 0.01)\n",
    "yvals = stats.norm.pdf(xvals, 0, 1)\n",
    "axes = fig.add_subplot(1, 1,1)\n",
    "axes.plot(xvals, yvals);\n",
    "axes.fill_between(xvals,0,yvals, xvals > 1.96, facecolor = 'blue')\n",
    "axes.fill_between(xvals,0,yvals, xvals < -1.96, facecolor = 'blue');"
   ]
  },
  {
   "cell_type": "markdown",
   "metadata": {},
   "source": [
    "So far, we have been testing whether our value falls into either of these two tails. In the one sample T-test, if our mean falls into the tails, then we were significant. The two sample T-test, tested the difference in value of the two means, and the paired T-test tested the differences between paired samples. This value is about 1.96 standard deviations from the mean, and contains a total of 5% of total outcomes.\n",
    "\n",
    "If we have a strong reason to suspect that one is larger than the other we could do a one tailed test. In this case our null hypothesis:\n",
    "\n",
    "$H_0$: Mean of Group A is greater than or equal to Group B\n",
    "\n",
    "But our alternatie hypothesis is:\n",
    "\n",
    "$H_1$: Mean of Group A is less than mean of Group B.\n",
    "\n",
    "In general, this will halve our p-values! But, it needs to be justified, and should be used with care.\n",
    "\n",
    "We simply divide the p-value by two when reporting it, some statistical software allows one vs two tails, scipy advises the user to /2. "
   ]
  },
  {
   "cell_type": "markdown",
   "metadata": {},
   "source": [
    "### Exercises\n",
    "\n",
    "We are investigating the time spent on our website by a group of visitors. We would like to know if the amount of time spent in seconds is greater than our competitor, who has published the mean time spent as 120 seconds.\n",
    "\n",
    "We have data for 100 of our website visitors:\n"
   ]
  },
  {
   "cell_type": "code",
   "execution_count": 83,
   "metadata": {},
   "outputs": [],
   "source": [
    "time_spent = np.array([139.42870327, 106.18048611, 158.65413937, 123.74696208,\n",
    "       115.58822533, 147.74325881, 147.19176827, 117.26952991,\n",
    "       130.31392744,  85.14630092, 153.00071449, 149.83892045,\n",
    "       149.06648256,  89.5749036 , 123.31845268, 130.04236729,\n",
    "       138.10906823, 135.78183882, 156.42316384,  99.06188894,\n",
    "       125.94707351, 116.88061312, 133.86842753, 141.06877822,\n",
    "       156.36303108, 120.61389431, 143.5110817 ,  93.65945547,\n",
    "       126.3378292 , 151.17938375, 122.04319544, 136.74875307,\n",
    "       150.95157146, 150.91876511, 147.27434583, 127.5581685 ,\n",
    "       132.49425908, 123.54410389, 146.83349426, 177.81921031,\n",
    "       131.52399176, 118.67108139, 130.72283873,  88.50044799,\n",
    "       134.95584399, 112.05686431, 127.26410333, 130.36578383,\n",
    "       145.10827965, 134.30537162, 146.8201759 , 101.08379846,\n",
    "       101.96053437, 127.981636  , 119.03515102, 127.10760983,\n",
    "       137.08040664, 129.28973949, 141.31476612, 160.91317609,\n",
    "       110.51527332, 128.59310246, 136.1593771 , 125.83002474,\n",
    "       150.67601465,  81.99092732, 170.61207242, 107.14737422,\n",
    "       134.23766774, 144.09441249, 114.29129576, 139.24119474,\n",
    "       144.08456451, 140.47015936, 111.47491373, 170.15685902,\n",
    "       134.53925084, 106.94681781, 142.63958892, 130.79025373,\n",
    "       139.2878465 ,  58.72966679, 156.42211231, 133.05261104,\n",
    "       133.29059086, 121.39808618, 145.34737472, 149.69839684,\n",
    "       135.41671698, 157.83972387, 131.59684626, 122.00070839,\n",
    "       109.44298883, 118.30563577, 146.33187853, 128.36105896,\n",
    "       123.10467971, 140.56576291, 108.62022433, 119.76237382])"
   ]
  },
  {
   "cell_type": "markdown",
   "metadata": {},
   "source": [
    "1. Plot the time spent on the website as a histogram.\n",
    "\n",
    "2. Choose an appropriate t-test to carry out to determine if time spent on our website is different from our competitors.\n",
    "\n",
    "3. What is the Null hypothesis? Do we reject it? NEVER ACCEPT IT\n",
    "\n",
    "We then decide to redesign our site, to try and increase time spent. We have some new data, from 100 different users:\n"
   ]
  },
  {
   "cell_type": "code",
   "execution_count": 102,
   "metadata": {},
   "outputs": [
    {
     "data": {
      "image/png": "[encoded data removed]",
      "text/plain": [
       "<Figure size 720x360 with 1 Axes>"
      ]
     },
     "metadata": {
      "needs_background": "light"
     },
     "output_type": "display_data"
    },
    {
     "name": "stdout",
     "output_type": "stream",
     "text": [
      "Ttest_1sampResult(statistic=5.3473747137756025, pvalue=5.744718445636544e-07)\n",
      "\n",
      "Carrying out a one sample T-test, we can reject the Null Hypothesis that the means of site visit duration between both sites are not different with a P-Value of 0.0000.\n",
      "Therefore, we conclude that there is a difference in site visit duration between both sites\n"
     ]
    }
   ],
   "source": [
    "#1\n",
    "plt.figure(figsize=(10,5))\n",
    "plt.hist(time_spent)\n",
    "plt.show()\n",
    "\n",
    "#2 since we are comapring the mean of our data to the mean of 120, we will do a one-sample t-test\n",
    "print(stats.ttest_1samp(time_spent, 120))\n",
    "\n",
    "#3\n",
    "print(f'''\n",
    "Carrying out a one sample T-test, we can reject the Null Hypothesis that the means of site visit duration between both sites are not different with a P-Value of {stats.ttest_1samp(time_spent, 120)[1]:.4f}.\n",
    "Therefore, we conclude that there is a difference in site visit duration between both sites''')"
   ]
  },
  {
   "cell_type": "code",
   "execution_count": 103,
   "metadata": {},
   "outputs": [],
   "source": [
    "time_spent2 = np.array([142.82410719, 148.33067393, 147.07183518, 142.7059137 ,\n",
    "       146.68576225, 164.26963025, 121.37789433, 127.63964667,\n",
    "       161.4914871 , 111.3778345 , 154.50951009, 102.78569352,\n",
    "       127.98469794, 151.98327612, 132.92134268, 133.35649177,\n",
    "       150.61312009, 100.63002019, 137.94143271, 144.89688419,\n",
    "       132.03135891, 124.64586704, 123.34232007, 145.72515209,\n",
    "       102.93974452, 144.87421198, 127.41351993, 131.01967414,\n",
    "       150.88206575, 150.57259347, 141.7911199 , 140.02453259,\n",
    "       153.32254467, 174.87068935, 149.79265526, 117.75942336,\n",
    "        95.29468716, 175.60493535, 102.29302251, 161.2076741 ,\n",
    "       152.94870839, 129.40378432, 151.05124448, 119.99307457,\n",
    "       160.536249  , 126.51327795, 151.01815462, 156.68376141,\n",
    "       134.56543183, 184.31537258, 146.92285852, 152.93189733,\n",
    "       127.5195822 , 135.86608567, 164.15594516, 120.90332552,\n",
    "        94.52759502, 130.32995119, 119.26561295, 143.68395862,\n",
    "       147.7356765 , 122.12339264, 130.59592236, 118.67602277,\n",
    "       119.806634  , 141.51970973, 149.57551653, 140.72988698,\n",
    "       156.0495669 , 156.76275165, 135.54783372, 125.98794153,\n",
    "       118.23694772, 112.21856875, 139.79366548, 132.53962036,\n",
    "       179.47383777, 139.44546869, 108.8113652 , 165.45971906,\n",
    "        94.04289925, 110.04934973, 144.27129114, 136.70495776,\n",
    "       162.44790157, 108.00866782, 113.08952517, 125.16274054,\n",
    "       128.70990313, 108.48410533, 141.18789575, 125.14227992,\n",
    "       107.53767173, 119.06838769, 159.0870314 , 128.36900969,\n",
    "       133.77726184, 154.78314988, 142.76753695, 115.96922125])"
   ]
  },
  {
   "cell_type": "markdown",
   "metadata": {},
   "source": [
    "As we spent a lot of money, time and upgraded to best web practices, we decide to run a one tailed T-test.\n",
    "\n",
    "\n",
    "1. Run a test to determine if we accept that our websites increased visit time.\n",
    "\n",
    "2. Do we accept it? Do you agree with running a one tailed test? How does the result differ in a two tailed test?\n",
    "\n",
    "3. The data here is actually from the same 100 users, in the same order, carry out a paired T-test.\n",
    "\n",
    "4. Do we have more evidence that our redesign changed user behaviour?"
   ]
  },
  {
   "cell_type": "code",
   "execution_count": 128,
   "metadata": {},
   "outputs": [
    {
     "name": "stdout",
     "output_type": "stream",
     "text": [
      "Ttest_indResult(statistic=1.8867945474784085, pvalue=0.06065137350106095)\n",
      "1.8867945474784085\n",
      "0.030325686750530476\n",
      "Ttest_relResult(statistic=1.9701484826875784, pvalue=0.05161487524105376)\n"
     ]
    }
   ],
   "source": [
    "#1 2 sample T-test\n",
    "\n",
    "ttest, pval = stats.ttest_ind(time_spent2,time_spent)\n",
    "print(stats.ttest_ind(time_spent2,time_spent))\n",
    "#since the p-value > 0.05, we cannot accept that the website time has increased\n",
    "\n",
    "#2 sample T test\n",
    "print(ttest)\n",
    "print(pval/2)\n",
    "#The one tailed vs two-tailed differ by the p-value whereas the one-tailed pvalue is half of the two-tailed.\n",
    "\n",
    "\n",
    "#3 paired T-test\n",
    "ttest2, pval2 = stats.ttest_rel(time_spent2, time_spent)\n",
    "print(stats.ttest_rel(time_spent2, time_spent))\n",
    "\n",
    "#4 The p-value is closer to the threshold of 0.05, however p-value is still greater than 0.05 so we cannot reject null that the website has increased visit time\n"
   ]
  }
 ],
 "metadata": {
  "kernelspec": {
   "display_name": "Python 3",
   "language": "python",
   "name": "python3"
  },
  "language_info": {
   "codemirror_mode": {
    "name": "ipython",
    "version": 3
   },
   "file_extension": ".py",
   "mimetype": "text/x-python",
   "name": "python",
   "nbconvert_exporter": "python",
   "pygments_lexer": "ipython3",
   "version": "3.7.1"
  }
 },
 "nbformat": 4,
 "nbformat_minor": 2
}
