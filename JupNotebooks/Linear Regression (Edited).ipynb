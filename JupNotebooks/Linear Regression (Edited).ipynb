{
 "cells": [
  {
   "cell_type": "markdown",
   "metadata": {},
   "source": [
    "## Linear Regression and Correlation\n",
    "\n",
    "So far we have covered basic statistical hypothesis testing when we have categorical dependant variables with categorical independent variables (Chi Squared Test), as well as continuous dependent variables with cateogorical independant variables (T-test). \n",
    "\n",
    "Today we will cover cases of continous dependant variables, and continous independant variables.\n",
    "\n",
    "But first, a quick detour to explore some common statistical errors.\n",
    "\n",
    "#### Type 1 and Type 2 Errors\n",
    "\n",
    "When we incorrectly reject or do not reject a null hypothesis, we are making an error.\n",
    "\n",
    "In statistical terms, these are type I and type II errors.\n",
    "\n",
    "| Decision       | $H_0$ true|   $H_0$ false |\n",
    "| ------------- |:-------------:| -----:|\n",
    "| Reject $H_0$ | Type I |Correct|\n",
    "| Do not reject $H_0$  |Correct|Type II|\n",
    "\n",
    "A type I error is a 'false positive'; we have rejected the null hypothesis, and poisited an effect where there is not one.\n",
    "\n",
    "A type II error is a 'false negative'; we have failed to reject the null hypothesis when it was not true.\n",
    "\n",
    "It is useful to try and remember this terminology, we will loop back to it later during the machine learning section of the course.\n",
    "\n",
    "\n",
    "#### Multiple Testing\n",
    "\n",
    "So far, with T-tests we have covered tests between single groups. What if we have to test between a lot of different groups? \n",
    "\n",
    "Could we just take each subgroup, and test against the null hypothesis?\n",
    "\n",
    "Sure, but remember what our p-value means. We already have 1/20 chance of a false positive.\n",
    "\n",
    "As you increase the number of comparisons you increase the number of those that will be significant by chance.\n",
    "\n",
    "**Example:**  Take the generic example of doing 100 comparisons using a significance threshold of 0.05. Now, a p-value of 0.05 means there is a 5% chance of getting that result when the null hypothesis is true. Therefore, if you do these 100 comparisons, you would expect to find 5 genes significant just by random chance.\n",
    "\n",
    "As such, to avoid making these false-positives (Type 1 Errors) we 'correct' the p-value thereby making the test more conservative.\n",
    "\n",
    "\n",
    "Let's simulate testing 20 jellybean colours as an acne cure (apologies to http://xkcd.com/882):"
   ]
  },
  {
   "cell_type": "code",
   "execution_count": null,
   "metadata": {},
   "outputs": [],
   "source": [
    "import numpy as np\n",
    "np.random.seed(1234)\n",
    "from matplotlib import colors\n",
    "\n",
    "mycolors = np.random.choice(list(colors.CSS4_COLORS.keys()), 40, replace = True)\n",
    "#some of these might be a bit exotic....\n",
    "print(mycolors)\n",
    "# mycolors.size\n",
    "# np.unique(mycolors).size"
   ]
  },
  {
   "cell_type": "code",
   "execution_count": null,
   "metadata": {},
   "outputs": [],
   "source": [
    "# here we do 40 individual t-tests\n",
    "#for every group of colours, we give 30 people jellybeans of that color\n",
    "from scipy import stats\n",
    "np.random.seed(2345)\n",
    "for i in mycolors:\n",
    "    x = np.random.normal(loc = 0, scale = 1, size = 30)\n",
    "    pvalue = stats.ttest_1samp(x, 0)[1]\n",
    "    if pvalue < 0.05:\n",
    "        print(f'color {i} has a signficant effect on acne!')"
   ]
  },
  {
   "cell_type": "markdown",
   "metadata": {},
   "source": [
    "So, do we have something wrong here? Not really, it is working as expected, we expect 2 errors in a sample of 40 tests. We have some false positives, type I errors.\n",
    "\n",
    "To reduce these, we can do an error correction on our tests.\n",
    "\n",
    "The most basic is the 'Bonferroni Correction'. In this method we simply reduce the critical p-value by the number of tests we have carried out:"
   ]
  },
  {
   "cell_type": "code",
   "execution_count": null,
   "metadata": {},
   "outputs": [],
   "source": [
    "from scipy import stats\n",
    "np.random.seed(2345)\n",
    "for i in mycolors:\n",
    "    x = np.random.normal(loc = 0, scale = 1, size = 30)\n",
    "    pvalue = stats.ttest_1samp(x, 0)[1]\n",
    "    if pvalue < 0.05/40:\n",
    "        print(f'color {i} has a signficant effect on acne!')\n",
    "    else:\n",
    "        print(f'color {i} has no signficant effect on acne with P value of {round(pvalue,3)}')\n",
    "### no significant results!"
   ]
  },
  {
   "cell_type": "markdown",
   "metadata": {},
   "source": [
    "This runs the risk of inflating our type II error. \n",
    "\n",
    "Let's imagine 'peachpuff' jellybeans really do cure acne!:"
   ]
  },
  {
   "cell_type": "code",
   "execution_count": null,
   "metadata": {},
   "outputs": [],
   "source": [
    "from scipy import stats\n",
    "np.random.seed(2345)\n",
    "for i in mycolors:\n",
    "    if i == 'peachpuff':\n",
    "        x = np.random.normal(loc = 1, scale = 1, size = 30)\n",
    "    else:\n",
    "        x = np.random.normal(loc = 0, scale = 1, size = 30)\n",
    "    pvalue = stats.ttest_1samp(x, 0)[1]\n",
    "    if pvalue < 0.05/40:\n",
    "        print(f'color {i} has a signficant effect on acne!')\n",
    "    else:\n",
    "        print(f'color {i} has no signficant effect on acne with P value of {round(pvalue,3)}')\n",
    "        \n",
    "#it has a p value of 0.002 which is > 0.05/40, but its less than 0.05 so Type II error"
   ]
  },
  {
   "cell_type": "markdown",
   "metadata": {},
   "source": [
    "We have now commited a type II error. We have a treatment that does work, but we have missed it due to our more stringent cutoff.\n",
    "\n",
    "A more permissive correction is the **Holm-Bonferroni correction**. In this case, we sort our p-values from largest to smallest, and apply the cut off as \n",
    "    \n",
    "       1/(place in list) times the cutoff\n",
    "\n",
    "See an example below:"
   ]
  },
  {
   "cell_type": "code",
   "execution_count": null,
   "metadata": {},
   "outputs": [],
   "source": [
    "from scipy import stats\n",
    "np.random.seed(2345)\n",
    "pvalues = []\n",
    "for i in mycolors:\n",
    "    if i == 'peachpuff':\n",
    "        x = np.random.normal(loc = 1, scale = 1, size = 30)\n",
    "    else:\n",
    "        x = np.random.normal(loc = 0, scale = 1, size = 30)\n",
    "    pvalue = stats.ttest_1samp(x, 0)[1]\n",
    "    pvalues.append((pvalue, i))\n",
    "\n",
    "print(pvalues)\n",
    "pvalues = sorted(pvalues, key = lambda x: -x[0])\n",
    "print(pvalues)"
   ]
  },
  {
   "cell_type": "markdown",
   "metadata": {},
   "source": [
    "Now we can apply our correction:"
   ]
  },
  {
   "cell_type": "code",
   "execution_count": null,
   "metadata": {},
   "outputs": [],
   "source": [
    "counter = 1\n",
    "for i,j in pvalues:\n",
    "    print(j,i, 1/counter * 0.05)\n",
    "    if i < 1/counter * 0.05:\n",
    "        print(f'{j} is significant, pvalue {i}, counter: {counter}, {1/counter *0.05}')\n",
    "    counter += 1"
   ]
  },
  {
   "cell_type": "markdown",
   "metadata": {},
   "source": [
    "There is no hard and fast rule about multiple testing. In general, we have better statistical tests to carry out when we are testing multiple values.\n",
    "\n",
    "P-hacking, or salami slicing is heavily frowned upon, but somewhat common in scientific research. [A good story focuses on a Cornell Professor Brian Wansink](https://www.buzzfeed.com/stephaniemlee/brian-wansink-cornell-p-hacking), who published work showing, for example, that a larger size plate leads to eating more at a buffet. He has been heavily criticized for his p-hacking.\n",
    "\n",
    "We will discuss other approaches to testing with multiple values next week."
   ]
  },
  {
   "cell_type": "markdown",
   "metadata": {},
   "source": [
    "### Exercises\n",
    "\n",
    "Our competitors for our retail stores have published that their average spend per visit is \\$5.50. We have data for five of our own stores, and want to test if they are significantly different from our competitors store.\n",
    "\n",
    "1. Which test should we use? Is the test one tailed or two tailed?\n",
    "2. We have the data as below:"
   ]
  },
  {
   "cell_type": "code",
   "execution_count": null,
   "metadata": {},
   "outputs": [],
   "source": [
    "np.random.seed(1234)\n",
    "means = [5.5,5.4,5.6,5.5,5.5]\n",
    "data = [np.random.normal(loc = i, scale = 1, size = 100) for i in means]"
   ]
  },
  {
   "cell_type": "code",
   "execution_count": null,
   "metadata": {},
   "outputs": [],
   "source": [
    "# 1 Since we have our own stores who's avg spend per visit we wish to comapre against $5.50, \n",
    "# we would want to use a one-sample t-test. Since we are interesting in seeing if an observed \n",
    "# difference is statistically significant, we should use a two-tailed t test."
   ]
  },
  {
   "cell_type": "markdown",
   "metadata": {},
   "source": [
    "Carry out the appropriate test on each sample. How many type I errors do we expect? How many do we get?\n",
    "\n",
    "3. What are the critical p-values under the Holm and Bonferroni corrections?\n",
    "\n",
    "4. How many significant values do we get under both corrections? What are the type I and II error rates?"
   ]
  },
  {
   "cell_type": "code",
   "execution_count": null,
   "metadata": {},
   "outputs": [],
   "source": [
    "p_vals = []\n",
    "store = 1\n",
    "for i in data:\n",
    "    ttest = stats.ttest_1samp(i, 5.5)\n",
    "    p_vals.append(((ttest[1]), store))\n",
    "    if (ttest[1] < 0.05):\n",
    "        print(f'Store: {store} with a p-value {ttest[1]}, sig level of 0.05 ')\n",
    "    store+=1    \n",
    "    \n",
    "print(p_vals)\n",
    "\n",
    "#We have multiple groups, so there could be type 1 errors. WIth a group of 5 stores, we expect a false positive rate of 0.05*5 = 0.25 --- so about 1."
   ]
  },
  {
   "cell_type": "code",
   "execution_count": null,
   "metadata": {},
   "outputs": [],
   "source": [
    "#3 ---- P-values Under Bonferroni\n",
    "\n",
    "for i,j in p_vals:\n",
    "    if i < 0.05/5:\n",
    "        print(f'{j} is significant, pvalue {i} less than sig {0.05/5}')\n",
    "    counter += 1\n",
    "    "
   ]
  },
  {
   "cell_type": "code",
   "execution_count": null,
   "metadata": {},
   "outputs": [],
   "source": [
    "#3 ---- P-values Under Holm-Bonferroni\n",
    "p_vals_sorted = sorted(p_vals, key = lambda x: -x[0])\n",
    "p_vals_sorted\n",
    "\n",
    "counter = 1\n",
    "for i,j in p_vals_sorted:\n",
    "    print(j,i, 1/counter * 0.05)\n",
    "    if i < 1/counter * 0.05:\n",
    "        print(f'{j} is significant, pvalue {i}, less than sig lvl: {1/counter *0.05}')\n",
    "    counter += 1"
   ]
  },
  {
   "cell_type": "code",
   "execution_count": null,
   "metadata": {},
   "outputs": [],
   "source": [
    "import pandas as pd\n",
    "p_df = pd.DataFrame(p_vals_sorted, index = np.arange(1,6), columns=('P Value', 'Store Number'))\n",
    "#print(p_df)\n",
    "p_df['p_val cutoff'] = 0.05/np.arange(1,6)\n",
    "#print(p_df)\n",
    "\n",
    "p_df['Null Rejected'] = p_df['P Value']<p_df['p_val cutoff']\n",
    "print(p_df)"
   ]
  },
  {
   "cell_type": "markdown",
   "metadata": {},
   "source": [
    "### Correlation and Covariance\n",
    "\n",
    "When presented with continuous dependant and independant variables, the first thing to do is to plot them out:"
   ]
  },
  {
   "cell_type": "code",
   "execution_count": null,
   "metadata": {},
   "outputs": [],
   "source": [
    "from matplotlib import pyplot as plt\n",
    "%matplotlib inline\n",
    "\n",
    "x = np.random.normal(size = 100)\n",
    "y = np.random.normal(size = 100)\n",
    "\n",
    "plt.scatter(x,y);"
   ]
  },
  {
   "cell_type": "markdown",
   "metadata": {},
   "source": [
    "A more likely example might have some interaction between the terms:"
   ]
  },
  {
   "cell_type": "code",
   "execution_count": null,
   "metadata": {},
   "outputs": [],
   "source": [
    "x = np.random.normal(size = 100)\n",
    "y = 3 * x + np.random.normal(scale = 3, size = 100)\n",
    "\n",
    "plt.scatter(x,y);"
   ]
  },
  {
   "cell_type": "markdown",
   "metadata": {},
   "source": [
    "We can investigate the relationship between the two variables in a number of ways.\n",
    "\n",
    "First, we can measure the covariance, a measure of how the two values co-vary. Covariance measures the strength of association between two numerical variables.\n",
    "\n",
    "The formula for (sample) covariance is (note: population is (1/n)): \n",
    "\n",
    "$$ \\text{Cov(x,y)} = \\frac{1}{n-1}\\sum\\limits_{i=1}^{n}(x_i - \\overline{x})(y_i - \\overline{y}) $$\n",
    "\n",
    "We can see this is very similar to our formula for (sample) variance:\n",
    "\n",
    "$$ \\sigma^2 = \\frac{1}{n-1}\\sum\\limits_{i=1}^n (x_i-\\overline{x})^2 $$\n",
    "\n",
    "Rather than square our $x - \\overline{x}$ we have multiplied it by the y."
   ]
  },
  {
   "cell_type": "code",
   "execution_count": null,
   "metadata": {},
   "outputs": [],
   "source": [
    "np.cov(x, y)"
   ]
  },
  {
   "cell_type": "markdown",
   "metadata": {},
   "source": [
    "Correlation normalizes this value. We don't really know how large a covariance is, as it scales with the values.\n",
    "\n",
    "Correlation measures strength, and direction of a linear association between two variables.\n",
    "\n",
    "$\\text{Cor}(X,Y) = \\frac{\\text{Cov(X,Y)}}{\\text{SD}(X)\\text{SD}(Y)}$"
   ]
  },
  {
   "cell_type": "code",
   "execution_count": 40,
   "metadata": {},
   "outputs": [
    {
     "name": "stdout",
     "output_type": "stream",
     "text": [
      "[[1.         0.68639862]\n",
      " [0.68639862 1.        ]]\n",
      "0.6863986153212568\n"
     ]
    }
   ],
   "source": [
    "print(np.corrcoef(x,y))\n",
    "corr = np.corrcoef(x,y)[0,1]\n",
    "print(corr)"
   ]
  },
  {
   "cell_type": "markdown",
   "metadata": {},
   "source": [
    "A good intuition for a correlation coefficient is 'The degree of variation in one dimension that is explained by the other variable'. Correlation coefficient is not the slope of the line:\n",
    "\n",
    "<img src=\"https://upload.wikimedia.org/wikipedia/commons/d/d4/Correlation_examples2.svg\">\n",
    "\n",
    "We can test whether a correlation is significant by using a T-test. We calculate the T-statistic using the formula:\n",
    "\n",
    "$$ t = \\frac{r\\sqrt{n-2}}{\\sqrt{1-r^2}} $$\n",
    "\n",
    "Where r is the correlation coefficient, and n is the number of samples. The intuition for this test is that we are measuring how the variances of the data vary, but not correcting for small sample sizes. If we only have two points, the correlation will be 1, but it is unlikely to be a real effect.\n",
    "\n",
    "**The number of degrees of freedom of this test is n-2 - we lose one df for each of x and y. Notice that degrees of freedom is n-2 because if you only had\n",
    "2 points, then you can easily have a straight line connecting them.**"
   ]
  },
  {
   "cell_type": "code",
   "execution_count": null,
   "metadata": {},
   "outputs": [],
   "source": [
    "tval = corr * np.sqrt((len(x)-2)/(1- corr **2))\n",
    "print(tval)\n",
    "\n",
    "p = stats.t.sf(tval, len(x)-2)*2 #two tailed!\n",
    "print(p)\n",
    "\n",
    "#We can use the Stats package\\s Pearson-R test to get the same result\n",
    "#We input our 2 attributes/features/data-columns we want to test for correlation\n",
    "#Our 2 output are (correlation coefficient, p-value)\n",
    "\n",
    "corr_coeff, pval = stats.pearsonr(x,y)\n",
    "print(corr_coeff, pval)"
   ]
  },
  {
   "cell_type": "markdown",
   "metadata": {},
   "source": [
    "### Correlation vs Causation\n",
    "\n",
    "One of the more common errors in statistics is finding a correlation, and implying causation.\n",
    "\n",
    "While it is suggestive, we cannot prove that this is the case. It might be the case that both variables were caused by an external uncontrolled variable:\n",
    "\n",
    "<img src=\"http://i.imgur.com/InBrOxY.png\">"
   ]
  },
  {
   "attachments": {
    "image.png": {
     "image/png": "[encoded data removed]"
    }
   },
   "cell_type": "markdown",
   "metadata": {},
   "source": [
    "Recall our correcting for multiple tests! We would assume that one could find many false positives by going on a fishing expedition, as well as taking advantage of the fact that many measures have strong trends over time.\n",
    "\n",
    "Currently, one way that is often used to dismiss statistical results is, 'correlation does not imply causation'. Think a little about how we could infer causation from correlation and experimentation.\n",
    "\n",
    "### Exercises\n",
    "\n",
    "1. Take a look the [FiveThirtyEight phacking website](https://projects.fivethirtyeight.com/p-hacking/). Generate some significant (p < 0.05) correlations. This is often the requirement for publication or being taken seriously. How would multiple testing correction fix this?\n",
    "\n",
    "2. Take a look at the [spurious correlation generator](http://www.tylervigen.com/spurious-correlations): \n",
    "\n",
    "![image.png](attachment:image.png)\n",
    "\n",
    " Are there any correlations here that you believe? Can you think of an underlying mechanism for any of these?\n"
   ]
  },
  {
   "cell_type": "markdown",
   "metadata": {},
   "source": [
    "3. We have the data from our previous suburban vs downtown spends. Recall that these are the same 100 customers, with  their spends at the two seperate stores. What is the correlation coefficient? What is the p-value? Is there a significant correlation between spending in the two stores? What is our null hypothesis?"
   ]
  },
  {
   "cell_type": "code",
   "execution_count": null,
   "metadata": {},
   "outputs": [],
   "source": [
    "downtown = np.array([ 6.16781492,  5.94358729,  6.43670448,  5.83438109,  4.59740655,\n",
    "        6.5987167 ,  6.25579492,  5.53172616,  6.63617687,  5.52645084,\n",
    "        6.27981194,  7.61311604,  5.10035733,  5.31787547,  2.76749319,\n",
    "        4.7061773 ,  6.77162198,  7.65986711,  7.13222776,  7.06753582,\n",
    "        7.25683105,  7.46547649,  8.55341763,  6.72405068,  8.18494283,\n",
    "        6.49900838,  7.23231703,  5.10370084,  5.35445115,  4.90087397,\n",
    "        6.88795231,  3.36908949,  7.07820777,  7.12515795,  6.69422664,\n",
    "        4.79042414,  4.13058467,  6.95158304,  6.16107586,  3.07035479,\n",
    "        8.11788558,  6.58528057,  5.54679619,  6.24107998,  5.94192704,\n",
    "        8.23925471,  6.90006506,  5.72848905,  5.94133112,  6.59649108,\n",
    "        5.18022386,  6.70000213,  6.34827264,  3.21706128, 10.11179064,\n",
    "        5.08581249,  6.02465168,  5.7598243 ,  6.34857665,  8.13143605,\n",
    "        3.71101107,  4.38684511,  6.11496904,  3.22041089,  3.41620442,\n",
    "        6.32476927,  6.61444147,  7.74518277,  5.58698373,  9.2866248 ,\n",
    "        4.92216435,  4.35746432,  8.91432075,  7.491279  ,  6.55456246,\n",
    "        5.57870171,  6.04979601,  5.25396298,  6.68610392,  7.31272142,\n",
    "        9.75497588,  8.12785704,  3.94601057,  8.41661736,  5.78637068,\n",
    "        6.25804514,  5.92421234,  7.52749338,  5.7943037 ,  6.99516776,\n",
    "        6.50927286,  5.03164363,  5.26261662,  5.54526388,  5.27910527,\n",
    "        8.19787641,  6.85165523,  4.30930063,  6.17221263,  7.16535078])\n",
    "\n",
    "suburban = np.array([ 5.13920484,  6.75426048,  5.58153052,  5.7121821 ,  5.95538627,\n",
    "        6.14678512,  7.27963452,  6.39129755,  8.7995925 ,  6.59370268,\n",
    "        7.45501841,  7.904687  ,  6.17352763,  6.60604099,  3.36062447,\n",
    "        5.71682809,  6.59791057,  7.26934162,  6.81069109,  7.40360827,\n",
    "        6.20836211,  7.86814457,  7.62154151,  6.76465047,  7.37448348,\n",
    "        5.14523268,  7.90599146,  4.69855432,  8.18447187,  7.25140922,\n",
    "        7.73212583,  6.04416162,  6.63761497,  8.30610082,  5.93777163,\n",
    "        7.55929426,  5.90590055,  5.80850774,  3.37638425,  2.71370597,\n",
    "        7.21797769,  6.36236927,  5.85498861,  4.98070427,  4.54213199,\n",
    "        7.84468703,  7.98068971,  7.88560082,  4.69554502,  8.24769007,\n",
    "        5.93407739,  5.39525561,  6.57971133,  3.60216872,  8.80021531,\n",
    "        5.03663791,  5.56189486,  6.71291433,  6.58190233,  7.63873711,\n",
    "        5.1223466 ,  6.65320308,  6.96363551,  5.21484434,  6.0298979 ,\n",
    "        8.70407414,  6.84192007,  6.0900138 ,  5.36151271,  7.75496176,\n",
    "        4.04965853,  5.10293033,  9.34766805,  9.13065597,  5.15140385,\n",
    "        4.01979658,  6.71131977,  5.68318444,  7.28061423,  5.67522685,\n",
    "        9.70076102,  7.68807811,  3.93287031, 10.3531645 ,  5.00565511,\n",
    "        8.46290026,  6.71803565,  7.46746906,  7.01823848,  7.26397545,\n",
    "        4.95051691,  6.50165149,  7.01487523,  4.77302516,  5.03174573,\n",
    "        7.07441853,  4.58504662,  6.49880348,  4.96543048,  8.56548526])"
   ]
  },
  {
   "cell_type": "code",
   "execution_count": null,
   "metadata": {},
   "outputs": [],
   "source": [
    "#Our null hypoth is that there is no difference in the spending patterns between downtown and suburban locations\n",
    "corr_coeff, pval = stats.pearsonr(downtown,suburban)\n",
    "print(f\"Correlation: {corr_coeff}, P-value: {pval}\")\n",
    "#Reject the null\n",
    "\n",
    "plt.scatter(downtown, suburban)\n",
    "plt.title('Suburban spends vs Downtown spends')\n",
    "plt.xlabel('Downtown spends')\n",
    "plt.ylabel('Suburban spends')\n",
    "plt.show()\n",
    "\n",
    "sns.lmplot('Downtown', 'Suburban', pd.DataFrame({'Downtown':downtown, 'Suburban':suburban}));\n",
    "\n",
    "print(stats.linregress(downtown,suburban))"
   ]
  },
  {
   "cell_type": "markdown",
   "metadata": {},
   "source": [
    "### Linear Regression\n",
    "\n",
    "Linear regression is the method of describing the linear relationship between two **continuous variables**. While a correlation describes the dependence of a variable on another one, linear regression allows us to describe the relationship between them, and to predict new values of our dependant variables.\n",
    "\n",
    "Basic linear regression models the dependant variable as a response of the one other. It is a statistical method for drawing a 'line of best fit' through data."
   ]
  },
  {
   "cell_type": "code",
   "execution_count": 11,
   "metadata": {},
   "outputs": [],
   "source": [
    "import seaborn as sns\n",
    "import pandas as pd\n",
    "import numpy as np\n",
    "from scipy import stats\n",
    "from matplotlib import pyplot as plt\n",
    "%matplotlib inline\n",
    "import warnings\n",
    "warnings.filterwarnings('ignore')"
   ]
  },
  {
   "cell_type": "code",
   "execution_count": 9,
   "metadata": {},
   "outputs": [
    {
     "name": "stdout",
     "output_type": "stream",
     "text": [
      "LinregressResult(slope=2.970546869307955, intercept=1.760390477520286, rvalue=0.6543806234623528, pvalue=1.54244640688963e-13, stderr=0.34674459389590256)\n",
      "(0.6543806234623527, 1.5424464068896628e-13)\n"
     ]
    },
    {
     "data": {
      "image/png": "[encoded data removed]",
      "text/plain": [
       "<Figure size 360x360 with 1 Axes>"
      ]
     },
     "metadata": {
      "needs_background": "light"
     },
     "output_type": "display_data"
    }
   ],
   "source": [
    "x = np.random.normal(size = 100)\n",
    "y = 3 * x + np.random.normal(scale = 3, size = 100) + 2\n",
    "\n",
    "sns.lmplot('x', 'y', pd.DataFrame({'x':x, 'y':y}));\n",
    "print(stats.linregress(x,y))\n",
    "print(stats.pearsonr(x,y))"
   ]
  },
  {
   "cell_type": "markdown",
   "metadata": {},
   "source": [
    "In our example, we have a dependent variable, y, an independent variable, x, and an intercept.\n",
    "\n",
    "We model our data as:\n",
    "\n",
    "$$ y = \\alpha + \\beta X + \\epsilon $$\n",
    "\n",
    "Where $\\alpha$ is the intercept, $\\beta$ is the slope, and $\\epsilon$ is the random error.\n",
    "\n",
    "Looking at our data, we can see that we have generated data using: $\\beta$ = 3, $\\alpha$ = 2 and epsilon as a normal distribution:"
   ]
  },
  {
   "cell_type": "code",
   "execution_count": 14,
   "metadata": {},
   "outputs": [
    {
     "data": {
      "image/png": "[encoded data removed]",
      "text/plain": [
       "<Figure size 432x288 with 1 Axes>"
      ]
     },
     "metadata": {
      "needs_background": "light"
     },
     "output_type": "display_data"
    }
   ],
   "source": [
    "plt.scatter(x,y)\n",
    "xvals = np.arange(-3, 3, 0.01)\n",
    "yvals = 3*xvals + 2\n",
    "plt.plot(xvals, yvals);"
   ]
  },
  {
   "cell_type": "markdown",
   "metadata": {},
   "source": [
    "How do we calculate these values if we do not know the generating function?\n",
    "\n",
    "Linear regression is also known as least squares, we want to minimize the squared difference from the line of best fit, by moving the line.\n",
    "\n",
    "It can be seen as a linear algebra problem, an optimization problem, or a statistical problem. Whichever intuition works best for you is best, here is the formula:\n",
    "\n",
    "$$ \\beta = \\frac{\\sum\\limits_{i=1}^{n}(X_i - \\overline{X})(Y_i - \\overline{Y})}{\\sum\\limits_{i=1}^{n}(X_i - \\overline{X})^2}$$"
   ]
  },
  {
   "cell_type": "code",
   "execution_count": null,
   "metadata": {},
   "outputs": [],
   "source": [
    "beta = np.sum((x - np.mean(x))*(y - np.mean(y)))/np.sum((x - np.mean(x))**2)\n",
    "beta"
   ]
  },
  {
   "cell_type": "markdown",
   "metadata": {},
   "source": [
    "Once we have the slope, we can calculate the intercept:\n",
    "\n",
    "$$ \\alpha = \\overline{Y} - \\beta\\overline{X}$$"
   ]
  },
  {
   "cell_type": "code",
   "execution_count": null,
   "metadata": {},
   "outputs": [],
   "source": [
    "alpha = np.mean(y) - beta * np.mean(x)\n",
    "alpha"
   ]
  },
  {
   "cell_type": "markdown",
   "metadata": {},
   "source": [
    "As always, there are built in functions to help us:"
   ]
  },
  {
   "cell_type": "code",
   "execution_count": 26,
   "metadata": {},
   "outputs": [
    {
     "name": "stdout",
     "output_type": "stream",
     "text": [
      "LinregressResult(slope=2.970546869307955, intercept=1.760390477520286, rvalue=0.6543806234623528, pvalue=1.54244640688963e-13, stderr=0.34674459389590256)\n"
     ]
    }
   ],
   "source": [
    "slope, intercept, r_value, p_value, slope_std_error = stats.linregress(x, y)\n",
    "slope, intercept\n",
    "print(stats.linregress(x,y))"
   ]
  },
  {
   "cell_type": "code",
   "execution_count": 27,
   "metadata": {},
   "outputs": [
    {
     "data": {
      "text/plain": [
       "0.4282140003629776"
      ]
     },
     "execution_count": 27,
     "metadata": {},
     "output_type": "execute_result"
    }
   ],
   "source": [
    "r_value**2"
   ]
  },
  {
   "cell_type": "markdown",
   "metadata": {},
   "source": [
    "What are the other 3 values: r_value, p_value, slope_std_error?\n",
    "\n",
    "### Exercise\n",
    "\n",
    "Use the help to figure out what the values are. What test do you think we did to get the p-value? Is this a useful test?\n",
    "\n",
    "### Residuals\n",
    "\n",
    "One other way of understanding this is that we have drawn a line, and minimized the sum of square of residuals to the line:"
   ]
  },
  {
   "cell_type": "code",
   "execution_count": 19,
   "metadata": {},
   "outputs": [
    {
     "data": {
      "image/png": "[encoded data removed]",
      "text/plain": [
       "<Figure size 432x288 with 2 Axes>"
      ]
     },
     "metadata": {
      "needs_background": "light"
     },
     "output_type": "display_data"
    }
   ],
   "source": [
    "fig, ax = plt.subplots(1,2)\n",
    "\n",
    "sns.regplot('x', 'y', pd.DataFrame({'x':x, 'y':y}), ax = ax[0]);\n",
    "sns.residplot('x', 'y', pd.DataFrame({'x':x, 'y':y}), ax = ax[1]);\n",
    "\n",
    "#Residuals are the differences between the line of best fit - i.e a plot of how far apart each point is to the line"
   ]
  },
  {
   "cell_type": "markdown",
   "metadata": {},
   "source": [
    "One of the key diagnostics of a regression is plotting out the residuals. If we have any structure in there, it shows that we have variation left over in our data. In this case we have none, but check out below:"
   ]
  },
  {
   "cell_type": "code",
   "execution_count": 28,
   "metadata": {},
   "outputs": [
    {
     "data": {
      "image/png": "[encoded data removed]",
      "text/plain": [
       "<Figure size 432x288 with 2 Axes>"
      ]
     },
     "metadata": {
      "needs_background": "light"
     },
     "output_type": "display_data"
    }
   ],
   "source": [
    "fig, ax = plt.subplots(1,2)\n",
    "x = np.random.normal(size = 100)\n",
    "y = 3 * x + np.random.normal(scale = 3, size = 100) + 2 *x**2\n",
    "sns.regplot('x', 'y', pd.DataFrame({'x':x, 'y':y}), ax = ax[0]);\n",
    "sns.residplot('x', 'y', pd.DataFrame({'x':x, 'y':y}), ax = ax[1]);"
   ]
  },
  {
   "cell_type": "markdown",
   "metadata": {},
   "source": [
    "We can see that in this case, our data is not linear, and it is reflected in a U-shape in the residuals. In this case, it is an indication that linear regression was not a good choice for this data.\n",
    "\n",
    "### Predictions\n",
    "\n",
    "Given that we have the formula for our linear regression, we can predict data, for given values of x:\n",
    "\n",
    "$$ \\hat{y}=\\alpha + \\beta x $$\n",
    "\n",
    "This does not include any error term. We could imagine that if we were making synthetic data we would add on the $\\epsilon$ based on the standard deviation from the residuals.\n"
   ]
  },
  {
   "cell_type": "code",
   "execution_count": 29,
   "metadata": {},
   "outputs": [
    {
     "data": {
      "text/plain": [
       "array([ 4.73093735,  5.47357406, 10.67203109, 13.64257795])"
      ]
     },
     "execution_count": 29,
     "metadata": {},
     "output_type": "execute_result"
    }
   ],
   "source": [
    "newvalues = np.array([1,1.25, 3, 4])\n",
    "newvalues * slope + intercept"
   ]
  },
  {
   "cell_type": "markdown",
   "metadata": {},
   "source": [
    "### Exercises\n",
    "\n",
    "We have sales data for the same customers at our two stores:"
   ]
  },
  {
   "cell_type": "code",
   "execution_count": 30,
   "metadata": {},
   "outputs": [],
   "source": [
    "downtown = np.array([10.21240641, 16.99464177, 12.65820347, 12.96833094,  8.3315993 ,\n",
    "       14.80814848, 11.95626477,  8.11941607, 13.27345826, 11.92686138,\n",
    "        7.19194666, 13.74851741, 12.2959635 , 15.36488092,  8.27324712,\n",
    "       11.40002627, 15.87159297, 14.6712836 , 15.39474915, 15.75666979,\n",
    "       11.62323313, 16.05152854, 14.71411188, 10.29692081, 12.02822778,\n",
    "       10.27456618,  8.29833721, 10.01762924, 13.08254342, 10.38880595,\n",
    "       10.88280846, 15.2703245 , 13.39824774, 14.42027993, 11.93141642,\n",
    "        8.78317581, 12.76896009, 12.18795779, 11.97155973, 14.11319683,\n",
    "       11.95399479,  8.80374436, 10.05850438, 11.14425534, 10.08561843,\n",
    "       13.0481885 , 14.17297545,  8.99995425, 14.53388276, 10.66785295,\n",
    "       14.18470328, 11.44185382, 12.96842792,  9.90747776,  8.77710921,\n",
    "       11.55643525, 11.4505927 ,  9.48645834,  9.95119598, 11.4370781 ,\n",
    "        6.95807285, 14.24833754,  8.31957853, 13.07193331, 16.53978266,\n",
    "        8.2821557 , 12.69803824,  7.98215665, 13.77710652,  8.16156536,\n",
    "        9.58868186, 10.09709541, 10.25689084,  5.65129498, 12.23836126,\n",
    "       14.28534426, 11.55725362, 11.81372826, 12.55939523, 12.38505456,\n",
    "       12.46256971, 12.69994048, 15.66085019, 10.99416092, 10.36764754,\n",
    "        9.63364075, 10.41532182, 10.99348236,  7.93445933, 13.89280006,\n",
    "       13.63163916,  9.96176062, 10.45470687, 16.5534334 , 15.99936645,\n",
    "       10.87925052, 14.19694865, 12.84652068, 13.19370114, 15.68026266])\n",
    "suburban = np.array([23.41729514, 35.49440091, 28.75658064, 26.70134135, 19.38419986,\n",
    "       34.25980143, 23.99792021, 18.40856806, 28.4752395 , 25.25992111,\n",
    "       18.87852705, 28.35901739, 25.41860558, 30.57895794, 14.6258142 ,\n",
    "       23.06821135, 29.68412954, 33.74320657, 31.90914497, 31.87820559,\n",
    "       25.99635194, 30.85222895, 33.16219322, 21.73539379, 28.35005118,\n",
    "       22.68683718, 20.52289958, 20.59114032, 31.11576504, 20.90267053,\n",
    "       22.74362086, 30.11475459, 31.1349682 , 33.83398211, 25.06243305,\n",
    "       18.99980398, 28.92016252, 27.01413549, 28.3405539 , 30.43081788,\n",
    "       28.03403301, 20.58157805, 24.24429158, 23.41950524, 24.41301031,\n",
    "       26.20257339, 29.2820386 , 19.5588075 , 32.53947227, 23.94849994,\n",
    "       30.67364294, 24.23197992, 29.98637616, 21.76365614, 21.42209551,\n",
    "       24.67445246, 26.74178036, 25.05878129, 18.76248637, 25.35164489,\n",
    "       19.60138276, 26.42190211, 17.04415213, 29.81726268, 35.7572353 ,\n",
    "       15.48311007, 30.08528392, 19.29940237, 26.48326879, 21.67888816,\n",
    "       23.86080215, 22.35669187, 22.25421314, 16.2565294 , 25.77533606,\n",
    "       29.96114291, 25.0791999 , 25.2387763 , 28.164434  , 27.50182926,\n",
    "       26.25761716, 29.67157509, 38.5450505 , 24.99931961, 21.84969897,\n",
    "       21.18497173, 21.60436699, 20.72170368, 17.04470794, 29.85142968,\n",
    "       26.15322362, 19.13117257, 24.21778418, 35.43580789, 35.14007477,\n",
    "       21.11315315, 30.37652151, 23.71600831, 29.2820716 , 35.84927249])"
   ]
  },
  {
   "cell_type": "markdown",
   "metadata": {},
   "source": [
    "1. Plot the two against each other. Do they look like they have a linear relationship?\n",
    "\n",
    "2. What is the correlation coefficient and covariance between the two data sets?\n",
    "\n",
    "3. Run a Wald-test (T-test for correlation), are they correlated?\n",
    "\n",
    "4. Run a linear regression, what is the slope and intercept?\n",
    "\n",
    "5. We have 5 customers with spends at the downtown store of 7, 11, 15 and 25 dollars. What is the predicted spend of each of these customers? Any problems with these predictions?"
   ]
  },
  {
   "cell_type": "code",
   "execution_count": 70,
   "metadata": {},
   "outputs": [
    {
     "data": {
      "image/png": "[encoded data removed]",
      "text/plain": [
       "<Figure size 432x288 with 1 Axes>"
      ]
     },
     "metadata": {
      "needs_background": "light"
     },
     "output_type": "display_data"
    },
    {
     "name": "stdout",
     "output_type": "stream",
     "text": [
      "Correlation coeff: 0.9233012231357967, covariance: [[ 6.19230378 11.88708616]\n",
      " [11.88708616 26.76774251]]\n",
      "Correlation coeff: 0.9233012231357967, with P-value of 1.6295921838491254e-42\n"
     ]
    },
    {
     "data": {
      "image/png": "[encoded data removed]",
      "text/plain": [
       "<Figure size 360x360 with 1 Axes>"
      ]
     },
     "metadata": {
      "needs_background": "light"
     },
     "output_type": "display_data"
    },
    {
     "name": "stdout",
     "output_type": "stream",
     "text": [
      "LinregressResult(slope=1.9196548792445856, intercept=3.0680554949488155, rvalue=0.9233012231357964, pvalue=1.629592183849339e-42, stderr=0.08066489658130718)\n",
      "New downtown spends: [ 7 11 15 25]. Predicted Suburban spends: [16.5 24.2 31.9 51.1]\n",
      "R square: 0.8524851486440578, std error: 0.08066489658130718\n"
     ]
    }
   ],
   "source": [
    "#1\n",
    "plt.scatter(downtown, suburban)\n",
    "plt.title('Suburban vs Downtown')\n",
    "plt.xlabel('Downtown spends')\n",
    "plt.ylabel('Suburban spends')\n",
    "plt.show()\n",
    "#2 -- note: np.corrcoef just returns correlation coefficient but not the p-value. To actually see both use the stats.pearsonr()\n",
    "#np.corrcoef(downtown, suburban)\n",
    "#np.cov(downtown, suburban)\n",
    "print(f'Correlation coeff: {np.corrcoef(downtown, suburban)[0,1]}, covariance: {np.cov(downtown, suburban)}')\n",
    "\n",
    "#3 - this is the Wald's Test - this can be used to test for other relations, not just linear coefficients\n",
    "corr, pval = stats.pearsonr(downtown, suburban)\n",
    "print(f'Correlation coeff: {corr}, with P-value of {pval}')  #statistically significant correlation\n",
    "\n",
    "#4\n",
    "sns.lmplot('Downtown', 'Suburban', pd.DataFrame({'Downtown':downtown, 'Suburban':suburban}));\n",
    "plt.show()\n",
    "\n",
    "#sns.regplot('Downtown', 'Suburban', pd.DataFrame({'Downtown':downtown, 'Suburban':suburban}));\n",
    "slope, intercept, r_value, p_value, slope_std_error = stats.linregress(downtown, suburban)\n",
    "print(stats.linregress(downtown,suburban))\n",
    "\n",
    "#5- predicting suburban spends for the new downtown spends\n",
    "new_spends = np.array([7,11,15,25])\n",
    "pred_new_spends = new_spends*slope + intercept\n",
    "\n",
    "print(f'New downtown spends: {new_spends}. Predicted Suburban spends: { np.round(pred_new_spends,1)}')\n",
    "print(f\"R square: {r_value**2}, std error: {slope_std_error}\")\n",
    "\n",
    "#This model is built around a specific range of data, and we see that the confidence interval expands as we \n",
    "#get into higher downtown spending, so its gets more difficult to predict in higher ranges. Also, models are best used\n",
    "#to predict in ranges around where they were built"
   ]
  },
  {
   "cell_type": "markdown",
   "metadata": {},
   "source": [
    "### Linear Model Diagnostics\n",
    "\n",
    "We have residuals, correlation coefficient and more, from scipy.\n",
    "\n",
    "Linear models have been around for some time though, so we can use the `statsmodels` library to get some more information on our regression, from a statistical viewpoint:"
   ]
  },
  {
   "cell_type": "code",
   "execution_count": 73,
   "metadata": {},
   "outputs": [],
   "source": [
    "from statsmodels.regression import linear_model\n",
    "import statsmodels.api as sm"
   ]
  },
  {
   "cell_type": "code",
   "execution_count": 76,
   "metadata": {},
   "outputs": [
    {
     "data": {
      "text/html": [
       "<table class=\"simpletable\">\n",
       "<caption>OLS Regression Results</caption>\n",
       "<tr>\n",
       "  <th>Dep. Variable:</th>            <td>y</td>        <th>  R-squared:         </th> <td>   0.471</td>\n",
       "</tr>\n",
       "<tr>\n",
       "  <th>Model:</th>                   <td>OLS</td>       <th>  Adj. R-squared:    </th> <td>   0.466</td>\n",
       "</tr>\n",
       "<tr>\n",
       "  <th>Method:</th>             <td>Least Squares</td>  <th>  F-statistic:       </th> <td>   87.31</td>\n",
       "</tr>\n",
       "<tr>\n",
       "  <th>Date:</th>             <td>Fri, 25 Jan 2019</td> <th>  Prob (F-statistic):</th> <td>3.22e-15</td>\n",
       "</tr>\n",
       "<tr>\n",
       "  <th>Time:</th>                 <td>13:46:44</td>     <th>  Log-Likelihood:    </th> <td> -270.45</td>\n",
       "</tr>\n",
       "<tr>\n",
       "  <th>No. Observations:</th>      <td>   100</td>      <th>  AIC:               </th> <td>   544.9</td>\n",
       "</tr>\n",
       "<tr>\n",
       "  <th>Df Residuals:</th>          <td>    98</td>      <th>  BIC:               </th> <td>   550.1</td>\n",
       "</tr>\n",
       "<tr>\n",
       "  <th>Df Model:</th>              <td>     1</td>      <th>                     </th>     <td> </td>   \n",
       "</tr>\n",
       "<tr>\n",
       "  <th>Covariance Type:</th>      <td>nonrobust</td>    <th>                     </th>     <td> </td>   \n",
       "</tr>\n",
       "</table>\n",
       "<table class=\"simpletable\">\n",
       "<tr>\n",
       "    <td></td>       <th>coef</th>     <th>std err</th>      <th>t</th>      <th>P>|t|</th>  <th>[0.025</th>    <th>0.975]</th>  \n",
       "</tr>\n",
       "<tr>\n",
       "  <th>const</th> <td>    2.2031</td> <td>    0.366</td> <td>    6.024</td> <td> 0.000</td> <td>    1.477</td> <td>    2.929</td>\n",
       "</tr>\n",
       "<tr>\n",
       "  <th>x1</th>    <td>    3.3042</td> <td>    0.354</td> <td>    9.344</td> <td> 0.000</td> <td>    2.602</td> <td>    4.006</td>\n",
       "</tr>\n",
       "</table>\n",
       "<table class=\"simpletable\">\n",
       "<tr>\n",
       "  <th>Omnibus:</th>       <td> 5.968</td> <th>  Durbin-Watson:     </th> <td>   2.305</td>\n",
       "</tr>\n",
       "<tr>\n",
       "  <th>Prob(Omnibus):</th> <td> 0.051</td> <th>  Jarque-Bera (JB):  </th> <td>   7.637</td>\n",
       "</tr>\n",
       "<tr>\n",
       "  <th>Skew:</th>          <td> 0.254</td> <th>  Prob(JB):          </th> <td>  0.0220</td>\n",
       "</tr>\n",
       "<tr>\n",
       "  <th>Kurtosis:</th>      <td> 4.255</td> <th>  Cond. No.          </th> <td>    1.06</td>\n",
       "</tr>\n",
       "</table><br/><br/>Warnings:<br/>[1] Standard Errors assume that the covariance matrix of the errors is correctly specified."
      ],
      "text/plain": [
       "<class 'statsmodels.iolib.summary.Summary'>\n",
       "\"\"\"\n",
       "                            OLS Regression Results                            \n",
       "==============================================================================\n",
       "Dep. Variable:                      y   R-squared:                       0.471\n",
       "Model:                            OLS   Adj. R-squared:                  0.466\n",
       "Method:                 Least Squares   F-statistic:                     87.31\n",
       "Date:                Fri, 25 Jan 2019   Prob (F-statistic):           3.22e-15\n",
       "Time:                        13:46:44   Log-Likelihood:                -270.45\n",
       "No. Observations:                 100   AIC:                             544.9\n",
       "Df Residuals:                      98   BIC:                             550.1\n",
       "Df Model:                           1                                         \n",
       "Covariance Type:            nonrobust                                         \n",
       "==============================================================================\n",
       "                 coef    std err          t      P>|t|      [0.025      0.975]\n",
       "------------------------------------------------------------------------------\n",
       "const          2.2031      0.366      6.024      0.000       1.477       2.929\n",
       "x1             3.3042      0.354      9.344      0.000       2.602       4.006\n",
       "==============================================================================\n",
       "Omnibus:                        5.968   Durbin-Watson:                   2.305\n",
       "Prob(Omnibus):                  0.051   Jarque-Bera (JB):                7.637\n",
       "Skew:                           0.254   Prob(JB):                       0.0220\n",
       "Kurtosis:                       4.255   Cond. No.                         1.06\n",
       "==============================================================================\n",
       "\n",
       "Warnings:\n",
       "[1] Standard Errors assume that the covariance matrix of the errors is correctly specified.\n",
       "\"\"\""
      ]
     },
     "execution_count": 76,
     "metadata": {},
     "output_type": "execute_result"
    }
   ],
   "source": [
    "#display(x)\n",
    "X = sm.add_constant(x) #we have to add in our intercept manually! ALlows for vector multiplication <beta, alpha> * <x, 1>\n",
    "#display(X)\n",
    "myregression = linear_model.OLS(y,X).fit() #this saves the linear model. OLS stands for ordinary-least-squares\n",
    "myregression.summary()\n",
    "\n",
    "#R-squared is the amount of variance thats explained by the model\n",
    "#const is the alpha, x1 is the x"
   ]
  },
  {
   "cell_type": "code",
   "execution_count": 82,
   "metadata": {},
   "outputs": [
    {
     "data": {
      "text/plain": [
       "(array([ 1.,  5., 12., 22., 26., 22.,  7.,  3.,  1.,  1.]),\n",
       " array([-10.42656298,  -8.06013683,  -5.69371067,  -3.32728452,\n",
       "         -0.96085837,   1.40556779,   3.77199394,   6.13842009,\n",
       "          8.50484625,  10.8712724 ,  13.23769855]),\n",
       " <a list of 10 Patch objects>)"
      ]
     },
     "execution_count": 82,
     "metadata": {},
     "output_type": "execute_result"
    },
    {
     "data": {
      "image/png": "[encoded data removed]",
      "text/plain": [
       "<Figure size 432x288 with 1 Axes>"
      ]
     },
     "metadata": {
      "needs_background": "light"
     },
     "output_type": "display_data"
    }
   ],
   "source": [
    "myregression.resid\n",
    "plt.hist(myregression.resid)"
   ]
  },
  {
   "cell_type": "markdown",
   "metadata": {},
   "source": [
    "This is a much more useful object. We will cover statsmodels in more detail next week.\n",
    "\n",
    "### Exercise\n",
    "\n",
    "The following is a famous data set:"
   ]
  },
  {
   "cell_type": "code",
   "execution_count": null,
   "metadata": {},
   "outputs": [],
   "source": [
    "x = np.array([10, 8, 13, 9, 11, 14, 6, 4, 12, 7, 5])\n",
    "y1 = np.array([8.04, 6.95, 7.58, 8.81, 8.33, 9.96, 7.24, 4.26, 10.84, 4.82, 5.68])\n",
    "y2 = np.array([9.14, 8.14, 8.74, 8.77, 9.26, 8.10, 6.13, 3.10, 9.13, 7.26, 4.74])\n",
    "y3 = np.array([7.46, 6.77, 12.74, 7.11, 7.81, 8.84, 6.08, 5.39, 8.15, 6.42, 5.73])\n",
    "x4 = np.array([8, 8, 8, 8, 8, 8, 8, 19, 8, 8, 8])\n",
    "y4 = np.array([6.58, 5.76, 7.71, 8.84, 8.47, 7.04, 5.25, 12.50, 5.56, 7.91, 6.89])\n",
    "\n",
    "pairs = (x, y1), (x, y2), (x, y3), (x4, y4)"
   ]
  },
  {
   "cell_type": "markdown",
   "metadata": {},
   "source": [
    "For each pair, carry out a regression using stats.linregress. Take a look at the output values.\n",
    "\n",
    "Plot the values, and the residuals of the regression. What does this dataset tell you about regressions?"
   ]
  },
  {
   "cell_type": "markdown",
   "metadata": {},
   "source": [
    "### Polynomial Regression\n",
    "\n",
    "We can generalize this type of regression to a polynomial situation, rather than leave the equation linear:\n",
    "\n",
    "$$ y = \\beta_0 + \\beta_1x + \\beta_2x^2 + \\ldots +\\beta_nx^n + \\epsilon $$\n",
    "\n",
    "A model like this has some issues depending on the interpreblity of the model. While we can understand that 'the price of a house increases with it's size, or with the square of it's size', it might not make sense to include the price^4.\n",
    "\n",
    "However, polynomial fitting is common in many scientific models, and fills a useful gap between linear models and more complex models.\n",
    "\n",
    "We can plot some curves of how we expect the values to look:"
   ]
  },
  {
   "cell_type": "code",
   "execution_count": 149,
   "metadata": {},
   "outputs": [
    {
     "data": {
      "image/png": "[encoded data removed]",
      "text/plain": [
       "<Figure size 432x288 with 1 Axes>"
      ]
     },
     "metadata": {
      "needs_background": "light"
     },
     "output_type": "display_data"
    }
   ],
   "source": [
    "poly_x = np.arange(-3,3,0.01)\n",
    "plt.plot(poly_x, poly_x**2, label='Quadratic');\n",
    "plt.plot(poly_x, poly_x**3, label='Cubic');\n",
    "plt.plot(poly_x, poly_x**4, label='Quartic');\n",
    "plt.plot(poly_x, poly_x*0, color='black',linewidth=0.90)\n",
    "plt.axvline(x=0,color='black', linewidth=0.9)\n",
    "plt.grid()\n",
    "plt.legend()\n",
    "plt.ylim(-20,20)\n",
    "plt.xlim(-3,3);"
   ]
  },
  {
   "cell_type": "markdown",
   "metadata": {},
   "source": [
    "We will skip the formula here and jump straight to the function. We can use the numpy.polynomial function polyfit:"
   ]
  },
  {
   "cell_type": "code",
   "execution_count": 151,
   "metadata": {},
   "outputs": [],
   "source": [
    "x_q = np.array([0,0.9,1.5,2.1,2.4,2.9,3.1,3.8,4.4,5.5])\n",
    "y_q = np.array([-7.3, -2.1, -0.45, 1.39, 1.14, 1.92, 2.05, 1.26, 0.09, -4.35])\n",
    "x_r = np.arange(0,6,0.01)\n",
    "\n",
    "int_q, sl_q = np.polynomial.polynomial.polyfit(x_q, y_q, 1)\n",
    "p0, p1, p2 = np.polynomial.polynomial.polyfit(x_q, y_q, 2)"
   ]
  },
  {
   "cell_type": "markdown",
   "metadata": {},
   "source": [
    "We simply increase the number of points, until we have reached the desired polynomial fit.\n",
    "\n",
    "In this case, a quadratic fit is a much better fit than a linear regression:"
   ]
  },
  {
   "cell_type": "code",
   "execution_count": 152,
   "metadata": {},
   "outputs": [
    {
     "data": {
      "image/png": "[encoded data removed]",
      "text/plain": [
       "<Figure size 432x288 with 1 Axes>"
      ]
     },
     "metadata": {
      "needs_background": "light"
     },
     "output_type": "display_data"
    }
   ],
   "source": [
    "plt.scatter(x_q,y_q)\n",
    "plt.plot(x_q,int_q + sl_q*x_q , color='green');\n",
    "plt.plot(x_r,p0 + p1*x_r + p2*(x_r**2), color='red');"
   ]
  },
  {
   "cell_type": "markdown",
   "metadata": {},
   "source": [
    "### Overfitting\n",
    "\n",
    "However, when using polynomial fits we generally do not want to simply increase the degree of the polynomial. We will quickly overfit to our data:\n"
   ]
  },
  {
   "cell_type": "code",
   "execution_count": 153,
   "metadata": {},
   "outputs": [
    {
     "data": {
      "image/png": "[encoded data removed]",
      "text/plain": [
       "<Figure size 432x288 with 1 Axes>"
      ]
     },
     "metadata": {
      "needs_background": "light"
     },
     "output_type": "display_data"
    }
   ],
   "source": [
    "coefs = np.polynomial.polynomial.polyfit(x_q, y_q, 10)\n",
    "\n",
    "def polycalc(coefs, x):\n",
    "    '''\n",
    "    a quick and dirty polynomial evaluator\n",
    "    \n",
    "    Parameters\n",
    "    ----------\n",
    "    coefs: An iterable of coefs in order from 0 to n\n",
    "    x: The value to eval the polynomial at\n",
    "    \n",
    "    Returns\n",
    "    -------\n",
    "    val: The evald value\n",
    "    '''\n",
    "    val = 0\n",
    "    for i, j in enumerate(coefs):\n",
    "        val += j * x**i\n",
    "    return val\n",
    "\n",
    "yvals = [polycalc(coefs, i) for i in x_r]\n",
    "\n",
    "plt.scatter(x_q,y_q);\n",
    "plt.scatter(x_q,y_q)\n",
    "plt.plot(x_q,int_q + sl_q*x_q , color='green');\n",
    "plt.plot(x_r,p0 + p1*x_r + p2*(x_r**2), color='red');\n",
    "plt.plot(x_r,yvals, color='plum');\n",
    "plt.ylim(-8,10);"
   ]
  },
  {
   "cell_type": "code",
   "execution_count": null,
   "metadata": {},
   "outputs": [],
   "source": [
    "#with 10 data poitns, we can find a polynomial function with degree 9 to fit it perfectly\n",
    "#likewise for 3 data points we can find a quadtratic (2 degree func) to perfectly fit.\n",
    "# n data points - 1 = degrees of ply func."
   ]
  },
  {
   "cell_type": "markdown",
   "metadata": {},
   "source": [
    "This is almost certainly a worse fit than either of the other two models, even though we exactly touch every data point,our predicted value at 5 is completely off:"
   ]
  },
  {
   "cell_type": "code",
   "execution_count": null,
   "metadata": {},
   "outputs": [],
   "source": [
    "polycalc(coefs, 5)"
   ]
  },
  {
   "cell_type": "markdown",
   "metadata": {},
   "source": [
    "We will discuss ways to combat overfitting as we continue through the course.\n",
    "\n",
    "### Multiple Linear Regression\n",
    "\n",
    "Rather than increasing the order of x, a more common generalization is to add more variables to the model.\n",
    "\n",
    "In this case, we could imagine the model where price is a function of size, plus number of bedrooms, plus number of bathrooms plus......\n",
    "\n",
    "Here we also run the risk of overfitting, although, as we require a linear term for each parameter, it will be harder to overfit the data.\n",
    "\n",
    "For example, we can model a dependant variable as the outcome of two independant variables:\n",
    "\n",
    "$$ y = \\beta_0 + \\beta_1x_1 + \\beta_2x_2. $$\n",
    "\n",
    "We can rapidly increase the number of variables here, to make the model arbitrarily complex I have run linear models with over 8000 independent variables.\n",
    "\n",
    "If we keep the dimensions low, we can still plot and gain a sensible interpretation of the output.\n",
    "\n",
    "Let's use the example dataset here: MLR.csv - https://drive.google.com/file/d/19NgWK34NK5fGCA2eU4rDJ_Fo45nnQIi_/view?usp=sharing\n"
   ]
  },
  {
   "cell_type": "code",
   "execution_count": 85,
   "metadata": {},
   "outputs": [
    {
     "data": {
      "text/html": [
       "<div>\n",
       "<style scoped>\n",
       "    .dataframe tbody tr th:only-of-type {\n",
       "        vertical-align: middle;\n",
       "    }\n",
       "\n",
       "    .dataframe tbody tr th {\n",
       "        vertical-align: top;\n",
       "    }\n",
       "\n",
       "    .dataframe thead th {\n",
       "        text-align: right;\n",
       "    }\n",
       "</style>\n",
       "<table border=\"1\" class=\"dataframe\">\n",
       "  <thead>\n",
       "    <tr style=\"text-align: right;\">\n",
       "      <th></th>\n",
       "      <th>Marketing Budget</th>\n",
       "      <th>Website Visits</th>\n",
       "      <th>Number of Sales</th>\n",
       "    </tr>\n",
       "  </thead>\n",
       "  <tbody>\n",
       "    <tr>\n",
       "      <th>0</th>\n",
       "      <td>0.5</td>\n",
       "      <td>0.5</td>\n",
       "      <td>1</td>\n",
       "    </tr>\n",
       "    <tr>\n",
       "      <th>1</th>\n",
       "      <td>0.5</td>\n",
       "      <td>1.3</td>\n",
       "      <td>0</td>\n",
       "    </tr>\n",
       "    <tr>\n",
       "      <th>2</th>\n",
       "      <td>0.3</td>\n",
       "      <td>0.2</td>\n",
       "      <td>2</td>\n",
       "    </tr>\n",
       "    <tr>\n",
       "      <th>3</th>\n",
       "      <td>0.3</td>\n",
       "      <td>0.7</td>\n",
       "      <td>5</td>\n",
       "    </tr>\n",
       "    <tr>\n",
       "      <th>4</th>\n",
       "      <td>0.4</td>\n",
       "      <td>0.6</td>\n",
       "      <td>5</td>\n",
       "    </tr>\n",
       "  </tbody>\n",
       "</table>\n",
       "</div>"
      ],
      "text/plain": [
       "   Marketing Budget  Website Visits  Number of Sales\n",
       "0               0.5             0.5                1\n",
       "1               0.5             1.3                0\n",
       "2               0.3             0.2                2\n",
       "3               0.3             0.7                5\n",
       "4               0.4             0.6                5"
      ]
     },
     "execution_count": 85,
     "metadata": {},
     "output_type": "execute_result"
    }
   ],
   "source": [
    "dfm = pd.read_csv('data/MLR.csv')\n",
    "dfm.head(5)"
   ]
  },
  {
   "cell_type": "markdown",
   "metadata": {},
   "source": [
    "We can carry out a multiple linear regression using statsmodels. We will get the values from the array, and add an intercept:"
   ]
  },
  {
   "cell_type": "code",
   "execution_count": 104,
   "metadata": {},
   "outputs": [],
   "source": [
    "X = sm.add_constant(dfm[['Marketing Budget', 'Website Visits']].values)\n",
    "y = dfm['Number of Sales'].values"
   ]
  },
  {
   "cell_type": "code",
   "execution_count": 105,
   "metadata": {},
   "outputs": [
    {
     "data": {
      "text/html": [
       "<table class=\"simpletable\">\n",
       "<caption>OLS Regression Results</caption>\n",
       "<tr>\n",
       "  <th>Dep. Variable:</th>            <td>y</td>        <th>  R-squared:         </th> <td>   0.986</td> \n",
       "</tr>\n",
       "<tr>\n",
       "  <th>Model:</th>                   <td>OLS</td>       <th>  Adj. R-squared:    </th> <td>   0.986</td> \n",
       "</tr>\n",
       "<tr>\n",
       "  <th>Method:</th>             <td>Least Squares</td>  <th>  F-statistic:       </th> <td>   6983.</td> \n",
       "</tr>\n",
       "<tr>\n",
       "  <th>Date:</th>             <td>Fri, 25 Jan 2019</td> <th>  Prob (F-statistic):</th> <td>5.05e-180</td>\n",
       "</tr>\n",
       "<tr>\n",
       "  <th>Time:</th>                 <td>14:54:26</td>     <th>  Log-Likelihood:    </th> <td> -610.95</td> \n",
       "</tr>\n",
       "<tr>\n",
       "  <th>No. Observations:</th>      <td>   195</td>      <th>  AIC:               </th> <td>   1228.</td> \n",
       "</tr>\n",
       "<tr>\n",
       "  <th>Df Residuals:</th>          <td>   192</td>      <th>  BIC:               </th> <td>   1238.</td> \n",
       "</tr>\n",
       "<tr>\n",
       "  <th>Df Model:</th>              <td>     2</td>      <th>                     </th>     <td> </td>    \n",
       "</tr>\n",
       "<tr>\n",
       "  <th>Covariance Type:</th>      <td>nonrobust</td>    <th>                     </th>     <td> </td>    \n",
       "</tr>\n",
       "</table>\n",
       "<table class=\"simpletable\">\n",
       "<tr>\n",
       "    <td></td>       <th>coef</th>     <th>std err</th>      <th>t</th>      <th>P>|t|</th>  <th>[0.025</th>    <th>0.975]</th>  \n",
       "</tr>\n",
       "<tr>\n",
       "  <th>const</th> <td>    0.0982</td> <td>    0.839</td> <td>    0.117</td> <td> 0.907</td> <td>   -1.557</td> <td>    1.753</td>\n",
       "</tr>\n",
       "<tr>\n",
       "  <th>x1</th>    <td>    3.6367</td> <td>    0.593</td> <td>    6.137</td> <td> 0.000</td> <td>    2.468</td> <td>    4.805</td>\n",
       "</tr>\n",
       "<tr>\n",
       "  <th>x2</th>    <td>    6.5617</td> <td>    0.302</td> <td>   21.701</td> <td> 0.000</td> <td>    5.965</td> <td>    7.158</td>\n",
       "</tr>\n",
       "</table>\n",
       "<table class=\"simpletable\">\n",
       "<tr>\n",
       "  <th>Omnibus:</th>       <td> 1.065</td> <th>  Durbin-Watson:     </th> <td>   1.768</td>\n",
       "</tr>\n",
       "<tr>\n",
       "  <th>Prob(Omnibus):</th> <td> 0.587</td> <th>  Jarque-Bera (JB):  </th> <td>   1.139</td>\n",
       "</tr>\n",
       "<tr>\n",
       "  <th>Skew:</th>          <td> 0.171</td> <th>  Prob(JB):          </th> <td>   0.566</td>\n",
       "</tr>\n",
       "<tr>\n",
       "  <th>Kurtosis:</th>      <td> 2.847</td> <th>  Cond. No.          </th> <td>    27.9</td>\n",
       "</tr>\n",
       "</table><br/><br/>Warnings:<br/>[1] Standard Errors assume that the covariance matrix of the errors is correctly specified."
      ],
      "text/plain": [
       "<class 'statsmodels.iolib.summary.Summary'>\n",
       "\"\"\"\n",
       "                            OLS Regression Results                            \n",
       "==============================================================================\n",
       "Dep. Variable:                      y   R-squared:                       0.986\n",
       "Model:                            OLS   Adj. R-squared:                  0.986\n",
       "Method:                 Least Squares   F-statistic:                     6983.\n",
       "Date:                Fri, 25 Jan 2019   Prob (F-statistic):          5.05e-180\n",
       "Time:                        14:54:26   Log-Likelihood:                -610.95\n",
       "No. Observations:                 195   AIC:                             1228.\n",
       "Df Residuals:                     192   BIC:                             1238.\n",
       "Df Model:                           2                                         \n",
       "Covariance Type:            nonrobust                                         \n",
       "==============================================================================\n",
       "                 coef    std err          t      P>|t|      [0.025      0.975]\n",
       "------------------------------------------------------------------------------\n",
       "const          0.0982      0.839      0.117      0.907      -1.557       1.753\n",
       "x1             3.6367      0.593      6.137      0.000       2.468       4.805\n",
       "x2             6.5617      0.302     21.701      0.000       5.965       7.158\n",
       "==============================================================================\n",
       "Omnibus:                        1.065   Durbin-Watson:                   1.768\n",
       "Prob(Omnibus):                  0.587   Jarque-Bera (JB):                1.139\n",
       "Skew:                           0.171   Prob(JB):                        0.566\n",
       "Kurtosis:                       2.847   Cond. No.                         27.9\n",
       "==============================================================================\n",
       "\n",
       "Warnings:\n",
       "[1] Standard Errors assume that the covariance matrix of the errors is correctly specified.\n",
       "\"\"\""
      ]
     },
     "execution_count": 105,
     "metadata": {},
     "output_type": "execute_result"
    }
   ],
   "source": [
    "model = sm.OLS(y,X).fit()\n",
    "model.summary()"
   ]
  },
  {
   "cell_type": "markdown",
   "metadata": {},
   "source": [
    "Now we have our model! We can predict how much our sales will increase as we increase our budget, 3.6367 for each unit increase in budget. We can predict that if our website visits increase, we will also increase our sales."
   ]
  },
  {
   "cell_type": "markdown",
   "metadata": {},
   "source": [
    "### Exercises\n",
    "\n",
    "Use the `customer_info.csv`: https://drive.google.com/file/d/169_fyI_omErKtoMu5Z9PCNZhsefi_bET/view?usp=sharing for these questions. Use the statsmodels package, take a look at the `statsmodels.formula.api` documentation here:<br>\n",
    "http://www.statsmodels.org/dev/example_formulas.html<br> for an easier interface\n",
    "\n",
    "  1.  The big Telecom that you work for is interested in the relationship between the number of employees who work at a company, and how much they spend on different products. Perform two linear regressions, each with EMP as the independent variable, but with MOBILITY as the dependent variable in one and INTERNET as the dependent variable in the other. Describe in words, the relationship between each of these revenue categories and the number of employees at a company. Do these results make sense to you? Why or why not?\n",
    "  2.   We are now interested in how the relationship between Mobility revenue and employees changes across different industries. Pick two industries to investigate and create two data frames, each with data on one of your chosen industries. Run a regression on each data frame to see how the relationship between the number of employees changes between industries. Describe your findings in words. (Note: it would be good if we could organize ourselves so that at least one person is doing each possible pair of industries.)\n",
    "  3. Repeat the same exercise with Internet revenue instead of Mobility.\n",
    "  4.  Use your findings to make a recommendation to the marketing team about how they could use information about how many employees work at companies to create campaigns with the highest return."
   ]
  },
  {
   "cell_type": "code",
   "execution_count": 90,
   "metadata": {},
   "outputs": [
    {
     "data": {
      "text/html": [
       "<div>\n",
       "<style scoped>\n",
       "    .dataframe tbody tr th:only-of-type {\n",
       "        vertical-align: middle;\n",
       "    }\n",
       "\n",
       "    .dataframe tbody tr th {\n",
       "        vertical-align: top;\n",
       "    }\n",
       "\n",
       "    .dataframe thead th {\n",
       "        text-align: right;\n",
       "    }\n",
       "</style>\n",
       "<table border=\"1\" class=\"dataframe\">\n",
       "  <thead>\n",
       "    <tr style=\"text-align: right;\">\n",
       "      <th></th>\n",
       "      <th>CUSTOMER_ID</th>\n",
       "      <th>INDUSTRY</th>\n",
       "      <th>EMP</th>\n",
       "      <th>ANNUAL_SALES</th>\n",
       "      <th>PROVINCE</th>\n",
       "      <th>MOBILITY</th>\n",
       "      <th>INTERNET</th>\n",
       "    </tr>\n",
       "  </thead>\n",
       "  <tbody>\n",
       "    <tr>\n",
       "      <th>0</th>\n",
       "      <td>129078</td>\n",
       "      <td>Finance and Insurance</td>\n",
       "      <td>36.0</td>\n",
       "      <td>NaN</td>\n",
       "      <td>AB</td>\n",
       "      <td>10192.825459</td>\n",
       "      <td>699.539869</td>\n",
       "    </tr>\n",
       "    <tr>\n",
       "      <th>1</th>\n",
       "      <td>128424</td>\n",
       "      <td>Construction</td>\n",
       "      <td>261.0</td>\n",
       "      <td>10675108.0</td>\n",
       "      <td>BC</td>\n",
       "      <td>17367.492873</td>\n",
       "      <td>1907.819410</td>\n",
       "    </tr>\n",
       "    <tr>\n",
       "      <th>2</th>\n",
       "      <td>125960</td>\n",
       "      <td>Finance and Insurance</td>\n",
       "      <td>10.0</td>\n",
       "      <td>756786.0</td>\n",
       "      <td>AB</td>\n",
       "      <td>6162.609229</td>\n",
       "      <td>1789.017919</td>\n",
       "    </tr>\n",
       "    <tr>\n",
       "      <th>3</th>\n",
       "      <td>120981</td>\n",
       "      <td>Construction</td>\n",
       "      <td>31.0</td>\n",
       "      <td>1223808.0</td>\n",
       "      <td>BC</td>\n",
       "      <td>19176.373541</td>\n",
       "      <td>2123.016418</td>\n",
       "    </tr>\n",
       "    <tr>\n",
       "      <th>4</th>\n",
       "      <td>129251</td>\n",
       "      <td>Education</td>\n",
       "      <td>NaN</td>\n",
       "      <td>1148650.0</td>\n",
       "      <td>AB</td>\n",
       "      <td>1538.194116</td>\n",
       "      <td>1620.096543</td>\n",
       "    </tr>\n",
       "  </tbody>\n",
       "</table>\n",
       "</div>"
      ],
      "text/plain": [
       "   CUSTOMER_ID               INDUSTRY    EMP  ANNUAL_SALES PROVINCE  \\\n",
       "0       129078  Finance and Insurance   36.0           NaN       AB   \n",
       "1       128424           Construction  261.0    10675108.0       BC   \n",
       "2       125960  Finance and Insurance   10.0      756786.0       AB   \n",
       "3       120981           Construction   31.0     1223808.0       BC   \n",
       "4       129251              Education    NaN     1148650.0       AB   \n",
       "\n",
       "       MOBILITY     INTERNET  \n",
       "0  10192.825459   699.539869  \n",
       "1  17367.492873  1907.819410  \n",
       "2   6162.609229  1789.017919  \n",
       "3  19176.373541  2123.016418  \n",
       "4   1538.194116  1620.096543  "
      ]
     },
     "execution_count": 90,
     "metadata": {},
     "output_type": "execute_result"
    }
   ],
   "source": [
    "cust_data = pd.read_csv('customer_info.csv')\n",
    "cust_data.head()"
   ]
  },
  {
   "cell_type": "code",
   "execution_count": 123,
   "metadata": {},
   "outputs": [
    {
     "data": {
      "text/plain": [
       "CUSTOMER_ID        0\n",
       "INDUSTRY         109\n",
       "EMP             1243\n",
       "ANNUAL_SALES     522\n",
       "PROVINCE           0\n",
       "MOBILITY           0\n",
       "INTERNET           0\n",
       "dtype: int64"
      ]
     },
     "execution_count": 123,
     "metadata": {},
     "output_type": "execute_result"
    }
   ],
   "source": [
    "cust_data.isna().sum()\n",
    "#cust_data.info()"
   ]
  },
  {
   "cell_type": "code",
   "execution_count": null,
   "metadata": {},
   "outputs": [],
   "source": [
    "#emp has a lot of NANs so for making the model, use rows where emp is not na\n",
    "#Mobility and Internet may have 0 values, remove them as well"
   ]
  },
  {
   "cell_type": "code",
   "execution_count": 126,
   "metadata": {},
   "outputs": [
    {
     "name": "stdout",
     "output_type": "stream",
     "text": [
      "<class 'pandas.core.frame.DataFrame'>\n",
      "Int64Index: 8073 entries, 0 to 9999\n",
      "Data columns (total 7 columns):\n",
      "CUSTOMER_ID     8073 non-null int64\n",
      "INDUSTRY        7986 non-null object\n",
      "EMP             8073 non-null float64\n",
      "ANNUAL_SALES    7668 non-null float64\n",
      "PROVINCE        8073 non-null object\n",
      "MOBILITY        8073 non-null float64\n",
      "INTERNET        8073 non-null float64\n",
      "dtypes: float64(4), int64(1), object(2)\n",
      "memory usage: 504.6+ KB\n"
     ]
    }
   ],
   "source": [
    "#could also do:\n",
    "#df = df.dropna(subset=['EMP'])\n",
    "\n",
    "cust_data_emp_cleaned = cust_data[(~cust_data['EMP'].isna()) & (cust_data['MOBILITY'] > 0) & (cust_data['INTERNET']> 0)]\n",
    "cust_data_emp_cleaned.info()\n",
    "#now both emp and mobility have same number of valid rows"
   ]
  },
  {
   "cell_type": "code",
   "execution_count": 127,
   "metadata": {},
   "outputs": [],
   "source": [
    "x_emp = sm.add_constant(cust_data_emp_cleaned['EMP'].values)\n",
    "y_mob = cust_data_emp_cleaned['MOBILITY'].values\n",
    "y_inter = cust_data_emp_cleaned['INTERNET'].values"
   ]
  },
  {
   "cell_type": "code",
   "execution_count": 128,
   "metadata": {},
   "outputs": [
    {
     "data": {
      "text/html": [
       "<table class=\"simpletable\">\n",
       "<caption>OLS Regression Results</caption>\n",
       "<tr>\n",
       "  <th>Dep. Variable:</th>            <td>y</td>        <th>  R-squared:         </th> <td>   0.337</td> \n",
       "</tr>\n",
       "<tr>\n",
       "  <th>Model:</th>                   <td>OLS</td>       <th>  Adj. R-squared:    </th> <td>   0.337</td> \n",
       "</tr>\n",
       "<tr>\n",
       "  <th>Method:</th>             <td>Least Squares</td>  <th>  F-statistic:       </th> <td>   4105.</td> \n",
       "</tr>\n",
       "<tr>\n",
       "  <th>Date:</th>             <td>Fri, 25 Jan 2019</td> <th>  Prob (F-statistic):</th>  <td>  0.00</td>  \n",
       "</tr>\n",
       "<tr>\n",
       "  <th>Time:</th>                 <td>15:19:55</td>     <th>  Log-Likelihood:    </th> <td> -80474.</td> \n",
       "</tr>\n",
       "<tr>\n",
       "  <th>No. Observations:</th>      <td>  8073</td>      <th>  AIC:               </th> <td>1.610e+05</td>\n",
       "</tr>\n",
       "<tr>\n",
       "  <th>Df Residuals:</th>          <td>  8071</td>      <th>  BIC:               </th> <td>1.610e+05</td>\n",
       "</tr>\n",
       "<tr>\n",
       "  <th>Df Model:</th>              <td>     1</td>      <th>                     </th>     <td> </td>    \n",
       "</tr>\n",
       "<tr>\n",
       "  <th>Covariance Type:</th>      <td>nonrobust</td>    <th>                     </th>     <td> </td>    \n",
       "</tr>\n",
       "</table>\n",
       "<table class=\"simpletable\">\n",
       "<tr>\n",
       "    <td></td>       <th>coef</th>     <th>std err</th>      <th>t</th>      <th>P>|t|</th>  <th>[0.025</th>    <th>0.975]</th>  \n",
       "</tr>\n",
       "<tr>\n",
       "  <th>const</th> <td> 3227.5812</td> <td>   65.722</td> <td>   49.109</td> <td> 0.000</td> <td> 3098.748</td> <td> 3356.414</td>\n",
       "</tr>\n",
       "<tr>\n",
       "  <th>x1</th>    <td>   24.8465</td> <td>    0.388</td> <td>   64.072</td> <td> 0.000</td> <td>   24.086</td> <td>   25.607</td>\n",
       "</tr>\n",
       "</table>\n",
       "<table class=\"simpletable\">\n",
       "<tr>\n",
       "  <th>Omnibus:</th>       <td>5966.183</td> <th>  Durbin-Watson:     </th>  <td>   2.022</td> \n",
       "</tr>\n",
       "<tr>\n",
       "  <th>Prob(Omnibus):</th>  <td> 0.000</td>  <th>  Jarque-Bera (JB):  </th> <td>217146.435</td>\n",
       "</tr>\n",
       "<tr>\n",
       "  <th>Skew:</th>           <td> 3.154</td>  <th>  Prob(JB):          </th>  <td>    0.00</td> \n",
       "</tr>\n",
       "<tr>\n",
       "  <th>Kurtosis:</th>       <td>27.612</td>  <th>  Cond. No.          </th>  <td>    194.</td> \n",
       "</tr>\n",
       "</table><br/><br/>Warnings:<br/>[1] Standard Errors assume that the covariance matrix of the errors is correctly specified."
      ],
      "text/plain": [
       "<class 'statsmodels.iolib.summary.Summary'>\n",
       "\"\"\"\n",
       "                            OLS Regression Results                            \n",
       "==============================================================================\n",
       "Dep. Variable:                      y   R-squared:                       0.337\n",
       "Model:                            OLS   Adj. R-squared:                  0.337\n",
       "Method:                 Least Squares   F-statistic:                     4105.\n",
       "Date:                Fri, 25 Jan 2019   Prob (F-statistic):               0.00\n",
       "Time:                        15:19:55   Log-Likelihood:                -80474.\n",
       "No. Observations:                8073   AIC:                         1.610e+05\n",
       "Df Residuals:                    8071   BIC:                         1.610e+05\n",
       "Df Model:                           1                                         \n",
       "Covariance Type:            nonrobust                                         \n",
       "==============================================================================\n",
       "                 coef    std err          t      P>|t|      [0.025      0.975]\n",
       "------------------------------------------------------------------------------\n",
       "const       3227.5812     65.722     49.109      0.000    3098.748    3356.414\n",
       "x1            24.8465      0.388     64.072      0.000      24.086      25.607\n",
       "==============================================================================\n",
       "Omnibus:                     5966.183   Durbin-Watson:                   2.022\n",
       "Prob(Omnibus):                  0.000   Jarque-Bera (JB):           217146.435\n",
       "Skew:                           3.154   Prob(JB):                         0.00\n",
       "Kurtosis:                      27.612   Cond. No.                         194.\n",
       "==============================================================================\n",
       "\n",
       "Warnings:\n",
       "[1] Standard Errors assume that the covariance matrix of the errors is correctly specified.\n",
       "\"\"\""
      ]
     },
     "execution_count": 128,
     "metadata": {},
     "output_type": "execute_result"
    }
   ],
   "source": [
    "model_mob = sm.OLS(y_mob,x_emp).fit()\n",
    "model_mob.summary()"
   ]
  },
  {
   "cell_type": "code",
   "execution_count": 130,
   "metadata": {},
   "outputs": [
    {
     "data": {
      "text/html": [
       "<table class=\"simpletable\">\n",
       "<caption>OLS Regression Results</caption>\n",
       "<tr>\n",
       "  <th>Dep. Variable:</th>            <td>y</td>        <th>  R-squared:         </th> <td>   0.030</td> \n",
       "</tr>\n",
       "<tr>\n",
       "  <th>Model:</th>                   <td>OLS</td>       <th>  Adj. R-squared:    </th> <td>   0.030</td> \n",
       "</tr>\n",
       "<tr>\n",
       "  <th>Method:</th>             <td>Least Squares</td>  <th>  F-statistic:       </th> <td>   247.6</td> \n",
       "</tr>\n",
       "<tr>\n",
       "  <th>Date:</th>             <td>Fri, 25 Jan 2019</td> <th>  Prob (F-statistic):</th> <td>5.76e-55</td> \n",
       "</tr>\n",
       "<tr>\n",
       "  <th>Time:</th>                 <td>15:20:10</td>     <th>  Log-Likelihood:    </th> <td> -76467.</td> \n",
       "</tr>\n",
       "<tr>\n",
       "  <th>No. Observations:</th>      <td>  8073</td>      <th>  AIC:               </th> <td>1.529e+05</td>\n",
       "</tr>\n",
       "<tr>\n",
       "  <th>Df Residuals:</th>          <td>  8071</td>      <th>  BIC:               </th> <td>1.530e+05</td>\n",
       "</tr>\n",
       "<tr>\n",
       "  <th>Df Model:</th>              <td>     1</td>      <th>                     </th>     <td> </td>    \n",
       "</tr>\n",
       "<tr>\n",
       "  <th>Covariance Type:</th>      <td>nonrobust</td>    <th>                     </th>     <td> </td>    \n",
       "</tr>\n",
       "</table>\n",
       "<table class=\"simpletable\">\n",
       "<tr>\n",
       "    <td></td>       <th>coef</th>     <th>std err</th>      <th>t</th>      <th>P>|t|</th>  <th>[0.025</th>    <th>0.975]</th>  \n",
       "</tr>\n",
       "<tr>\n",
       "  <th>const</th> <td> 3385.3570</td> <td>   40.010</td> <td>   84.612</td> <td> 0.000</td> <td> 3306.926</td> <td> 3463.788</td>\n",
       "</tr>\n",
       "<tr>\n",
       "  <th>x1</th>    <td>    3.7145</td> <td>    0.236</td> <td>   15.734</td> <td> 0.000</td> <td>    3.252</td> <td>    4.177</td>\n",
       "</tr>\n",
       "</table>\n",
       "<table class=\"simpletable\">\n",
       "<tr>\n",
       "  <th>Omnibus:</th>       <td>1737.741</td> <th>  Durbin-Watson:     </th> <td>   1.984</td>\n",
       "</tr>\n",
       "<tr>\n",
       "  <th>Prob(Omnibus):</th>  <td> 0.000</td>  <th>  Jarque-Bera (JB):  </th> <td>3125.696</td>\n",
       "</tr>\n",
       "<tr>\n",
       "  <th>Skew:</th>           <td> 1.390</td>  <th>  Prob(JB):          </th> <td>    0.00</td>\n",
       "</tr>\n",
       "<tr>\n",
       "  <th>Kurtosis:</th>       <td> 4.252</td>  <th>  Cond. No.          </th> <td>    194.</td>\n",
       "</tr>\n",
       "</table><br/><br/>Warnings:<br/>[1] Standard Errors assume that the covariance matrix of the errors is correctly specified."
      ],
      "text/plain": [
       "<class 'statsmodels.iolib.summary.Summary'>\n",
       "\"\"\"\n",
       "                            OLS Regression Results                            \n",
       "==============================================================================\n",
       "Dep. Variable:                      y   R-squared:                       0.030\n",
       "Model:                            OLS   Adj. R-squared:                  0.030\n",
       "Method:                 Least Squares   F-statistic:                     247.6\n",
       "Date:                Fri, 25 Jan 2019   Prob (F-statistic):           5.76e-55\n",
       "Time:                        15:20:10   Log-Likelihood:                -76467.\n",
       "No. Observations:                8073   AIC:                         1.529e+05\n",
       "Df Residuals:                    8071   BIC:                         1.530e+05\n",
       "Df Model:                           1                                         \n",
       "Covariance Type:            nonrobust                                         \n",
       "==============================================================================\n",
       "                 coef    std err          t      P>|t|      [0.025      0.975]\n",
       "------------------------------------------------------------------------------\n",
       "const       3385.3570     40.010     84.612      0.000    3306.926    3463.788\n",
       "x1             3.7145      0.236     15.734      0.000       3.252       4.177\n",
       "==============================================================================\n",
       "Omnibus:                     1737.741   Durbin-Watson:                   1.984\n",
       "Prob(Omnibus):                  0.000   Jarque-Bera (JB):             3125.696\n",
       "Skew:                           1.390   Prob(JB):                         0.00\n",
       "Kurtosis:                       4.252   Cond. No.                         194.\n",
       "==============================================================================\n",
       "\n",
       "Warnings:\n",
       "[1] Standard Errors assume that the covariance matrix of the errors is correctly specified.\n",
       "\"\"\""
      ]
     },
     "execution_count": 130,
     "metadata": {},
     "output_type": "execute_result"
    }
   ],
   "source": [
    "model_inter = sm.OLS(y_inter,x_emp).fit()\n",
    "model_inter.summary()\n",
    "\n",
    "#r-squared is saying only 3% of variance is explained by internet sales, so its not very useful to predict internet sales by emp -- this is not the best model then"
   ]
  },
  {
   "cell_type": "code",
   "execution_count": 148,
   "metadata": {},
   "outputs": [
    {
     "data": {
      "image/png": "[encoded data removed]",
      "text/plain": [
       "<Figure size 432x288 with 1 Axes>"
      ]
     },
     "metadata": {
      "needs_background": "light"
     },
     "output_type": "display_data"
    }
   ],
   "source": [
    "import matplotlib.pyplot as plt\n",
    "%matplotlib inline\n",
    "\n",
    "plt.figure()\n",
    "plt.scatter(cust_data_emp_cleaned['EMP'].values, cust_data_emp_cleaned['MOBILITY'].values)\n",
    "plt.xlim(right = 2000)\n",
    "plt.show()"
   ]
  },
  {
   "cell_type": "markdown",
   "metadata": {},
   "source": [
    "We see from both models where EMP is the indepenent and Mobility sales and Internet sales\n",
    "as respective dependent variables, that as the number of EMP increases, the sales increase as well. \n",
    "Their correlations of 24.8 and 3.7 are statistically significant with P values < 0.05"
   ]
  },
  {
   "cell_type": "code",
   "execution_count": 131,
   "metadata": {},
   "outputs": [
    {
     "data": {
      "text/html": [
       "<div>\n",
       "<style scoped>\n",
       "    .dataframe tbody tr th:only-of-type {\n",
       "        vertical-align: middle;\n",
       "    }\n",
       "\n",
       "    .dataframe tbody tr th {\n",
       "        vertical-align: top;\n",
       "    }\n",
       "\n",
       "    .dataframe thead th {\n",
       "        text-align: right;\n",
       "    }\n",
       "</style>\n",
       "<table border=\"1\" class=\"dataframe\">\n",
       "  <thead>\n",
       "    <tr style=\"text-align: right;\">\n",
       "      <th></th>\n",
       "      <th>CUSTOMER_ID</th>\n",
       "      <th>INDUSTRY</th>\n",
       "      <th>EMP</th>\n",
       "      <th>ANNUAL_SALES</th>\n",
       "      <th>PROVINCE</th>\n",
       "      <th>MOBILITY</th>\n",
       "      <th>INTERNET</th>\n",
       "    </tr>\n",
       "  </thead>\n",
       "  <tbody>\n",
       "    <tr>\n",
       "      <th>8</th>\n",
       "      <td>122024</td>\n",
       "      <td>Education</td>\n",
       "      <td>248.0</td>\n",
       "      <td>NaN</td>\n",
       "      <td>AB</td>\n",
       "      <td>4468.821223</td>\n",
       "      <td>9592.091142</td>\n",
       "    </tr>\n",
       "    <tr>\n",
       "      <th>33</th>\n",
       "      <td>127889</td>\n",
       "      <td>Education</td>\n",
       "      <td>56.0</td>\n",
       "      <td>1132384.0</td>\n",
       "      <td>BC</td>\n",
       "      <td>3920.216001</td>\n",
       "      <td>2301.588190</td>\n",
       "    </tr>\n",
       "    <tr>\n",
       "      <th>46</th>\n",
       "      <td>129997</td>\n",
       "      <td>Education</td>\n",
       "      <td>31.0</td>\n",
       "      <td>1115725.0</td>\n",
       "      <td>AB</td>\n",
       "      <td>1538.507768</td>\n",
       "      <td>6350.126248</td>\n",
       "    </tr>\n",
       "    <tr>\n",
       "      <th>62</th>\n",
       "      <td>120214</td>\n",
       "      <td>Education</td>\n",
       "      <td>254.0</td>\n",
       "      <td>9074471.0</td>\n",
       "      <td>BC</td>\n",
       "      <td>3028.171423</td>\n",
       "      <td>9659.980952</td>\n",
       "    </tr>\n",
       "    <tr>\n",
       "      <th>73</th>\n",
       "      <td>127881</td>\n",
       "      <td>Education</td>\n",
       "      <td>64.0</td>\n",
       "      <td>1939441.0</td>\n",
       "      <td>BC</td>\n",
       "      <td>4292.842743</td>\n",
       "      <td>1733.082514</td>\n",
       "    </tr>\n",
       "  </tbody>\n",
       "</table>\n",
       "</div>"
      ],
      "text/plain": [
       "    CUSTOMER_ID   INDUSTRY    EMP  ANNUAL_SALES PROVINCE     MOBILITY  \\\n",
       "8        122024  Education  248.0           NaN       AB  4468.821223   \n",
       "33       127889  Education   56.0     1132384.0       BC  3920.216001   \n",
       "46       129997  Education   31.0     1115725.0       AB  1538.507768   \n",
       "62       120214  Education  254.0     9074471.0       BC  3028.171423   \n",
       "73       127881  Education   64.0     1939441.0       BC  4292.842743   \n",
       "\n",
       "       INTERNET  \n",
       "8   9592.091142  \n",
       "33  2301.588190  \n",
       "46  6350.126248  \n",
       "62  9659.980952  \n",
       "73  1733.082514  "
      ]
     },
     "execution_count": 131,
     "metadata": {},
     "output_type": "execute_result"
    }
   ],
   "source": [
    "#2 - lets look at the following two industries: Construction and Education\n",
    "const_df = cust_data_emp_cleaned[cust_data_emp_cleaned['INDUSTRY']=='Construction']\n",
    "edu_df = cust_data_emp_cleaned[cust_data_emp_cleaned['INDUSTRY']=='Education']\n",
    "\n",
    "const_df.head()\n",
    "edu_df.head()"
   ]
  },
  {
   "cell_type": "code",
   "execution_count": 136,
   "metadata": {},
   "outputs": [],
   "source": [
    "x_const = sm.add_constant(const_df['EMP'].values)\n",
    "y_const = const_df['MOBILITY'].values\n",
    "\n",
    "x_edu = sm.add_constant(edu_df['EMP'].values)\n",
    "y_edu = edu_df['MOBILITY'].values"
   ]
  },
  {
   "cell_type": "code",
   "execution_count": 137,
   "metadata": {},
   "outputs": [
    {
     "data": {
      "text/html": [
       "<table class=\"simpletable\">\n",
       "<caption>OLS Regression Results</caption>\n",
       "<tr>\n",
       "  <th>Dep. Variable:</th>            <td>y</td>        <th>  R-squared:         </th> <td>   0.442</td> \n",
       "</tr>\n",
       "<tr>\n",
       "  <th>Model:</th>                   <td>OLS</td>       <th>  Adj. R-squared:    </th> <td>   0.442</td> \n",
       "</tr>\n",
       "<tr>\n",
       "  <th>Method:</th>             <td>Least Squares</td>  <th>  F-statistic:       </th> <td>   1351.</td> \n",
       "</tr>\n",
       "<tr>\n",
       "  <th>Date:</th>             <td>Fri, 25 Jan 2019</td> <th>  Prob (F-statistic):</th> <td>2.83e-218</td>\n",
       "</tr>\n",
       "<tr>\n",
       "  <th>Time:</th>                 <td>15:34:11</td>     <th>  Log-Likelihood:    </th> <td> -17474.</td> \n",
       "</tr>\n",
       "<tr>\n",
       "  <th>No. Observations:</th>      <td>  1705</td>      <th>  AIC:               </th> <td>3.495e+04</td>\n",
       "</tr>\n",
       "<tr>\n",
       "  <th>Df Residuals:</th>          <td>  1703</td>      <th>  BIC:               </th> <td>3.496e+04</td>\n",
       "</tr>\n",
       "<tr>\n",
       "  <th>Df Model:</th>              <td>     1</td>      <th>                     </th>     <td> </td>    \n",
       "</tr>\n",
       "<tr>\n",
       "  <th>Covariance Type:</th>      <td>nonrobust</td>    <th>                     </th>     <td> </td>    \n",
       "</tr>\n",
       "</table>\n",
       "<table class=\"simpletable\">\n",
       "<tr>\n",
       "    <td></td>       <th>coef</th>     <th>std err</th>      <th>t</th>      <th>P>|t|</th>  <th>[0.025</th>    <th>0.975]</th>  \n",
       "</tr>\n",
       "<tr>\n",
       "  <th>const</th> <td> 6776.4434</td> <td>  199.389</td> <td>   33.986</td> <td> 0.000</td> <td> 6385.370</td> <td> 7167.517</td>\n",
       "</tr>\n",
       "<tr>\n",
       "  <th>x1</th>    <td>   23.7955</td> <td>    0.647</td> <td>   36.759</td> <td> 0.000</td> <td>   22.526</td> <td>   25.065</td>\n",
       "</tr>\n",
       "</table>\n",
       "<table class=\"simpletable\">\n",
       "<tr>\n",
       "  <th>Omnibus:</th>       <td>938.491</td> <th>  Durbin-Watson:     </th> <td>   1.929</td> \n",
       "</tr>\n",
       "<tr>\n",
       "  <th>Prob(Omnibus):</th> <td> 0.000</td>  <th>  Jarque-Bera (JB):  </th> <td>12457.923</td>\n",
       "</tr>\n",
       "<tr>\n",
       "  <th>Skew:</th>          <td> 2.289</td>  <th>  Prob(JB):          </th> <td>    0.00</td> \n",
       "</tr>\n",
       "<tr>\n",
       "  <th>Kurtosis:</th>      <td>15.426</td>  <th>  Cond. No.          </th> <td>    371.</td> \n",
       "</tr>\n",
       "</table><br/><br/>Warnings:<br/>[1] Standard Errors assume that the covariance matrix of the errors is correctly specified."
      ],
      "text/plain": [
       "<class 'statsmodels.iolib.summary.Summary'>\n",
       "\"\"\"\n",
       "                            OLS Regression Results                            \n",
       "==============================================================================\n",
       "Dep. Variable:                      y   R-squared:                       0.442\n",
       "Model:                            OLS   Adj. R-squared:                  0.442\n",
       "Method:                 Least Squares   F-statistic:                     1351.\n",
       "Date:                Fri, 25 Jan 2019   Prob (F-statistic):          2.83e-218\n",
       "Time:                        15:34:11   Log-Likelihood:                -17474.\n",
       "No. Observations:                1705   AIC:                         3.495e+04\n",
       "Df Residuals:                    1703   BIC:                         3.496e+04\n",
       "Df Model:                           1                                         \n",
       "Covariance Type:            nonrobust                                         \n",
       "==============================================================================\n",
       "                 coef    std err          t      P>|t|      [0.025      0.975]\n",
       "------------------------------------------------------------------------------\n",
       "const       6776.4434    199.389     33.986      0.000    6385.370    7167.517\n",
       "x1            23.7955      0.647     36.759      0.000      22.526      25.065\n",
       "==============================================================================\n",
       "Omnibus:                      938.491   Durbin-Watson:                   1.929\n",
       "Prob(Omnibus):                  0.000   Jarque-Bera (JB):            12457.923\n",
       "Skew:                           2.289   Prob(JB):                         0.00\n",
       "Kurtosis:                      15.426   Cond. No.                         371.\n",
       "==============================================================================\n",
       "\n",
       "Warnings:\n",
       "[1] Standard Errors assume that the covariance matrix of the errors is correctly specified.\n",
       "\"\"\""
      ]
     },
     "execution_count": 137,
     "metadata": {},
     "output_type": "execute_result"
    }
   ],
   "source": [
    "#Contrustion Mobility vs EMP\n",
    "model_mob = sm.OLS(y_const,x_const).fit()\n",
    "model_mob.summary()"
   ]
  },
  {
   "cell_type": "code",
   "execution_count": 135,
   "metadata": {},
   "outputs": [
    {
     "data": {
      "text/html": [
       "<table class=\"simpletable\">\n",
       "<caption>OLS Regression Results</caption>\n",
       "<tr>\n",
       "  <th>Dep. Variable:</th>            <td>y</td>        <th>  R-squared:         </th> <td>   0.005</td> \n",
       "</tr>\n",
       "<tr>\n",
       "  <th>Model:</th>                   <td>OLS</td>       <th>  Adj. R-squared:    </th> <td>   0.004</td> \n",
       "</tr>\n",
       "<tr>\n",
       "  <th>Method:</th>             <td>Least Squares</td>  <th>  F-statistic:       </th> <td>   4.177</td> \n",
       "</tr>\n",
       "<tr>\n",
       "  <th>Date:</th>             <td>Fri, 25 Jan 2019</td> <th>  Prob (F-statistic):</th>  <td>0.0413</td>  \n",
       "</tr>\n",
       "<tr>\n",
       "  <th>Time:</th>                 <td>15:31:35</td>     <th>  Log-Likelihood:    </th> <td> -7650.9</td> \n",
       "</tr>\n",
       "<tr>\n",
       "  <th>No. Observations:</th>      <td>   795</td>      <th>  AIC:               </th> <td>1.531e+04</td>\n",
       "</tr>\n",
       "<tr>\n",
       "  <th>Df Residuals:</th>          <td>   793</td>      <th>  BIC:               </th> <td>1.532e+04</td>\n",
       "</tr>\n",
       "<tr>\n",
       "  <th>Df Model:</th>              <td>     1</td>      <th>                     </th>     <td> </td>    \n",
       "</tr>\n",
       "<tr>\n",
       "  <th>Covariance Type:</th>      <td>nonrobust</td>    <th>                     </th>     <td> </td>    \n",
       "</tr>\n",
       "</table>\n",
       "<table class=\"simpletable\">\n",
       "<tr>\n",
       "    <td></td>       <th>coef</th>     <th>std err</th>      <th>t</th>      <th>P>|t|</th>  <th>[0.025</th>    <th>0.975]</th>  \n",
       "</tr>\n",
       "<tr>\n",
       "  <th>const</th> <td> 3968.0999</td> <td>  162.803</td> <td>   24.374</td> <td> 0.000</td> <td> 3648.523</td> <td> 4287.676</td>\n",
       "</tr>\n",
       "<tr>\n",
       "  <th>x1</th>    <td>    4.1033</td> <td>    2.008</td> <td>    2.044</td> <td> 0.041</td> <td>    0.162</td> <td>    8.044</td>\n",
       "</tr>\n",
       "</table>\n",
       "<table class=\"simpletable\">\n",
       "<tr>\n",
       "  <th>Omnibus:</th>       <td>536.140</td> <th>  Durbin-Watson:     </th> <td>   2.005</td>\n",
       "</tr>\n",
       "<tr>\n",
       "  <th>Prob(Omnibus):</th> <td> 0.000</td>  <th>  Jarque-Bera (JB):  </th> <td>6541.893</td>\n",
       "</tr>\n",
       "<tr>\n",
       "  <th>Skew:</th>          <td> 2.955</td>  <th>  Prob(JB):          </th> <td>    0.00</td>\n",
       "</tr>\n",
       "<tr>\n",
       "  <th>Kurtosis:</th>      <td>15.750</td>  <th>  Cond. No.          </th> <td>    102.</td>\n",
       "</tr>\n",
       "</table><br/><br/>Warnings:<br/>[1] Standard Errors assume that the covariance matrix of the errors is correctly specified."
      ],
      "text/plain": [
       "<class 'statsmodels.iolib.summary.Summary'>\n",
       "\"\"\"\n",
       "                            OLS Regression Results                            \n",
       "==============================================================================\n",
       "Dep. Variable:                      y   R-squared:                       0.005\n",
       "Model:                            OLS   Adj. R-squared:                  0.004\n",
       "Method:                 Least Squares   F-statistic:                     4.177\n",
       "Date:                Fri, 25 Jan 2019   Prob (F-statistic):             0.0413\n",
       "Time:                        15:31:35   Log-Likelihood:                -7650.9\n",
       "No. Observations:                 795   AIC:                         1.531e+04\n",
       "Df Residuals:                     793   BIC:                         1.532e+04\n",
       "Df Model:                           1                                         \n",
       "Covariance Type:            nonrobust                                         \n",
       "==============================================================================\n",
       "                 coef    std err          t      P>|t|      [0.025      0.975]\n",
       "------------------------------------------------------------------------------\n",
       "const       3968.0999    162.803     24.374      0.000    3648.523    4287.676\n",
       "x1             4.1033      2.008      2.044      0.041       0.162       8.044\n",
       "==============================================================================\n",
       "Omnibus:                      536.140   Durbin-Watson:                   2.005\n",
       "Prob(Omnibus):                  0.000   Jarque-Bera (JB):             6541.893\n",
       "Skew:                           2.955   Prob(JB):                         0.00\n",
       "Kurtosis:                      15.750   Cond. No.                         102.\n",
       "==============================================================================\n",
       "\n",
       "Warnings:\n",
       "[1] Standard Errors assume that the covariance matrix of the errors is correctly specified.\n",
       "\"\"\""
      ]
     },
     "execution_count": 135,
     "metadata": {},
     "output_type": "execute_result"
    }
   ],
   "source": [
    "#Education Mobility vs EMP\n",
    "model_mob = sm.OLS(y_edu,x_edu).fit()\n",
    "model_mob.summary()"
   ]
  },
  {
   "cell_type": "markdown",
   "metadata": {},
   "source": [
    "We see that both industrys have statistically significant correlations between Mobility sales and employee numbers (as EMP increases so does Mobility sales)\n",
    "however it should be noted that the P value for the correlation in Education was 0.041 compared to 0.000 for Construction. Also it should be noted that \n",
    "the corr coef is much lower in Education than Construction (4.10 vs 23.80), indicating that the EMP-Mobility relationship or effect is weaker in the Education Industry"
   ]
  },
  {
   "cell_type": "code",
   "execution_count": 141,
   "metadata": {},
   "outputs": [],
   "source": [
    "#Repeat Construction and Education - EMP vs Internet\n",
    "x_const = sm.add_constant(const_df['EMP'].values)\n",
    "y_const_int = const_df['INTERNET'].values\n",
    "\n",
    "x_edu = sm.add_constant(edu_df['EMP'].values)\n",
    "y_edu_int = edu_df['INTERNET'].values"
   ]
  },
  {
   "cell_type": "code",
   "execution_count": 142,
   "metadata": {},
   "outputs": [
    {
     "data": {
      "text/html": [
       "<table class=\"simpletable\">\n",
       "<caption>OLS Regression Results</caption>\n",
       "<tr>\n",
       "  <th>Dep. Variable:</th>            <td>y</td>        <th>  R-squared:         </th> <td>   0.015</td> \n",
       "</tr>\n",
       "<tr>\n",
       "  <th>Model:</th>                   <td>OLS</td>       <th>  Adj. R-squared:    </th> <td>   0.014</td> \n",
       "</tr>\n",
       "<tr>\n",
       "  <th>Method:</th>             <td>Least Squares</td>  <th>  F-statistic:       </th> <td>   25.14</td> \n",
       "</tr>\n",
       "<tr>\n",
       "  <th>Date:</th>             <td>Fri, 25 Jan 2019</td> <th>  Prob (F-statistic):</th> <td>5.90e-07</td> \n",
       "</tr>\n",
       "<tr>\n",
       "  <th>Time:</th>                 <td>15:55:36</td>     <th>  Log-Likelihood:    </th> <td> -16411.</td> \n",
       "</tr>\n",
       "<tr>\n",
       "  <th>No. Observations:</th>      <td>  1705</td>      <th>  AIC:               </th> <td>3.283e+04</td>\n",
       "</tr>\n",
       "<tr>\n",
       "  <th>Df Residuals:</th>          <td>  1703</td>      <th>  BIC:               </th> <td>3.284e+04</td>\n",
       "</tr>\n",
       "<tr>\n",
       "  <th>Df Model:</th>              <td>     1</td>      <th>                     </th>     <td> </td>    \n",
       "</tr>\n",
       "<tr>\n",
       "  <th>Covariance Type:</th>      <td>nonrobust</td>    <th>                     </th>     <td> </td>    \n",
       "</tr>\n",
       "</table>\n",
       "<table class=\"simpletable\">\n",
       "<tr>\n",
       "    <td></td>       <th>coef</th>     <th>std err</th>      <th>t</th>      <th>P>|t|</th>  <th>[0.025</th>    <th>0.975]</th>  \n",
       "</tr>\n",
       "<tr>\n",
       "  <th>const</th> <td> 4156.7787</td> <td>  106.877</td> <td>   38.893</td> <td> 0.000</td> <td> 3947.154</td> <td> 4366.404</td>\n",
       "</tr>\n",
       "<tr>\n",
       "  <th>x1</th>    <td>    1.7397</td> <td>    0.347</td> <td>    5.014</td> <td> 0.000</td> <td>    1.059</td> <td>    2.420</td>\n",
       "</tr>\n",
       "</table>\n",
       "<table class=\"simpletable\">\n",
       "<tr>\n",
       "  <th>Omnibus:</th>       <td>209.184</td> <th>  Durbin-Watson:     </th> <td>   1.962</td>\n",
       "</tr>\n",
       "<tr>\n",
       "  <th>Prob(Omnibus):</th> <td> 0.000</td>  <th>  Jarque-Bera (JB):  </th> <td> 293.128</td>\n",
       "</tr>\n",
       "<tr>\n",
       "  <th>Skew:</th>          <td> 1.014</td>  <th>  Prob(JB):          </th> <td>2.23e-64</td>\n",
       "</tr>\n",
       "<tr>\n",
       "  <th>Kurtosis:</th>      <td> 2.896</td>  <th>  Cond. No.          </th> <td>    371.</td>\n",
       "</tr>\n",
       "</table><br/><br/>Warnings:<br/>[1] Standard Errors assume that the covariance matrix of the errors is correctly specified."
      ],
      "text/plain": [
       "<class 'statsmodels.iolib.summary.Summary'>\n",
       "\"\"\"\n",
       "                            OLS Regression Results                            \n",
       "==============================================================================\n",
       "Dep. Variable:                      y   R-squared:                       0.015\n",
       "Model:                            OLS   Adj. R-squared:                  0.014\n",
       "Method:                 Least Squares   F-statistic:                     25.14\n",
       "Date:                Fri, 25 Jan 2019   Prob (F-statistic):           5.90e-07\n",
       "Time:                        15:55:36   Log-Likelihood:                -16411.\n",
       "No. Observations:                1705   AIC:                         3.283e+04\n",
       "Df Residuals:                    1703   BIC:                         3.284e+04\n",
       "Df Model:                           1                                         \n",
       "Covariance Type:            nonrobust                                         \n",
       "==============================================================================\n",
       "                 coef    std err          t      P>|t|      [0.025      0.975]\n",
       "------------------------------------------------------------------------------\n",
       "const       4156.7787    106.877     38.893      0.000    3947.154    4366.404\n",
       "x1             1.7397      0.347      5.014      0.000       1.059       2.420\n",
       "==============================================================================\n",
       "Omnibus:                      209.184   Durbin-Watson:                   1.962\n",
       "Prob(Omnibus):                  0.000   Jarque-Bera (JB):              293.128\n",
       "Skew:                           1.014   Prob(JB):                     2.23e-64\n",
       "Kurtosis:                       2.896   Cond. No.                         371.\n",
       "==============================================================================\n",
       "\n",
       "Warnings:\n",
       "[1] Standard Errors assume that the covariance matrix of the errors is correctly specified.\n",
       "\"\"\""
      ]
     },
     "execution_count": 142,
     "metadata": {},
     "output_type": "execute_result"
    }
   ],
   "source": [
    "#Construction Internet vs EMP\n",
    "model_mob = sm.OLS(y_const_int,x_const).fit()\n",
    "model_mob.summary()"
   ]
  },
  {
   "cell_type": "code",
   "execution_count": 143,
   "metadata": {},
   "outputs": [
    {
     "data": {
      "text/html": [
       "<table class=\"simpletable\">\n",
       "<caption>OLS Regression Results</caption>\n",
       "<tr>\n",
       "  <th>Dep. Variable:</th>            <td>y</td>        <th>  R-squared:         </th> <td>   0.067</td> \n",
       "</tr>\n",
       "<tr>\n",
       "  <th>Model:</th>                   <td>OLS</td>       <th>  Adj. R-squared:    </th> <td>   0.066</td> \n",
       "</tr>\n",
       "<tr>\n",
       "  <th>Method:</th>             <td>Least Squares</td>  <th>  F-statistic:       </th> <td>   57.29</td> \n",
       "</tr>\n",
       "<tr>\n",
       "  <th>Date:</th>             <td>Fri, 25 Jan 2019</td> <th>  Prob (F-statistic):</th> <td>1.04e-13</td> \n",
       "</tr>\n",
       "<tr>\n",
       "  <th>Time:</th>                 <td>15:55:42</td>     <th>  Log-Likelihood:    </th> <td> -7487.3</td> \n",
       "</tr>\n",
       "<tr>\n",
       "  <th>No. Observations:</th>      <td>   795</td>      <th>  AIC:               </th> <td>1.498e+04</td>\n",
       "</tr>\n",
       "<tr>\n",
       "  <th>Df Residuals:</th>          <td>   793</td>      <th>  BIC:               </th> <td>1.499e+04</td>\n",
       "</tr>\n",
       "<tr>\n",
       "  <th>Df Model:</th>              <td>     1</td>      <th>                     </th>     <td> </td>    \n",
       "</tr>\n",
       "<tr>\n",
       "  <th>Covariance Type:</th>      <td>nonrobust</td>    <th>                     </th>     <td> </td>    \n",
       "</tr>\n",
       "</table>\n",
       "<table class=\"simpletable\">\n",
       "<tr>\n",
       "    <td></td>       <th>coef</th>     <th>std err</th>      <th>t</th>      <th>P>|t|</th>  <th>[0.025</th>    <th>0.975]</th>  \n",
       "</tr>\n",
       "<tr>\n",
       "  <th>const</th> <td> 2965.2403</td> <td>  132.518</td> <td>   22.376</td> <td> 0.000</td> <td> 2705.113</td> <td> 3225.368</td>\n",
       "</tr>\n",
       "<tr>\n",
       "  <th>x1</th>    <td>   12.3696</td> <td>    1.634</td> <td>    7.569</td> <td> 0.000</td> <td>    9.162</td> <td>   15.577</td>\n",
       "</tr>\n",
       "</table>\n",
       "<table class=\"simpletable\">\n",
       "<tr>\n",
       "  <th>Omnibus:</th>       <td>163.158</td> <th>  Durbin-Watson:     </th> <td>   2.002</td>\n",
       "</tr>\n",
       "<tr>\n",
       "  <th>Prob(Omnibus):</th> <td> 0.000</td>  <th>  Jarque-Bera (JB):  </th> <td> 270.948</td>\n",
       "</tr>\n",
       "<tr>\n",
       "  <th>Skew:</th>          <td> 1.324</td>  <th>  Prob(JB):          </th> <td>1.46e-59</td>\n",
       "</tr>\n",
       "<tr>\n",
       "  <th>Kurtosis:</th>      <td> 4.081</td>  <th>  Cond. No.          </th> <td>    102.</td>\n",
       "</tr>\n",
       "</table><br/><br/>Warnings:<br/>[1] Standard Errors assume that the covariance matrix of the errors is correctly specified."
      ],
      "text/plain": [
       "<class 'statsmodels.iolib.summary.Summary'>\n",
       "\"\"\"\n",
       "                            OLS Regression Results                            \n",
       "==============================================================================\n",
       "Dep. Variable:                      y   R-squared:                       0.067\n",
       "Model:                            OLS   Adj. R-squared:                  0.066\n",
       "Method:                 Least Squares   F-statistic:                     57.29\n",
       "Date:                Fri, 25 Jan 2019   Prob (F-statistic):           1.04e-13\n",
       "Time:                        15:55:42   Log-Likelihood:                -7487.3\n",
       "No. Observations:                 795   AIC:                         1.498e+04\n",
       "Df Residuals:                     793   BIC:                         1.499e+04\n",
       "Df Model:                           1                                         \n",
       "Covariance Type:            nonrobust                                         \n",
       "==============================================================================\n",
       "                 coef    std err          t      P>|t|      [0.025      0.975]\n",
       "------------------------------------------------------------------------------\n",
       "const       2965.2403    132.518     22.376      0.000    2705.113    3225.368\n",
       "x1            12.3696      1.634      7.569      0.000       9.162      15.577\n",
       "==============================================================================\n",
       "Omnibus:                      163.158   Durbin-Watson:                   2.002\n",
       "Prob(Omnibus):                  0.000   Jarque-Bera (JB):              270.948\n",
       "Skew:                           1.324   Prob(JB):                     1.46e-59\n",
       "Kurtosis:                       4.081   Cond. No.                         102.\n",
       "==============================================================================\n",
       "\n",
       "Warnings:\n",
       "[1] Standard Errors assume that the covariance matrix of the errors is correctly specified.\n",
       "\"\"\""
      ]
     },
     "execution_count": 143,
     "metadata": {},
     "output_type": "execute_result"
    }
   ],
   "source": [
    "#Education Internet vs EMP\n",
    "model_mob = sm.OLS(y_edu_int,x_edu).fit()\n",
    "model_mob.summary()"
   ]
  },
  {
   "cell_type": "code",
   "execution_count": null,
   "metadata": {},
   "outputs": [],
   "source": [
    "#4We see inernet sales do better for school employees and mobility sales do better with construction employees."
   ]
  },
  {
   "cell_type": "code",
   "execution_count": null,
   "metadata": {},
   "outputs": [],
   "source": [
    "#to predict using more than one var\n",
    "#x_both = sm.add_constant(df[['MOBILITY','INTERNET']].values)\n",
    "#model = sm.OLS(y_int, x_both).fit()\n",
    "#model.summary()"
   ]
  }
 ],
 "metadata": {
  "kernelspec": {
   "display_name": "Python 3",
   "language": "python",
   "name": "python3"
  },
  "language_info": {
   "codemirror_mode": {
    "name": "ipython",
    "version": 3
   },
   "file_extension": ".py",
   "mimetype": "text/x-python",
   "name": "python",
   "nbconvert_exporter": "python",
   "pygments_lexer": "ipython3",
   "version": "3.7.1"
  }
 },
 "nbformat": 4,
 "nbformat_minor": 2
}
