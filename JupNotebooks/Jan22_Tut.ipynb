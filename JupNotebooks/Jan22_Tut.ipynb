{
 "cells": [
  {
   "cell_type": "code",
   "execution_count": 1,
   "metadata": {},
   "outputs": [],
   "source": [
    "import numpy as np\n",
    "import pandas as pd\n",
    "import os"
   ]
  },
  {
   "cell_type": "code",
   "execution_count": 2,
   "metadata": {},
   "outputs": [
    {
     "data": {
      "text/plain": [
       "'C:\\\\Users\\\\Ali\\\\Desktop\\\\BrainStation'"
      ]
     },
     "execution_count": 2,
     "metadata": {},
     "output_type": "execute_result"
    }
   ],
   "source": [
    "#os and bash for (os.getcwd(), os.listdir())\n",
    "os.getcwd()"
   ]
  },
  {
   "cell_type": "code",
   "execution_count": null,
   "metadata": {},
   "outputs": [],
   "source": [
    "os.listdir('data/')"
   ]
  },
  {
   "cell_type": "code",
   "execution_count": 5,
   "metadata": {},
   "outputs": [],
   "source": [
    "#load data\n",
    "df = pd.read_csv('customer_info.csv')"
   ]
  },
  {
   "cell_type": "code",
   "execution_count": null,
   "metadata": {},
   "outputs": [],
   "source": [
    "#df information\n",
    "df.info()"
   ]
  },
  {
   "cell_type": "code",
   "execution_count": 7,
   "metadata": {},
   "outputs": [
    {
     "data": {
      "text/plain": [
       "CUSTOMER_ID        0\n",
       "INDUSTRY         109\n",
       "EMP             1243\n",
       "ANNUAL_SALES     522\n",
       "PROVINCE           0\n",
       "MOBILITY           0\n",
       "INTERNET           0\n",
       "dtype: int64"
      ]
     },
     "execution_count": 7,
     "metadata": {},
     "output_type": "execute_result"
    }
   ],
   "source": [
    "#df.isna().sum()\n",
    "df.isna().sum()"
   ]
  },
  {
   "cell_type": "code",
   "execution_count": 9,
   "metadata": {},
   "outputs": [
    {
     "name": "stdout",
     "output_type": "stream",
     "text": [
      "INDUSTRY\n",
      "\n",
      "['Finance and Insurance' 'Construction' 'Education' 'Food Services'\n",
      " 'Agriculture' 'Healthcare' nan]\n",
      "\n",
      "\n",
      "PROVINCE\n",
      "\n",
      "['AB' 'BC']\n",
      "\n",
      "\n"
     ]
    }
   ],
   "source": [
    "#df.unique()\n",
    "cats = ['INDUSTRY','PROVINCE']\n",
    "\n",
    "#see all unique objects in your df columns/series\n",
    "\n",
    "for cat in cats:\n",
    "    print(cat+'\\n')\n",
    "    print(df[cat].unique())\n",
    "    print('\\n')\n"
   ]
  },
  {
   "cell_type": "code",
   "execution_count": 26,
   "metadata": {},
   "outputs": [
    {
     "data": {
      "text/html": [
       "<div>\n",
       "<style scoped>\n",
       "    .dataframe tbody tr th:only-of-type {\n",
       "        vertical-align: middle;\n",
       "    }\n",
       "\n",
       "    .dataframe tbody tr th {\n",
       "        vertical-align: top;\n",
       "    }\n",
       "\n",
       "    .dataframe thead th {\n",
       "        text-align: right;\n",
       "    }\n",
       "</style>\n",
       "<table border=\"1\" class=\"dataframe\">\n",
       "  <thead>\n",
       "    <tr style=\"text-align: right;\">\n",
       "      <th></th>\n",
       "      <th>CUSTOMER_ID</th>\n",
       "      <th>EMP</th>\n",
       "      <th>ANNUAL_SALES</th>\n",
       "      <th>MOBILITY</th>\n",
       "      <th>INTERNET</th>\n",
       "    </tr>\n",
       "    <tr>\n",
       "      <th>PROVINCE</th>\n",
       "      <th></th>\n",
       "      <th></th>\n",
       "      <th></th>\n",
       "      <th></th>\n",
       "      <th></th>\n",
       "    </tr>\n",
       "  </thead>\n",
       "  <tbody>\n",
       "    <tr>\n",
       "      <th>AB</th>\n",
       "      <td>125024.400712</td>\n",
       "      <td>84.61575</td>\n",
       "      <td>3.836653e+06</td>\n",
       "      <td>4901.776392</td>\n",
       "      <td>3460.105561</td>\n",
       "    </tr>\n",
       "    <tr>\n",
       "      <th>BC</th>\n",
       "      <td>124974.704288</td>\n",
       "      <td>81.37598</td>\n",
       "      <td>4.061574e+06</td>\n",
       "      <td>5423.990491</td>\n",
       "      <td>3567.916566</td>\n",
       "    </tr>\n",
       "  </tbody>\n",
       "</table>\n",
       "</div>"
      ],
      "text/plain": [
       "            CUSTOMER_ID       EMP  ANNUAL_SALES     MOBILITY     INTERNET\n",
       "PROVINCE                                                                 \n",
       "AB        125024.400712  84.61575  3.836653e+06  4901.776392  3460.105561\n",
       "BC        124974.704288  81.37598  4.061574e+06  5423.990491  3567.916566"
      ]
     },
     "execution_count": 26,
     "metadata": {},
     "output_type": "execute_result"
    }
   ],
   "source": [
    "#group by\n",
    "gdf = df.groupby('PROVINCE').mean()\n",
    "gdf.head()"
   ]
  },
  {
   "cell_type": "code",
   "execution_count": 15,
   "metadata": {},
   "outputs": [
    {
     "data": {
      "text/html": [
       "<div>\n",
       "<style scoped>\n",
       "    .dataframe tbody tr th:only-of-type {\n",
       "        vertical-align: middle;\n",
       "    }\n",
       "\n",
       "    .dataframe tbody tr th {\n",
       "        vertical-align: top;\n",
       "    }\n",
       "\n",
       "    .dataframe thead th {\n",
       "        text-align: right;\n",
       "    }\n",
       "</style>\n",
       "<table border=\"1\" class=\"dataframe\">\n",
       "  <thead>\n",
       "    <tr style=\"text-align: right;\">\n",
       "      <th></th>\n",
       "      <th>CUSTOMER_ID</th>\n",
       "      <th>EMP</th>\n",
       "      <th>ANNUAL_SALES</th>\n",
       "      <th>MOBILITY</th>\n",
       "      <th>INTERNET</th>\n",
       "    </tr>\n",
       "    <tr>\n",
       "      <th>PROVINCE</th>\n",
       "      <th></th>\n",
       "      <th></th>\n",
       "      <th></th>\n",
       "      <th></th>\n",
       "      <th></th>\n",
       "    </tr>\n",
       "  </thead>\n",
       "  <tbody>\n",
       "    <tr>\n",
       "      <th>AB</th>\n",
       "      <td>632123370</td>\n",
       "      <td>373917.0</td>\n",
       "      <td>1.845047e+10</td>\n",
       "      <td>2.478338e+07</td>\n",
       "      <td>1.749429e+07</td>\n",
       "    </tr>\n",
       "    <tr>\n",
       "      <th>BC</th>\n",
       "      <td>617874938</td>\n",
       "      <td>353009.0</td>\n",
       "      <td>1.896349e+10</td>\n",
       "      <td>2.681621e+07</td>\n",
       "      <td>1.763978e+07</td>\n",
       "    </tr>\n",
       "  </tbody>\n",
       "</table>\n",
       "</div>"
      ],
      "text/plain": [
       "          CUSTOMER_ID       EMP  ANNUAL_SALES      MOBILITY      INTERNET\n",
       "PROVINCE                                                                 \n",
       "AB          632123370  373917.0  1.845047e+10  2.478338e+07  1.749429e+07\n",
       "BC          617874938  353009.0  1.896349e+10  2.681621e+07  1.763978e+07"
      ]
     },
     "execution_count": 15,
     "metadata": {},
     "output_type": "execute_result"
    }
   ],
   "source": [
    "gdf = df.groupby('PROVINCE').sum()\n",
    "gdf.head()"
   ]
  },
  {
   "cell_type": "code",
   "execution_count": 20,
   "metadata": {},
   "outputs": [
    {
     "data": {
      "text/html": [
       "<div>\n",
       "<style scoped>\n",
       "    .dataframe tbody tr th:only-of-type {\n",
       "        vertical-align: middle;\n",
       "    }\n",
       "\n",
       "    .dataframe tbody tr th {\n",
       "        vertical-align: top;\n",
       "    }\n",
       "\n",
       "    .dataframe thead tr th {\n",
       "        text-align: left;\n",
       "    }\n",
       "\n",
       "    .dataframe thead tr:last-of-type th {\n",
       "        text-align: right;\n",
       "    }\n",
       "</style>\n",
       "<table border=\"1\" class=\"dataframe\">\n",
       "  <thead>\n",
       "    <tr>\n",
       "      <th></th>\n",
       "      <th colspan=\"3\" halign=\"left\">CUSTOMER_ID</th>\n",
       "      <th colspan=\"3\" halign=\"left\">EMP</th>\n",
       "      <th colspan=\"3\" halign=\"left\">ANNUAL_SALES</th>\n",
       "      <th colspan=\"3\" halign=\"left\">MOBILITY</th>\n",
       "      <th colspan=\"3\" halign=\"left\">INTERNET</th>\n",
       "    </tr>\n",
       "    <tr>\n",
       "      <th></th>\n",
       "      <th>mean</th>\n",
       "      <th>sum</th>\n",
       "      <th>std</th>\n",
       "      <th>mean</th>\n",
       "      <th>sum</th>\n",
       "      <th>std</th>\n",
       "      <th>mean</th>\n",
       "      <th>sum</th>\n",
       "      <th>std</th>\n",
       "      <th>mean</th>\n",
       "      <th>sum</th>\n",
       "      <th>std</th>\n",
       "      <th>mean</th>\n",
       "      <th>sum</th>\n",
       "      <th>std</th>\n",
       "    </tr>\n",
       "    <tr>\n",
       "      <th>PROVINCE</th>\n",
       "      <th></th>\n",
       "      <th></th>\n",
       "      <th></th>\n",
       "      <th></th>\n",
       "      <th></th>\n",
       "      <th></th>\n",
       "      <th></th>\n",
       "      <th></th>\n",
       "      <th></th>\n",
       "      <th></th>\n",
       "      <th></th>\n",
       "      <th></th>\n",
       "      <th></th>\n",
       "      <th></th>\n",
       "      <th></th>\n",
       "    </tr>\n",
       "  </thead>\n",
       "  <tbody>\n",
       "    <tr>\n",
       "      <th>AB</th>\n",
       "      <td>125024.400712</td>\n",
       "      <td>632123370</td>\n",
       "      <td>2888.679699</td>\n",
       "      <td>84.61575</td>\n",
       "      <td>373917.0</td>\n",
       "      <td>166.328775</td>\n",
       "      <td>3.836653e+06</td>\n",
       "      <td>1.845047e+10</td>\n",
       "      <td>7.173246e+06</td>\n",
       "      <td>4901.776392</td>\n",
       "      <td>2.478338e+07</td>\n",
       "      <td>5914.796081</td>\n",
       "      <td>3460.105561</td>\n",
       "      <td>1.749429e+07</td>\n",
       "      <td>3184.659075</td>\n",
       "    </tr>\n",
       "    <tr>\n",
       "      <th>BC</th>\n",
       "      <td>124974.704288</td>\n",
       "      <td>617874938</td>\n",
       "      <td>2885.921950</td>\n",
       "      <td>81.37598</td>\n",
       "      <td>353009.0</td>\n",
       "      <td>133.090516</td>\n",
       "      <td>4.061574e+06</td>\n",
       "      <td>1.896349e+10</td>\n",
       "      <td>6.679594e+06</td>\n",
       "      <td>5423.990491</td>\n",
       "      <td>2.681621e+07</td>\n",
       "      <td>6707.950772</td>\n",
       "      <td>3567.916566</td>\n",
       "      <td>1.763978e+07</td>\n",
       "      <td>3256.399767</td>\n",
       "    </tr>\n",
       "  </tbody>\n",
       "</table>\n",
       "</div>"
      ],
      "text/plain": [
       "            CUSTOMER_ID                               EMP            \\\n",
       "                   mean        sum          std      mean       sum   \n",
       "PROVINCE                                                              \n",
       "AB        125024.400712  632123370  2888.679699  84.61575  373917.0   \n",
       "BC        124974.704288  617874938  2885.921950  81.37598  353009.0   \n",
       "\n",
       "                      ANNUAL_SALES                                 MOBILITY  \\\n",
       "                 std          mean           sum           std         mean   \n",
       "PROVINCE                                                                      \n",
       "AB        166.328775  3.836653e+06  1.845047e+10  7.173246e+06  4901.776392   \n",
       "BC        133.090516  4.061574e+06  1.896349e+10  6.679594e+06  5423.990491   \n",
       "\n",
       "                                        INTERNET                             \n",
       "                   sum          std         mean           sum          std  \n",
       "PROVINCE                                                                     \n",
       "AB        2.478338e+07  5914.796081  3460.105561  1.749429e+07  3184.659075  \n",
       "BC        2.681621e+07  6707.950772  3567.916566  1.763978e+07  3256.399767  "
      ]
     },
     "execution_count": 20,
     "metadata": {},
     "output_type": "execute_result"
    }
   ],
   "source": [
    "gdf = df.groupby('PROVINCE').agg(['mean','sum','std'])\n",
    "gdf.head()"
   ]
  },
  {
   "cell_type": "code",
   "execution_count": 27,
   "metadata": {},
   "outputs": [
    {
     "data": {
      "text/html": [
       "<div>\n",
       "<style scoped>\n",
       "    .dataframe tbody tr th:only-of-type {\n",
       "        vertical-align: middle;\n",
       "    }\n",
       "\n",
       "    .dataframe tbody tr th {\n",
       "        vertical-align: top;\n",
       "    }\n",
       "\n",
       "    .dataframe thead th {\n",
       "        text-align: right;\n",
       "    }\n",
       "</style>\n",
       "<table border=\"1\" class=\"dataframe\">\n",
       "  <thead>\n",
       "    <tr style=\"text-align: right;\">\n",
       "      <th></th>\n",
       "      <th>ANNUAL_SALES</th>\n",
       "      <th>MOBILITY</th>\n",
       "      <th>INTERNET</th>\n",
       "    </tr>\n",
       "    <tr>\n",
       "      <th>PROVINCE</th>\n",
       "      <th></th>\n",
       "      <th></th>\n",
       "      <th></th>\n",
       "    </tr>\n",
       "  </thead>\n",
       "  <tbody>\n",
       "    <tr>\n",
       "      <th>AB</th>\n",
       "      <td>3.836653e+06</td>\n",
       "      <td>4901.776392</td>\n",
       "      <td>3460.105561</td>\n",
       "    </tr>\n",
       "    <tr>\n",
       "      <th>BC</th>\n",
       "      <td>4.061574e+06</td>\n",
       "      <td>5423.990491</td>\n",
       "      <td>3567.916566</td>\n",
       "    </tr>\n",
       "  </tbody>\n",
       "</table>\n",
       "</div>"
      ],
      "text/plain": [
       "          ANNUAL_SALES     MOBILITY     INTERNET\n",
       "PROVINCE                                        \n",
       "AB        3.836653e+06  4901.776392  3460.105561\n",
       "BC        4.061574e+06  5423.990491  3567.916566"
      ]
     },
     "execution_count": 27,
     "metadata": {},
     "output_type": "execute_result"
    }
   ],
   "source": [
    "#drop a column - returns the dataframe without the indicated columns\n",
    "gdf.drop(columns = ['CUSTOMER_ID','EMP'], inplace=True)  #inplace repbaces data in the gdf object\n",
    "gdf.head()\n",
    "\n"
   ]
  },
  {
   "cell_type": "code",
   "execution_count": null,
   "metadata": {},
   "outputs": [],
   "source": [
    "#to get info on a function, put cursor inside parentheses and press shift+tab. NOTE: the object on-which this function is to be run MUST ALREADY EXIST\n",
    "a.drop() #you wont get the shift+tab to work here since 'a' has not been defined\n",
    "\n",
    "df.drop() #this will work since df is defined."
   ]
  },
  {
   "cell_type": "code",
   "execution_count": null,
   "metadata": {},
   "outputs": [],
   "source": []
  },
  {
   "cell_type": "code",
   "execution_count": null,
   "metadata": {},
   "outputs": [],
   "source": []
  }
 ],
 "metadata": {
  "kernelspec": {
   "display_name": "Python 3",
   "language": "python",
   "name": "python3"
  },
  "language_info": {
   "codemirror_mode": {
    "name": "ipython",
    "version": 3
   },
   "file_extension": ".py",
   "mimetype": "text/x-python",
   "name": "python",
   "nbconvert_exporter": "python",
   "pygments_lexer": "ipython3",
   "version": "3.7.1"
  }
 },
 "nbformat": 4,
 "nbformat_minor": 2
}
