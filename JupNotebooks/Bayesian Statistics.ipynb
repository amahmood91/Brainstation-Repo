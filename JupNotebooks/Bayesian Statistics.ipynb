{
 "cells": [
  {
   "cell_type": "markdown",
   "metadata": {},
   "source": [
    "### Introduction to Bayesian Statistics\n",
    "\n",
    "If you spend enough time in world of statistics you will eventually encounter discussions about 'Frequentists vs Bayesians'statistics.  Throughout the course, we have focused on frequentist statistics- how to carry out hypothesis testing, and calculate P-values. \n",
    "\n",
    "In frequentist statistics, we are saying that there is some ground truth in the thing that we are measuring, the mean, sd, or difference between treatments. As we increase our sample sizes we gain better estimates into the 'truth' using the techniques that we have covered.\n",
    "\n",
    "Bayesians have a different intepretation of probability. Where we update our expectations based on the data, and try to form the most reasonable expectation.\n",
    "\n",
    "The following cartoon is an example of frequentist statistics [taken to its extreme](https://xkcd.com/1132/).\n",
    "\n",
    "In general, the majority of people are likely Bayesian by default. If we flip a coin 10 times and get 8 heads, we don't conclude that the coin is biased (though a frequentist probably wouldn't either), we have a strong 'prior' that a random coin is not biased, therefore we were just lucky (or unlucky).\n",
    "\n",
    "A major difference is the presence of priors in Bayesian reasoning. In the cartoon, we have an incredibly strong prior that the sun has not exploded, so we reject the reasoning of the frequentist. In the event that the neutrino detecor was not hooked up to the die roll and it reported the sun had exploded, we would probably just conclude that the detector is broken, as opposed to concluding that the the sun exploded. \n",
    "\n",
    "### Bayes Theorem\n",
    "\n",
    "Let's take an example. We have a drug screening test for on duty police offficers that checks for a specific drug.\n",
    "We know that if an officer has been using the drug then 99% of the time the test will be positive. Similarly, if the officer has not been using the drug then 99% of the time the test will be negative. We know that 0.5% of the police force are using the drug.\n",
    "\n",
    "If an officer scores a positive on the test, what is the chance that the officer has actually been taking the drug?"
   ]
  },
  {
   "cell_type": "code",
   "execution_count": 1,
   "metadata": {},
   "outputs": [],
   "source": [
    "### Show of hands for 99%, 50-99%, 10-50%, less than 10%"
   ]
  },
  {
   "cell_type": "markdown",
   "metadata": {},
   "source": [
    "Bayes rule is notoriously counter-intuitive when posed with problems like this.\n",
    "\n",
    "Let's work through the formula:\n",
    "\n",
    "$$ P(A|B) = \\frac{P(B|A)P(A)}{P(B)} $$\n",
    "\n",
    "In this case, $P(A|B)$ denotes the probability of being a user (A), given a positive test (B).\n",
    "\n",
    "$P(A|B)$ is the probability of a positive test, given a that the subject is a user, $P(A)$ is the probability of being a user.\n",
    "\n",
    "$P(B)$ is the probability of a positive test. In our case, it is the probability of a user scoring a positive, multiplied by the probability of being a user, plus the probability of a positive test for a non-user, multiplied by the probability of not being a user.\n",
    "\n",
    "Let's do the math:"
   ]
  },
  {
   "cell_type": "code",
   "execution_count": 2,
   "metadata": {},
   "outputs": [],
   "source": [
    "puser = 0.005\n",
    "pnonuser = 1 - puser\n",
    "puserpos = 0.99\n",
    "pnonuserpos = 1 - 0.99\n",
    "\n",
    "prob = (puserpos * puser)/(puserpos*puser + pnonuserpos*pnonuser)\n",
    "#prob "
   ]
  },
  {
   "cell_type": "markdown",
   "metadata": {},
   "source": [
    "This is a problem! If we had simply done the test and told people that they were 99% liklely to have taken the drug, we would be completely wrong.\n",
    "\n",
    "What we have done, is used a prior (in this case the p(user)) to make sure that we are sensible about interpreting our test. We know that drug use is rare in our population, so the majority of positive tests come from false positives.\n",
    "\n",
    "Sensitivity and Specificity are the terms commonly used in medical diagnosis. In the above example our sensitivity is the probability that we detect a true drug user (0.99), and the specificity is the probability of correctly identifying a non-user (also 0.99 in our example, but not necessarily even). The  rarity of a disease will often cause false positives. You can imagine that even if we have a test for a disease which is 99% for both specificity and sensitivity if the disease is rare, the majority of positives will be errors.\n",
    "\n",
    "\n",
    "### Exercise\n",
    "\n",
    "When the details of the NSAs surveillance programs were leaked a few years back, the main criticisms came from civil  liberties issues- the government shouldn't be spying on citizens.\n",
    "\n",
    "Let's take a different approach and see if it would even work. What if we accepted the premise that the surveillance is necessary.\n",
    "\n",
    "Let's set the proportion of terrorists at 1/1000000 of the population, this is our prior. Whether or not this is reasonable, it seems to be roughly the correct size. This is often the strongest reasoning we will have to give for a prior!\n",
    "\n",
    "We have a team of NSA data scientists create a model on the data, which has a 95% chance of detecting a terrorist (sensitivity), and 0.2% chance of a false positive (indentifying someone as a terrorist when they are not). \n",
    "\n",
    "1. What is the probability that someone identified as a terrorist by the NSA is a real terrorist?\n",
    "2. Is this a useful model? How many false positives do we expect?\n",
    "3. What recommendations do you have for the modeller, should they focus on false positives, false negatives, or give up?"
   ]
  },
  {
   "cell_type": "markdown",
   "metadata": {},
   "source": [
    "### Naive Bayes Classification\n",
    "\n",
    "Naive Bayes is a set of algorithms for classifying data based on *features*. In the simplest case, given a set of data, we can decide which class it belongs to based on its attributes. You can imagine the model looking at mammals vs birds and finding that the $P(bird|wings)$ is high, with some $(mammal|wings)$ from bats. It will carry out the probability for each independant variable we give and then find the most likely class.\n",
    "\n",
    "The Naive Bayes classifier determines what *class* a given set of data belongs to, given the previous data that the model has been trained on.  Suppose we have many classes $C_1,C_2,\\ldots,C_n$, and we represent the set of data to be classified as $\\textbf{x} =  [x_1, x_2, \\cdots , x_k]$.  The probability that the given data $\\textbf{x}$ belongs to class $C_i$ is given by:\n",
    "\n",
    "$$ P(C_i\\,|\\,\\textbf{x}) = \\frac{P(C_i)P(\\textbf{x}\\,|\\,C_i)}{P(\\textbf{x})}$$\n",
    "\n",
    "We will carry out a few simple examples. Naive Bayes is often classified as a machine learning method, which we will discuss in a future leture. \n",
    "\n",
    "You can read the documentation here:\n",
    "http://scikit-learn.org/stable/modules/naive_bayes.html\n",
    "\n",
    "Let's use an example dataset, to cluster fruits versus vegetables:\n",
    "\n",
    "\n",
    "\n"
   ]
  },
  {
   "cell_type": "code",
   "execution_count": 3,
   "metadata": {},
   "outputs": [],
   "source": [
    "import pandas as pd\n",
    "import numpy as np\n",
    "#data:\n",
    "columns = ['Used in salads', 'Grows Underground', 'Served cooked', 'Needs Peeling', 'Fruit']\n",
    "\n",
    "apple = [0,0,0,0,1]\n",
    "tomato = [1,0,1,0,1]\n",
    "potato = [0,1,1,1,0]\n",
    "carrot = [1,1,0,1,0]\n",
    "banana = [0,0,0,1,1]\n",
    "turnip = [0,1,1,1,0]\n",
    "\n",
    "data = pd.DataFrame([apple, tomato, potato, carrot, banana, turnip], columns = columns)"
   ]
  },
  {
   "cell_type": "markdown",
   "metadata": {},
   "source": [
    "From here, we will use the classifier to figure out the probabilities - under the hood, here is effectively what is happening:"
   ]
  },
  {
   "cell_type": "code",
   "execution_count": 4,
   "metadata": {},
   "outputs": [
    {
     "name": "stdout",
     "output_type": "stream",
     "text": [
      "{0: array([1, 3, 2, 3]), 1: array([1, 0, 1, 1])}\n"
     ]
    }
   ],
   "source": [
    "x = data.iloc[:,:-1].values\n",
    "y = data.iloc[:,-1].values\n",
    "\n",
    "counts = {}\n",
    "for label in np.unique(y):\n",
    "    counts[label] = x[y == label].sum(axis = 0)\n",
    "print(counts)"
   ]
  },
  {
   "cell_type": "markdown",
   "metadata": {},
   "source": [
    "The classifier then compares the frequency of each feature of x to each label in y, and calculates a probability that a new item with that attribute belongs to the class.\n",
    "\n",
    "We use BernoulliNB here, as we have all 1/0 data. GaussianNB stores the mean and sd of each value for a continuous variable, and Mulitnomial allows multiple categorical values. When we see new data and we use the rule to classify it into the new bin:"
   ]
  },
  {
   "cell_type": "code",
   "execution_count": 5,
   "metadata": {},
   "outputs": [
    {
     "name": "stdout",
     "output_type": "stream",
     "text": [
      "[[0.25 0.75]]\n",
      "[1]\n"
     ]
    }
   ],
   "source": [
    "from sklearn.naive_bayes import GaussianNB, MultinomialNB, BernoulliNB\n",
    "\n",
    "nbmodel = BernoulliNB()\n",
    "nbmodel.fit(x,y)\n",
    "\n",
    "print(nbmodel.predict_proba(np.array([1,0,0,1]).reshape(1, -1))) #a pineapple, probability\n",
    "print(nbmodel.predict(np.array([1,0,0,1]).reshape(1, -1))) #just predict"
   ]
  },
  {
   "cell_type": "markdown",
   "metadata": {},
   "source": [
    "### Exercise\n",
    "\n",
    "Create and fit a Gaussian Naive Bayes for the following data. Leave the animal names out of the model matrix.\n",
    "\n",
    "| bird        | Animal  Name         | size(cm)  |  wings  | eggs | aquatic |\n",
    "| ------------- |:-------------:| -----:|\n",
    "| 0      | bat | 10 |1  | 0 | 0 |\n",
    "| 0      | rat | 10 |0  | 0 | 0 |\n",
    "| 0 | flying lizard |5  | 1 | 1 | 0|\n",
    "| 1 | penguin |20  | 1 | 1 | 1|\n",
    "| 1 | robin | 10 | 1| 1| 0|\n",
    "| 1 | pigeon | 15 | 1| 1| 0|\n",
    "| 1 | emu | 150 | 1| 1| 0|\n",
    "\n",
    "Predict some more animals:\n",
    "\n",
    "* Crocodile\n",
    "* Otter\n",
    "* Flying Squirrel\n",
    "* Dog\n",
    "\n"
   ]
  },
  {
   "cell_type": "markdown",
   "metadata": {},
   "source": [
    "### More Advanced Bayesian Statistics\n",
    "\n",
    "Once things become more complicated we have a range of options in Bayesian statistics. Most of the models we have used so far can occur in Bayesian versions.\n",
    "\n",
    "Using a Bayesian frameork, let's take a look at how we might determine if a coin was biased.\n",
    "\n",
    "We know that a coin is expected to be 50:50 heads to tails. It is likely that we have previously treated it as a random sample of a 1 or 0. Now we have seen the Bernoulli distribution, we can treat it as a Bernoulli sample:"
   ]
  },
  {
   "cell_type": "code",
   "execution_count": 6,
   "metadata": {},
   "outputs": [
    {
     "data": {
      "text/plain": [
       "array([0, 0, 1, 1, 1, 1, 0, 1, 1, 1])"
      ]
     },
     "execution_count": 6,
     "metadata": {},
     "output_type": "execute_result"
    }
   ],
   "source": [
    "from scipy import stats\n",
    "\n",
    "stats.bernoulli.rvs(0.5, size = 10) # "
   ]
  },
  {
   "cell_type": "markdown",
   "metadata": {},
   "source": [
    "Let's imagine I have a coin, and you have no prior about how it will behave. In this case, you have a uniform prior along the axis 0 to 1 for the proportion of coin tosses that will be heads.\n",
    "\n",
    "This is a way of figuring out what type of distribution our prior can be based on by using mathematics. However, this math is somewhat advanced for this bootcamp (and for a number of statisticians). For now, let's say that our sample is generated by a known distribution, we can find a distribution that we expect the results of our sampling to look like. When it gets more complicated we need to use a software package to handle the math. PyMC3 is what we would normally use for Bayesian inference when needed in Python. Stan is a nice R package with similar functionality.\n",
    "\n",
    "In the case of the Bernoulli Distribution, our 'conjugate' prior is the beta distribution, with it's two parameters as 1."
   ]
  },
  {
   "cell_type": "code",
   "execution_count": 7,
   "metadata": {},
   "outputs": [
    {
     "data": {
      "image/png": "[encoded data removed]",
      "text/plain": [
       "<matplotlib.figure.Figure at 0x1158bb3c8>"
      ]
     },
     "metadata": {},
     "output_type": "display_data"
    }
   ],
   "source": [
    "from matplotlib import pyplot as plt\n",
    "%matplotlib inline\n",
    "\n",
    "prior = stats.beta #prior distribution\n",
    "rangetoplot = np.linspace(0, 1, 100) #0 to 1\n",
    "plt.plot(prior.pdf(rangetoplot, 1, 1));"
   ]
  },
  {
   "cell_type": "markdown",
   "metadata": {},
   "source": [
    "Now we can update our prior, based on observed data. Again, let's worry less about the math and focus on the idea that we can update our prior probability into a posterior, by seeing the oberved values:"
   ]
  },
  {
   "cell_type": "code",
   "execution_count": 8,
   "metadata": {},
   "outputs": [
    {
     "name": "stdout",
     "output_type": "stream",
     "text": [
      "2\n"
     ]
    },
    {
     "data": {
      "image/png": "[encoded data removed]",
      "text/plain": [
       "<matplotlib.figure.Figure at 0x11c355ac8>"
      ]
     },
     "metadata": {},
     "output_type": "display_data"
    }
   ],
   "source": [
    "N = 5 # number of samples\n",
    "\n",
    "data = stats.bernoulli.rvs(0.5, size = N) # samples\n",
    "heads = data.sum()\n",
    "y = prior.pdf(rangetoplot, 1 + heads, 1 + N - heads)\n",
    "plt.plot(rangetoplot, y, label=\"observe %d tosses,\\n %d heads\" % (N, heads));\n",
    "print(heads)"
   ]
  },
  {
   "cell_type": "markdown",
   "metadata": {},
   "source": [
    "This is now our posterior distribution. This is how likely we think it is we will get heads coming forwards. Note it is technically not an estimate of the value, but of our belief in the value.\n",
    "\n",
    "### Exercise\n",
    "\n",
    "1. What happens as we increase N? Run N for `[1,5,10,15,50,200]`\n"
   ]
  },
  {
   "cell_type": "markdown",
   "metadata": {},
   "source": [
    "### Extension, Optional - Bayesian inference with PyMC3\n",
    "\n",
    "PyMC3 is the current 'state of art' in Bayesian inference in python. Once we have more complicated models the math becomes even more intractable(you can imagine if we had something similar to the linear regressions we have previously run). \n",
    "\n",
    "PyMC3 relies on us to tell it the expected priors and distributions of individual parameters, and then uses advanced math and sampling to calculate our priors by simulation. You can imagine it as simulating the data via our distributions and then inferring the posterior from them. The key here is creating the model, priors and parameters rely on how the which they are specified. The great part of PyMC3 is that as long as you have an idea of your model, you don't need the math to calculate anything!\n",
    "\n",
    "A great resource on PyMC3 is the textbook ['Probabilistic Programming and Bayesian Methods for Hackers'](http://nbviewer.jupyter.org/github/CamDavidsonPilon/Probabilistic-Programming-and-Bayesian-Methods-for-Hackers/tree/master/), which this example is modified from.\n",
    "\n",
    "Let's write our coin example in PyMC3:"
   ]
  },
  {
   "cell_type": "code",
   "execution_count": 9,
   "metadata": {},
   "outputs": [
    {
     "name": "stderr",
     "output_type": "stream",
     "text": [
      "/anaconda3/lib/python3.6/site-packages/h5py/__init__.py:36: FutureWarning: Conversion of the second argument of issubdtype from `float` to `np.floating` is deprecated. In future, it will be treated as `np.float64 == np.dtype(float).type`.\n",
      "  from ._conv import register_converters as _register_converters\n",
      "logp = -2.5309, ||grad|| = 0: 100%|██████████| 2/2 [00:00<00:00, 94.01it/s]\n",
      "Multiprocess sampling (2 chains in 2 jobs)\n",
      "Metropolis: [p_logodds__]\n",
      "100%|██████████| 1500/1500 [00:00<00:00, 8413.92it/s]\n",
      "The number of effective samples is smaller than 25% for some parameters.\n"
     ]
    },
    {
     "data": {
      "image/png": "[encoded data removed]",
      "text/plain": [
       "<matplotlib.figure.Figure at 0x1c233d0240>"
      ]
     },
     "metadata": {},
     "output_type": "display_data"
    }
   ],
   "source": [
    "import pymc3 as pm\n",
    "import scipy.stats as stats\n",
    "\n",
    "N = 100\n",
    "\n",
    "data = stats.bernoulli.rvs(0.5, size = N) # samples\n",
    "heads = data.sum()\n",
    "\n",
    "#priors of the distribution\n",
    "alpha = 1 #prior of alpha\n",
    "beta = 1 #prior of beta\n",
    "\n",
    "niter = 1000 #number of times to simulate our data\n",
    "\n",
    "with pm.Model() as model: # context management\n",
    "    # define priors\n",
    "    prior = pm.Beta('p', alpha=alpha, beta=beta)\n",
    "\n",
    "    # define likelihood\n",
    "    y = pm.Binomial('y', n=N, p=prior, observed=heads)\n",
    "\n",
    "    # inference\n",
    "    start = pm.find_MAP() # Use MAP estimate (optimization) as the initial state for MCMC\n",
    "    step = pm.Metropolis() # Have a choice of samplers\n",
    "    trace = pm.sample(niter, step, start, random_seed=123, progressbar=True)\n",
    "    pm.traceplot(trace)"
   ]
  },
  {
   "cell_type": "markdown",
   "metadata": {},
   "source": [
    "In the backend, this is comping the core math to C and running it, as such, it may take some time to run!\n",
    "\n",
    "We can plot our outcome:"
   ]
  },
  {
   "cell_type": "code",
   "execution_count": 10,
   "metadata": {},
   "outputs": [
    {
     "data": {
      "image/png": "[encoded data removed]",
      "text/plain": [
       "<matplotlib.figure.Figure at 0x11c3811d0>"
      ]
     },
     "metadata": {},
     "output_type": "display_data"
    }
   ],
   "source": [
    "plt.hist(trace['p'], 15, histtype='step', normed=True, label='post');\n",
    "x = np.linspace(0, 1, 100)\n",
    "plt.plot(x, stats.beta.pdf(x, alpha, beta), label='prior');\n",
    "plt.legend(loc='best');"
   ]
  },
  {
   "cell_type": "markdown",
   "metadata": {},
   "source": [
    "### Exercises\n",
    "\n",
    "1. Try changing the parameters of the prior, how does this change the posterior?\n",
    "2. Try changing N (not too large!), how does this change the posterior?\n",
    "3. Try changing the coin to be biased, do we get a better or worse posterior in the same number of samples?"
   ]
  }
 ],
 "metadata": {
  "kernelspec": {
   "display_name": "Python 3",
   "language": "python",
   "name": "python3"
  },
  "language_info": {
   "codemirror_mode": {
    "name": "ipython",
    "version": 3
   },
   "file_extension": ".py",
   "mimetype": "text/x-python",
   "name": "python",
   "nbconvert_exporter": "python",
   "pygments_lexer": "ipython3",
   "version": "3.6.4"
  }
 },
 "nbformat": 4,
 "nbformat_minor": 2
}
